{
 "cells": [
  {
   "cell_type": "markdown",
   "id": "0",
   "metadata": {},
   "source": [
    "# Analyze training data\n",
    "\n",
    "We want to know which building blocks are contained in the training data of each split, to be able to tell at inference whether a reaction should be predicted for by the 0D, 1D, 2D, or 3D model"
   ]
  },
  {
   "cell_type": "code",
   "execution_count": null,
   "id": "1",
   "metadata": {},
   "outputs": [],
   "source": [
    "import pathlib\n",
    "import sys\n",
    "sys.path.append(str(pathlib.Path().absolute().parent))\n",
    "\n",
    "import numpy as np\n",
    "import pandas as pd\n",
    "from rdkit import Chem\n",
    "\n",
    "from src.util.definitions import LOG_DIR, DATA_ROOT, TRAINED_MODEL_DIR\n",
    "from src.util.rdkit_util import canonicalize_smiles, desalt_building_block"
   ]
  },
  {
   "cell_type": "code",
   "execution_count": null,
   "id": "2",
   "metadata": {},
   "outputs": [],
   "source": [
    "all_data = pd.read_csv(DATA_ROOT / \"synferm_dataset_2023-12-20_39486records.csv\")\n",
    "\n",
    "all_data[\"I_smiles\"] = all_data[\"I_smiles\"].apply(lambda x: Chem.MolToSmiles(desalt_building_block(x)))\n",
    "all_data[\"M_smiles\"] = all_data[\"M_smiles\"].apply(lambda x: Chem.MolToSmiles(desalt_building_block(x)))\n",
    "all_data[\"T_smiles\"] = all_data[\"T_smiles\"].apply(lambda x: Chem.MolToSmiles(desalt_building_block(x)))\n",
    "all_data.head()"
   ]
  },
  {
   "cell_type": "code",
   "execution_count": null,
   "id": "3",
   "metadata": {},
   "outputs": [],
   "source": [
    "split_dir = DATA_ROOT / \"splits\" / \"synferm_dataset_2023-12-20_0D_split_final_retrain\"\n",
    "train_files = sorted([path for path in split_dir.iterdir() if \"_train.csv\" in str(path)], key=lambda x: x.name)\n",
    "train_files"
   ]
  },
  {
   "cell_type": "code",
   "execution_count": null,
   "id": "4",
   "metadata": {},
   "outputs": [],
   "source": [
    "for path in train_files:\n",
    "    train_idx = pd.read_csv(path).to_numpy().flatten()\n",
    "    train_data = all_data.loc[train_idx]\n",
    "    train_data[[\"I_long\", \"I_smiles\"]].drop_duplicates().rename(columns={\"I_long\": \"long\", \"I_smiles\": \"smiles\"}).sort_values(by=\"long\").to_csv(split_dir / f\"{path.name.split('_')[0]}_train_initiators.csv\", index=False)\n",
    "    train_data[[\"M_long\", \"M_smiles\"]].drop_duplicates().rename(columns={\"M_long\": \"long\", \"M_smiles\": \"smiles\"}).sort_values(by=\"long\").to_csv(split_dir / f\"{path.name.split('_')[0]}_train_monomers.csv\", index=False)\n",
    "    train_data[[\"T_long\", \"T_smiles\"]].drop_duplicates().rename(columns={\"T_long\": \"long\", \"T_smiles\": \"smiles\"}).sort_values(by=\"long\").to_csv(split_dir / f\"{path.name.split('_')[0]}_train_terminators.csv\", index=False)\n"
   ]
  },
  {
   "cell_type": "code",
   "execution_count": null,
   "id": "5",
   "metadata": {},
   "outputs": [],
   "source": [
    "# we save the same information to the 0D production model that was trained on this split\n",
    "production_model_run_group = \"2024-01-04-085409_305115\"\n",
    "for path in train_files:\n",
    "    train_idx = pd.read_csv(path).to_numpy().flatten()\n",
    "    train_data = all_data.loc[train_idx]\n",
    "    train_data[[\"I_long\", \"I_smiles\"]].drop_duplicates().rename(columns={\"I_long\": \"long\", \"I_smiles\": \"smiles\"}).sort_values(by=\"long\").to_csv(TRAINED_MODEL_DIR / f\"{production_model_run_group}_{path.name.split('_')[0]}\" / \"train_initiators.csv\", index=False)\n",
    "    train_data[[\"M_long\", \"M_smiles\"]].drop_duplicates().rename(columns={\"M_long\": \"long\", \"M_smiles\": \"smiles\"}).sort_values(by=\"long\").to_csv(TRAINED_MODEL_DIR / f\"{production_model_run_group}_{path.name.split('_')[0]}\" / \"train_monomers.csv\", index=False)\n",
    "    train_data[[\"T_long\", \"T_smiles\"]].drop_duplicates().rename(columns={\"T_long\": \"long\", \"T_smiles\": \"smiles\"}).sort_values(by=\"long\").to_csv(TRAINED_MODEL_DIR / f\"{production_model_run_group}_{path.name.split('_')[0]}\" / \"train_terminators.csv\", index=False)\n"
   ]
  },
  {
   "cell_type": "code",
   "execution_count": null,
   "id": "6",
   "metadata": {},
   "outputs": [],
   "source": [
    "# for the 1D model, we do the same, but we have to do it across all 9 folds\n",
    "split_dir = DATA_ROOT / \"splits\" / \"synferm_dataset_2023-12-20_1D_split\"\n",
    "train_files = sorted([path for path in split_dir.iterdir() if \"_train.csv\" in str(path)], key=lambda x: x.name)\n",
    "train_files"
   ]
  },
  {
   "cell_type": "code",
   "execution_count": null,
   "id": "7",
   "metadata": {},
   "outputs": [],
   "source": [
    "for path in train_files:\n",
    "    train_idx = pd.read_csv(path).to_numpy().flatten()\n",
    "    train_data = all_data.loc[train_idx]\n",
    "    train_data[[\"I_long\", \"I_smiles\"]].drop_duplicates().rename(columns={\"I_long\": \"long\", \"I_smiles\": \"smiles\"}).sort_values(by=\"long\").to_csv(split_dir / f\"{path.name.split('_')[0]}_train_initiators.csv\", index=False)\n",
    "    train_data[[\"M_long\", \"M_smiles\"]].drop_duplicates().rename(columns={\"M_long\": \"long\", \"M_smiles\": \"smiles\"}).sort_values(by=\"long\").to_csv(split_dir / f\"{path.name.split('_')[0]}_train_monomers.csv\", index=False)\n",
    "    train_data[[\"T_long\", \"T_smiles\"]].drop_duplicates().rename(columns={\"T_long\": \"long\", \"T_smiles\": \"smiles\"}).sort_values(by=\"long\").to_csv(split_dir / f\"{path.name.split('_')[0]}_train_terminators.csv\", index=False)\n"
   ]
  },
  {
   "cell_type": "code",
   "execution_count": null,
   "id": "8",
   "metadata": {},
   "outputs": [],
   "source": [
    "# we save the same information to the 1D production models that were trained on this split\n",
    "production_model_run_group = \"2024-01-23-063840_864375\"\n",
    "for path in train_files:\n",
    "    train_idx = pd.read_csv(path).to_numpy().flatten()\n",
    "    train_data = all_data.loc[train_idx]\n",
    "    train_data[[\"I_long\", \"I_smiles\"]].drop_duplicates().rename(columns={\"I_long\": \"long\", \"I_smiles\": \"smiles\"}).sort_values(by=\"long\").to_csv(TRAINED_MODEL_DIR / f\"{production_model_run_group}_{path.name.split('_')[0]}\" / \"train_initiators.csv\", index=False)\n",
    "    train_data[[\"M_long\", \"M_smiles\"]].drop_duplicates().rename(columns={\"M_long\": \"long\", \"M_smiles\": \"smiles\"}).sort_values(by=\"long\").to_csv(TRAINED_MODEL_DIR / f\"{production_model_run_group}_{path.name.split('_')[0]}\" / \"train_monomers.csv\", index=False)\n",
    "    train_data[[\"T_long\", \"T_smiles\"]].drop_duplicates().rename(columns={\"T_long\": \"long\", \"T_smiles\": \"smiles\"}).sort_values(by=\"long\").to_csv(TRAINED_MODEL_DIR / f\"{production_model_run_group}_{path.name.split('_')[0]}\" / \"train_terminators.csv\", index=False)\n"
   ]
  },
  {
   "cell_type": "code",
   "execution_count": null,
   "id": "9",
   "metadata": {},
   "outputs": [],
   "source": []
  }
 ],
 "metadata": {
  "kernelspec": {
   "display_name": "Python 3 (ipykernel)",
   "language": "python",
   "name": "python3"
  },
  "language_info": {
   "codemirror_mode": {
    "name": "ipython",
    "version": 3
   },
   "file_extension": ".py",
   "mimetype": "text/x-python",
   "name": "python",
   "nbconvert_exporter": "python",
   "pygments_lexer": "ipython3",
   "version": "3.11.5"
  }
 },
 "nbformat": 4,
 "nbformat_minor": 5
}
