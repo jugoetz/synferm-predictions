{
 "cells": [
  {
   "cell_type": "markdown",
   "id": "62c4535b",
   "metadata": {},
   "source": [
    "# Inference using the SynFerm models"
   ]
  },
  {
   "cell_type": "markdown",
   "id": "65d90127",
   "metadata": {},
   "source": [
    "In principle, this notebook works the same as `inference.ipynb`, but we keep it separate for reproducibility of the validation plate predictions\n"
   ]
  },
  {
   "cell_type": "code",
   "execution_count": 48,
   "id": "d83b22f9",
   "metadata": {},
   "outputs": [],
   "source": [
    "import pathlib\n",
    "import statistics\n",
    "import sys\n",
    "sys.path.append(str(pathlib.Path(\"__file__\").absolute().parents[1]))\n",
    "\n",
    "import numpy as np\n",
    "import pandas as pd\n",
    "import pytorch_lightning as pl\n",
    "import torch\n",
    "from torch.utils.data import DataLoader\n",
    "\n",
    "from src.util.definitions import TRAINED_MODEL_DIR, LOG_DIR, DATA_ROOT\n",
    "from src.model.classifier import load_trained_model\n",
    "from src.data.dataloader import SynFermDataset, collate_fn\n",
    "from reaction_generator import SFReactionGenerator"
   ]
  },
  {
   "cell_type": "code",
   "execution_count": 49,
   "id": "36b7cba7",
   "metadata": {},
   "outputs": [],
   "source": [
    "def import_smiles(\n",
    "    raw_dir: pathlib.Path, filename: str, valid_idx_file: pathlib.Path = None\n",
    "):\n",
    "    \"\"\"Import smiles from a csv file and filter by indices supplied in a second csv file\"\"\"\n",
    "    smiles_df = pd.read_csv(raw_dir / filename)\n",
    "    if valid_idx_file is None:\n",
    "        return smiles_df\n",
    "    else:\n",
    "        indices_arr = pd.read_csv(valid_idx_file)[\"index\"].to_numpy()\n",
    "        return smiles_df.loc[indices_arr]"
   ]
  },
  {
   "cell_type": "code",
   "execution_count": 50,
   "id": "d79eb05a",
   "metadata": {},
   "outputs": [],
   "source": [
    "# paths to the best models\n",
    "model_0D_name = \"2023-11-29-145809_246697_fold0\"\n",
    "model_0D = TRAINED_MODEL_DIR / model_0D_name / \"last-epoch42-val_loss0.20.ckpt\"  # FFN\n",
    "# path to the OneHotEncoder state for model_0D\n",
    "ohe_state_dict = LOG_DIR / \"OHE_state_dict_YCYzhoYPdFmypyNV.json\"\n",
    "assert model_0D.is_file()\n",
    "assert ohe_state_dict.is_file()"
   ]
  },
  {
   "cell_type": "markdown",
   "id": "c3e1a3e0",
   "metadata": {},
   "source": [
    "To use the notebook on your products, change `raw_dir` to the directory that your CSV file containing SMILES is in. Then change `filename_base` to the filename of your csv file without the `.csv` suffix. If you do not want to use all the SMILES in your file (e.g. because some are not valid SLAP products), suppy a `valid_idx_file`. You can set the value to `None` if you want to use all SMILES."
   ]
  },
  {
   "cell_type": "code",
   "execution_count": 51,
   "id": "e1ac6857",
   "metadata": {},
   "outputs": [
    {
     "data": {
      "text/html": [
       "<div>\n",
       "<style scoped>\n",
       "    .dataframe tbody tr th:only-of-type {\n",
       "        vertical-align: middle;\n",
       "    }\n",
       "\n",
       "    .dataframe tbody tr th {\n",
       "        vertical-align: top;\n",
       "    }\n",
       "\n",
       "    .dataframe thead th {\n",
       "        text-align: right;\n",
       "    }\n",
       "</style>\n",
       "<table border=\"1\" class=\"dataframe\">\n",
       "  <thead>\n",
       "    <tr style=\"text-align: right;\">\n",
       "      <th></th>\n",
       "      <th>vl_id</th>\n",
       "      <th>long_name</th>\n",
       "      <th>product_A_smiles</th>\n",
       "    </tr>\n",
       "  </thead>\n",
       "  <tbody>\n",
       "    <tr>\n",
       "      <th>0</th>\n",
       "      <td>224342</td>\n",
       "      <td>Ph031 + Spiro013 + TerTH016</td>\n",
       "      <td>COc1ccccc1-c1nnc(CC2(NC(=O)c3ccc(C4=NCCO4)cc3)...</td>\n",
       "    </tr>\n",
       "    <tr>\n",
       "      <th>1</th>\n",
       "      <td>224328</td>\n",
       "      <td>Ph031 + Spiro013 + TerABT022</td>\n",
       "      <td>CCOc1ccc2nc(CC3(NC(=O)c4ccc(C5=NCCO5)cc4)CN(C(...</td>\n",
       "    </tr>\n",
       "    <tr>\n",
       "      <th>2</th>\n",
       "      <td>224321</td>\n",
       "      <td>Ph031 + Spiro013 + TerABT012</td>\n",
       "      <td>O=C(NC1(Cc2nc3cc(Cl)ccc3s2)CN(C(=O)O[C@H]2CCOC...</td>\n",
       "    </tr>\n",
       "    <tr>\n",
       "      <th>3</th>\n",
       "      <td>224341</td>\n",
       "      <td>Ph031 + Spiro013 + TerTH015</td>\n",
       "      <td>O=C(NC1(Cc2nnc(-c3cc(Cl)cc(Cl)c3)s2)CN(C(=O)O[...</td>\n",
       "    </tr>\n",
       "    <tr>\n",
       "      <th>4</th>\n",
       "      <td>224351</td>\n",
       "      <td>Ph031 + Spiro013 + TerTH027</td>\n",
       "      <td>O=C(NC1(Cc2nnc(-c3ccc4[nH]nnc4c3)s2)CN(C(=O)O[...</td>\n",
       "    </tr>\n",
       "  </tbody>\n",
       "</table>\n",
       "</div>"
      ],
      "text/plain": [
       "    vl_id                     long_name  \\\n",
       "0  224342   Ph031 + Spiro013 + TerTH016   \n",
       "1  224328  Ph031 + Spiro013 + TerABT022   \n",
       "2  224321  Ph031 + Spiro013 + TerABT012   \n",
       "3  224341   Ph031 + Spiro013 + TerTH015   \n",
       "4  224351   Ph031 + Spiro013 + TerTH027   \n",
       "\n",
       "                                    product_A_smiles  \n",
       "0  COc1ccccc1-c1nnc(CC2(NC(=O)c3ccc(C4=NCCO4)cc3)...  \n",
       "1  CCOc1ccc2nc(CC3(NC(=O)c4ccc(C5=NCCO5)cc4)CN(C(...  \n",
       "2  O=C(NC1(Cc2nc3cc(Cl)ccc3s2)CN(C(=O)O[C@H]2CCOC...  \n",
       "3  O=C(NC1(Cc2nnc(-c3cc(Cl)cc(Cl)c3)s2)CN(C(=O)O[...  \n",
       "4  O=C(NC1(Cc2nnc(-c3ccc4[nH]nnc4c3)s2)CN(C(=O)O[...  "
      ]
     },
     "execution_count": 51,
     "metadata": {},
     "output_type": "execute_result"
    }
   ],
   "source": [
    "# Import product SMILES\n",
    "raw_dir = DATA_ROOT\n",
    "filename = \"validation-plate_candidates.csv\"\n",
    "valid_idx_file = None\n",
    "df = import_smiles(raw_dir, filename, valid_idx_file=valid_idx_file)\n",
    "df.head()"
   ]
  },
  {
   "cell_type": "code",
   "execution_count": 52,
   "id": "258c57e8",
   "metadata": {},
   "outputs": [
    {
     "data": {
      "text/html": [
       "<div>\n",
       "<style scoped>\n",
       "    .dataframe tbody tr th:only-of-type {\n",
       "        vertical-align: middle;\n",
       "    }\n",
       "\n",
       "    .dataframe tbody tr th {\n",
       "        vertical-align: top;\n",
       "    }\n",
       "\n",
       "    .dataframe thead th {\n",
       "        text-align: right;\n",
       "    }\n",
       "</style>\n",
       "<table border=\"1\" class=\"dataframe\">\n",
       "  <thead>\n",
       "    <tr style=\"text-align: right;\">\n",
       "      <th></th>\n",
       "      <th>long</th>\n",
       "      <th>smiles</th>\n",
       "    </tr>\n",
       "  </thead>\n",
       "  <tbody>\n",
       "    <tr>\n",
       "      <th>0</th>\n",
       "      <td>2-Pyr003</td>\n",
       "      <td>O=C(c1cccc(Cl)n1)[B-](F)(F)F</td>\n",
       "    </tr>\n",
       "    <tr>\n",
       "      <th>1</th>\n",
       "      <td>2-Pyr006</td>\n",
       "      <td>O=C(c1ccc(Br)cn1)[B-](F)(F)F</td>\n",
       "    </tr>\n",
       "    <tr>\n",
       "      <th>2</th>\n",
       "      <td>2-Pyr007</td>\n",
       "      <td>O=C(c1cccc(F)n1)[B-](F)(F)F</td>\n",
       "    </tr>\n",
       "    <tr>\n",
       "      <th>3</th>\n",
       "      <td>2-Pyr008</td>\n",
       "      <td>O=C(c1ccc(F)cn1)[B-](F)(F)F</td>\n",
       "    </tr>\n",
       "    <tr>\n",
       "      <th>4</th>\n",
       "      <td>2-Pyr009</td>\n",
       "      <td>COc1ccc(C(=O)[B-](F)(F)F)nc1</td>\n",
       "    </tr>\n",
       "    <tr>\n",
       "      <th>...</th>\n",
       "      <td>...</td>\n",
       "      <td>...</td>\n",
       "    </tr>\n",
       "    <tr>\n",
       "      <th>36</th>\n",
       "      <td>TerTH023</td>\n",
       "      <td>NNC(=S)c1cccc2[nH]ncc12</td>\n",
       "    </tr>\n",
       "    <tr>\n",
       "      <th>37</th>\n",
       "      <td>TerTH025</td>\n",
       "      <td>NNC(=S)c1c[nH]cn1</td>\n",
       "    </tr>\n",
       "    <tr>\n",
       "      <th>38</th>\n",
       "      <td>TerTH026</td>\n",
       "      <td>NNC(=S)c1cn[nH]c1</td>\n",
       "    </tr>\n",
       "    <tr>\n",
       "      <th>39</th>\n",
       "      <td>TerTH027</td>\n",
       "      <td>NNC(=S)c1ccc2[nH]nnc2c1</td>\n",
       "    </tr>\n",
       "    <tr>\n",
       "      <th>40</th>\n",
       "      <td>TerTH028</td>\n",
       "      <td>NNC(=S)c1cccnc1</td>\n",
       "    </tr>\n",
       "  </tbody>\n",
       "</table>\n",
       "<p>180 rows × 2 columns</p>\n",
       "</div>"
      ],
      "text/plain": [
       "        long                        smiles\n",
       "0   2-Pyr003  O=C(c1cccc(Cl)n1)[B-](F)(F)F\n",
       "1   2-Pyr006  O=C(c1ccc(Br)cn1)[B-](F)(F)F\n",
       "2   2-Pyr007   O=C(c1cccc(F)n1)[B-](F)(F)F\n",
       "3   2-Pyr008   O=C(c1ccc(F)cn1)[B-](F)(F)F\n",
       "4   2-Pyr009  COc1ccc(C(=O)[B-](F)(F)F)nc1\n",
       "..       ...                           ...\n",
       "36  TerTH023       NNC(=S)c1cccc2[nH]ncc12\n",
       "37  TerTH025             NNC(=S)c1c[nH]cn1\n",
       "38  TerTH026             NNC(=S)c1cn[nH]c1\n",
       "39  TerTH027       NNC(=S)c1ccc2[nH]nnc2c1\n",
       "40  TerTH028               NNC(=S)c1cccnc1\n",
       "\n",
       "[180 rows x 2 columns]"
      ]
     },
     "execution_count": 52,
     "metadata": {},
     "output_type": "execute_result"
    }
   ],
   "source": [
    "# check if all these were actually in the training data for the model we use\n",
    "dfs = [pd.read_csv(TRAINED_MODEL_DIR / model_0D_name / f\"train_{bb}.csv\") for bb in [\"initiators\", \"monomers\", \"terminators\"]]\n",
    "used_building_blocks = pd.concat(dfs)\n",
    "used_building_blocks    \n"
   ]
  },
  {
   "cell_type": "code",
   "execution_count": 81,
   "id": "7e2f5507",
   "metadata": {},
   "outputs": [
    {
     "data": {
      "text/plain": [
       "False"
      ]
     },
     "execution_count": 81,
     "metadata": {},
     "output_type": "execute_result"
    }
   ],
   "source": [
    "\"Ph011\" in used_building_blocks.values"
   ]
  },
  {
   "cell_type": "code",
   "execution_count": 53,
   "id": "e8acc37d",
   "metadata": {},
   "outputs": [
    {
     "data": {
      "text/html": [
       "<div>\n",
       "<style scoped>\n",
       "    .dataframe tbody tr th:only-of-type {\n",
       "        vertical-align: middle;\n",
       "    }\n",
       "\n",
       "    .dataframe tbody tr th {\n",
       "        vertical-align: top;\n",
       "    }\n",
       "\n",
       "    .dataframe thead th {\n",
       "        text-align: right;\n",
       "    }\n",
       "</style>\n",
       "<table border=\"1\" class=\"dataframe\">\n",
       "  <thead>\n",
       "    <tr style=\"text-align: right;\">\n",
       "      <th></th>\n",
       "      <th>vl_id</th>\n",
       "      <th>long_name</th>\n",
       "      <th>product_A_smiles</th>\n",
       "    </tr>\n",
       "  </thead>\n",
       "  <tbody>\n",
       "  </tbody>\n",
       "</table>\n",
       "</div>"
      ],
      "text/plain": [
       "Empty DataFrame\n",
       "Columns: [vl_id, long_name, product_A_smiles]\n",
       "Index: []"
      ]
     },
     "execution_count": 53,
     "metadata": {},
     "output_type": "execute_result"
    }
   ],
   "source": [
    "# anything that shows up here will not be recognized by the one-hot encoder\n",
    "df.loc[~df[\"long_name\"].str.split(\"+\").apply(lambda x: all([i.strip() in used_building_blocks[\"long\"].values for i in x]))]"
   ]
  },
  {
   "cell_type": "code",
   "execution_count": 54,
   "id": "1e6880d4",
   "metadata": {},
   "outputs": [
    {
     "data": {
      "text/html": [
       "<div>\n",
       "<style scoped>\n",
       "    .dataframe tbody tr th:only-of-type {\n",
       "        vertical-align: middle;\n",
       "    }\n",
       "\n",
       "    .dataframe tbody tr th {\n",
       "        vertical-align: top;\n",
       "    }\n",
       "\n",
       "    .dataframe thead th {\n",
       "        text-align: right;\n",
       "    }\n",
       "</style>\n",
       "<table border=\"1\" class=\"dataframe\">\n",
       "  <thead>\n",
       "    <tr style=\"text-align: right;\">\n",
       "      <th></th>\n",
       "      <th>vl_id</th>\n",
       "      <th>long_name</th>\n",
       "      <th>product_A_smiles</th>\n",
       "      <th>reaction_smiles_atom_mapped</th>\n",
       "    </tr>\n",
       "  </thead>\n",
       "  <tbody>\n",
       "    <tr>\n",
       "      <th>0</th>\n",
       "      <td>224342</td>\n",
       "      <td>Ph031 + Spiro013 + TerTH016</td>\n",
       "      <td>COc1ccccc1-c1nnc(CC2(NC(=O)c3ccc(C4=NCCO4)cc3)...</td>\n",
       "      <td>F[B-](F)(F)[C:1](=[O:2])[c:11]1[cH:12][cH:14][...</td>\n",
       "    </tr>\n",
       "    <tr>\n",
       "      <th>1</th>\n",
       "      <td>224328</td>\n",
       "      <td>Ph031 + Spiro013 + TerABT022</td>\n",
       "      <td>CCOc1ccc2nc(CC3(NC(=O)c4ccc(C5=NCCO5)cc4)CN(C(...</td>\n",
       "      <td>F[B-](F)(F)[C:1](=[O:2])[c:15]1[cH:16][cH:18][...</td>\n",
       "    </tr>\n",
       "    <tr>\n",
       "      <th>2</th>\n",
       "      <td>224321</td>\n",
       "      <td>Ph031 + Spiro013 + TerABT012</td>\n",
       "      <td>O=C(NC1(Cc2nc3cc(Cl)ccc3s2)CN(C(=O)O[C@H]2CCOC...</td>\n",
       "      <td>F[B-](F)(F)[C:1](=[O:2])[c:15]1[cH:16][cH:18][...</td>\n",
       "    </tr>\n",
       "    <tr>\n",
       "      <th>3</th>\n",
       "      <td>224341</td>\n",
       "      <td>Ph031 + Spiro013 + TerTH015</td>\n",
       "      <td>O=C(NC1(Cc2nnc(-c3cc(Cl)cc(Cl)c3)s2)CN(C(=O)O[...</td>\n",
       "      <td>F[B-](F)(F)[C:1](=[O:2])[c:11]1[cH:12][cH:14][...</td>\n",
       "    </tr>\n",
       "    <tr>\n",
       "      <th>4</th>\n",
       "      <td>224351</td>\n",
       "      <td>Ph031 + Spiro013 + TerTH027</td>\n",
       "      <td>O=C(NC1(Cc2nnc(-c3ccc4[nH]nnc4c3)s2)CN(C(=O)O[...</td>\n",
       "      <td>F[B-](F)(F)[C:1](=[O:2])[c:11]1[cH:12][cH:14][...</td>\n",
       "    </tr>\n",
       "  </tbody>\n",
       "</table>\n",
       "</div>"
      ],
      "text/plain": [
       "    vl_id                     long_name  \\\n",
       "0  224342   Ph031 + Spiro013 + TerTH016   \n",
       "1  224328  Ph031 + Spiro013 + TerABT022   \n",
       "2  224321  Ph031 + Spiro013 + TerABT012   \n",
       "3  224341   Ph031 + Spiro013 + TerTH015   \n",
       "4  224351   Ph031 + Spiro013 + TerTH027   \n",
       "\n",
       "                                    product_A_smiles  \\\n",
       "0  COc1ccccc1-c1nnc(CC2(NC(=O)c3ccc(C4=NCCO4)cc3)...   \n",
       "1  CCOc1ccc2nc(CC3(NC(=O)c4ccc(C5=NCCO5)cc4)CN(C(...   \n",
       "2  O=C(NC1(Cc2nc3cc(Cl)ccc3s2)CN(C(=O)O[C@H]2CCOC...   \n",
       "3  O=C(NC1(Cc2nnc(-c3cc(Cl)cc(Cl)c3)s2)CN(C(=O)O[...   \n",
       "4  O=C(NC1(Cc2nnc(-c3ccc4[nH]nnc4c3)s2)CN(C(=O)O[...   \n",
       "\n",
       "                         reaction_smiles_atom_mapped  \n",
       "0  F[B-](F)(F)[C:1](=[O:2])[c:11]1[cH:12][cH:14][...  \n",
       "1  F[B-](F)(F)[C:1](=[O:2])[c:15]1[cH:16][cH:18][...  \n",
       "2  F[B-](F)(F)[C:1](=[O:2])[c:15]1[cH:16][cH:18][...  \n",
       "3  F[B-](F)(F)[C:1](=[O:2])[c:11]1[cH:12][cH:14][...  \n",
       "4  F[B-](F)(F)[C:1](=[O:2])[c:11]1[cH:12][cH:14][...  "
      ]
     },
     "execution_count": 54,
     "metadata": {},
     "output_type": "execute_result"
    }
   ],
   "source": [
    "# first we need to generate the reactionSMILES. This will take a moment\n",
    "gen = SFReactionGenerator()\n",
    "df[\"reaction_smiles_atom_mapped\"] = df[\"product_A_smiles\"].apply(lambda x: gen.get_reaction_smiles(x))\n",
    "df.head()"
   ]
  },
  {
   "cell_type": "code",
   "execution_count": 55,
   "id": "62cf6ffa",
   "metadata": {},
   "outputs": [],
   "source": [
    "# save this\n",
    "df.to_csv(DATA_ROOT / \"validation-plate_candidates_reactionSMILES.csv\")"
   ]
  },
  {
   "cell_type": "code",
   "execution_count": 56,
   "id": "2f89ac00",
   "metadata": {},
   "outputs": [
    {
     "name": "stdout",
     "output_type": "stream",
     "text": [
      "Done saving data into cached files.\n"
     ]
    }
   ],
   "source": [
    "# instantiate data set. This will also take a moment\n",
    "data = SynFermDataset(\n",
    "    name=\"validation-plate_candidates_reactionSMILES.csv\",\n",
    "    raw_dir=DATA_ROOT,\n",
    "    reaction=True,\n",
    "    global_features=[\"OHE\", ],\n",
    "    global_featurizer_state_dict_path=ohe_state_dict,\n",
    "    graph_type=\"bond_edges\",\n",
    "    featurizers=\"custom\",\n",
    "    smiles_columns=[\"reaction_smiles_atom_mapped\"],\n",
    "    label_columns=None,\n",
    "    task=\"multilabel\"\n",
    ")"
   ]
  },
  {
   "cell_type": "code",
   "execution_count": 57,
   "id": "0dbf0d20",
   "metadata": {},
   "outputs": [
    {
     "name": "stderr",
     "output_type": "stream",
     "text": [
      "GPU available: True (cuda), used: True\n",
      "TPU available: False, using: 0 TPU cores\n",
      "IPU available: False, using: 0 IPUs\n",
      "HPU available: False, using: 0 HPUs\n",
      "LOCAL_RANK: 0 - CUDA_VISIBLE_DEVICES: [0]\n",
      "/home/julian/miniconda3/envs/synferm-predictions/lib/python3.11/site-packages/pytorch_lightning/trainer/connectors/data_connector.py:438: PossibleUserWarning: The dataloader, predict_dataloader, does not have many workers which may be a bottleneck. Consider increasing the value of the `num_workers` argument` (try 40 which is the number of cpus on this machine) in the `DataLoader` init to improve performance.\n",
      "  rank_zero_warn(\n"
     ]
    },
    {
     "data": {
      "application/vnd.jupyter.widget-view+json": {
       "model_id": "da42b72240a34477969f52bfd0584ec1",
       "version_major": 2,
       "version_minor": 0
      },
      "text/plain": [
       "Predicting: 0it [00:00, ?it/s]"
      ]
     },
     "metadata": {},
     "output_type": "display_data"
    }
   ],
   "source": [
    "# run the predictions\n",
    "\n",
    "# load the trained model \n",
    "model_0D = load_trained_model(\"FFN\", model_0D)\n",
    "model_0D.eval()\n",
    "trainer = pl.Trainer(accelerator=\"gpu\", logger=False, max_epochs=-1)\n",
    "# prepare data\n",
    "dl = DataLoader(data, collate_fn=collate_fn, num_workers=0)\n",
    "# predict\n",
    "probabilities_0D = torch.sigmoid(torch.concat(trainer.predict(model_0D, dl)))\n",
    "    "
   ]
  },
  {
   "cell_type": "code",
   "execution_count": 58,
   "id": "60976bc9",
   "metadata": {
    "scrolled": true
   },
   "outputs": [
    {
     "data": {
      "text/plain": [
       "tensor([[1.0000, 0.9999, 0.7957],\n",
       "        [0.9769, 0.0433, 0.0028],\n",
       "        [0.5372, 0.0518, 0.0014],\n",
       "        ...,\n",
       "        [0.9998, 0.9650, 0.2429],\n",
       "        [0.9584, 0.4763, 0.0080],\n",
       "        [1.0000, 0.9957, 0.7943]])"
      ]
     },
     "execution_count": 58,
     "metadata": {},
     "output_type": "execute_result"
    }
   ],
   "source": [
    "probabilities_0D"
   ]
  },
  {
   "cell_type": "code",
   "execution_count": 59,
   "id": "95024327",
   "metadata": {},
   "outputs": [
    {
     "name": "stdout",
     "output_type": "stream",
     "text": [
      "[0.56, 0.47, 0.49]\n"
     ]
    }
   ],
   "source": [
    "# load decision thresholds\n",
    "with open(LOG_DIR / \"thresholds\" / f\"{model_0D_name}.txt\", \"r\") as f:\n",
    "    thresholds = [float(i) for i in f.readlines()]\n",
    "print(thresholds)"
   ]
  },
  {
   "cell_type": "code",
   "execution_count": 60,
   "id": "8a2d8fcd",
   "metadata": {},
   "outputs": [],
   "source": [
    "# apply the thresholds\n",
    "preds = torch.stack([torch.where(probabilities_0D[:, i] > thresholds[i], 1, 0) for i in range(3)], dim=1)"
   ]
  },
  {
   "cell_type": "code",
   "execution_count": 61,
   "id": "e9645ad4",
   "metadata": {},
   "outputs": [],
   "source": [
    "# combine with data\n",
    "df[[\"prob_A\", \"prob_B\", \"prob_C\"]] = probabilities_0D\n",
    "df[[\"pred_A\", \"pred_B\", \"pred_C\"]] = preds "
   ]
  },
  {
   "cell_type": "code",
   "execution_count": 70,
   "id": "cc912f98",
   "metadata": {
    "scrolled": false
   },
   "outputs": [
    {
     "data": {
      "text/html": [
       "<div>\n",
       "<style scoped>\n",
       "    .dataframe tbody tr th:only-of-type {\n",
       "        vertical-align: middle;\n",
       "    }\n",
       "\n",
       "    .dataframe tbody tr th {\n",
       "        vertical-align: top;\n",
       "    }\n",
       "\n",
       "    .dataframe thead th {\n",
       "        text-align: right;\n",
       "    }\n",
       "</style>\n",
       "<table border=\"1\" class=\"dataframe\">\n",
       "  <thead>\n",
       "    <tr style=\"text-align: right;\">\n",
       "      <th></th>\n",
       "      <th>vl_id</th>\n",
       "      <th>long_name</th>\n",
       "      <th>product_A_smiles</th>\n",
       "      <th>reaction_smiles_atom_mapped</th>\n",
       "      <th>prob_A</th>\n",
       "      <th>prob_B</th>\n",
       "      <th>prob_C</th>\n",
       "      <th>pred_A</th>\n",
       "      <th>pred_B</th>\n",
       "      <th>pred_C</th>\n",
       "    </tr>\n",
       "  </thead>\n",
       "  <tbody>\n",
       "    <tr>\n",
       "      <th>0</th>\n",
       "      <td>224342</td>\n",
       "      <td>Ph031 + Spiro013 + TerTH016</td>\n",
       "      <td>COc1ccccc1-c1nnc(CC2(NC(=O)c3ccc(C4=NCCO4)cc3)...</td>\n",
       "      <td>F[B-](F)(F)[C:1](=[O:2])[c:11]1[cH:12][cH:14][...</td>\n",
       "      <td>0.999996</td>\n",
       "      <td>0.999853</td>\n",
       "      <td>0.795703</td>\n",
       "      <td>1</td>\n",
       "      <td>1</td>\n",
       "      <td>1</td>\n",
       "    </tr>\n",
       "    <tr>\n",
       "      <th>1</th>\n",
       "      <td>224328</td>\n",
       "      <td>Ph031 + Spiro013 + TerABT022</td>\n",
       "      <td>CCOc1ccc2nc(CC3(NC(=O)c4ccc(C5=NCCO5)cc4)CN(C(...</td>\n",
       "      <td>F[B-](F)(F)[C:1](=[O:2])[c:15]1[cH:16][cH:18][...</td>\n",
       "      <td>0.976899</td>\n",
       "      <td>0.043333</td>\n",
       "      <td>0.002816</td>\n",
       "      <td>1</td>\n",
       "      <td>0</td>\n",
       "      <td>0</td>\n",
       "    </tr>\n",
       "    <tr>\n",
       "      <th>2</th>\n",
       "      <td>224321</td>\n",
       "      <td>Ph031 + Spiro013 + TerABT012</td>\n",
       "      <td>O=C(NC1(Cc2nc3cc(Cl)ccc3s2)CN(C(=O)O[C@H]2CCOC...</td>\n",
       "      <td>F[B-](F)(F)[C:1](=[O:2])[c:15]1[cH:16][cH:18][...</td>\n",
       "      <td>0.537250</td>\n",
       "      <td>0.051775</td>\n",
       "      <td>0.001379</td>\n",
       "      <td>0</td>\n",
       "      <td>0</td>\n",
       "      <td>0</td>\n",
       "    </tr>\n",
       "    <tr>\n",
       "      <th>3</th>\n",
       "      <td>224341</td>\n",
       "      <td>Ph031 + Spiro013 + TerTH015</td>\n",
       "      <td>O=C(NC1(Cc2nnc(-c3cc(Cl)cc(Cl)c3)s2)CN(C(=O)O[...</td>\n",
       "      <td>F[B-](F)(F)[C:1](=[O:2])[c:11]1[cH:12][cH:14][...</td>\n",
       "      <td>0.999267</td>\n",
       "      <td>0.999506</td>\n",
       "      <td>0.103978</td>\n",
       "      <td>1</td>\n",
       "      <td>1</td>\n",
       "      <td>0</td>\n",
       "    </tr>\n",
       "    <tr>\n",
       "      <th>4</th>\n",
       "      <td>224351</td>\n",
       "      <td>Ph031 + Spiro013 + TerTH027</td>\n",
       "      <td>O=C(NC1(Cc2nnc(-c3ccc4[nH]nnc4c3)s2)CN(C(=O)O[...</td>\n",
       "      <td>F[B-](F)(F)[C:1](=[O:2])[c:11]1[cH:12][cH:14][...</td>\n",
       "      <td>0.999868</td>\n",
       "      <td>0.999875</td>\n",
       "      <td>0.359415</td>\n",
       "      <td>1</td>\n",
       "      <td>1</td>\n",
       "      <td>0</td>\n",
       "    </tr>\n",
       "  </tbody>\n",
       "</table>\n",
       "</div>"
      ],
      "text/plain": [
       "    vl_id                     long_name  \\\n",
       "0  224342   Ph031 + Spiro013 + TerTH016   \n",
       "1  224328  Ph031 + Spiro013 + TerABT022   \n",
       "2  224321  Ph031 + Spiro013 + TerABT012   \n",
       "3  224341   Ph031 + Spiro013 + TerTH015   \n",
       "4  224351   Ph031 + Spiro013 + TerTH027   \n",
       "\n",
       "                                    product_A_smiles  \\\n",
       "0  COc1ccccc1-c1nnc(CC2(NC(=O)c3ccc(C4=NCCO4)cc3)...   \n",
       "1  CCOc1ccc2nc(CC3(NC(=O)c4ccc(C5=NCCO5)cc4)CN(C(...   \n",
       "2  O=C(NC1(Cc2nc3cc(Cl)ccc3s2)CN(C(=O)O[C@H]2CCOC...   \n",
       "3  O=C(NC1(Cc2nnc(-c3cc(Cl)cc(Cl)c3)s2)CN(C(=O)O[...   \n",
       "4  O=C(NC1(Cc2nnc(-c3ccc4[nH]nnc4c3)s2)CN(C(=O)O[...   \n",
       "\n",
       "                         reaction_smiles_atom_mapped    prob_A    prob_B  \\\n",
       "0  F[B-](F)(F)[C:1](=[O:2])[c:11]1[cH:12][cH:14][...  0.999996  0.999853   \n",
       "1  F[B-](F)(F)[C:1](=[O:2])[c:15]1[cH:16][cH:18][...  0.976899  0.043333   \n",
       "2  F[B-](F)(F)[C:1](=[O:2])[c:15]1[cH:16][cH:18][...  0.537250  0.051775   \n",
       "3  F[B-](F)(F)[C:1](=[O:2])[c:11]1[cH:12][cH:14][...  0.999267  0.999506   \n",
       "4  F[B-](F)(F)[C:1](=[O:2])[c:11]1[cH:12][cH:14][...  0.999868  0.999875   \n",
       "\n",
       "     prob_C  pred_A  pred_B  pred_C  \n",
       "0  0.795703       1       1       1  \n",
       "1  0.002816       1       0       0  \n",
       "2  0.001379       0       0       0  \n",
       "3  0.103978       1       1       0  \n",
       "4  0.359415       1       1       0  "
      ]
     },
     "execution_count": 70,
     "metadata": {},
     "output_type": "execute_result"
    }
   ],
   "source": [
    "df.head()"
   ]
  },
  {
   "cell_type": "code",
   "execution_count": 64,
   "id": "4db953ca",
   "metadata": {},
   "outputs": [
    {
     "data": {
      "text/plain": [
       "pred_A\n",
       "1    900\n",
       "0    292\n",
       "Name: count, dtype: int64"
      ]
     },
     "execution_count": 64,
     "metadata": {},
     "output_type": "execute_result"
    }
   ],
   "source": [
    "# summarize our predictions\n",
    "df[\"pred_A\"].value_counts()"
   ]
  },
  {
   "cell_type": "code",
   "execution_count": 69,
   "id": "9b387600",
   "metadata": {},
   "outputs": [
    {
     "data": {
      "text/plain": [
       "<Axes: ylabel='Frequency'>"
      ]
     },
     "execution_count": 69,
     "metadata": {},
     "output_type": "execute_result"
    },
    {
     "data": {
      "image/png": "[encoded data removed]",
      "text/plain": [
       "<Figure size 640x480 with 1 Axes>"
      ]
     },
     "metadata": {},
     "output_type": "display_data"
    }
   ],
   "source": [
    "df[\"prob_A\"].plot.hist(bins=100)"
   ]
  },
  {
   "cell_type": "code",
   "execution_count": 74,
   "id": "5172d012",
   "metadata": {},
   "outputs": [
    {
     "data": {
      "text/plain": [
       "0        True\n",
       "1        True\n",
       "2       False\n",
       "3        True\n",
       "4        True\n",
       "        ...  \n",
       "1187     True\n",
       "1188     True\n",
       "1189     True\n",
       "1190     True\n",
       "1191     True\n",
       "Name: pred_A, Length: 1192, dtype: bool"
      ]
     },
     "execution_count": 74,
     "metadata": {},
     "output_type": "execute_result"
    }
   ],
   "source": [
    "(df[\"pred_A\"] == 1)"
   ]
  },
  {
   "cell_type": "code",
   "execution_count": 75,
   "id": "ec60f281",
   "metadata": {},
   "outputs": [],
   "source": [
    "# write df to output file\n",
    "df.to_csv(DATA_ROOT / f\"validation-plate_candidates_predictions.csv\", index=False)"
   ]
  }
 ],
 "metadata": {
  "kernelspec": {
   "display_name": "Python 3 (ipykernel)",
   "language": "python",
   "name": "python3"
  },
  "language_info": {
   "codemirror_mode": {
    "name": "ipython",
    "version": 3
   },
   "file_extension": ".py",
   "mimetype": "text/x-python",
   "name": "python",
   "nbconvert_exporter": "python",
   "pygments_lexer": "ipython3",
   "version": "3.11.5"
  }
 },
 "nbformat": 4,
 "nbformat_minor": 5
}
