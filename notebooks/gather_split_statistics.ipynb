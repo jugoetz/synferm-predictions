{
 "cells": [
  {
   "cell_type": "markdown",
   "id": "0",
   "metadata": {},
   "source": [
    "# Gather split statistics\n",
    "\n",
    "Problem: Split statistics are held in individual txt-files. \n",
    "To make use of them more easily, it would be convenient to gather all this information into a single csv file."
   ]
  },
  {
   "cell_type": "code",
   "execution_count": null,
   "id": "1",
   "metadata": {},
   "outputs": [],
   "source": [
    "import pathlib\n",
    "import re\n",
    "import sys\n",
    "sys.path.append(str(pathlib.Path().absolute().parent))\n",
    "\n",
    "import pandas as pd\n",
    "\n",
    "from src.util.definitions import DATA_ROOT"
   ]
  },
  {
   "cell_type": "code",
   "execution_count": null,
   "id": "2",
   "metadata": {},
   "outputs": [],
   "source": [
    "# read all the statistics files\n",
    "rows = []\n",
    "for split in (DATA_ROOT / \"splits\").iterdir():\n",
    "    match_split = re.search(r\"synferm_dataset_2023-12-20_(\\dD)_split_*(.*)\", split.name)\n",
    "    match_split_synthetic = re.search(r\"synferm_dataset_2024-01-31_synthetic_(\\dD)_split_*(.*)\", split.name)\n",
    "    if split.is_dir():\n",
    "        if match_split:\n",
    "            split_name = \"_\".join(match_split.groups()).strip(\"_\")\n",
    "            for file in split.iterdir():\n",
    "                match = re.search(r\"fold(\\d+)_statistics\\.txt\", file.name)\n",
    "                if match:\n",
    "                    with open(file, \"r\") as f:\n",
    "                        content = {\"split_name\": split_name, \"fold\": match.group(1)}\n",
    "                        content.update({k:v  for k,v in [line.strip(\"\\n\").split(\": \") for line in f.readlines()]})\n",
    "                        rows.append(content)                \n",
    "        elif match_split_synthetic:\n",
    "            split_name = \"_\".join(match_split_synthetic.groups()).strip(\"_\")\n",
    "            for file in split.iterdir():\n",
    "                match = re.search(r\"fold(\\d+)_statistics\\.txt\", file.name)\n",
    "                if match:\n",
    "                    with open(file, \"r\") as f:\n",
    "                        content = {\"split_name\": f\"{split_name}_syn\", \"fold\": match.group(1)}\n",
    "                        content.update({k:v  for k,v in [line.strip(\"\\n\").split(\": \") for line in f.readlines()]})\n",
    "                        rows.append(content)  "
   ]
  },
  {
   "cell_type": "code",
   "execution_count": null,
   "id": "3",
   "metadata": {},
   "outputs": [],
   "source": [
    "# create df to hold all info\n",
    "df = pd.DataFrame(rows).sort_values(by=[\"split_name\", \"fold\"], ignore_index=True)\n",
    "df"
   ]
  },
  {
   "cell_type": "code",
   "execution_count": null,
   "id": "4",
   "metadata": {},
   "outputs": [],
   "source": [
    "# save to file for later use\n",
    "df.to_csv(DATA_ROOT / \"splits\" / \"split_statistics_2023-12-20.csv\", index=False)"
   ]
  },
  {
   "cell_type": "code",
   "execution_count": null,
   "id": "5",
   "metadata": {},
   "outputs": [],
   "source": [
    "df.loc[df[\"split_name\"] == \"2D\"]"
   ]
  },
  {
   "cell_type": "code",
   "execution_count": null,
   "id": "6",
   "metadata": {},
   "outputs": [],
   "source": []
  }
 ],
 "metadata": {
  "kernelspec": {
   "display_name": "Python 3 (ipykernel)",
   "language": "python",
   "name": "python3"
  },
  "language_info": {
   "codemirror_mode": {
    "name": "ipython",
    "version": 3
   },
   "file_extension": ".py",
   "mimetype": "text/x-python",
   "name": "python",
   "nbconvert_exporter": "python",
   "pygments_lexer": "ipython3",
   "version": "3.11.5"
  }
 },
 "nbformat": 4,
 "nbformat_minor": 5
}
