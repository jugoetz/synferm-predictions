{
 "cells": [
  {
   "cell_type": "markdown",
   "id": "0",
   "metadata": {},
   "source": [
    "# Inference using the Synthetic Fermentation models"
   ]
  },
  {
   "cell_type": "markdown",
   "id": "1",
   "metadata": {},
   "source": [
    "We export the validation plate data for predictions\n"
   ]
  },
  {
   "cell_type": "code",
   "execution_count": null,
   "id": "2",
   "metadata": {},
   "outputs": [],
   "source": [
    "import pathlib\n",
    "import statistics\n",
    "import sys\n",
    "sys.path.append(str(pathlib.Path().absolute().parent))\n",
    "\n",
    "import numpy as np\n",
    "import pandas as pd\n",
    "import pytorch_lightning as pl\n",
    "import torch\n",
    "from torch.utils.data import DataLoader\n",
    "\n",
    "from src.util.definitions import TRAINED_MODEL_DIR, LOG_DIR, DATA_ROOT\n",
    "from src.model.classifier import load_trained_model\n",
    "from src.data.dataloader import SynFermDataset, collate_fn\n",
    "from reaction_generator import SFReactionGenerator"
   ]
  },
  {
   "cell_type": "markdown",
   "id": "3",
   "metadata": {},
   "source": [
    "To use the notebook on your products, change `raw_dir` to the directory that your CSV file containing SMILES is in. Then change `filename_base` to the filename of your csv file without the `.csv` suffix. If you do not want to use all the SMILES in your file (e.g. because some are not valid SLAP products), suppy a `valid_idx_file`. You can set the value to `None` if you want to use all SMILES."
   ]
  },
  {
   "cell_type": "code",
   "execution_count": null,
   "id": "4",
   "metadata": {},
   "outputs": [],
   "source": [
    "# Import experiment data\n",
    "raw_dir = DATA_ROOT\n",
    "filename = \"validation-plate_candidates.csv\"\n",
    "valid_idx_file = None\n",
    "df = import_smiles(raw_dir, filename, valid_idx_file=valid_idx_file)\n",
    "df.head()"
   ]
  },
  {
   "cell_type": "code",
   "execution_count": null,
   "id": "5",
   "metadata": {},
   "outputs": [],
   "source": [
    "# check if all these were actually in the training data for the model we use\n",
    "dfs = [pd.read_csv(TRAINED_MODEL_DIR / model_0D_name / f\"train_{bb}.csv\") for bb in [\"initiators\", \"monomers\", \"terminators\"]]\n",
    "used_building_blocks = pd.concat(dfs)\n",
    "used_building_blocks    \n"
   ]
  },
  {
   "cell_type": "code",
   "execution_count": null,
   "id": "6",
   "metadata": {},
   "outputs": [],
   "source": [
    "\"BiAl005\" in used_building_blocks.values"
   ]
  },
  {
   "cell_type": "code",
   "execution_count": null,
   "id": "7",
   "metadata": {},
   "outputs": [],
   "source": [
    "# anything that shows up here will not be recognized by the one-hot encoder\n",
    "df.loc[~df[\"long_name\"].str.split(\"+\").apply(lambda x: all([i.strip() in used_building_blocks[\"long\"].values for i in x]))]"
   ]
  },
  {
   "cell_type": "code",
   "execution_count": null,
   "id": "8",
   "metadata": {},
   "outputs": [],
   "source": [
    "# first we need to generate the reactionSMILES. This will take a moment\n",
    "# don't need to rerun this later, we can just load it\n",
    "gen = SFReactionGenerator()\n",
    "df[\"reaction_smiles_atom_mapped\"] = df[\"product_A_smiles\"].apply(lambda x: gen.get_reaction_smiles(x))\n",
    "# save this\n",
    "df.to_csv(DATA_ROOT / \"validation-plate_candidates_reactionSMILES.csv\")"
   ]
  },
  {
   "cell_type": "code",
   "execution_count": null,
   "id": "9",
   "metadata": {},
   "outputs": [],
   "source": [
    "# reload\n",
    "df = pd.read_csv(DATA_ROOT / \"validation-plate_candidates_reactionSMILES.csv\", index_col=0)\n",
    "df.head()"
   ]
  },
  {
   "cell_type": "code",
   "execution_count": null,
   "id": "10",
   "metadata": {},
   "outputs": [],
   "source": [
    "# instantiate data set. This will also take a moment\n",
    "data = SynFermDataset(\n",
    "    name=\"validation-plate_candidates_reactionSMILES.csv\",\n",
    "    raw_dir=DATA_ROOT,\n",
    "    reaction=True,\n",
    "    global_features=[\"OHE\", ],\n",
    "    global_featurizer_state_dict_path=ohe_state_dict,\n",
    "    graph_type=\"bond_edges\",\n",
    "    featurizers=\"custom\",\n",
    "    smiles_columns=[\"reaction_smiles_atom_mapped\"],\n",
    "    label_columns=None,\n",
    "    task=\"multilabel\"\n",
    ")"
   ]
  },
  {
   "cell_type": "code",
   "execution_count": null,
   "id": "11",
   "metadata": {},
   "outputs": [],
   "source": [
    "# run the predictions\n",
    "\n",
    "# load the trained model \n",
    "model_0D = load_trained_model(\"FFN\", model_0D)\n",
    "model_0D.eval()\n",
    "trainer = pl.Trainer(accelerator=\"gpu\", logger=False, max_epochs=-1)\n",
    "# prepare data\n",
    "dl = DataLoader(data, collate_fn=collate_fn, num_workers=0)\n",
    "# predict\n",
    "probabilities_0D = torch.sigmoid(torch.concat(trainer.predict(model_0D, dl)))\n",
    "    "
   ]
  },
  {
   "cell_type": "code",
   "execution_count": null,
   "id": "12",
   "metadata": {},
   "outputs": [],
   "source": [
    "probabilities_0D"
   ]
  },
  {
   "cell_type": "code",
   "execution_count": null,
   "id": "13",
   "metadata": {},
   "outputs": [],
   "source": [
    "# load decision thresholds\n",
    "with open(LOG_DIR / \"thresholds\" / f\"{model_0D_name}.txt\", \"r\") as f:\n",
    "    thresholds = [float(i) for i in f.readlines()]\n",
    "print(thresholds)"
   ]
  },
  {
   "cell_type": "code",
   "execution_count": null,
   "id": "14",
   "metadata": {},
   "outputs": [],
   "source": [
    "# apply the thresholds\n",
    "preds = torch.stack([torch.where(probabilities_0D[:, i] > thresholds[i], 1, 0) for i in range(3)], dim=1)"
   ]
  },
  {
   "cell_type": "code",
   "execution_count": null,
   "id": "15",
   "metadata": {},
   "outputs": [],
   "source": [
    "# combine with data\n",
    "df[[\"prob_A\", \"prob_B\", \"prob_C\"]] = probabilities_0D\n",
    "df[[\"pred_A\", \"pred_B\", \"pred_C\"]] = preds "
   ]
  },
  {
   "cell_type": "code",
   "execution_count": null,
   "id": "16",
   "metadata": {},
   "outputs": [],
   "source": [
    "df.head()"
   ]
  },
  {
   "cell_type": "code",
   "execution_count": null,
   "id": "17",
   "metadata": {},
   "outputs": [],
   "source": [
    "# summarize our predictions\n",
    "df[\"pred_A\"].value_counts()"
   ]
  },
  {
   "cell_type": "code",
   "execution_count": null,
   "id": "18",
   "metadata": {},
   "outputs": [],
   "source": [
    "df[\"prob_A\"].plot.hist(bins=100)"
   ]
  },
  {
   "cell_type": "code",
   "execution_count": null,
   "id": "19",
   "metadata": {},
   "outputs": [],
   "source": [
    "(df[\"pred_A\"] == 1)"
   ]
  },
  {
   "cell_type": "code",
   "execution_count": null,
   "id": "20",
   "metadata": {},
   "outputs": [],
   "source": [
    "# write df to output file\n",
    "df.to_csv(DATA_ROOT / f\"validation-plate_candidates_predictions_2023-12-20.csv\", index=False)"
   ]
  },
  {
   "cell_type": "code",
   "execution_count": null,
   "id": "21",
   "metadata": {},
   "outputs": [],
   "source": [
    "# compare to 2023-09-05\n",
    "old_df = pd.read_csv(DATA_ROOT / f\"validation-plate_candidates_predictions.csv\")\n",
    "old_df.head()"
   ]
  },
  {
   "cell_type": "code",
   "execution_count": null,
   "id": "22",
   "metadata": {},
   "outputs": [],
   "source": [
    "assert (df[\"vl_id\"] == old_df[\"vl_id\"]).all()"
   ]
  },
  {
   "cell_type": "code",
   "execution_count": null,
   "id": "23",
   "metadata": {},
   "outputs": [],
   "source": [
    "# most predictions are the same as with the last model\n",
    "(df[\"pred_A\"] == old_df[\"pred_A\"]).value_counts()"
   ]
  },
  {
   "cell_type": "code",
   "execution_count": null,
   "id": "24",
   "metadata": {},
   "outputs": [],
   "source": [
    "# how many of the positives from the old model are also positives in the new model?\n",
    "(df.loc[old_df[\"pred_A\"] == 1, \"pred_A\"] == old_df.loc[old_df[\"pred_A\"] == 1, \"pred_A\"]).value_counts()"
   ]
  },
  {
   "cell_type": "markdown",
   "id": "25",
   "metadata": {},
   "source": [
    "## 1D plates\n",
    "We also need to predict for the 1D plates (exp101). Since we have by now prepared the `inference.py` script, we will use that instead of re-writing stuff here"
   ]
  }
 ],
 "metadata": {
  "kernelspec": {
   "display_name": "Python 3 (ipykernel)",
   "language": "python",
   "name": "python3"
  },
  "language_info": {
   "codemirror_mode": {
    "name": "ipython",
    "version": 3
   },
   "file_extension": ".py",
   "mimetype": "text/x-python",
   "name": "python",
   "nbconvert_exporter": "python",
   "pygments_lexer": "ipython3",
   "version": "3.11.5"
  }
 },
 "nbformat": 4,
 "nbformat_minor": 5
}
