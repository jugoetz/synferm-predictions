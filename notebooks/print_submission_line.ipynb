{
 "cells": [
  {
   "cell_type": "markdown",
   "id": "0",
   "metadata": {},
   "source": [
    "# Submission line generator\n",
    "Generate the lenghty submission line for running hparam optimization from a CSV containing planned experiments."
   ]
  },
  {
   "cell_type": "code",
   "execution_count": null,
   "id": "1",
   "metadata": {},
   "outputs": [],
   "source": [
    "import pandas as pd"
   ]
  },
  {
   "cell_type": "code",
   "execution_count": null,
   "id": "2",
   "metadata": {},
   "outputs": [],
   "source": [
    "# read db export\n",
    "df = pd.read_csv(\"exp_db.csv\").dropna(how=\"all\")\n",
    "# select where to start and stop generating\n",
    "df = df.loc[df[\"Short name\"].apply(lambda x: 1799 < int(x[2:]) < 1810)].sort_values(by=[\"Short name\"])\n",
    "df"
   ]
  },
  {
   "cell_type": "code",
   "execution_count": null,
   "id": "3",
   "metadata": {},
   "outputs": [],
   "source": [
    "def get_features(s):\n",
    "    if s == \"CGR\":\n",
    "        return \"None\"\n",
    "    s = s.replace(\",\", \"\")\n",
    "    s = s.replace(\"CGR\", \"\")\n",
    "    s = s.strip()\n",
    "    return s\n",
    "        "
   ]
  },
  {
   "cell_type": "code",
   "execution_count": null,
   "id": "4",
   "metadata": {},
   "outputs": [],
   "source": [
    "for i, row in df.iterrows():\n",
    "    model = row[\"Estimator\"].replace(\"-\", \"\").replace(\"Logistic Regression\", \"LogReg\")\n",
    "    data_path = f'data/{row[\"Data set ID\"]}.csv'\n",
    "    global_features = get_features(row[\"Features\"])\n",
    "    exp_id = row[\"Short name\"]\n",
    "    split = row[\"Split ID\"]\n",
    "    #tags = \"_\".join([row[\"Split ID\"].split(\"_\")[-3], row[\"Split ID\"].split(\"_\")[-1], \"syn\"])  # for \"0D_80_syn\" style\n",
    "    #tags = \"_\".join([row[\"Split ID\"].split(\"_\")[-3], row[\"Split ID\"].split(\"_\")[-1]])  # for \"0D_80\" style\n",
    "    tags = row[\"Split ID\"].split(\"_\")[-2] # for \"1D\" style\n",
    "    # for workstation\n",
    "    #print(f\"nq /home/julian/miniconda3/envs/synferm-predictions/bin/python /home/julian/PycharmProjects/synferm-predictions/run.py train --config config/config_{model}.yaml --data-path {data_path} --split-indices data/splits/{split}/ --smiles-columns I_smiles M_smiles T_smiles --label-columns binary_A binary_B binary_C --global-features {global_features} --global-features-file data/4D_features_smiles.json --task multilabel --run-test --hparam-optimization --hparam-config-path config/hparam_bounds_{model}.yaml --hparam-n-iter 20 --experiment-id {exp_id} --tags {tags}\")\n",
    "    # for cluster\n",
    "    print(f'sbatch -n 1 --cpus-per-task=4 --time=4:00:00 --mem-per-cpu=1024 --mail-type=END --wrap=\"/cluster/home/jgoetz/miniconda3/envs/synferm-predictions/bin/python /cluster/home/jgoetz/synferm-predictions/run.py train --config config/config_{model}.yaml --data-path {data_path} --split-indices data/splits/{split}/ --smiles-columns I_smiles M_smiles T_smiles --label-columns binary_A binary_B binary_C --global-features {global_features} --global-features-file data/4D_features_smiles.json --task multilabel --run-test --hparam-optimization --hparam-config-path config/hparam_bounds_{model}.yaml --hparam-n-iter 20 --experiment-id {exp_id} --tags {tags} --wandb-offline\"')\n",
    "    print()\n"
   ]
  },
  {
   "cell_type": "code",
   "execution_count": null,
   "id": "5",
   "metadata": {},
   "outputs": [],
   "source": []
  }
 ],
 "metadata": {
  "kernelspec": {
   "display_name": "Python 3 (ipykernel)",
   "language": "python",
   "name": "python3"
  },
  "language_info": {
   "codemirror_mode": {
    "name": "ipython",
    "version": 3
   },
   "file_extension": ".py",
   "mimetype": "text/x-python",
   "name": "python",
   "nbconvert_exporter": "python",
   "pygments_lexer": "ipython3",
   "version": "3.11.5"
  }
 },
 "nbformat": 4,
 "nbformat_minor": 5
}
