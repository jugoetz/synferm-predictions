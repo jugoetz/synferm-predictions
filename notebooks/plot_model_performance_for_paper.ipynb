{
 "cells": [
  {
   "cell_type": "markdown",
   "metadata": {
    "collapsed": true,
    "jupyter": {
     "outputs_hidden": true
    },
    "pycharm": {
     "name": "#%% md\n"
    }
   },
   "source": [
    "## Plot model performance\n",
    "\n",
    "Visualize performance on different models from a CSV summary file."
   ]
  },
  {
   "cell_type": "code",
   "execution_count": 2,
   "metadata": {
    "pycharm": {
     "name": "#%%\n"
    }
   },
   "outputs": [],
   "source": [
    "import pathlib\n",
    "import itertools\n",
    "\n",
    "import pandas as pd\n",
    "import matplotlib.pyplot as plt\n",
    "import seaborn as sns\n",
    "import wandb\n",
    "\n",
    "from utils import BodeColorPalette\n",
    "bode_palette = BodeColorPalette()"
   ]
  },
  {
   "cell_type": "code",
   "execution_count": 3,
   "metadata": {
    "pycharm": {
     "name": "#%%\n"
    }
   },
   "outputs": [],
   "source": [
    "# settings\n",
    "sns.set_theme(context=\"paper\", \n",
    "              style=\"white\", \n",
    "              font_scale=0.7,\n",
    "              rc={\"savefig.transparent\": True, \n",
    "                  \"axes.grid\": False, \n",
    "                  \"axes.spines.bottom\": True,\n",
    "                  \"axes.spines.left\": False,\n",
    "                  \"axes.spines.right\": False,\n",
    "                  \"axes.spines.top\": False,\n",
    "                  \"font.family\":'sans-serif',\n",
    "                  #\"font.sans-serif\":[\"Helvetica\", \"Arial\"],\n",
    "                  \"xtick.major.pad\": 0.0,\n",
    "                  \"xtick.minor.pad\": 0.0,\n",
    "                  \"ytick.major.pad\": 0.0,\n",
    "                  \"ytick.minor.pad\": 0.0,\n",
    "                  \"axes.labelweight\": \"bold\",\n",
    "                  \"axes.labelpad\": 2.5,  # standard is 4.0\n",
    "                  \"axes.xmargin\": .05,\n",
    "                 }, \n",
    "             )\n",
    "\n",
    "# more settings for all plots\n",
    "errorbar = \"se\"  # standard error of the mean\n",
    "errwidth = .9\n",
    "errcolor = \"black\"\n",
    "capsize = .1  # size of the end of the errorbar\n",
    "linewidth = 1.  # width of the outline of barplot\n",
    "\n",
    "palette = [\n",
    "    bode_palette.blues[0], \n",
    "    bode_palette.oranges[0],\n",
    "    bode_palette.blues[2],\n",
    "    bode_palette.oranges[2],\n",
    "    bode_palette.blues[3],\n",
    "    bode_palette.oranges[3]\n",
    "]\n"
   ]
  },
  {
   "cell_type": "markdown",
   "metadata": {
    "pycharm": {
     "name": "#%% md\n"
    }
   },
   "source": [
    "### Get data from wandb API"
   ]
  },
  {
   "cell_type": "code",
   "execution_count": 36,
   "metadata": {},
   "outputs": [],
   "source": [
    "def get_runs_as_list(project=\"jugoetz/synferm-predictions\", filters={}):\n",
    "    api = wandb.Api()\n",
    "    runs = api.runs(project, filters=filters)\n",
    "    summary_list, config_list, name_list, tag_list = [], [], [], []\n",
    "    for run in runs:\n",
    "        # .summary contains output keys/values for\n",
    "        # metrics such as accuracy.\n",
    "        #  We call ._json_dict to omit large files\n",
    "        summary_list.append(run.summary._json_dict)\n",
    "    \n",
    "        # .config contains the hyperparameters.\n",
    "        #  We remove special values that start with _.\n",
    "        config_list.append(\n",
    "            {k: v for k,v in run.config.items()\n",
    "             if not k.startswith('_')})\n",
    "    \n",
    "        tag_list.append(tuple(run.tags))  # tuple b/c we will need to hash it later\n",
    "    \n",
    "        # .name is the human-readable name of the run.\n",
    "        name_list.append(run.name)\n",
    "    return summary_list, config_list, tag_list, name_list"
   ]
  },
  {
   "cell_type": "code",
   "execution_count": 37,
   "metadata": {},
   "outputs": [],
   "source": [
    "summary_list, config_list, tag_list, name_list  = get_runs_as_list(filters={\"$or\":\n",
    "                                                             [{\"jobType\": \"training\"},\n",
    "                                                              {\"jobType\": \"hparam_best\"}\n",
    "                                                             ]})\n",
    "df_all = pd.json_normalize(config_list).merge(pd.json_normalize(summary_list), left_index=True, right_index=True)\n",
    "df_all[\"tags\"] = tag_list\n",
    "df_all[\"run_id\"] = name_list\n",
    "df_all[\"run_group\"] = [s.rsplit(\"_\", maxsplit=1)[0] for s in name_list]\n",
    "df_all[\"Model+Features\"] = df_all[\"name\"] + \"/\" + df_all[\"decoder.global_features\"].str.join(\"+\").str.replace(\"None\", \"CGR\")"
   ]
  },
  {
   "cell_type": "code",
   "execution_count": 50,
   "metadata": {},
   "outputs": [
    {
     "name": "stdout",
     "output_type": "stream",
     "text": [
      "('0D',) --> {'JG1106', 'JG1115', 'JG1117', 'JG1100', nan, 'JG1116', 'JG1109'}\n",
      "('1D',) --> {'JG1118', 'JG1101', nan, 'JG1104'}\n",
      "('2D',) --> {'JG1119', 'JG1112', nan, 'JG1102', 'JG1105'}\n",
      "('3D',) --> {'JG1108', 'JG1110', 'JG1120', 'JG1107', 'JG1103', 'JG1111', 'JG1114', nan, 'JG1113'}\n"
     ]
    }
   ],
   "source": [
    "# check available experiments by split\n",
    "\n",
    "for tag, row in df_all.groupby(\"tags\")[[\"experiment_id\"]].agg(set).iterrows():\n",
    "    print(tag, \"-->\", row[\"experiment_id\"])"
   ]
  },
  {
   "cell_type": "markdown",
   "metadata": {},
   "source": [
    "## 0D split"
   ]
  },
  {
   "cell_type": "code",
   "execution_count": 23,
   "metadata": {},
   "outputs": [],
   "source": [
    "# set dir where we will save plots\n",
    "analysis_dir = pathlib.Path(\"results\")"
   ]
  },
  {
   "cell_type": "code",
   "execution_count": 24,
   "metadata": {},
   "outputs": [
    {
     "data": {
      "image/png": "[encoded data removed]",
      "text/plain": [
       "<Figure size 280x200 with 1 Axes>"
      ]
     },
     "metadata": {},
     "output_type": "display_data"
    }
   ],
   "source": [
    "# choose the metric, i.e. accuracy or AUROC\n",
    "metric = \"val/loss\"\n",
    "# choose the task (0D, 1D, or 2D)\n",
    "tag = \"0D\"\n",
    "# choose the colorscheme\n",
    "fill_color = '0.4'  # grey\n",
    "stroke_color = '0.1'  # almost black\n",
    "\n",
    "# choose the data to plot\n",
    "experiment_ids = [\n",
    "    \"JG1100\",\n",
    "    \"JG1106\",\n",
    "    \"JG1109\",\n",
    "    \"JG1115\",\n",
    "    \"JG1116\",\n",
    "    \"JG1117\",\n",
    "]\n",
    "\n",
    "# filter the data\n",
    "df_plot = df_all.loc[df_all['experiment_id'].isin(experiment_ids) & df_all['tags'].apply(lambda x: tag in x)]\n",
    "\n",
    "# sort the values\n",
    "sort_dict = dict(zip(experiment_ids, itertools.count()))\n",
    "df_plot = df_plot.sort_values(by=\"experiment_id\", kind=\"mergesort\", key=lambda x: x.map(sort_dict))\n",
    "ticklabels = df_plot[\"Model+Features\"].unique().tolist()\n",
    "# set plot\n",
    "fig, ax = plt.subplots(figsize=(2.8,2))\n",
    "sns.barplot(\n",
    "    ax=ax,\n",
    "    data=df_plot, \n",
    "    x=\"Model+Features\",\n",
    "    y=metric,\n",
    "    errorbar=errorbar,\n",
    "    errwidth=errwidth,\n",
    "    errcolor=errcolor,\n",
    "    capsize=capsize,\n",
    "    color=fill_color,\n",
    "    edgecolor=stroke_color,\n",
    "    linewidth=linewidth,\n",
    "    alpha=.8,\n",
    "    width=.7,\n",
    ")\n",
    "\n",
    "sns.stripplot(\n",
    "    ax=ax,\n",
    "    data=df_plot, \n",
    "              x=\"Model+Features\",\n",
    "              y=metric,\n",
    "              dodge=True,\n",
    "              edgecolor=stroke_color,\n",
    "              color=fill_color,\n",
    "              linewidth=.5,\n",
    "              legend=False,\n",
    "              marker=\"o\",\n",
    "              size=2.5,\n",
    "              alpha=.8\n",
    "             )\n",
    "\n",
    "#ax.axhline(0.5, ls=\"--\", color=bode_palette.blue, linewidth=.7)\n",
    "ax.set_xlabel(None)\n",
    "ax.xaxis.set_tick_params(labelrotation=90)\n",
    "ax.set_ylim((0.0, 0.8))\n",
    "ax.xaxis.set_ticklabels(df_plot[\"Model+Features\"].drop_duplicates().str.replace(\"LogisticRegression\", \"LogReg\"))\n",
    "\n",
    "fig.tight_layout()\n",
    "\n",
    "fig.savefig(analysis_dir / f\"metrics_{tag}_models_{metric.replace('/', '_')}.svg\", format=\"svg\")\n",
    "fig.savefig(analysis_dir / f\"metrics_{tag}_models_{metric.replace('/', '_')}.png\", dpi=300)"
   ]
  },
  {
   "cell_type": "markdown",
   "metadata": {},
   "source": [
    "## 1D split"
   ]
  },
  {
   "cell_type": "code",
   "execution_count": 25,
   "metadata": {
    "scrolled": true
   },
   "outputs": [
    {
     "data": {
      "image/png": "[encoded data removed]",
      "text/plain": [
       "<Figure size 280x200 with 1 Axes>"
      ]
     },
     "metadata": {},
     "output_type": "display_data"
    }
   ],
   "source": [
    "# choose the metric, i.e. accuracy or AUROC\n",
    "metric = \"val/loss\"\n",
    "# choose the task (0D, 1D, or 2D)\n",
    "tag = \"1D\"\n",
    "# choose the colorscheme\n",
    "fill_color = (189/256, 87/256, 213/256)\n",
    "stroke_color = (140/256, 67/256, 158/256)\n",
    "\n",
    "# choose the data to plot\n",
    "experiment_ids = [\n",
    "    \"JG1101\",\n",
    "    \"JG1104\",\n",
    "    \"JG1118\",\n",
    "\n",
    "]\n",
    "\n",
    "# filter the data\n",
    "df_plot = df_all.loc[df_all['experiment_id'].isin(experiment_ids) & df_all['tags'].apply(lambda x: tag in x)]\n",
    "\n",
    "# sort the values\n",
    "sort_dict = dict(zip(experiment_ids, itertools.count()))\n",
    "df_plot = df_plot.sort_values(by=\"experiment_id\", kind=\"mergesort\", key=lambda x: x.map(sort_dict))\n",
    "ticklabels = df_plot[\"Model+Features\"].unique().tolist()\n",
    "# set plot\n",
    "fig, ax = plt.subplots(figsize=(2.8,2))\n",
    "sns.barplot(\n",
    "    ax=ax,\n",
    "    data=df_plot, \n",
    "    x=\"Model+Features\",\n",
    "    y=metric,\n",
    "    errorbar=errorbar,\n",
    "    errwidth=errwidth,\n",
    "    errcolor=errcolor,\n",
    "    capsize=capsize,\n",
    "    color=fill_color,\n",
    "    edgecolor=stroke_color,\n",
    "    linewidth=linewidth,\n",
    "    alpha=.8,\n",
    "    width=.7,\n",
    ")\n",
    "\n",
    "sns.stripplot(\n",
    "    ax=ax,\n",
    "    data=df_plot, \n",
    "              x=\"Model+Features\",\n",
    "              y=metric,\n",
    "              dodge=True,\n",
    "              edgecolor=stroke_color,\n",
    "              color=fill_color,\n",
    "              linewidth=.5,\n",
    "              legend=False,\n",
    "              marker=\"o\",\n",
    "              size=2.5,\n",
    "              alpha=.8\n",
    "             )\n",
    "\n",
    "#ax.axhline(0.5, ls=\"--\", color=bode_palette.blue, linewidth=.7)\n",
    "ax.set_xlabel(None)\n",
    "ax.xaxis.set_tick_params(labelrotation=90)\n",
    "ax.set_ylim((0, 0.8))\n",
    "ax.xaxis.set_ticklabels(df_plot[\"Model+Features\"].drop_duplicates().str.replace(\"LogisticRegression\", \"LogReg\"))\n",
    "\n",
    "fig.tight_layout()\n",
    "fig.savefig(analysis_dir / f\"metrics_{tag}_models_{metric.replace('/', '_')}.svg\", format=\"svg\")\n",
    "fig.savefig(analysis_dir / f\"metrics_{tag}_models_{metric.replace('/', '_')}.png\", dpi=300)"
   ]
  },
  {
   "cell_type": "markdown",
   "metadata": {},
   "source": [
    "## 2D split"
   ]
  },
  {
   "cell_type": "code",
   "execution_count": 26,
   "metadata": {
    "scrolled": true
   },
   "outputs": [
    {
     "data": {
      "image/png": "[encoded data removed]",
      "text/plain": [
       "<Figure size 280x200 with 1 Axes>"
      ]
     },
     "metadata": {},
     "output_type": "display_data"
    }
   ],
   "source": [
    "# choose the metric, i.e. accuracy or AUROC\n",
    "metric = \"val/loss\"\n",
    "# choose the task (0D, 1D, or 2D)\n",
    "tag = \"2D\"\n",
    "# choose the colorscheme\n",
    "fill_color = (\n",
    "    135/256,\n",
    "    186/256,\n",
    "    112/256,\n",
    ")\n",
    "\n",
    "stroke_color = (92/256, 124/256, 76/256)\n",
    "\n",
    "# choose the data to plot\n",
    "experiment_ids = [\n",
    "    \"JG1102\",\n",
    "    \"JG1105\",\n",
    "    \"JG1112\",\n",
    "    \"JG1119\",\n",
    "]\n",
    "\n",
    "# filter the data\n",
    "df_plot = df_all.loc[df_all['experiment_id'].isin(experiment_ids) & df_all['tags'].apply(lambda x: tag in x)]\n",
    "\n",
    "# sort the values\n",
    "sort_dict = dict(zip(experiment_ids, itertools.count()))\n",
    "df_plot = df_plot.sort_values(by=\"experiment_id\", kind=\"mergesort\", key=lambda x: x.map(sort_dict))\n",
    "ticklabels = df_plot[\"Model+Features\"].unique().tolist()\n",
    "\n",
    "# set plot\n",
    "fig, ax = plt.subplots(figsize=(2.8,2))\n",
    "sns.barplot(\n",
    "    ax=ax,\n",
    "    data=df_plot, \n",
    "    x=\"Model+Features\",\n",
    "    y=metric,\n",
    "    errorbar=errorbar,\n",
    "    errwidth=errwidth,\n",
    "    errcolor=errcolor,\n",
    "    capsize=capsize,\n",
    "    color=fill_color,\n",
    "    edgecolor=stroke_color,\n",
    "    linewidth=linewidth,\n",
    "    alpha=.8,\n",
    "    width=.7,\n",
    ")\n",
    "\n",
    "sns.stripplot(\n",
    "    ax=ax,\n",
    "    data=df_plot, \n",
    "              x=\"Model+Features\",\n",
    "              y=metric,\n",
    "              dodge=True,\n",
    "              edgecolor=stroke_color,\n",
    "              color=fill_color,\n",
    "              linewidth=.5,\n",
    "              legend=False,\n",
    "              marker=\"o\",\n",
    "              size=2.5,\n",
    "              alpha=.8\n",
    "             )\n",
    "\n",
    "#ax.axhline(0.5, ls=\"--\", color=bode_palette.blue, linewidth=.7)\n",
    "ax.set_xlabel(None)\n",
    "ax.xaxis.set_tick_params(labelrotation=90)\n",
    "ax.set_ylim((0, 0.8))\n",
    "ax.xaxis.set_ticklabels(df_plot[\"Model+Features\"].drop_duplicates().str.replace(\"LogisticRegression\", \"LogReg\"))\n",
    "\n",
    "fig.tight_layout()\n",
    "fig.savefig(analysis_dir / f\"metrics_{tag}_models_{metric.replace('/', '_')}.svg\", format=\"svg\")\n",
    "fig.savefig(analysis_dir / f\"metrics_{tag}_models_{metric.replace('/', '_')}.png\", dpi=300)"
   ]
  },
  {
   "cell_type": "markdown",
   "metadata": {},
   "source": [
    "## 3D split"
   ]
  },
  {
   "cell_type": "code",
   "execution_count": 27,
   "metadata": {
    "scrolled": true
   },
   "outputs": [
    {
     "data": {
      "image/png": "[encoded data removed]",
      "text/plain": [
       "<Figure size 280x200 with 1 Axes>"
      ]
     },
     "metadata": {},
     "output_type": "display_data"
    }
   ],
   "source": [
    "# choose the metric, i.e. accuracy or AUROC\n",
    "metric = \"val/loss\"\n",
    "# choose the task (0D, 1D, or 2D)\n",
    "tag = \"3D\"\n",
    "# choose the colorscheme\n",
    "fill_color = (198/256, 193/256, 80/256)\n",
    "\n",
    "stroke_color = (142/256, 136/256, 58/256)\n",
    "\n",
    "# choose the data to plot\n",
    "experiment_ids = [\n",
    "    \"JG1103\",\n",
    "    \"JG1107\",\n",
    "    \"JG1108\",\n",
    "    \"JG1110\",\n",
    "    \"JG1111\",\n",
    "    \"JG1113\",\n",
    "    \"JG1114\",\n",
    "    \"JG1120\",\n",
    "]\n",
    "\n",
    "# filter the data\n",
    "df_plot = df_all.loc[df_all['experiment_id'].isin(experiment_ids) & df_all['tags'].apply(lambda x: tag in x)]\n",
    "\n",
    "# sort the values\n",
    "sort_dict = dict(zip(experiment_ids, itertools.count()))\n",
    "df_plot = df_plot.sort_values(by=\"experiment_id\", kind=\"mergesort\", key=lambda x: x.map(sort_dict))\n",
    "ticklabels = df_plot[\"Model+Features\"].unique().tolist()\n",
    "# set plot\n",
    "fig, ax = plt.subplots(figsize=(2.8,2))\n",
    "sns.barplot(\n",
    "    ax=ax,\n",
    "    data=df_plot, \n",
    "    x=\"Model+Features\",\n",
    "    y=metric,\n",
    "    errorbar=errorbar,\n",
    "    errwidth=errwidth,\n",
    "    errcolor=errcolor,\n",
    "    capsize=capsize,\n",
    "    color=fill_color,\n",
    "    edgecolor=stroke_color,\n",
    "    linewidth=linewidth,\n",
    "    alpha=.8,\n",
    "    width=.7,\n",
    ")\n",
    "\n",
    "sns.stripplot(\n",
    "    ax=ax,\n",
    "    data=df_plot, \n",
    "              x=\"Model+Features\",\n",
    "              y=metric,\n",
    "              dodge=True,\n",
    "              edgecolor=stroke_color,\n",
    "              color=fill_color,\n",
    "              linewidth=.5,\n",
    "              legend=False,\n",
    "              marker=\"o\",\n",
    "              size=2.5,\n",
    "              alpha=.8\n",
    "             )\n",
    "\n",
    "#ax.axhline(0.5, ls=\"--\", color=bode_palette.blue, linewidth=.7)\n",
    "ax.set_xlabel(None)\n",
    "ax.xaxis.set_tick_params(labelrotation=90)\n",
    "ax.set_ylim((0, 0.8))\n",
    "ax.xaxis.set_ticklabels(df_plot[\"Model+Features\"].drop_duplicates().str.replace(\"LogisticRegression\", \"LogReg\"))\n",
    "\n",
    "fig.tight_layout()\n",
    "fig.savefig(analysis_dir / f\"metrics_{tag}_models_{metric.replace('/', '_')}.svg\", format=\"svg\")\n",
    "fig.savefig(analysis_dir / f\"metrics_{tag}_models_{metric.replace('/', '_')}.png\", dpi=300)"
   ]
  },
  {
   "cell_type": "code",
   "execution_count": null,
   "metadata": {},
   "outputs": [],
   "source": []
  }
 ],
 "metadata": {
  "kernelspec": {
   "display_name": "Python 3 (ipykernel)",
   "language": "python",
   "name": "python3"
  },
  "language_info": {
   "codemirror_mode": {
    "name": "ipython",
    "version": 3
   },
   "file_extension": ".py",
   "mimetype": "text/x-python",
   "name": "python",
   "nbconvert_exporter": "python",
   "pygments_lexer": "ipython3",
   "version": "3.11.5"
  }
 },
 "nbformat": 4,
 "nbformat_minor": 4
}
