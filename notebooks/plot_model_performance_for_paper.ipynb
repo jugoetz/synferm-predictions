{
 "cells": [
  {
   "cell_type": "markdown",
   "metadata": {
    "collapsed": true,
    "jupyter": {
     "outputs_hidden": true
    },
    "pycharm": {
     "name": "#%% md\n"
    }
   },
   "source": [
    "## Plot model performance\n",
    "\n",
    "Visualize performance on different models from a CSV summary file."
   ]
  },
  {
   "cell_type": "code",
   "execution_count": 6,
   "metadata": {
    "pycharm": {
     "name": "#%%\n"
    }
   },
   "outputs": [],
   "source": [
    "import pathlib\n",
    "import itertools\n",
    "\n",
    "import pandas as pd\n",
    "import matplotlib.pyplot as plt\n",
    "import seaborn as sns\n",
    "\n",
    "from utils import BodeColorPalette\n",
    "bode_palette = BodeColorPalette()"
   ]
  },
  {
   "cell_type": "markdown",
   "metadata": {
    "pycharm": {
     "name": "#%% md\n"
    }
   },
   "source": [
    "### Get data from wandb CSV export\n",
    "Here we read the results file to plot the results."
   ]
  },
  {
   "cell_type": "code",
   "execution_count": 7,
   "metadata": {
    "pycharm": {
     "name": "#%%\n"
    }
   },
   "outputs": [],
   "source": [
    "# settings\n",
    "sns.set_theme(context=\"paper\", \n",
    "              style=\"white\", \n",
    "              font_scale=0.7,\n",
    "              rc={\"savefig.transparent\": True, \n",
    "                  \"axes.grid\": False, \n",
    "                  \"axes.spines.bottom\": True,\n",
    "                  \"axes.spines.left\": False,\n",
    "                  \"axes.spines.right\": False,\n",
    "                  \"axes.spines.top\": False,\n",
    "                  \"font.family\":'sans-serif',\n",
    "                  #\"font.sans-serif\":[\"Helvetica\", \"Arial\"],\n",
    "                  \"xtick.major.pad\": 0.0,\n",
    "                  \"xtick.minor.pad\": 0.0,\n",
    "                  \"ytick.major.pad\": 0.0,\n",
    "                  \"ytick.minor.pad\": 0.0,\n",
    "                  \"axes.labelweight\": \"bold\",\n",
    "                  \"axes.labelpad\": 2.5,  # standard is 4.0\n",
    "                  \"axes.xmargin\": .05,\n",
    "                 }, \n",
    "             )\n",
    "\n",
    "# more settings for all plots\n",
    "errorbar = \"se\"  # standard error of the mean\n",
    "errwidth = .9\n",
    "errcolor = \"black\"\n",
    "capsize = .1  # size of the end of the errorbar\n",
    "linewidth = 1.  # width of the outline of barplot\n",
    "\n",
    "palette = [\n",
    "    bode_palette.blues[0], \n",
    "    bode_palette.oranges[0],\n",
    "    bode_palette.blues[2],\n",
    "    bode_palette.oranges[2],\n",
    "    bode_palette.blues[3],\n",
    "    bode_palette.oranges[3]\n",
    "]\n",
    "\n",
    "# data (from file)\n",
    "analysis_dir = pathlib.Path(\".\")\n",
    "results_file = analysis_dir / \"results_summary.csv\"\n",
    "results_file_all = analysis_dir/ \"results_all.csv\"\n",
    "\n",
    "df_summary = pd.read_csv(results_file, header=[0, 1], index_col=[0, 1])\n",
    "df_all = pd.read_csv(results_file_all, index_col=0)\n",
    "\n",
    "df_all[\"Model+Features\"] = df_all[\"name\"] + \"\\n\" + df_all[\"decoder.global_features\"].str.strip('[\"\"]')\n",
    "df_all[\"name\"] = df_all.index.values  # duplicate index into column b/c we will need to apply a function for selecting rows."
   ]
  },
  {
   "cell_type": "markdown",
   "metadata": {},
   "source": [
    "## 0D split"
   ]
  },
  {
   "cell_type": "code",
   "execution_count": 38,
   "metadata": {},
   "outputs": [
    {
     "data": {
      "image/png": "[encoded data removed]",
      "text/plain": [
       "<Figure size 280x200 with 1 Axes>"
      ]
     },
     "metadata": {},
     "output_type": "display_data"
    }
   ],
   "source": [
    "# choose the metric, i.e. accuracy or AUROC\n",
    "metric = \"val/balanced_accuracy_macro\"\n",
    "# choose the task (0D, 1D, or 2D)\n",
    "tag = \"0D\"\n",
    "# choose the colorscheme\n",
    "fill_color = '0.4'  # grey\n",
    "stroke_color = '0.1'  # almost black\n",
    "\n",
    "# choose the data to plot\n",
    "run_groups = [\n",
    "    \"2023-09-23-000628_941876\",\n",
    "    \"2023-09-23-025934_146143\",\n",
    "    \"2023-09-24-175610_511580\",\n",
    "    \"2023-09-24-162517_327706\",\n",
    "    \"2023-09-24-155637_396648\",\n",
    "]\n",
    "ticklabels = [\"D-MPNN/CGR\", \"D-MPNN/RDKit\", \"FFN/FP\", \"FFN/RDKit\", \"FFN/OHE\"]\n",
    "\n",
    "# filter the data\n",
    "df_plot = df_all.loc[df_all['name'].apply(lambda x: any(x.startswith(q) for q in run_groups)),  [\"Model+Features\", metric]]\n",
    "\n",
    "# sort the values\n",
    "sort_dict = dict(zip(include_list, itertools.count()))\n",
    "df_plot = df_plot.sort_values(by=\"Model+Features\", kind=\"mergesort\", key=lambda x: x.map(sort_dict))\n",
    "\n",
    "# set plot\n",
    "fig, ax = plt.subplots(figsize=(2.8,2))\n",
    "sns.barplot(\n",
    "    ax=ax,\n",
    "    data=df_plot, \n",
    "    x=\"Model+Features\",\n",
    "    y=metric,\n",
    "    errorbar=errorbar,\n",
    "    errwidth=errwidth,\n",
    "    errcolor=errcolor,\n",
    "    capsize=capsize,\n",
    "    color=fill_color,\n",
    "    edgecolor=stroke_color,\n",
    "    linewidth=linewidth,\n",
    "    alpha=.8,\n",
    "    width=.7,\n",
    ")\n",
    "\n",
    "sns.stripplot(\n",
    "    ax=ax,\n",
    "    data=df_plot, \n",
    "              x=\"Model+Features\",\n",
    "              y=metric,\n",
    "              dodge=True,\n",
    "              edgecolor=stroke_color,\n",
    "              color=fill_color,\n",
    "              linewidth=.5,\n",
    "              legend=False,\n",
    "              marker=\"o\",\n",
    "              size=2.5,\n",
    "              alpha=.8\n",
    "             )\n",
    "\n",
    "ax.axhline(0.5, ls=\"--\", color=bode_palette.blue, linewidth=.7)\n",
    "ax.set_xlabel(None)\n",
    "ax.xaxis.set_tick_params(labelrotation=90)\n",
    "ax.set_ylim((0.3, 1.0))\n",
    "ax.xaxis.set_ticklabels(ticklabels)\n",
    "\n",
    "fig.tight_layout()\n",
    "fig.savefig(analysis_dir / f\"metrics_{tag}_models_{metric.replace('/', '_')}.svg\", format=\"svg\")\n",
    "fig.savefig(analysis_dir / f\"metrics_{tag}_models_{metric.replace('/', '_')}.png\", dpi=300)"
   ]
  },
  {
   "cell_type": "code",
   "execution_count": 37,
   "metadata": {},
   "outputs": [
    {
     "name": "stdout",
     "output_type": "stream",
     "text": [
      "2023-09-26-101818_629117\n",
      "2023-09-24-091951_200593\n",
      "2023-09-23-000628_941876\n",
      "2023-09-22-212923_996081\n",
      "2023-09-23-025934_146143\n",
      "2023-09-24-175610_511580\n",
      "2023-09-24-162517_327706\n",
      "2023-09-26-120139_108981\n",
      "2023-09-24-155637_396648\n"
     ]
    },
    {
     "data": {
      "text/plain": [
       "[None, None, None, None, None, None, None, None, None]"
      ]
     },
     "execution_count": 37,
     "metadata": {},
     "output_type": "execute_result"
    }
   ],
   "source": [
    "[print(i) for i in df_plot.index.map(lambda x: x.rsplit(\"_\", maxsplit=1)[0]).unique()]"
   ]
  },
  {
   "cell_type": "markdown",
   "metadata": {},
   "source": [
    "## 1D split"
   ]
  },
  {
   "cell_type": "code",
   "execution_count": 24,
   "metadata": {
    "scrolled": true
   },
   "outputs": [
    {
     "data": {
      "image/png": "[encoded data removed]",
      "text/plain": [
       "<Figure size 280x200 with 1 Axes>"
      ]
     },
     "metadata": {},
     "output_type": "display_data"
    }
   ],
   "source": [
    "# choose the metric, i.e. accuracy or AUROC\n",
    "metric = \"val/balanced_accuracy_macro\"\n",
    "# choose the task (0D, 1D, or 2D)\n",
    "tag = \"1D\"\n",
    "# choose the colorscheme\n",
    "fill_color = (189/256, 87/256, 213/256)\n",
    "stroke_color = (140/256, 67/256, 158/256)\n",
    "\n",
    "# choose the data to plot\n",
    "run_groups = [\n",
    "    \"2023-09-24-104146_718231\",\n",
    "    \"2023-09-24-111906_946206\",\n",
    "    \"2023-09-24-181851_729257\",\n",
    "    \"2023-09-24-171831_775330\",\n",
    "    \"2023-09-25-000626_212529\",\n",
    "]\n",
    "ticklabels = [\"D-MPNN/CGR\", \"D-MPNN/RDKit\", \"FFN/FP\", \"FFN/RDKit\", \"FFN/OHE\"]\n",
    "\n",
    "\n",
    "# filter the data\n",
    "df_plot = df_all.loc[df_all['name'].apply(lambda x: any(x.startswith(q) for q in run_groups)),  [\"Model+Features\", metric]]\n",
    "\n",
    "# sort the values\n",
    "sort_dict = dict(zip(include_list, itertools.count()))\n",
    "df_plot = df_plot.sort_values(by=\"Model+Features\", kind=\"mergesort\", key=lambda x: x.map(sort_dict))\n",
    "\n",
    "# set plot\n",
    "fig, ax = plt.subplots(figsize=(2.8,2))\n",
    "sns.barplot(\n",
    "    ax=ax,\n",
    "    data=df_plot, \n",
    "    x=\"Model+Features\",\n",
    "    y=metric,\n",
    "    errorbar=errorbar,\n",
    "    errwidth=errwidth,\n",
    "    errcolor=errcolor,\n",
    "    capsize=capsize,\n",
    "    color=fill_color,\n",
    "    edgecolor=stroke_color,\n",
    "    linewidth=linewidth,\n",
    "    alpha=.8,\n",
    "    width=.7,\n",
    ")\n",
    "\n",
    "sns.stripplot(\n",
    "    ax=ax,\n",
    "    data=df_plot, \n",
    "              x=\"Model+Features\",\n",
    "              y=metric,\n",
    "              dodge=True,\n",
    "              edgecolor=stroke_color,\n",
    "              color=fill_color,\n",
    "              linewidth=.5,\n",
    "              legend=False,\n",
    "              marker=\"o\",\n",
    "              size=2.5,\n",
    "              alpha=.8\n",
    "             )\n",
    "\n",
    "ax.axhline(0.5, ls=\"--\", color=bode_palette.blue, linewidth=.7)\n",
    "ax.set_xlabel(None)\n",
    "ax.xaxis.set_tick_params(labelrotation=90)\n",
    "ax.set_ylim((0.3, 1.0))\n",
    "ax.xaxis.set_ticklabels(ticklabels)\n",
    "\n",
    "fig.tight_layout()\n",
    "fig.savefig(analysis_dir / f\"metrics_{tag}_models_{metric.replace('/', '_')}.svg\", format=\"svg\")\n",
    "fig.savefig(analysis_dir / f\"metrics_{tag}_models_{metric.replace('/', '_')}.png\", dpi=300)"
   ]
  },
  {
   "cell_type": "markdown",
   "metadata": {},
   "source": [
    "## 2D split"
   ]
  },
  {
   "cell_type": "code",
   "execution_count": 21,
   "metadata": {
    "scrolled": true
   },
   "outputs": [
    {
     "data": {
      "image/png": "[encoded data removed]",
      "text/plain": [
       "<Figure size 280x200 with 1 Axes>"
      ]
     },
     "metadata": {},
     "output_type": "display_data"
    }
   ],
   "source": [
    "# choose the metric, i.e. accuracy or AUROC\n",
    "metric = \"val/balanced_accuracy_macro\"\n",
    "# choose the task (0D, 1D, or 2D)\n",
    "tag = \"2D\"\n",
    "# choose the colorscheme\n",
    "fill_color = (\n",
    "    135/256,\n",
    "    186/256,\n",
    "    112/256,\n",
    ")\n",
    "\n",
    "stroke_color = (92/256, 124/256, 76/256)\n",
    "\n",
    "# choose the data to plot\n",
    "run_groups = [\n",
    "    \"2023-09-24-110147_836449\",\n",
    "    \"2023-09-24-113901_714036\",\n",
    "    \"2023-09-24-182958_465266\",\n",
    "    \"2023-09-24-173355_686645\",\n",
    "    \"2023-09-25-002735_600282\",\n",
    "]\n",
    "ticklabels = [\"D-MPNN/CGR\", \"D-MPNN/RDKit\", \"FFN/FP\", \"FFN/RDKit\", \"FFN/OHE\"]\n",
    "\n",
    "\n",
    "# filter the data\n",
    "df_plot = df_all.loc[df_all['name'].apply(lambda x: any(x.startswith(q) for q in run_groups)),  [\"Model+Features\", metric]]\n",
    "# sort the values\n",
    "sort_dict = dict(zip(include_list, itertools.count()))\n",
    "df_plot = df_plot.sort_values(by=\"Model+Features\", kind=\"mergesort\", key=lambda x: x.map(sort_dict))\n",
    "\n",
    "# set plot\n",
    "fig, ax = plt.subplots(figsize=(2.8,2))\n",
    "sns.barplot(\n",
    "    ax=ax,\n",
    "    data=df_plot, \n",
    "    x=\"Model+Features\",\n",
    "    y=metric,\n",
    "    errorbar=errorbar,\n",
    "    errwidth=errwidth,\n",
    "    errcolor=errcolor,\n",
    "    capsize=capsize,\n",
    "    color=fill_color,\n",
    "    edgecolor=stroke_color,\n",
    "    linewidth=linewidth,\n",
    "    alpha=.8,\n",
    "    width=.7,\n",
    ")\n",
    "\n",
    "sns.stripplot(\n",
    "    ax=ax,\n",
    "    data=df_plot, \n",
    "              x=\"Model+Features\",\n",
    "              y=metric,\n",
    "              dodge=True,\n",
    "              edgecolor=stroke_color,\n",
    "              color=fill_color,\n",
    "              linewidth=.5,\n",
    "              legend=False,\n",
    "              marker=\"o\",\n",
    "              size=2.5,\n",
    "              alpha=.8\n",
    "             )\n",
    "\n",
    "ax.axhline(0.5, ls=\"--\", color=bode_palette.blue, linewidth=.7)\n",
    "ax.set_xlabel(None)\n",
    "ax.xaxis.set_tick_params(labelrotation=90)\n",
    "ax.set_ylim((0.3, 1.0))\n",
    "ax.xaxis.set_ticklabels(ticklabels)\n",
    "\n",
    "fig.tight_layout()\n",
    "fig.savefig(analysis_dir / f\"metrics_{tag}_models_{metric.replace('/', '_')}.svg\", format=\"svg\")\n",
    "fig.savefig(analysis_dir / f\"metrics_{tag}_models_{metric.replace('/', '_')}.png\", dpi=300)"
   ]
  },
  {
   "cell_type": "markdown",
   "metadata": {},
   "source": [
    "## 3D split"
   ]
  },
  {
   "cell_type": "code",
   "execution_count": 39,
   "metadata": {
    "scrolled": true
   },
   "outputs": [
    {
     "data": {
      "image/png": "[encoded data removed]",
      "text/plain": [
       "<Figure size 280x200 with 1 Axes>"
      ]
     },
     "metadata": {},
     "output_type": "display_data"
    }
   ],
   "source": [
    "# choose the metric, i.e. accuracy or AUROC\n",
    "metric = \"val/balanced_accuracy_macro\"\n",
    "# choose the task (0D, 1D, or 2D)\n",
    "tag = \"3D\"\n",
    "# choose the colorscheme\n",
    "fill_color = (198/256, 193/256, 80/256)\n",
    "\n",
    "stroke_color = (142/256, 136/256, 58/256)\n",
    "\n",
    "# choose the data to plot\n",
    "run_groups = [\n",
    "    \"2023-09-26-114651_772025\",\n",
    "    \"2023-09-24-115110_933630\",\n",
    "    \"2023-09-24-183739_809632\",\n",
    "    \"2023-09-24-174317_913810\",\n",
    "    \"2023-09-26-132606_155550\",\n",
    "]\n",
    "ticklabels = [\"D-MPNN/CGR\", \"D-MPNN/RDKit\", \"FFN/FP\", \"FFN/RDKit\", \"FFN/OHE\"]\n",
    "\n",
    "\n",
    "# filter the data\n",
    "df_plot = df_all.loc[df_all['name'].apply(lambda x: any(x.startswith(q) for q in run_groups)),  [\"Model+Features\", metric]]\n",
    "# sort the values\n",
    "sort_dict = dict(zip(include_list, itertools.count()))\n",
    "df_plot = df_plot.sort_values(by=\"Model+Features\", kind=\"mergesort\", key=lambda x: x.map(sort_dict))\n",
    "\n",
    "# set plot\n",
    "fig, ax = plt.subplots(figsize=(2.8,2))\n",
    "sns.barplot(\n",
    "    ax=ax,\n",
    "    data=df_plot, \n",
    "    x=\"Model+Features\",\n",
    "    y=metric,\n",
    "    errorbar=errorbar,\n",
    "    errwidth=errwidth,\n",
    "    errcolor=errcolor,\n",
    "    capsize=capsize,\n",
    "    color=fill_color,\n",
    "    edgecolor=stroke_color,\n",
    "    linewidth=linewidth,\n",
    "    alpha=.8,\n",
    "    width=.7,\n",
    ")\n",
    "\n",
    "sns.stripplot(\n",
    "    ax=ax,\n",
    "    data=df_plot, \n",
    "              x=\"Model+Features\",\n",
    "              y=metric,\n",
    "              dodge=True,\n",
    "              edgecolor=stroke_color,\n",
    "              color=fill_color,\n",
    "              linewidth=.5,\n",
    "              legend=False,\n",
    "              marker=\"o\",\n",
    "              size=2.5,\n",
    "              alpha=.8\n",
    "             )\n",
    "\n",
    "ax.axhline(0.5, ls=\"--\", color=bode_palette.blue, linewidth=.7)\n",
    "ax.set_xlabel(None)\n",
    "ax.xaxis.set_tick_params(labelrotation=90)\n",
    "ax.set_ylim((0.3, 1.0))\n",
    "ax.xaxis.set_ticklabels(ticklabels)\n",
    "\n",
    "fig.tight_layout()\n",
    "fig.savefig(analysis_dir / f\"metrics_{tag}_models_{metric.replace('/', '_')}.svg\", format=\"svg\")\n",
    "fig.savefig(analysis_dir / f\"metrics_{tag}_models_{metric.replace('/', '_')}.png\", dpi=300)"
   ]
  }
 ],
 "metadata": {
  "kernelspec": {
   "display_name": "Python 3 (ipykernel)",
   "language": "python",
   "name": "python3"
  },
  "language_info": {
   "codemirror_mode": {
    "name": "ipython",
    "version": 3
   },
   "file_extension": ".py",
   "mimetype": "text/x-python",
   "name": "python",
   "nbconvert_exporter": "python",
   "pygments_lexer": "ipython3",
   "version": "3.11.5"
  }
 },
 "nbformat": 4,
 "nbformat_minor": 4
}
