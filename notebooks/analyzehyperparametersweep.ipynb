{
 "cells": [
  {
   "cell_type": "markdown",
   "id": "0",
   "metadata": {},
   "source": [
    "# Analyze Hyperparameter Sweeps\n",
    "Investigate best hyperparameters across different experiments."
   ]
  },
  {
   "cell_type": "code",
   "execution_count": null,
   "id": "1",
   "metadata": {},
   "outputs": [],
   "source": [
    "import pathlib\n",
    "import sys\n",
    "sys.path.append(str(pathlib.Path(\"__file__\").absolute().parents[1]))\n",
    "\n",
    "from sklearn.metrics import confusion_matrix, multilabel_confusion_matrix, accuracy_score, balanced_accuracy_score, roc_auc_score, precision_score, recall_score, f1_score\n",
    "from sklearn.preprocessing import LabelEncoder\n",
    "import matplotlib.pyplot as plt\n",
    "import plotly.graph_objects as go\n",
    "import numpy as np\n",
    "import pandas as pd\n",
    "import wandb\n",
    "\n",
    "from src.util.definitions import PRED_DIR, DATA_ROOT\n",
    "from utils import get_runs_as_list"
   ]
  },
  {
   "cell_type": "code",
   "execution_count": null,
   "id": "2",
   "metadata": {},
   "outputs": [],
   "source": [
    "summary_list, config_list, tag_list, name_list = get_runs_as_list(filters={\"jobType\": \"hparam_optimization\"})\n",
    "\n",
    "run_df = pd.json_normalize(config_list).merge(pd.json_normalize(summary_list), left_index=True, right_index=True)\n",
    "run_df[\"tags\"] = tag_list\n",
    "\n",
    "run_df.head()"
   ]
  },
  {
   "cell_type": "code",
   "execution_count": null,
   "id": "3",
   "metadata": {},
   "outputs": [],
   "source": [
    "# see the unique configurations\n",
    "architecture_cols = [\"name\", \"tags\", \"decoder.global_features\", \"training.task\", \"experiment_id\"]\n",
    "run_df[architecture_cols].applymap(lambda x: tuple(x) if isinstance(x, list) else x).drop_duplicates().sort_values(by=\"experiment_id\")"
   ]
  },
  {
   "cell_type": "code",
   "execution_count": null,
   "id": "4",
   "metadata": {},
   "outputs": [],
   "source": [
    "# reduce df to columns with differences\n",
    "nunique = run_df.applymap(lambda x: tuple(x) if isinstance(x, list) else x).nunique()\n",
    "cols_to_drop = nunique[nunique == 1].index\n",
    "run_df = run_df.drop(cols_to_drop, axis=1)"
   ]
  },
  {
   "cell_type": "code",
   "execution_count": null,
   "id": "5",
   "metadata": {},
   "outputs": [],
   "source": [
    "# get all runs belonging to a certain hyperparameter sweep\n",
    "run_df.loc[run_df[\"experiment_id\"] == \"JG1486\"].columns"
   ]
  },
  {
   "cell_type": "code",
   "execution_count": null,
   "id": "6",
   "metadata": {},
   "outputs": [],
   "source": [
    "df_plot = run_df.loc[run_df[\"experiment_id\"] == \"JG1130\"]"
   ]
  },
  {
   "cell_type": "code",
   "execution_count": null,
   "id": "7",
   "metadata": {},
   "outputs": [],
   "source": [
    "# FFN hparams\n",
    "fig = go.Figure(data=\n",
    "   go.Parcoords(\n",
    "       line = dict(color = df_plot['val/avgPrecision_macro'],\n",
    "           colorscale = 'Electric',\n",
    "           showscale = True,\n",
    "           cmin = 0.85,\n",
    "           cmax = 1.0),\n",
    "       dimensions = list([\n",
    "           dict(range = [16, 512],\n",
    "                label = 'dec.hidden_size', values = df_plot['decoder.hidden_size']),\n",
    "           dict(range = [1, 3],\n",
    "                label = 'dec.depth', values = df_plot['decoder.depth']),\n",
    "           dict(range = [5e-5, 5e-3],\n",
    "                label = 'learning_rate', values = df_plot['optimizer.lr'], tickformat = '.1e'),\n",
    "           # Add more variables as needed\n",
    "       ])\n",
    "   )\n",
    ")\n",
    "fig.show()\n"
   ]
  },
  {
   "cell_type": "code",
   "execution_count": null,
   "id": "8",
   "metadata": {},
   "outputs": [],
   "source": [
    "# XGB hparams\n",
    "fig = go.Figure(data=\n",
    "   go.Parcoords(\n",
    "       line = dict(color = df_plot['val/avgPrecision_macro'],\n",
    "           colorscale = 'Electric',\n",
    "           showscale = True,\n",
    "           cmin = 0.93,\n",
    "           cmax = 1.0),\n",
    "       dimensions = list([\n",
    "           dict(range = [1e-4, 10],\n",
    "                label = 'gamma', values = df_plot['decoder.gamma'], tickformat = '.1e'),\n",
    "           dict(range = [1e-3, 1],\n",
    "                label = 'learning_rate', values = df_plot['decoder.learning_rate'], tickformat = '.1e'),\n",
    "           dict(range = [1e-4, 10],\n",
    "                label = 'L1 regularization', values = df_plot['decoder.reg_alpha'], tickformat = '.1e'),\n",
    "           dict(range = [1e-4, 10],\n",
    "                label = 'L2 regularization', values = df_plot['decoder.reg_lambda'], tickformat = '.1e'),\n",
    "       ])\n",
    "   )\n",
    ")\n",
    "fig.show()\n"
   ]
  },
  {
   "cell_type": "code",
   "execution_count": null,
   "id": "9",
   "metadata": {},
   "outputs": [],
   "source": [
    "# just look at the best hparams now\n",
    "\n",
    "summary_list, config_list, tag_list, name_list = get_runs_as_list(filters={\"jobType\": \"hparam_best\"})\n",
    "\n",
    "run_df = pd.json_normalize(config_list).merge(pd.json_normalize(summary_list), left_index=True, right_index=True)\n",
    "run_df[\"tags\"] = tag_list\n",
    "run_df[\"run_id\"] = name_list\n",
    "run_df[\"run_group\"] = [s.rsplit(\"_\", maxsplit=1)[0] for s in name_list]\n",
    "run_df[\"Model+Features\"] = run_df[\"name\"] + \"/\" + run_df[\"decoder.global_features\"].str.join(\"+\").str.replace(\"None\", \"CGR\")\n",
    "\n",
    "run_df.head()"
   ]
  },
  {
   "cell_type": "code",
   "execution_count": null,
   "id": "10",
   "metadata": {},
   "outputs": [],
   "source": [
    "# only look at the hyperparameters now\n",
    "hparams = run_df.drop_duplicates(subset=\"experiment_id\")[\n",
    "    [\"experiment_id\", \n",
    "     \"encoder.depth\",  # all GNNs\n",
    "     \"encoder.hidden_size\",  # all GNNs\n",
    "     \"decoder.depth\",  # all NNs\n",
    "     \"decoder.hidden_size\",  # all NNs\n",
    "     \"optimizer.lr\",  # all NNs\n",
    "     \"decoder.gamma\",  # XGB\n",
    "     \"decoder.learning_rate\",  # XGB\n",
    "     \"decoder.reg_alpha\",  # XGB\n",
    "     \"decoder.reg_lambda\",  # XGB\n",
    "     \"decoder.C\",  # Logistic Regression\n",
    "    ]]\n",
    "hparams.head()"
   ]
  },
  {
   "cell_type": "code",
   "execution_count": null,
   "id": "11",
   "metadata": {},
   "outputs": [],
   "source": [
    "hparams.query(\"experiment_id == 'JG1131'\").squeeze()"
   ]
  },
  {
   "cell_type": "code",
   "execution_count": null,
   "id": "12",
   "metadata": {},
   "outputs": [],
   "source": [
    "def get_hparams(experiment_id):\n",
    "    flexible_hparams = {\n",
    "        \"D-MPNN\": [\n",
    "            \"encoder.depth\",\n",
    "            \"encoder.hidden_size\",\n",
    "            \"decoder.depth\",\n",
    "            \"decoder.hidden_size\",\n",
    "            \"optimizer.lr\",\n",
    "        ],\n",
    "        \"GCN\": [\n",
    "            \"encoder.depth\",\n",
    "            \"encoder.hidden_size\",\n",
    "            \"decoder.depth\",\n",
    "            \"decoder.hidden_size\",\n",
    "            \"optimizer.lr\",\n",
    "        ],\n",
    "        \"AttentiveFP\": [\n",
    "            \"encoder.depth\",\n",
    "            \"encoder.hidden_size\",\n",
    "            \"decoder.depth\",\n",
    "            \"decoder.hidden_size\",\n",
    "            \"optimizer.lr\",\n",
    "        ],\n",
    "        \"GraphSAGE\": [\n",
    "            \"encoder.depth\",\n",
    "            \"encoder.hidden_size\",\n",
    "            \"decoder.depth\",\n",
    "            \"decoder.hidden_size\",\n",
    "            \"optimizer.lr\",\n",
    "        ],\n",
    "        \"FFN\": [\n",
    "            \"decoder.depth\",\n",
    "            \"decoder.hidden_size\",\n",
    "            \"optimizer.lr\",\n",
    "        ],\n",
    "        \"XGB\": [\n",
    "            \"decoder.gamma\",\n",
    "            \"decoder.learning_rate\",\n",
    "            \"decoder.reg_alpha\",\n",
    "            \"decoder.reg_lambda\",\n",
    "        ],\n",
    "        \"LogisticRegression\": [\n",
    "            \"decoder.C\",\n",
    "        ],\n",
    "    }\n",
    "    api = wandb.Api()\n",
    "    runs = api.runs(\"jugoetz/synferm-predictions\", filters={\"$and\": [{\"config.experiment_id\": experiment_id}, {\"jobType\": \"hparam_best\"}]})\n",
    "\n",
    "    config = { # we use the fact that all runs with one experiment_id have identical hparams\n",
    "            k: v for k,v in pd.json_normalize(runs[0].config, sep=\".\").to_dict(orient='records')[0].items()\n",
    "         if k in flexible_hparams[runs[0].config[\"name\"]]\n",
    "        }\n",
    "    \n",
    "    return config"
   ]
  },
  {
   "cell_type": "code",
   "execution_count": null,
   "id": "13",
   "metadata": {},
   "outputs": [],
   "source": [
    "get_hparams(\"JG1486\")"
   ]
  },
  {
   "cell_type": "code",
   "execution_count": null,
   "id": "14",
   "metadata": {},
   "outputs": [],
   "source": [
    "data = []\n",
    "for i in range(0,60):\n",
    "    exp_id = f\"JG11{i:02}\"\n",
    "    exp_data = {\"experiment_id\": exp_id}\n",
    "    exp_data.update(get_hparams(exp_id))\n",
    "    data.append(exp_data)\n",
    "hparams = pd.DataFrame(data).convert_dtypes()"
   ]
  },
  {
   "cell_type": "code",
   "execution_count": null,
   "id": "15",
   "metadata": {},
   "outputs": [],
   "source": [
    "hparams = hparams.convert_dtypes()"
   ]
  },
  {
   "cell_type": "code",
   "execution_count": null,
   "id": "16",
   "metadata": {},
   "outputs": [],
   "source": [
    "# look at LogReg runs only\n",
    "logreg = hparams.loc[~hparams[\"decoder.C\"].isnull()].dropna(axis=1)\n",
    "logreg"
   ]
  },
  {
   "cell_type": "code",
   "execution_count": null,
   "id": "17",
   "metadata": {},
   "outputs": [],
   "source": [
    "# look at XGB runs only\n",
    "xgb = hparams.loc[~hparams[\"decoder.gamma\"].isnull()].dropna(axis=1)\n",
    "xgb"
   ]
  },
  {
   "cell_type": "code",
   "execution_count": null,
   "id": "18",
   "metadata": {},
   "outputs": [],
   "source": [
    "pd.plotting.parallel_coordinates(xgb, \"experiment_id\")"
   ]
  },
  {
   "cell_type": "code",
   "execution_count": null,
   "id": "19",
   "metadata": {},
   "outputs": [],
   "source": [
    "# look at FFN runs only\n",
    "ffn = hparams.loc[(~hparams[\"optimizer.lr\"].isnull()) & hparams[\"encoder.depth\"].isnull()].dropna(axis=1)\n",
    "ffn"
   ]
  },
  {
   "cell_type": "code",
   "execution_count": null,
   "id": "20",
   "metadata": {},
   "outputs": [],
   "source": [
    "# look at (all) GNN runs only\n",
    "gnn = hparams.loc[~hparams[\"encoder.depth\"].isnull()].dropna(axis=1)\n",
    "gnn"
   ]
  },
  {
   "cell_type": "code",
   "execution_count": null,
   "id": "21",
   "metadata": {},
   "outputs": [],
   "source": [
    "pd.plotting.parallel_coordinates(gnn, \"experiment_id\")"
   ]
  },
  {
   "cell_type": "code",
   "execution_count": null,
   "id": "22",
   "metadata": {},
   "outputs": [],
   "source": []
  }
 ],
 "metadata": {
  "kernelspec": {
   "display_name": "Python 3 (ipykernel)",
   "language": "python",
   "name": "python3"
  },
  "language_info": {
   "codemirror_mode": {
    "name": "ipython",
    "version": 3
   },
   "file_extension": ".py",
   "mimetype": "text/x-python",
   "name": "python",
   "nbconvert_exporter": "python",
   "pygments_lexer": "ipython3",
   "version": "3.11.5"
  }
 },
 "nbformat": 4,
 "nbformat_minor": 5
}
