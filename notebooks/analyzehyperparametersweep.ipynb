{
 "cells": [
  {
   "cell_type": "markdown",
   "id": "2c7e9aa7-25a0-4a65-afee-530483474112",
   "metadata": {},
   "source": [
    "# Analyze Hyperparameter Sweeps"
   ]
  },
  {
   "cell_type": "code",
   "execution_count": 30,
   "id": "6127dafb-0704-42e8-98d8-e2b54d2832ab",
   "metadata": {},
   "outputs": [],
   "source": [
    "import pathlib\n",
    "import sys\n",
    "sys.path.append(str(pathlib.Path(\"__file__\").absolute().parents[1]))\n",
    "\n",
    "from sklearn.metrics import confusion_matrix, multilabel_confusion_matrix, accuracy_score, balanced_accuracy_score, roc_auc_score, precision_score, recall_score, f1_score\n",
    "from sklearn.preprocessing import LabelEncoder\n",
    "import matplotlib.pyplot as plt\n",
    "import plotly.graph_objects as go\n",
    "import numpy as np\n",
    "import pandas as pd\n",
    "import wandb\n",
    "\n",
    "from src.util.definitions import PRED_DIR, DATA_ROOT\n",
    "from utils import get_runs_as_list"
   ]
  },
  {
   "cell_type": "code",
   "execution_count": 29,
   "id": "b0a9e95d-a175-4809-8f70-0e66fd520705",
   "metadata": {},
   "outputs": [
    {
     "data": {
      "text/html": [
       "<div>\n",
       "<style scoped>\n",
       "    .dataframe tbody tr th:only-of-type {\n",
       "        vertical-align: middle;\n",
       "    }\n",
       "\n",
       "    .dataframe tbody tr th {\n",
       "        vertical-align: top;\n",
       "    }\n",
       "\n",
       "    .dataframe thead th {\n",
       "        text-align: right;\n",
       "    }\n",
       "</style>\n",
       "<table border=\"1\" class=\"dataframe\">\n",
       "  <thead>\n",
       "    <tr style=\"text-align: right;\">\n",
       "      <th></th>\n",
       "      <th>name</th>\n",
       "      <th>run_id</th>\n",
       "      <th>run_group</th>\n",
       "      <th>num_labels</th>\n",
       "      <th>accelerator</th>\n",
       "      <th>target_names</th>\n",
       "      <th>data_hash_key</th>\n",
       "      <th>experiment_id</th>\n",
       "      <th>label_binarizer</th>\n",
       "      <th>atom_feature_size</th>\n",
       "      <th>...</th>\n",
       "      <th>val/f1_micro</th>\n",
       "      <th>train/auroc_target_binary_B</th>\n",
       "      <th>train/f1_micro</th>\n",
       "      <th>val/auroc_macro</th>\n",
       "      <th>val/auroc_target_binary_A</th>\n",
       "      <th>train/auroc_macro</th>\n",
       "      <th>train/auroc_target_binary_A</th>\n",
       "      <th>train/auroc_target_binary_C</th>\n",
       "      <th>val/auroc_target_binary_C</th>\n",
       "      <th>tags</th>\n",
       "    </tr>\n",
       "  </thead>\n",
       "  <tbody>\n",
       "    <tr>\n",
       "      <th>0</th>\n",
       "      <td>FFN</td>\n",
       "      <td>2023-11-14-190224_518314_fold3</td>\n",
       "      <td>2023-11-14-190224_518314</td>\n",
       "      <td>3</td>\n",
       "      <td>gpu</td>\n",
       "      <td>[binary_A, binary_B, binary_C]</td>\n",
       "      <td>bf5dd14a</td>\n",
       "      <td>JG1161</td>\n",
       "      <td>LabelBinarizer()</td>\n",
       "      <td>66</td>\n",
       "      <td>...</td>\n",
       "      <td>NaN</td>\n",
       "      <td>NaN</td>\n",
       "      <td>NaN</td>\n",
       "      <td>NaN</td>\n",
       "      <td>NaN</td>\n",
       "      <td>NaN</td>\n",
       "      <td>NaN</td>\n",
       "      <td>NaN</td>\n",
       "      <td>NaN</td>\n",
       "      <td>(1D_80,)</td>\n",
       "    </tr>\n",
       "    <tr>\n",
       "      <th>1</th>\n",
       "      <td>FFN</td>\n",
       "      <td>2023-11-14-190224_518314_fold2</td>\n",
       "      <td>2023-11-14-190224_518314</td>\n",
       "      <td>3</td>\n",
       "      <td>gpu</td>\n",
       "      <td>[binary_A, binary_B, binary_C]</td>\n",
       "      <td>bf5dd14a</td>\n",
       "      <td>JG1161</td>\n",
       "      <td>LabelBinarizer()</td>\n",
       "      <td>66</td>\n",
       "      <td>...</td>\n",
       "      <td>NaN</td>\n",
       "      <td>NaN</td>\n",
       "      <td>NaN</td>\n",
       "      <td>NaN</td>\n",
       "      <td>NaN</td>\n",
       "      <td>NaN</td>\n",
       "      <td>NaN</td>\n",
       "      <td>NaN</td>\n",
       "      <td>NaN</td>\n",
       "      <td>(1D_80,)</td>\n",
       "    </tr>\n",
       "    <tr>\n",
       "      <th>2</th>\n",
       "      <td>FFN</td>\n",
       "      <td>2023-11-14-190224_518314_fold1</td>\n",
       "      <td>2023-11-14-190224_518314</td>\n",
       "      <td>3</td>\n",
       "      <td>gpu</td>\n",
       "      <td>[binary_A, binary_B, binary_C]</td>\n",
       "      <td>bf5dd14a</td>\n",
       "      <td>JG1161</td>\n",
       "      <td>LabelBinarizer()</td>\n",
       "      <td>66</td>\n",
       "      <td>...</td>\n",
       "      <td>NaN</td>\n",
       "      <td>NaN</td>\n",
       "      <td>NaN</td>\n",
       "      <td>NaN</td>\n",
       "      <td>NaN</td>\n",
       "      <td>NaN</td>\n",
       "      <td>NaN</td>\n",
       "      <td>NaN</td>\n",
       "      <td>NaN</td>\n",
       "      <td>(1D_80,)</td>\n",
       "    </tr>\n",
       "    <tr>\n",
       "      <th>3</th>\n",
       "      <td>FFN</td>\n",
       "      <td>2023-11-14-190224_518314_fold0</td>\n",
       "      <td>2023-11-14-190224_518314</td>\n",
       "      <td>3</td>\n",
       "      <td>gpu</td>\n",
       "      <td>[binary_A, binary_B, binary_C]</td>\n",
       "      <td>bf5dd14a</td>\n",
       "      <td>JG1161</td>\n",
       "      <td>LabelBinarizer()</td>\n",
       "      <td>66</td>\n",
       "      <td>...</td>\n",
       "      <td>NaN</td>\n",
       "      <td>NaN</td>\n",
       "      <td>NaN</td>\n",
       "      <td>NaN</td>\n",
       "      <td>NaN</td>\n",
       "      <td>NaN</td>\n",
       "      <td>NaN</td>\n",
       "      <td>NaN</td>\n",
       "      <td>NaN</td>\n",
       "      <td>(1D_80,)</td>\n",
       "    </tr>\n",
       "    <tr>\n",
       "      <th>4</th>\n",
       "      <td>FFN</td>\n",
       "      <td>2023-11-14-184035_856868_fold8</td>\n",
       "      <td>2023-11-14-184035_856868</td>\n",
       "      <td>3</td>\n",
       "      <td>gpu</td>\n",
       "      <td>[binary_A, binary_B, binary_C]</td>\n",
       "      <td>bf5dd14a</td>\n",
       "      <td>JG1161</td>\n",
       "      <td>LabelBinarizer()</td>\n",
       "      <td>66</td>\n",
       "      <td>...</td>\n",
       "      <td>NaN</td>\n",
       "      <td>NaN</td>\n",
       "      <td>NaN</td>\n",
       "      <td>NaN</td>\n",
       "      <td>NaN</td>\n",
       "      <td>NaN</td>\n",
       "      <td>NaN</td>\n",
       "      <td>NaN</td>\n",
       "      <td>NaN</td>\n",
       "      <td>(1D_80,)</td>\n",
       "    </tr>\n",
       "  </tbody>\n",
       "</table>\n",
       "<p>5 rows × 121 columns</p>\n",
       "</div>"
      ],
      "text/plain": [
       "  name                          run_id                 run_group  num_labels  \\\n",
       "0  FFN  2023-11-14-190224_518314_fold3  2023-11-14-190224_518314           3   \n",
       "1  FFN  2023-11-14-190224_518314_fold2  2023-11-14-190224_518314           3   \n",
       "2  FFN  2023-11-14-190224_518314_fold1  2023-11-14-190224_518314           3   \n",
       "3  FFN  2023-11-14-190224_518314_fold0  2023-11-14-190224_518314           3   \n",
       "4  FFN  2023-11-14-184035_856868_fold8  2023-11-14-184035_856868           3   \n",
       "\n",
       "  accelerator                    target_names data_hash_key experiment_id  \\\n",
       "0         gpu  [binary_A, binary_B, binary_C]      bf5dd14a        JG1161   \n",
       "1         gpu  [binary_A, binary_B, binary_C]      bf5dd14a        JG1161   \n",
       "2         gpu  [binary_A, binary_B, binary_C]      bf5dd14a        JG1161   \n",
       "3         gpu  [binary_A, binary_B, binary_C]      bf5dd14a        JG1161   \n",
       "4         gpu  [binary_A, binary_B, binary_C]      bf5dd14a        JG1161   \n",
       "\n",
       "    label_binarizer  atom_feature_size  ...  val/f1_micro  \\\n",
       "0  LabelBinarizer()                 66  ...           NaN   \n",
       "1  LabelBinarizer()                 66  ...           NaN   \n",
       "2  LabelBinarizer()                 66  ...           NaN   \n",
       "3  LabelBinarizer()                 66  ...           NaN   \n",
       "4  LabelBinarizer()                 66  ...           NaN   \n",
       "\n",
       "   train/auroc_target_binary_B train/f1_micro  val/auroc_macro  \\\n",
       "0                          NaN            NaN              NaN   \n",
       "1                          NaN            NaN              NaN   \n",
       "2                          NaN            NaN              NaN   \n",
       "3                          NaN            NaN              NaN   \n",
       "4                          NaN            NaN              NaN   \n",
       "\n",
       "  val/auroc_target_binary_A train/auroc_macro train/auroc_target_binary_A  \\\n",
       "0                       NaN               NaN                         NaN   \n",
       "1                       NaN               NaN                         NaN   \n",
       "2                       NaN               NaN                         NaN   \n",
       "3                       NaN               NaN                         NaN   \n",
       "4                       NaN               NaN                         NaN   \n",
       "\n",
       "   train/auroc_target_binary_C  val/auroc_target_binary_C      tags  \n",
       "0                          NaN                        NaN  (1D_80,)  \n",
       "1                          NaN                        NaN  (1D_80,)  \n",
       "2                          NaN                        NaN  (1D_80,)  \n",
       "3                          NaN                        NaN  (1D_80,)  \n",
       "4                          NaN                        NaN  (1D_80,)  \n",
       "\n",
       "[5 rows x 121 columns]"
      ]
     },
     "execution_count": 29,
     "metadata": {},
     "output_type": "execute_result"
    }
   ],
   "source": [
    "summary_list, config_list, tag_list, name_list = get_runs_as_list(filters={\"jobType\": \"hparam_optimization\"})\n",
    "\n",
    "run_df = pd.json_normalize(config_list).merge(pd.json_normalize(summary_list), left_index=True, right_index=True)\n",
    "run_df[\"tags\"] = tag_list\n",
    "\n",
    "run_df.head()"
   ]
  },
  {
   "cell_type": "code",
   "execution_count": null,
   "id": "6f42ed17-9e0a-43b3-a1e4-b52f6f038202",
   "metadata": {
    "scrolled": true
   },
   "outputs": [],
   "source": [
    "# see the unique configurations\n",
    "architecture_cols = [\"name\", \"tags\", \"decoder.global_features\", \"training.task\", \"experiment_id\"]\n",
    "run_df[architecture_cols].applymap(lambda x: tuple(x) if isinstance(x, list) else x).drop_duplicates().sort_values(by=\"experiment_id\")"
   ]
  },
  {
   "cell_type": "code",
   "execution_count": null,
   "id": "e9a4bb48-9bd7-498b-a3ce-f5c13bd657b4",
   "metadata": {},
   "outputs": [],
   "source": [
    "# reduce df to columns with differences\n",
    "nunique = run_df.applymap(lambda x: tuple(x) if isinstance(x, list) else x).nunique()\n",
    "cols_to_drop = nunique[nunique == 1].index\n",
    "run_df = run_df.drop(cols_to_drop, axis=1)"
   ]
  },
  {
   "cell_type": "code",
   "execution_count": 21,
   "id": "a9813af6-f266-46e3-9e1a-d42f2d87a5a5",
   "metadata": {},
   "outputs": [
    {
     "data": {
      "text/plain": [
       "Index(['name', 'run_id', 'run_group', 'accelerator', 'data_hash_key',\n",
       "       'experiment_id', 'global_feature_size', 'decoder.depth',\n",
       "       'decoder.hidden_size', 'decoder.dropout_ratio',\n",
       "       'decoder.global_features', 'encoder.depth', 'encoder.graph_type',\n",
       "       'encoder.hidden_size', 'encoder.dropout_ratio', 'optimizer.lr',\n",
       "       'optimizer.lr_scheduler.lr_min', 'decoder.gamma', 'decoder.reg_alpha',\n",
       "       'decoder.reg_lambda', 'decoder.learning_rate',\n",
       "       'global_featurizer_state_dict_path', 'decoder.C', 'train/f1_macro',\n",
       "       'val/recall_target_binary_B', 'val/precision_target_binary_C',\n",
       "       'val/precision_macro', 'train/avgPrecision_macro',\n",
       "       'train/f1_target_binary_A', 'val/balanced_accuracy_macro',\n",
       "       'train/precision_target_binary_C', 'train/loss',\n",
       "       'val/precision_target_binary_A', 'val/avgPrecision_target_binary_B',\n",
       "       'val/balanced_accuracy_target_binary_A', 'train/precision_macro',\n",
       "       'train/recall_target_binary_A', 'val/accuracy_target_binary_A',\n",
       "       'train/precision_target_binary_A',\n",
       "       'val/balanced_accuracy_target_binary_B', 'val/loss', 'val/f1_macro',\n",
       "       'val/f1_target_binary_B', 'train/f1_target_binary_B',\n",
       "       'train/recall_target_binary_C', 'val/accuracy_target_binary_C',\n",
       "       'val/recall_macro', 'train/f1_target_binary_C',\n",
       "       'train/recall_target_binary_B', 'val/accuracy_target_binary_B',\n",
       "       'train/balanced_accuracy_macro', 'val/avgPrecision_target_binary_C',\n",
       "       '_step', '_runtime', 'train/accuracy_macro',\n",
       "       'train/accuracy_target_binary_C',\n",
       "       'train/balanced_accuracy_target_binary_A', 'val/f1_target_binary_A',\n",
       "       'train/balanced_accuracy_target_binary_B', '_timestamp',\n",
       "       'train/recall_macro', 'val/avgPrecision_macro',\n",
       "       'train/accuracy_target_binary_A', 'val/accuracy_macro',\n",
       "       'train/precision_target_binary_B', 'train/avgPrecision_target_binary_C',\n",
       "       'train/balanced_accuracy_target_binary_C',\n",
       "       'train/avgPrecision_target_binary_A', 'train/accuracy_target_binary_B',\n",
       "       'val/f1_target_binary_C', 'val/recall_target_binary_A',\n",
       "       'val/recall_target_binary_C', 'train/avgPrecision_target_binary_B',\n",
       "       'val/precision_target_binary_B', 'val/avgPrecision_target_binary_A',\n",
       "       'val/balanced_accuracy_target_binary_C', '_wandb.runtime',\n",
       "       'train/loss_target_binary_A', 'val/loss_target_binary_B',\n",
       "       'val/loss_target_binary_A', 'train/loss_target_binary_C',\n",
       "       'val/loss_target_binary_C', 'train/loss_target_binary_B',\n",
       "       'train/f1_micro', 'val/auroc_target_binary_A',\n",
       "       'train/auroc_target_binary_B', 'train/auroc_target_binary_C',\n",
       "       'train/auroc_macro', 'val/auroc_target_binary_C',\n",
       "       'train/auroc_target_binary_A', 'val/auroc_macro', 'val/f1_micro',\n",
       "       'val/auroc_target_binary_B', 'tags'],\n",
       "      dtype='object')"
      ]
     },
     "execution_count": 21,
     "metadata": {},
     "output_type": "execute_result"
    }
   ],
   "source": [
    "# get all runs belonging to a certain hyperparameter sweep\n",
    "run_df.loc[run_df[\"experiment_id\"] == \"JG1111\"].columns"
   ]
  },
  {
   "cell_type": "code",
   "execution_count": 35,
   "id": "975a0d7d-566c-4f2a-ac8d-2146ff5f722a",
   "metadata": {},
   "outputs": [],
   "source": [
    "df_plot = run_df.loc[run_df[\"experiment_id\"] == \"JG1130\"]"
   ]
  },
  {
   "cell_type": "code",
   "execution_count": 33,
   "id": "8e44e1f7-c1ac-4154-9535-d84e0906f2cd",
   "metadata": {},
   "outputs": [
    {
     "data": {
      "application/vnd.plotly.v1+json": {
       "config": {
        "plotlyServerURL": "https://plot.ly"
       },
       "data": [
        {
         "dimensions": [
          {
           "label": "dec.hidden_size",
           "range": [
            16,
            512
           ],
           "values": [
            null,
            null,
            null,
            null,
            null,
            null,
            null,
            null,
            null
           ]
          },
          {
           "label": "dec.depth",
           "range": [
            1,
            3
           ],
           "values": [
            null,
            null,
            null,
            null,
            null,
            null,
            null,
            null,
            null
           ]
          },
          {
           "label": "learning_rate",
           "range": [
            5e-05,
            0.005
           ],
           "tickformat": ".1e",
           "values": [
            null,
            null,
            null,
            null,
            null,
            null,
            null,
            null,
            null
           ]
          }
         ],
         "line": {
          "cmax": 1,
          "cmin": 0.85,
          "color": [
           0.8002238179301998,
           0.580157767901165,
           0.8145170378378506,
           0.7823222664895887,
           0.975584872830634,
           0.7453847263330212,
           0.7383961337283192,
           0.9200195509784898,
           0.757138013915299
          ],
          "colorscale": [
           [
            0,
            "rgb(0, 0, 0)"
           ],
           [
            0.2,
            "rgb(30,0,100)"
           ],
           [
            0.4,
            "rgb(120,0,100)"
           ],
           [
            0.6,
            "rgb(160,90,0)"
           ],
           [
            0.8,
            "rgb(230,200,0)"
           ],
           [
            1,
            "rgb(255,250,220)"
           ]
          ],
          "showscale": true
         },
         "type": "parcoords"
        }
       ],
       "layout": {
        "autosize": true,
        "template": {
         "data": {
          "bar": [
           {
            "error_x": {
             "color": "#2a3f5f"
            },
            "error_y": {
             "color": "#2a3f5f"
            },
            "marker": {
             "line": {
              "color": "#E5ECF6",
              "width": 0.5
             },
             "pattern": {
              "fillmode": "overlay",
              "size": 10,
              "solidity": 0.2
             }
            },
            "type": "bar"
           }
          ],
          "barpolar": [
           {
            "marker": {
             "line": {
              "color": "#E5ECF6",
              "width": 0.5
             },
             "pattern": {
              "fillmode": "overlay",
              "size": 10,
              "solidity": 0.2
             }
            },
            "type": "barpolar"
           }
          ],
          "carpet": [
           {
            "aaxis": {
             "endlinecolor": "#2a3f5f",
             "gridcolor": "white",
             "linecolor": "white",
             "minorgridcolor": "white",
             "startlinecolor": "#2a3f5f"
            },
            "baxis": {
             "endlinecolor": "#2a3f5f",
             "gridcolor": "white",
             "linecolor": "white",
             "minorgridcolor": "white",
             "startlinecolor": "#2a3f5f"
            },
            "type": "carpet"
           }
          ],
          "choropleth": [
           {
            "colorbar": {
             "outlinewidth": 0,
             "ticks": ""
            },
            "type": "choropleth"
           }
          ],
          "contour": [
           {
            "colorbar": {
             "outlinewidth": 0,
             "ticks": ""
            },
            "colorscale": [
             [
              0,
              "#0d0887"
             ],
             [
              0.1111111111111111,
              "#46039f"
             ],
             [
              0.2222222222222222,
              "#7201a8"
             ],
             [
              0.3333333333333333,
              "#9c179e"
             ],
             [
              0.4444444444444444,
              "#bd3786"
             ],
             [
              0.5555555555555556,
              "#d8576b"
             ],
             [
              0.6666666666666666,
              "#ed7953"
             ],
             [
              0.7777777777777778,
              "#fb9f3a"
             ],
             [
              0.8888888888888888,
              "#fdca26"
             ],
             [
              1,
              "#f0f921"
             ]
            ],
            "type": "contour"
           }
          ],
          "contourcarpet": [
           {
            "colorbar": {
             "outlinewidth": 0,
             "ticks": ""
            },
            "type": "contourcarpet"
           }
          ],
          "heatmap": [
           {
            "colorbar": {
             "outlinewidth": 0,
             "ticks": ""
            },
            "colorscale": [
             [
              0,
              "#0d0887"
             ],
             [
              0.1111111111111111,
              "#46039f"
             ],
             [
              0.2222222222222222,
              "#7201a8"
             ],
             [
              0.3333333333333333,
              "#9c179e"
             ],
             [
              0.4444444444444444,
              "#bd3786"
             ],
             [
              0.5555555555555556,
              "#d8576b"
             ],
             [
              0.6666666666666666,
              "#ed7953"
             ],
             [
              0.7777777777777778,
              "#fb9f3a"
             ],
             [
              0.8888888888888888,
              "#fdca26"
             ],
             [
              1,
              "#f0f921"
             ]
            ],
            "type": "heatmap"
           }
          ],
          "heatmapgl": [
           {
            "colorbar": {
             "outlinewidth": 0,
             "ticks": ""
            },
            "colorscale": [
             [
              0,
              "#0d0887"
             ],
             [
              0.1111111111111111,
              "#46039f"
             ],
             [
              0.2222222222222222,
              "#7201a8"
             ],
             [
              0.3333333333333333,
              "#9c179e"
             ],
             [
              0.4444444444444444,
              "#bd3786"
             ],
             [
              0.5555555555555556,
              "#d8576b"
             ],
             [
              0.6666666666666666,
              "#ed7953"
             ],
             [
              0.7777777777777778,
              "#fb9f3a"
             ],
             [
              0.8888888888888888,
              "#fdca26"
             ],
             [
              1,
              "#f0f921"
             ]
            ],
            "type": "heatmapgl"
           }
          ],
          "histogram": [
           {
            "marker": {
             "pattern": {
              "fillmode": "overlay",
              "size": 10,
              "solidity": 0.2
             }
            },
            "type": "histogram"
           }
          ],
          "histogram2d": [
           {
            "colorbar": {
             "outlinewidth": 0,
             "ticks": ""
            },
            "colorscale": [
             [
              0,
              "#0d0887"
             ],
             [
              0.1111111111111111,
              "#46039f"
             ],
             [
              0.2222222222222222,
              "#7201a8"
             ],
             [
              0.3333333333333333,
              "#9c179e"
             ],
             [
              0.4444444444444444,
              "#bd3786"
             ],
             [
              0.5555555555555556,
              "#d8576b"
             ],
             [
              0.6666666666666666,
              "#ed7953"
             ],
             [
              0.7777777777777778,
              "#fb9f3a"
             ],
             [
              0.8888888888888888,
              "#fdca26"
             ],
             [
              1,
              "#f0f921"
             ]
            ],
            "type": "histogram2d"
           }
          ],
          "histogram2dcontour": [
           {
            "colorbar": {
             "outlinewidth": 0,
             "ticks": ""
            },
            "colorscale": [
             [
              0,
              "#0d0887"
             ],
             [
              0.1111111111111111,
              "#46039f"
             ],
             [
              0.2222222222222222,
              "#7201a8"
             ],
             [
              0.3333333333333333,
              "#9c179e"
             ],
             [
              0.4444444444444444,
              "#bd3786"
             ],
             [
              0.5555555555555556,
              "#d8576b"
             ],
             [
              0.6666666666666666,
              "#ed7953"
             ],
             [
              0.7777777777777778,
              "#fb9f3a"
             ],
             [
              0.8888888888888888,
              "#fdca26"
             ],
             [
              1,
              "#f0f921"
             ]
            ],
            "type": "histogram2dcontour"
           }
          ],
          "mesh3d": [
           {
            "colorbar": {
             "outlinewidth": 0,
             "ticks": ""
            },
            "type": "mesh3d"
           }
          ],
          "parcoords": [
           {
            "line": {
             "colorbar": {
              "outlinewidth": 0,
              "ticks": ""
             }
            },
            "type": "parcoords"
           }
          ],
          "pie": [
           {
            "automargin": true,
            "type": "pie"
           }
          ],
          "scatter": [
           {
            "fillpattern": {
             "fillmode": "overlay",
             "size": 10,
             "solidity": 0.2
            },
            "type": "scatter"
           }
          ],
          "scatter3d": [
           {
            "line": {
             "colorbar": {
              "outlinewidth": 0,
              "ticks": ""
             }
            },
            "marker": {
             "colorbar": {
              "outlinewidth": 0,
              "ticks": ""
             }
            },
            "type": "scatter3d"
           }
          ],
          "scattercarpet": [
           {
            "marker": {
             "colorbar": {
              "outlinewidth": 0,
              "ticks": ""
             }
            },
            "type": "scattercarpet"
           }
          ],
          "scattergeo": [
           {
            "marker": {
             "colorbar": {
              "outlinewidth": 0,
              "ticks": ""
             }
            },
            "type": "scattergeo"
           }
          ],
          "scattergl": [
           {
            "marker": {
             "colorbar": {
              "outlinewidth": 0,
              "ticks": ""
             }
            },
            "type": "scattergl"
           }
          ],
          "scattermapbox": [
           {
            "marker": {
             "colorbar": {
              "outlinewidth": 0,
              "ticks": ""
             }
            },
            "type": "scattermapbox"
           }
          ],
          "scatterpolar": [
           {
            "marker": {
             "colorbar": {
              "outlinewidth": 0,
              "ticks": ""
             }
            },
            "type": "scatterpolar"
           }
          ],
          "scatterpolargl": [
           {
            "marker": {
             "colorbar": {
              "outlinewidth": 0,
              "ticks": ""
             }
            },
            "type": "scatterpolargl"
           }
          ],
          "scatterternary": [
           {
            "marker": {
             "colorbar": {
              "outlinewidth": 0,
              "ticks": ""
             }
            },
            "type": "scatterternary"
           }
          ],
          "surface": [
           {
            "colorbar": {
             "outlinewidth": 0,
             "ticks": ""
            },
            "colorscale": [
             [
              0,
              "#0d0887"
             ],
             [
              0.1111111111111111,
              "#46039f"
             ],
             [
              0.2222222222222222,
              "#7201a8"
             ],
             [
              0.3333333333333333,
              "#9c179e"
             ],
             [
              0.4444444444444444,
              "#bd3786"
             ],
             [
              0.5555555555555556,
              "#d8576b"
             ],
             [
              0.6666666666666666,
              "#ed7953"
             ],
             [
              0.7777777777777778,
              "#fb9f3a"
             ],
             [
              0.8888888888888888,
              "#fdca26"
             ],
             [
              1,
              "#f0f921"
             ]
            ],
            "type": "surface"
           }
          ],
          "table": [
           {
            "cells": {
             "fill": {
              "color": "#EBF0F8"
             },
             "line": {
              "color": "white"
             }
            },
            "header": {
             "fill": {
              "color": "#C8D4E3"
             },
             "line": {
              "color": "white"
             }
            },
            "type": "table"
           }
          ]
         },
         "layout": {
          "annotationdefaults": {
           "arrowcolor": "#2a3f5f",
           "arrowhead": 0,
           "arrowwidth": 1
          },
          "autotypenumbers": "strict",
          "coloraxis": {
           "colorbar": {
            "outlinewidth": 0,
            "ticks": ""
           }
          },
          "colorscale": {
           "diverging": [
            [
             0,
             "#8e0152"
            ],
            [
             0.1,
             "#c51b7d"
            ],
            [
             0.2,
             "#de77ae"
            ],
            [
             0.3,
             "#f1b6da"
            ],
            [
             0.4,
             "#fde0ef"
            ],
            [
             0.5,
             "#f7f7f7"
            ],
            [
             0.6,
             "#e6f5d0"
            ],
            [
             0.7,
             "#b8e186"
            ],
            [
             0.8,
             "#7fbc41"
            ],
            [
             0.9,
             "#4d9221"
            ],
            [
             1,
             "#276419"
            ]
           ],
           "sequential": [
            [
             0,
             "#0d0887"
            ],
            [
             0.1111111111111111,
             "#46039f"
            ],
            [
             0.2222222222222222,
             "#7201a8"
            ],
            [
             0.3333333333333333,
             "#9c179e"
            ],
            [
             0.4444444444444444,
             "#bd3786"
            ],
            [
             0.5555555555555556,
             "#d8576b"
            ],
            [
             0.6666666666666666,
             "#ed7953"
            ],
            [
             0.7777777777777778,
             "#fb9f3a"
            ],
            [
             0.8888888888888888,
             "#fdca26"
            ],
            [
             1,
             "#f0f921"
            ]
           ],
           "sequentialminus": [
            [
             0,
             "#0d0887"
            ],
            [
             0.1111111111111111,
             "#46039f"
            ],
            [
             0.2222222222222222,
             "#7201a8"
            ],
            [
             0.3333333333333333,
             "#9c179e"
            ],
            [
             0.4444444444444444,
             "#bd3786"
            ],
            [
             0.5555555555555556,
             "#d8576b"
            ],
            [
             0.6666666666666666,
             "#ed7953"
            ],
            [
             0.7777777777777778,
             "#fb9f3a"
            ],
            [
             0.8888888888888888,
             "#fdca26"
            ],
            [
             1,
             "#f0f921"
            ]
           ]
          },
          "colorway": [
           "#636efa",
           "#EF553B",
           "#00cc96",
           "#ab63fa",
           "#FFA15A",
           "#19d3f3",
           "#FF6692",
           "#B6E880",
           "#FF97FF",
           "#FECB52"
          ],
          "font": {
           "color": "#2a3f5f"
          },
          "geo": {
           "bgcolor": "white",
           "lakecolor": "white",
           "landcolor": "#E5ECF6",
           "showlakes": true,
           "showland": true,
           "subunitcolor": "white"
          },
          "hoverlabel": {
           "align": "left"
          },
          "hovermode": "closest",
          "mapbox": {
           "style": "light"
          },
          "paper_bgcolor": "white",
          "plot_bgcolor": "#E5ECF6",
          "polar": {
           "angularaxis": {
            "gridcolor": "white",
            "linecolor": "white",
            "ticks": ""
           },
           "bgcolor": "#E5ECF6",
           "radialaxis": {
            "gridcolor": "white",
            "linecolor": "white",
            "ticks": ""
           }
          },
          "scene": {
           "xaxis": {
            "backgroundcolor": "#E5ECF6",
            "gridcolor": "white",
            "gridwidth": 2,
            "linecolor": "white",
            "showbackground": true,
            "ticks": "",
            "zerolinecolor": "white"
           },
           "yaxis": {
            "backgroundcolor": "#E5ECF6",
            "gridcolor": "white",
            "gridwidth": 2,
            "linecolor": "white",
            "showbackground": true,
            "ticks": "",
            "zerolinecolor": "white"
           },
           "zaxis": {
            "backgroundcolor": "#E5ECF6",
            "gridcolor": "white",
            "gridwidth": 2,
            "linecolor": "white",
            "showbackground": true,
            "ticks": "",
            "zerolinecolor": "white"
           }
          },
          "shapedefaults": {
           "line": {
            "color": "#2a3f5f"
           }
          },
          "ternary": {
           "aaxis": {
            "gridcolor": "white",
            "linecolor": "white",
            "ticks": ""
           },
           "baxis": {
            "gridcolor": "white",
            "linecolor": "white",
            "ticks": ""
           },
           "bgcolor": "#E5ECF6",
           "caxis": {
            "gridcolor": "white",
            "linecolor": "white",
            "ticks": ""
           }
          },
          "title": {
           "x": 0.05
          },
          "xaxis": {
           "automargin": true,
           "gridcolor": "white",
           "linecolor": "white",
           "ticks": "",
           "title": {
            "standoff": 15
           },
           "zerolinecolor": "white",
           "zerolinewidth": 2
          },
          "yaxis": {
           "automargin": true,
           "gridcolor": "white",
           "linecolor": "white",
           "ticks": "",
           "title": {
            "standoff": 15
           },
           "zerolinecolor": "white",
           "zerolinewidth": 2
          }
         }
        }
       }
      },
      "image/png": "[encoded data removed]",
      "text/html": [
       "<div>                            <div id=\"99722a75-4164-4b80-bd54-c9151d6f7d3f\" class=\"plotly-graph-div\" style=\"height:525px; width:100%;\"></div>            <script type=\"text/javascript\">                require([\"plotly\"], function(Plotly) {                    window.PLOTLYENV=window.PLOTLYENV || {};                                    if (document.getElementById(\"99722a75-4164-4b80-bd54-c9151d6f7d3f\")) {                    Plotly.newPlot(                        \"99722a75-4164-4b80-bd54-c9151d6f7d3f\",                        [{\"dimensions\":[{\"label\":\"dec.hidden_size\",\"range\":[16,512],\"values\":[null,null,null,null,null,null,null,null,null]},{\"label\":\"dec.depth\",\"range\":[1,3],\"values\":[null,null,null,null,null,null,null,null,null]},{\"label\":\"learning_rate\",\"range\":[0.00005,0.005],\"tickformat\":\".1e\",\"values\":[null,null,null,null,null,null,null,null,null]}],\"line\":{\"cmax\":1.0,\"cmin\":0.85,\"color\":[0.8002238179301998,0.580157767901165,0.8145170378378506,0.7823222664895887,0.975584872830634,0.7453847263330212,0.7383961337283192,0.9200195509784898,0.757138013915299],\"colorscale\":[[0.0,\"rgb(0,0,0)\"],[0.2,\"rgb(30,0,100)\"],[0.4,\"rgb(120,0,100)\"],[0.6,\"rgb(160,90,0)\"],[0.8,\"rgb(230,200,0)\"],[1.0,\"rgb(255,250,220)\"]],\"showscale\":true},\"type\":\"parcoords\"}],                        {\"template\":{\"data\":{\"histogram2dcontour\":[{\"type\":\"histogram2dcontour\",\"colorbar\":{\"outlinewidth\":0,\"ticks\":\"\"},\"colorscale\":[[0.0,\"#0d0887\"],[0.1111111111111111,\"#46039f\"],[0.2222222222222222,\"#7201a8\"],[0.3333333333333333,\"#9c179e\"],[0.4444444444444444,\"#bd3786\"],[0.5555555555555556,\"#d8576b\"],[0.6666666666666666,\"#ed7953\"],[0.7777777777777778,\"#fb9f3a\"],[0.8888888888888888,\"#fdca26\"],[1.0,\"#f0f921\"]]}],\"choropleth\":[{\"type\":\"choropleth\",\"colorbar\":{\"outlinewidth\":0,\"ticks\":\"\"}}],\"histogram2d\":[{\"type\":\"histogram2d\",\"colorbar\":{\"outlinewidth\":0,\"ticks\":\"\"},\"colorscale\":[[0.0,\"#0d0887\"],[0.1111111111111111,\"#46039f\"],[0.2222222222222222,\"#7201a8\"],[0.3333333333333333,\"#9c179e\"],[0.4444444444444444,\"#bd3786\"],[0.5555555555555556,\"#d8576b\"],[0.6666666666666666,\"#ed7953\"],[0.7777777777777778,\"#fb9f3a\"],[0.8888888888888888,\"#fdca26\"],[1.0,\"#f0f921\"]]}],\"heatmap\":[{\"type\":\"heatmap\",\"colorbar\":{\"outlinewidth\":0,\"ticks\":\"\"},\"colorscale\":[[0.0,\"#0d0887\"],[0.1111111111111111,\"#46039f\"],[0.2222222222222222,\"#7201a8\"],[0.3333333333333333,\"#9c179e\"],[0.4444444444444444,\"#bd3786\"],[0.5555555555555556,\"#d8576b\"],[0.6666666666666666,\"#ed7953\"],[0.7777777777777778,\"#fb9f3a\"],[0.8888888888888888,\"#fdca26\"],[1.0,\"#f0f921\"]]}],\"heatmapgl\":[{\"type\":\"heatmapgl\",\"colorbar\":{\"outlinewidth\":0,\"ticks\":\"\"},\"colorscale\":[[0.0,\"#0d0887\"],[0.1111111111111111,\"#46039f\"],[0.2222222222222222,\"#7201a8\"],[0.3333333333333333,\"#9c179e\"],[0.4444444444444444,\"#bd3786\"],[0.5555555555555556,\"#d8576b\"],[0.6666666666666666,\"#ed7953\"],[0.7777777777777778,\"#fb9f3a\"],[0.8888888888888888,\"#fdca26\"],[1.0,\"#f0f921\"]]}],\"contourcarpet\":[{\"type\":\"contourcarpet\",\"colorbar\":{\"outlinewidth\":0,\"ticks\":\"\"}}],\"contour\":[{\"type\":\"contour\",\"colorbar\":{\"outlinewidth\":0,\"ticks\":\"\"},\"colorscale\":[[0.0,\"#0d0887\"],[0.1111111111111111,\"#46039f\"],[0.2222222222222222,\"#7201a8\"],[0.3333333333333333,\"#9c179e\"],[0.4444444444444444,\"#bd3786\"],[0.5555555555555556,\"#d8576b\"],[0.6666666666666666,\"#ed7953\"],[0.7777777777777778,\"#fb9f3a\"],[0.8888888888888888,\"#fdca26\"],[1.0,\"#f0f921\"]]}],\"surface\":[{\"type\":\"surface\",\"colorbar\":{\"outlinewidth\":0,\"ticks\":\"\"},\"colorscale\":[[0.0,\"#0d0887\"],[0.1111111111111111,\"#46039f\"],[0.2222222222222222,\"#7201a8\"],[0.3333333333333333,\"#9c179e\"],[0.4444444444444444,\"#bd3786\"],[0.5555555555555556,\"#d8576b\"],[0.6666666666666666,\"#ed7953\"],[0.7777777777777778,\"#fb9f3a\"],[0.8888888888888888,\"#fdca26\"],[1.0,\"#f0f921\"]]}],\"mesh3d\":[{\"type\":\"mesh3d\",\"colorbar\":{\"outlinewidth\":0,\"ticks\":\"\"}}],\"scatter\":[{\"fillpattern\":{\"fillmode\":\"overlay\",\"size\":10,\"solidity\":0.2},\"type\":\"scatter\"}],\"parcoords\":[{\"type\":\"parcoords\",\"line\":{\"colorbar\":{\"outlinewidth\":0,\"ticks\":\"\"}}}],\"scatterpolargl\":[{\"type\":\"scatterpolargl\",\"marker\":{\"colorbar\":{\"outlinewidth\":0,\"ticks\":\"\"}}}],\"bar\":[{\"error_x\":{\"color\":\"#2a3f5f\"},\"error_y\":{\"color\":\"#2a3f5f\"},\"marker\":{\"line\":{\"color\":\"#E5ECF6\",\"width\":0.5},\"pattern\":{\"fillmode\":\"overlay\",\"size\":10,\"solidity\":0.2}},\"type\":\"bar\"}],\"scattergeo\":[{\"type\":\"scattergeo\",\"marker\":{\"colorbar\":{\"outlinewidth\":0,\"ticks\":\"\"}}}],\"scatterpolar\":[{\"type\":\"scatterpolar\",\"marker\":{\"colorbar\":{\"outlinewidth\":0,\"ticks\":\"\"}}}],\"histogram\":[{\"marker\":{\"pattern\":{\"fillmode\":\"overlay\",\"size\":10,\"solidity\":0.2}},\"type\":\"histogram\"}],\"scattergl\":[{\"type\":\"scattergl\",\"marker\":{\"colorbar\":{\"outlinewidth\":0,\"ticks\":\"\"}}}],\"scatter3d\":[{\"type\":\"scatter3d\",\"line\":{\"colorbar\":{\"outlinewidth\":0,\"ticks\":\"\"}},\"marker\":{\"colorbar\":{\"outlinewidth\":0,\"ticks\":\"\"}}}],\"scattermapbox\":[{\"type\":\"scattermapbox\",\"marker\":{\"colorbar\":{\"outlinewidth\":0,\"ticks\":\"\"}}}],\"scatterternary\":[{\"type\":\"scatterternary\",\"marker\":{\"colorbar\":{\"outlinewidth\":0,\"ticks\":\"\"}}}],\"scattercarpet\":[{\"type\":\"scattercarpet\",\"marker\":{\"colorbar\":{\"outlinewidth\":0,\"ticks\":\"\"}}}],\"carpet\":[{\"aaxis\":{\"endlinecolor\":\"#2a3f5f\",\"gridcolor\":\"white\",\"linecolor\":\"white\",\"minorgridcolor\":\"white\",\"startlinecolor\":\"#2a3f5f\"},\"baxis\":{\"endlinecolor\":\"#2a3f5f\",\"gridcolor\":\"white\",\"linecolor\":\"white\",\"minorgridcolor\":\"white\",\"startlinecolor\":\"#2a3f5f\"},\"type\":\"carpet\"}],\"table\":[{\"cells\":{\"fill\":{\"color\":\"#EBF0F8\"},\"line\":{\"color\":\"white\"}},\"header\":{\"fill\":{\"color\":\"#C8D4E3\"},\"line\":{\"color\":\"white\"}},\"type\":\"table\"}],\"barpolar\":[{\"marker\":{\"line\":{\"color\":\"#E5ECF6\",\"width\":0.5},\"pattern\":{\"fillmode\":\"overlay\",\"size\":10,\"solidity\":0.2}},\"type\":\"barpolar\"}],\"pie\":[{\"automargin\":true,\"type\":\"pie\"}]},\"layout\":{\"autotypenumbers\":\"strict\",\"colorway\":[\"#636efa\",\"#EF553B\",\"#00cc96\",\"#ab63fa\",\"#FFA15A\",\"#19d3f3\",\"#FF6692\",\"#B6E880\",\"#FF97FF\",\"#FECB52\"],\"font\":{\"color\":\"#2a3f5f\"},\"hovermode\":\"closest\",\"hoverlabel\":{\"align\":\"left\"},\"paper_bgcolor\":\"white\",\"plot_bgcolor\":\"#E5ECF6\",\"polar\":{\"bgcolor\":\"#E5ECF6\",\"angularaxis\":{\"gridcolor\":\"white\",\"linecolor\":\"white\",\"ticks\":\"\"},\"radialaxis\":{\"gridcolor\":\"white\",\"linecolor\":\"white\",\"ticks\":\"\"}},\"ternary\":{\"bgcolor\":\"#E5ECF6\",\"aaxis\":{\"gridcolor\":\"white\",\"linecolor\":\"white\",\"ticks\":\"\"},\"baxis\":{\"gridcolor\":\"white\",\"linecolor\":\"white\",\"ticks\":\"\"},\"caxis\":{\"gridcolor\":\"white\",\"linecolor\":\"white\",\"ticks\":\"\"}},\"coloraxis\":{\"colorbar\":{\"outlinewidth\":0,\"ticks\":\"\"}},\"colorscale\":{\"sequential\":[[0.0,\"#0d0887\"],[0.1111111111111111,\"#46039f\"],[0.2222222222222222,\"#7201a8\"],[0.3333333333333333,\"#9c179e\"],[0.4444444444444444,\"#bd3786\"],[0.5555555555555556,\"#d8576b\"],[0.6666666666666666,\"#ed7953\"],[0.7777777777777778,\"#fb9f3a\"],[0.8888888888888888,\"#fdca26\"],[1.0,\"#f0f921\"]],\"sequentialminus\":[[0.0,\"#0d0887\"],[0.1111111111111111,\"#46039f\"],[0.2222222222222222,\"#7201a8\"],[0.3333333333333333,\"#9c179e\"],[0.4444444444444444,\"#bd3786\"],[0.5555555555555556,\"#d8576b\"],[0.6666666666666666,\"#ed7953\"],[0.7777777777777778,\"#fb9f3a\"],[0.8888888888888888,\"#fdca26\"],[1.0,\"#f0f921\"]],\"diverging\":[[0,\"#8e0152\"],[0.1,\"#c51b7d\"],[0.2,\"#de77ae\"],[0.3,\"#f1b6da\"],[0.4,\"#fde0ef\"],[0.5,\"#f7f7f7\"],[0.6,\"#e6f5d0\"],[0.7,\"#b8e186\"],[0.8,\"#7fbc41\"],[0.9,\"#4d9221\"],[1,\"#276419\"]]},\"xaxis\":{\"gridcolor\":\"white\",\"linecolor\":\"white\",\"ticks\":\"\",\"title\":{\"standoff\":15},\"zerolinecolor\":\"white\",\"automargin\":true,\"zerolinewidth\":2},\"yaxis\":{\"gridcolor\":\"white\",\"linecolor\":\"white\",\"ticks\":\"\",\"title\":{\"standoff\":15},\"zerolinecolor\":\"white\",\"automargin\":true,\"zerolinewidth\":2},\"scene\":{\"xaxis\":{\"backgroundcolor\":\"#E5ECF6\",\"gridcolor\":\"white\",\"linecolor\":\"white\",\"showbackground\":true,\"ticks\":\"\",\"zerolinecolor\":\"white\",\"gridwidth\":2},\"yaxis\":{\"backgroundcolor\":\"#E5ECF6\",\"gridcolor\":\"white\",\"linecolor\":\"white\",\"showbackground\":true,\"ticks\":\"\",\"zerolinecolor\":\"white\",\"gridwidth\":2},\"zaxis\":{\"backgroundcolor\":\"#E5ECF6\",\"gridcolor\":\"white\",\"linecolor\":\"white\",\"showbackground\":true,\"ticks\":\"\",\"zerolinecolor\":\"white\",\"gridwidth\":2}},\"shapedefaults\":{\"line\":{\"color\":\"#2a3f5f\"}},\"annotationdefaults\":{\"arrowcolor\":\"#2a3f5f\",\"arrowhead\":0,\"arrowwidth\":1},\"geo\":{\"bgcolor\":\"white\",\"landcolor\":\"#E5ECF6\",\"subunitcolor\":\"white\",\"showland\":true,\"showlakes\":true,\"lakecolor\":\"white\"},\"title\":{\"x\":0.05},\"mapbox\":{\"style\":\"light\"}}}},                        {\"responsive\": true}                    ).then(function(){\n",
       "                            \n",
       "var gd = document.getElementById('99722a75-4164-4b80-bd54-c9151d6f7d3f');\n",
       "var x = new MutationObserver(function (mutations, observer) {{\n",
       "        var display = window.getComputedStyle(gd).display;\n",
       "        if (!display || display === 'none') {{\n",
       "            console.log([gd, 'removed!']);\n",
       "            Plotly.purge(gd);\n",
       "            observer.disconnect();\n",
       "        }}\n",
       "}});\n",
       "\n",
       "// Listen for the removal of the full notebook cells\n",
       "var notebookContainer = gd.closest('#notebook-container');\n",
       "if (notebookContainer) {{\n",
       "    x.observe(notebookContainer, {childList: true});\n",
       "}}\n",
       "\n",
       "// Listen for the clearing of the current output cell\n",
       "var outputEl = gd.closest('.output');\n",
       "if (outputEl) {{\n",
       "    x.observe(outputEl, {childList: true});\n",
       "}}\n",
       "\n",
       "                        })                };                });            </script>        </div>"
      ]
     },
     "metadata": {},
     "output_type": "display_data"
    }
   ],
   "source": [
    "# FFN hparams\n",
    "fig = go.Figure(data=\n",
    "   go.Parcoords(\n",
    "       line = dict(color = df_plot['val/avgPrecision_macro'],\n",
    "           colorscale = 'Electric',\n",
    "           showscale = True,\n",
    "           cmin = 0.85,\n",
    "           cmax = 1.0),\n",
    "       dimensions = list([\n",
    "           dict(range = [16, 512],\n",
    "                label = 'dec.hidden_size', values = df_plot['decoder.hidden_size']),\n",
    "           dict(range = [1, 3],\n",
    "                label = 'dec.depth', values = df_plot['decoder.depth']),\n",
    "           dict(range = [5e-5, 5e-3],\n",
    "                label = 'learning_rate', values = df_plot['optimizer.lr'], tickformat = '.1e'),\n",
    "           # Add more variables as needed\n",
    "       ])\n",
    "   )\n",
    ")\n",
    "fig.show()\n"
   ]
  },
  {
   "cell_type": "code",
   "execution_count": 40,
   "id": "558a1330-4870-42a1-b012-8c49c2c9daa1",
   "metadata": {},
   "outputs": [
    {
     "data": {
      "application/vnd.plotly.v1+json": {
       "config": {
        "plotlyServerURL": "https://plot.ly"
       },
       "data": [
        {
         "dimensions": [
          {
           "label": "gamma",
           "range": [
            0.0001,
            10
           ],
           "tickformat": ".1e",
           "values": [
            2.4030222287030965,
            2.4030222287030965,
            2.4030222287030965,
            2.4030222287030965,
            2.4030222287030965,
            2.4030222287030965,
            2.4030222287030965,
            2.4030222287030965,
            2.4030222287030965,
            10,
            10,
            10,
            10,
            10,
            10,
            10,
            10,
            10,
            10,
            10,
            10,
            10,
            10,
            10,
            10,
            10,
            10,
            0.29684711000235803,
            0.29684711000235803,
            0.29684711000235803,
            0.29684711000235803,
            0.29684711000235803,
            0.29684711000235803,
            0.29684711000235803,
            0.29684711000235803,
            0.29684711000235803,
            10,
            10,
            10,
            10,
            10,
            10,
            10,
            10,
            10,
            0.3091786431163157,
            0.3091786431163157,
            0.3091786431163157,
            0.3091786431163157,
            0.3091786431163157,
            0.3091786431163157,
            0.3091786431163157,
            0.3091786431163157,
            0.3091786431163157,
            0.022800163904172815,
            0.022800163904172815,
            0.022800163904172815,
            0.022800163904172815,
            0.022800163904172815,
            0.022800163904172815,
            0.022800163904172815,
            0.022800163904172815,
            0.022800163904172815,
            0.4817524527776504,
            0.4817524527776504,
            0.4817524527776504,
            0.4817524527776504,
            0.4817524527776504,
            0.4817524527776504,
            0.4817524527776504,
            0.4817524527776504,
            0.4817524527776504,
            1.3106203547479516,
            1.3106203547479516,
            1.3106203547479516,
            1.3106203547479516,
            1.3106203547479516,
            1.3106203547479516,
            1.3106203547479516,
            1.3106203547479516,
            1.3106203547479516,
            0.2049353926637858,
            0.2049353926637858,
            0.2049353926637858,
            0.2049353926637858,
            0.2049353926637858,
            0.2049353926637858,
            0.2049353926637858,
            0.2049353926637858,
            0.2049353926637858,
            2.337005826462768,
            2.337005826462768,
            2.337005826462768,
            2.337005826462768,
            2.337005826462768,
            2.337005826462768,
            2.337005826462768,
            2.337005826462768,
            2.337005826462768,
            0.4135379828394587,
            0.4135379828394587,
            0.4135379828394587,
            0.4135379828394587,
            0.4135379828394587,
            0.4135379828394587,
            0.4135379828394587,
            0.4135379828394587,
            0.4135379828394587,
            0.004275706706444906,
            0.004275706706444906,
            0.004275706706444906,
            0.004275706706444906,
            0.004275706706444906,
            0.004275706706444906,
            0.004275706706444906,
            0.004275706706444906,
            0.004275706706444906,
            0.05414347114075958,
            0.05414347114075958,
            0.05414347114075958,
            0.05414347114075958,
            0.05414347114075958,
            0.05414347114075958,
            0.05414347114075958,
            0.05414347114075958,
            0.05414347114075958,
            0.10908087229021736,
            0.10908087229021736,
            0.10908087229021736,
            0.10908087229021736,
            0.10908087229021736,
            0.10908087229021736,
            0.10908087229021736,
            0.10908087229021736,
            0.10908087229021736,
            0.13808740148571466,
            0.13808740148571466,
            0.13808740148571466,
            0.13808740148571466,
            0.13808740148571466,
            0.13808740148571466,
            0.13808740148571466,
            0.13808740148571466,
            0.13808740148571466,
            0.028563311593813846,
            0.028563311593813846,
            0.028563311593813846,
            0.028563311593813846,
            0.028563311593813846,
            0.028563311593813846,
            0.028563311593813846,
            0.028563311593813846,
            0.028563311593813846,
            0.001310155460989631,
            0.001310155460989631,
            0.001310155460989631,
            0.001310155460989631,
            0.001310155460989631,
            0.001310155460989631,
            0.001310155460989631,
            0.001310155460989631,
            0.001310155460989631,
            1.933355054057564,
            1.933355054057564,
            1.933355054057564,
            1.933355054057564,
            1.933355054057564,
            1.933355054057564,
            1.933355054057564,
            1.933355054057564,
            1.933355054057564,
            1.478119962974792,
            1.478119962974792,
            1.478119962974792,
            1.478119962974792,
            1.478119962974792,
            1.478119962974792,
            1.478119962974792,
            1.478119962974792,
            1.478119962974792
           ]
          },
          {
           "label": "learning_rate",
           "range": [
            0.001,
            1
           ],
           "tickformat": ".1e",
           "values": [
            0.027441324586799255,
            0.027441324586799255,
            0.027441324586799255,
            0.027441324586799255,
            0.027441324586799255,
            0.027441324586799255,
            0.027441324586799255,
            0.027441324586799255,
            0.027441324586799255,
            0.023406515094548327,
            0.023406515094548327,
            0.023406515094548327,
            0.023406515094548327,
            0.023406515094548327,
            0.023406515094548327,
            0.023406515094548327,
            0.023406515094548327,
            0.023406515094548327,
            0.02840653541665205,
            0.02840653541665205,
            0.02840653541665205,
            0.02840653541665205,
            0.02840653541665205,
            0.02840653541665205,
            0.02840653541665205,
            0.02840653541665205,
            0.02840653541665205,
            0.019740305761524315,
            0.019740305761524315,
            0.019740305761524315,
            0.019740305761524315,
            0.019740305761524315,
            0.019740305761524315,
            0.019740305761524315,
            0.019740305761524315,
            0.019740305761524315,
            0.025713391922367115,
            0.025713391922367115,
            0.025713391922367115,
            0.025713391922367115,
            0.025713391922367115,
            0.025713391922367115,
            0.025713391922367115,
            0.025713391922367115,
            0.025713391922367115,
            0.033295389989577755,
            0.033295389989577755,
            0.033295389989577755,
            0.033295389989577755,
            0.033295389989577755,
            0.033295389989577755,
            0.033295389989577755,
            0.033295389989577755,
            0.033295389989577755,
            0.05784328582345792,
            0.05784328582345792,
            0.05784328582345792,
            0.05784328582345792,
            0.05784328582345792,
            0.05784328582345792,
            0.05784328582345792,
            0.05784328582345792,
            0.05784328582345792,
            0.049735052686393215,
            0.049735052686393215,
            0.049735052686393215,
            0.049735052686393215,
            0.049735052686393215,
            0.049735052686393215,
            0.049735052686393215,
            0.049735052686393215,
            0.049735052686393215,
            0.08884174527808006,
            0.08884174527808006,
            0.08884174527808006,
            0.08884174527808006,
            0.08884174527808006,
            0.08884174527808006,
            0.08884174527808006,
            0.08884174527808006,
            0.08884174527808006,
            0.08178031679380796,
            0.08178031679380796,
            0.08178031679380796,
            0.08178031679380796,
            0.08178031679380796,
            0.08178031679380796,
            0.08178031679380796,
            0.08178031679380796,
            0.08178031679380796,
            0.04772850920861107,
            0.04772850920861107,
            0.04772850920861107,
            0.04772850920861107,
            0.04772850920861107,
            0.04772850920861107,
            0.04772850920861107,
            0.04772850920861107,
            0.04772850920861107,
            0.043612348779380264,
            0.043612348779380264,
            0.043612348779380264,
            0.043612348779380264,
            0.043612348779380264,
            0.043612348779380264,
            0.043612348779380264,
            0.043612348779380264,
            0.043612348779380264,
            0.27893651188680624,
            0.27893651188680624,
            0.27893651188680624,
            0.27893651188680624,
            0.27893651188680624,
            0.27893651188680624,
            0.27893651188680624,
            0.27893651188680624,
            0.27893651188680624,
            0.002407344397181605,
            0.002407344397181605,
            0.002407344397181605,
            0.002407344397181605,
            0.002407344397181605,
            0.002407344397181605,
            0.002407344397181605,
            0.002407344397181605,
            0.002407344397181605,
            0.0020671087403816017,
            0.0020671087403816017,
            0.0020671087403816017,
            0.0020671087403816017,
            0.0020671087403816017,
            0.0020671087403816017,
            0.0020671087403816017,
            0.0020671087403816017,
            0.0020671087403816017,
            0.042087197051592765,
            0.042087197051592765,
            0.042087197051592765,
            0.042087197051592765,
            0.042087197051592765,
            0.042087197051592765,
            0.042087197051592765,
            0.042087197051592765,
            0.042087197051592765,
            0.8387502160560293,
            0.8387502160560293,
            0.8387502160560293,
            0.8387502160560293,
            0.8387502160560293,
            0.8387502160560293,
            0.8387502160560293,
            0.8387502160560293,
            0.8387502160560293,
            0.001260640032214199,
            0.001260640032214199,
            0.001260640032214199,
            0.001260640032214199,
            0.001260640032214199,
            0.001260640032214199,
            0.001260640032214199,
            0.001260640032214199,
            0.001260640032214199,
            0.105092415344995,
            0.105092415344995,
            0.105092415344995,
            0.105092415344995,
            0.105092415344995,
            0.105092415344995,
            0.105092415344995,
            0.105092415344995,
            0.105092415344995,
            0.19354104676321485,
            0.19354104676321485,
            0.19354104676321485,
            0.19354104676321485,
            0.19354104676321485,
            0.19354104676321485,
            0.19354104676321485,
            0.19354104676321485,
            0.19354104676321485
           ]
          },
          {
           "label": "L1 regularization",
           "range": [
            0.0001,
            10
           ],
           "tickformat": ".1e",
           "values": [
            0.0009656845235327988,
            0.0009656845235327988,
            0.0009656845235327988,
            0.0009656845235327988,
            0.0009656845235327988,
            0.0009656845235327988,
            0.0009656845235327988,
            0.0009656845235327988,
            0.0009656845235327988,
            0.00014709056412449097,
            0.00014709056412449097,
            0.00014709056412449097,
            0.00014709056412449097,
            0.00014709056412449097,
            0.00014709056412449097,
            0.00014709056412449097,
            0.00014709056412449097,
            0.00014709056412449097,
            0.0067347840034272625,
            0.0067347840034272625,
            0.0067347840034272625,
            0.0067347840034272625,
            0.0067347840034272625,
            0.0067347840034272625,
            0.0067347840034272625,
            0.0067347840034272625,
            0.0067347840034272625,
            0.0029230252596608858,
            0.0029230252596608858,
            0.0029230252596608858,
            0.0029230252596608858,
            0.0029230252596608858,
            0.0029230252596608858,
            0.0029230252596608858,
            0.0029230252596608858,
            0.0029230252596608858,
            0.0011090394401924084,
            0.0011090394401924084,
            0.0011090394401924084,
            0.0011090394401924084,
            0.0011090394401924084,
            0.0011090394401924084,
            0.0011090394401924084,
            0.0011090394401924084,
            0.0011090394401924084,
            0.0005025386542172602,
            0.0005025386542172602,
            0.0005025386542172602,
            0.0005025386542172602,
            0.0005025386542172602,
            0.0005025386542172602,
            0.0005025386542172602,
            0.0005025386542172602,
            0.0005025386542172602,
            0.007205885252508122,
            0.007205885252508122,
            0.007205885252508122,
            0.007205885252508122,
            0.007205885252508122,
            0.007205885252508122,
            0.007205885252508122,
            0.007205885252508122,
            0.007205885252508122,
            0.0004984408989296505,
            0.0004984408989296505,
            0.0004984408989296505,
            0.0004984408989296505,
            0.0004984408989296505,
            0.0004984408989296505,
            0.0004984408989296505,
            0.0004984408989296505,
            0.0004984408989296505,
            0.015519942450425954,
            0.015519942450425954,
            0.015519942450425954,
            0.015519942450425954,
            0.015519942450425954,
            0.015519942450425954,
            0.015519942450425954,
            0.015519942450425954,
            0.015519942450425954,
            0.07509147108901736,
            0.07509147108901736,
            0.07509147108901736,
            0.07509147108901736,
            0.07509147108901736,
            0.07509147108901736,
            0.07509147108901736,
            0.07509147108901736,
            0.07509147108901736,
            0.009248398672495953,
            0.009248398672495953,
            0.009248398672495953,
            0.009248398672495953,
            0.009248398672495953,
            0.009248398672495953,
            0.009248398672495953,
            0.009248398672495953,
            0.009248398672495953,
            0.020520973400530933,
            0.020520973400530933,
            0.020520973400530933,
            0.020520973400530933,
            0.020520973400530933,
            0.020520973400530933,
            0.020520973400530933,
            0.020520973400530933,
            0.020520973400530933,
            0.09794299441792122,
            0.09794299441792122,
            0.09794299441792122,
            0.09794299441792122,
            0.09794299441792122,
            0.09794299441792122,
            0.09794299441792122,
            0.09794299441792122,
            0.09794299441792122,
            4.970806230072528,
            4.970806230072528,
            4.970806230072528,
            4.970806230072528,
            4.970806230072528,
            4.970806230072528,
            4.970806230072528,
            4.970806230072528,
            4.970806230072528,
            0.00019514250184469791,
            0.00019514250184469791,
            0.00019514250184469791,
            0.00019514250184469791,
            0.00019514250184469791,
            0.00019514250184469791,
            0.00019514250184469791,
            0.00019514250184469791,
            0.00019514250184469791,
            0.006090396610669746,
            0.006090396610669746,
            0.006090396610669746,
            0.006090396610669746,
            0.006090396610669746,
            0.006090396610669746,
            0.006090396610669746,
            0.006090396610669746,
            0.006090396610669746,
            0.00017204906372281673,
            0.00017204906372281673,
            0.00017204906372281673,
            0.00017204906372281673,
            0.00017204906372281673,
            0.00017204906372281673,
            0.00017204906372281673,
            0.00017204906372281673,
            0.00017204906372281673,
            0.6400069202784923,
            0.6400069202784923,
            0.6400069202784923,
            0.6400069202784923,
            0.6400069202784923,
            0.6400069202784923,
            0.6400069202784923,
            0.6400069202784923,
            0.6400069202784923,
            0.001198074489566105,
            0.001198074489566105,
            0.001198074489566105,
            0.001198074489566105,
            0.001198074489566105,
            0.001198074489566105,
            0.001198074489566105,
            0.001198074489566105,
            0.001198074489566105,
            0.0003311573473703904,
            0.0003311573473703904,
            0.0003311573473703904,
            0.0003311573473703904,
            0.0003311573473703904,
            0.0003311573473703904,
            0.0003311573473703904,
            0.0003311573473703904,
            0.0003311573473703904
           ]
          },
          {
           "label": "L2 regularization",
           "range": [
            0.0001,
            10
           ],
           "tickformat": ".1e",
           "values": [
            2.3371713344117837,
            2.3371713344117837,
            2.3371713344117837,
            2.3371713344117837,
            2.3371713344117837,
            2.3371713344117837,
            2.3371713344117837,
            2.3371713344117837,
            2.3371713344117837,
            10,
            10,
            10,
            10,
            10,
            10,
            10,
            10,
            10,
            10,
            10,
            10,
            10,
            10,
            10,
            10,
            10,
            10,
            2.93429299102738,
            2.93429299102738,
            2.93429299102738,
            2.93429299102738,
            2.93429299102738,
            2.93429299102738,
            2.93429299102738,
            2.93429299102738,
            2.93429299102738,
            0.3327521242270016,
            0.3327521242270016,
            0.3327521242270016,
            0.3327521242270016,
            0.3327521242270016,
            0.3327521242270016,
            0.3327521242270016,
            0.3327521242270016,
            0.3327521242270016,
            0.04049884228001582,
            0.04049884228001582,
            0.04049884228001582,
            0.04049884228001582,
            0.04049884228001582,
            0.04049884228001582,
            0.04049884228001582,
            0.04049884228001582,
            0.04049884228001582,
            2.100670460339007,
            2.100670460339007,
            2.100670460339007,
            2.100670460339007,
            2.100670460339007,
            2.100670460339007,
            2.100670460339007,
            2.100670460339007,
            2.100670460339007,
            10,
            10,
            10,
            10,
            10,
            10,
            10,
            10,
            10,
            10,
            10,
            10,
            10,
            10,
            10,
            10,
            10,
            10,
            0.002228048606978082,
            0.002228048606978082,
            0.002228048606978082,
            0.002228048606978082,
            0.002228048606978082,
            0.002228048606978082,
            0.002228048606978082,
            0.002228048606978082,
            0.002228048606978082,
            0.0013240705231768372,
            0.0013240705231768372,
            0.0013240705231768372,
            0.0013240705231768372,
            0.0013240705231768372,
            0.0013240705231768372,
            0.0013240705231768372,
            0.0013240705231768372,
            0.0013240705231768372,
            0.031949094799903856,
            0.031949094799903856,
            0.031949094799903856,
            0.031949094799903856,
            0.031949094799903856,
            0.031949094799903856,
            0.031949094799903856,
            0.031949094799903856,
            0.031949094799903856,
            0.3601363313202226,
            0.3601363313202226,
            0.3601363313202226,
            0.3601363313202226,
            0.3601363313202226,
            0.3601363313202226,
            0.3601363313202226,
            0.3601363313202226,
            0.3601363313202226,
            0.045889736536541104,
            0.045889736536541104,
            0.045889736536541104,
            0.045889736536541104,
            0.045889736536541104,
            0.045889736536541104,
            0.045889736536541104,
            0.045889736536541104,
            0.045889736536541104,
            0.000905906529837955,
            0.000905906529837955,
            0.000905906529837955,
            0.000905906529837955,
            0.000905906529837955,
            0.000905906529837955,
            0.000905906529837955,
            0.000905906529837955,
            0.000905906529837955,
            0.0008309333177086495,
            0.0008309333177086495,
            0.0008309333177086495,
            0.0008309333177086495,
            0.0008309333177086495,
            0.0008309333177086495,
            0.0008309333177086495,
            0.0008309333177086495,
            0.0008309333177086495,
            0.1205383299328117,
            0.1205383299328117,
            0.1205383299328117,
            0.1205383299328117,
            0.1205383299328117,
            0.1205383299328117,
            0.1205383299328117,
            0.1205383299328117,
            0.1205383299328117,
            0.00035789044393460287,
            0.00035789044393460287,
            0.00035789044393460287,
            0.00035789044393460287,
            0.00035789044393460287,
            0.00035789044393460287,
            0.00035789044393460287,
            0.00035789044393460287,
            0.00035789044393460287,
            0.24529099277905417,
            0.24529099277905417,
            0.24529099277905417,
            0.24529099277905417,
            0.24529099277905417,
            0.24529099277905417,
            0.24529099277905417,
            0.24529099277905417,
            0.24529099277905417,
            6.175935621392623,
            6.175935621392623,
            6.175935621392623,
            6.175935621392623,
            6.175935621392623,
            6.175935621392623,
            6.175935621392623,
            6.175935621392623,
            6.175935621392623
           ]
          }
         ],
         "line": {
          "cmax": 1,
          "cmin": 0.93,
          "color": [
           0.800759142712443,
           0.5825624722776559,
           0.814118435748772,
           0.7796628614715851,
           0.9747999390125128,
           0.743333058216475,
           0.7367321520442949,
           0.9204089295297968,
           0.7588163568344891,
           0.7920000033988774,
           0.5705896163006959,
           0.8063523654212923,
           0.7730860769492693,
           0.9719802883392252,
           0.7478199811585212,
           0.7320676169560668,
           0.9154737216235178,
           0.7500958535692903,
           0.7880926445084236,
           0.571030248179207,
           0.8136230500396611,
           0.7820155744724867,
           0.9723492407034132,
           0.7463129555246905,
           0.7357971228492959,
           0.9188403271348636,
           0.759534714433934,
           0.7997651460409202,
           0.5762828118866684,
           0.8004375033706994,
           0.7699887212149369,
           0.9718885661865996,
           0.7360185330505992,
           0.7291093178328006,
           0.9119009013795132,
           0.7335613917248723,
           0.8002238179301998,
           0.580157767901165,
           0.8145170378378506,
           0.7823222664895887,
           0.975584872830634,
           0.7453847263330212,
           0.7383961337283192,
           0.9200195509784898,
           0.757138013915299,
           0.7881754183535672,
           0.5796133220158025,
           0.8214126833224812,
           0.7833043755949474,
           0.9764220277601754,
           0.7416661805873206,
           0.7410009509328931,
           0.917402377210501,
           0.7574648908691248,
           0.7823510781579621,
           0.5784441217048862,
           0.8212601775971957,
           0.7861691435533613,
           0.9790984903097912,
           0.7470882579714684,
           0.7422247117875953,
           0.9136990710750496,
           0.7780961850630718,
           0.7778778035540893,
           0.5738222979749605,
           0.8154640395691329,
           0.7963347677322309,
           0.9789405681169152,
           0.7521658620972368,
           0.7318472688301823,
           0.9153345504058772,
           0.7687055201675799,
           0.7781769660399703,
           0.574157992654105,
           0.824604156079381,
           0.7831398822428324,
           0.9802282013184994,
           0.7492700416419513,
           0.7362473276456533,
           0.9163500681924248,
           0.774528292263018,
           0.7761598927805661,
           0.5802318634886895,
           0.8194498078290909,
           0.7882574599086873,
           0.9787142337899356,
           0.7398399865712276,
           0.7425636643153513,
           0.9166490809140272,
           0.7733956684216179,
           0.7825090100072121,
           0.5831951062614963,
           0.8242415895386904,
           0.790641546261223,
           0.9798913856837264,
           0.740851331332396,
           0.7378254522304387,
           0.913347214858958,
           0.7575002359761401,
           0.7854973746635349,
           0.5822648142576697,
           0.8234768989842173,
           0.7944289053092973,
           0.9792745726745538,
           0.7420624321329669,
           0.740048673872923,
           0.9149574070499108,
           0.7642388626347499,
           0.801723142734235,
           0.5791827741192916,
           0.8163251972767444,
           0.7721601021032427,
           0.975633946005933,
           0.7213788527458004,
           0.7362070564816124,
           0.9052398308619508,
           0.7779274997987352,
           0.7873598369974871,
           0.5523699201312092,
           0.7561592807252476,
           0.7561057506325449,
           0.9529066572815812,
           0.7273250312536595,
           0.7500786064530796,
           0.9053262219865248,
           0.7094706601174002,
           0.7891086543058394,
           0.5534636778004294,
           0.7569141334345254,
           0.75972485958332,
           0.952040921222758,
           0.7144055606635327,
           0.7500870146219506,
           0.9018015709184692,
           0.7124682096191602,
           0.7839067073005554,
           0.579415370709783,
           0.8236265887543711,
           0.7949659788764186,
           0.9790919573654268,
           0.7432907493111646,
           0.7374843494131752,
           0.913538186592976,
           0.7665376115139665,
           0.7823736241388874,
           0.5481482646768127,
           0.8133360868905214,
           0.7428048619354639,
           0.9578304791786678,
           0.6882181196553319,
           0.7337948880424063,
           0.8757119751119484,
           0.7189148067897629,
           0.7875191776173823,
           0.5501894510188353,
           0.7552811048337915,
           0.7573778528659895,
           0.9511746027619808,
           0.7212552780755407,
           0.7502478497027472,
           0.8975493183228614,
           0.709974975811229,
           0.7690564957628429,
           0.5796485190664578,
           0.8243268167036195,
           0.7789608872552117,
           0.9757261441732088,
           0.7551835502697825,
           0.745141183491834,
           0.9156738544274552,
           0.7794541420900692,
           0.7848816648584971,
           0.5789156402923454,
           0.8106193821015197,
           0.7793396343168997,
           0.9786057414434758,
           0.7188857303692847,
           0.7363955030752587,
           0.904744491398452,
           0.7908271598429667
          ],
          "colorscale": [
           [
            0,
            "rgb(0, 0, 0)"
           ],
           [
            0.2,
            "rgb(30,0,100)"
           ],
           [
            0.4,
            "rgb(120,0,100)"
           ],
           [
            0.6,
            "rgb(160,90,0)"
           ],
           [
            0.8,
            "rgb(230,200,0)"
           ],
           [
            1,
            "rgb(255,250,220)"
           ]
          ],
          "showscale": true
         },
         "type": "parcoords"
        }
       ],
       "layout": {
        "autosize": true,
        "template": {
         "data": {
          "bar": [
           {
            "error_x": {
             "color": "#2a3f5f"
            },
            "error_y": {
             "color": "#2a3f5f"
            },
            "marker": {
             "line": {
              "color": "#E5ECF6",
              "width": 0.5
             },
             "pattern": {
              "fillmode": "overlay",
              "size": 10,
              "solidity": 0.2
             }
            },
            "type": "bar"
           }
          ],
          "barpolar": [
           {
            "marker": {
             "line": {
              "color": "#E5ECF6",
              "width": 0.5
             },
             "pattern": {
              "fillmode": "overlay",
              "size": 10,
              "solidity": 0.2
             }
            },
            "type": "barpolar"
           }
          ],
          "carpet": [
           {
            "aaxis": {
             "endlinecolor": "#2a3f5f",
             "gridcolor": "white",
             "linecolor": "white",
             "minorgridcolor": "white",
             "startlinecolor": "#2a3f5f"
            },
            "baxis": {
             "endlinecolor": "#2a3f5f",
             "gridcolor": "white",
             "linecolor": "white",
             "minorgridcolor": "white",
             "startlinecolor": "#2a3f5f"
            },
            "type": "carpet"
           }
          ],
          "choropleth": [
           {
            "colorbar": {
             "outlinewidth": 0,
             "ticks": ""
            },
            "type": "choropleth"
           }
          ],
          "contour": [
           {
            "colorbar": {
             "outlinewidth": 0,
             "ticks": ""
            },
            "colorscale": [
             [
              0,
              "#0d0887"
             ],
             [
              0.1111111111111111,
              "#46039f"
             ],
             [
              0.2222222222222222,
              "#7201a8"
             ],
             [
              0.3333333333333333,
              "#9c179e"
             ],
             [
              0.4444444444444444,
              "#bd3786"
             ],
             [
              0.5555555555555556,
              "#d8576b"
             ],
             [
              0.6666666666666666,
              "#ed7953"
             ],
             [
              0.7777777777777778,
              "#fb9f3a"
             ],
             [
              0.8888888888888888,
              "#fdca26"
             ],
             [
              1,
              "#f0f921"
             ]
            ],
            "type": "contour"
           }
          ],
          "contourcarpet": [
           {
            "colorbar": {
             "outlinewidth": 0,
             "ticks": ""
            },
            "type": "contourcarpet"
           }
          ],
          "heatmap": [
           {
            "colorbar": {
             "outlinewidth": 0,
             "ticks": ""
            },
            "colorscale": [
             [
              0,
              "#0d0887"
             ],
             [
              0.1111111111111111,
              "#46039f"
             ],
             [
              0.2222222222222222,
              "#7201a8"
             ],
             [
              0.3333333333333333,
              "#9c179e"
             ],
             [
              0.4444444444444444,
              "#bd3786"
             ],
             [
              0.5555555555555556,
              "#d8576b"
             ],
             [
              0.6666666666666666,
              "#ed7953"
             ],
             [
              0.7777777777777778,
              "#fb9f3a"
             ],
             [
              0.8888888888888888,
              "#fdca26"
             ],
             [
              1,
              "#f0f921"
             ]
            ],
            "type": "heatmap"
           }
          ],
          "heatmapgl": [
           {
            "colorbar": {
             "outlinewidth": 0,
             "ticks": ""
            },
            "colorscale": [
             [
              0,
              "#0d0887"
             ],
             [
              0.1111111111111111,
              "#46039f"
             ],
             [
              0.2222222222222222,
              "#7201a8"
             ],
             [
              0.3333333333333333,
              "#9c179e"
             ],
             [
              0.4444444444444444,
              "#bd3786"
             ],
             [
              0.5555555555555556,
              "#d8576b"
             ],
             [
              0.6666666666666666,
              "#ed7953"
             ],
             [
              0.7777777777777778,
              "#fb9f3a"
             ],
             [
              0.8888888888888888,
              "#fdca26"
             ],
             [
              1,
              "#f0f921"
             ]
            ],
            "type": "heatmapgl"
           }
          ],
          "histogram": [
           {
            "marker": {
             "pattern": {
              "fillmode": "overlay",
              "size": 10,
              "solidity": 0.2
             }
            },
            "type": "histogram"
           }
          ],
          "histogram2d": [
           {
            "colorbar": {
             "outlinewidth": 0,
             "ticks": ""
            },
            "colorscale": [
             [
              0,
              "#0d0887"
             ],
             [
              0.1111111111111111,
              "#46039f"
             ],
             [
              0.2222222222222222,
              "#7201a8"
             ],
             [
              0.3333333333333333,
              "#9c179e"
             ],
             [
              0.4444444444444444,
              "#bd3786"
             ],
             [
              0.5555555555555556,
              "#d8576b"
             ],
             [
              0.6666666666666666,
              "#ed7953"
             ],
             [
              0.7777777777777778,
              "#fb9f3a"
             ],
             [
              0.8888888888888888,
              "#fdca26"
             ],
             [
              1,
              "#f0f921"
             ]
            ],
            "type": "histogram2d"
           }
          ],
          "histogram2dcontour": [
           {
            "colorbar": {
             "outlinewidth": 0,
             "ticks": ""
            },
            "colorscale": [
             [
              0,
              "#0d0887"
             ],
             [
              0.1111111111111111,
              "#46039f"
             ],
             [
              0.2222222222222222,
              "#7201a8"
             ],
             [
              0.3333333333333333,
              "#9c179e"
             ],
             [
              0.4444444444444444,
              "#bd3786"
             ],
             [
              0.5555555555555556,
              "#d8576b"
             ],
             [
              0.6666666666666666,
              "#ed7953"
             ],
             [
              0.7777777777777778,
              "#fb9f3a"
             ],
             [
              0.8888888888888888,
              "#fdca26"
             ],
             [
              1,
              "#f0f921"
             ]
            ],
            "type": "histogram2dcontour"
           }
          ],
          "mesh3d": [
           {
            "colorbar": {
             "outlinewidth": 0,
             "ticks": ""
            },
            "type": "mesh3d"
           }
          ],
          "parcoords": [
           {
            "line": {
             "colorbar": {
              "outlinewidth": 0,
              "ticks": ""
             }
            },
            "type": "parcoords"
           }
          ],
          "pie": [
           {
            "automargin": true,
            "type": "pie"
           }
          ],
          "scatter": [
           {
            "fillpattern": {
             "fillmode": "overlay",
             "size": 10,
             "solidity": 0.2
            },
            "type": "scatter"
           }
          ],
          "scatter3d": [
           {
            "line": {
             "colorbar": {
              "outlinewidth": 0,
              "ticks": ""
             }
            },
            "marker": {
             "colorbar": {
              "outlinewidth": 0,
              "ticks": ""
             }
            },
            "type": "scatter3d"
           }
          ],
          "scattercarpet": [
           {
            "marker": {
             "colorbar": {
              "outlinewidth": 0,
              "ticks": ""
             }
            },
            "type": "scattercarpet"
           }
          ],
          "scattergeo": [
           {
            "marker": {
             "colorbar": {
              "outlinewidth": 0,
              "ticks": ""
             }
            },
            "type": "scattergeo"
           }
          ],
          "scattergl": [
           {
            "marker": {
             "colorbar": {
              "outlinewidth": 0,
              "ticks": ""
             }
            },
            "type": "scattergl"
           }
          ],
          "scattermapbox": [
           {
            "marker": {
             "colorbar": {
              "outlinewidth": 0,
              "ticks": ""
             }
            },
            "type": "scattermapbox"
           }
          ],
          "scatterpolar": [
           {
            "marker": {
             "colorbar": {
              "outlinewidth": 0,
              "ticks": ""
             }
            },
            "type": "scatterpolar"
           }
          ],
          "scatterpolargl": [
           {
            "marker": {
             "colorbar": {
              "outlinewidth": 0,
              "ticks": ""
             }
            },
            "type": "scatterpolargl"
           }
          ],
          "scatterternary": [
           {
            "marker": {
             "colorbar": {
              "outlinewidth": 0,
              "ticks": ""
             }
            },
            "type": "scatterternary"
           }
          ],
          "surface": [
           {
            "colorbar": {
             "outlinewidth": 0,
             "ticks": ""
            },
            "colorscale": [
             [
              0,
              "#0d0887"
             ],
             [
              0.1111111111111111,
              "#46039f"
             ],
             [
              0.2222222222222222,
              "#7201a8"
             ],
             [
              0.3333333333333333,
              "#9c179e"
             ],
             [
              0.4444444444444444,
              "#bd3786"
             ],
             [
              0.5555555555555556,
              "#d8576b"
             ],
             [
              0.6666666666666666,
              "#ed7953"
             ],
             [
              0.7777777777777778,
              "#fb9f3a"
             ],
             [
              0.8888888888888888,
              "#fdca26"
             ],
             [
              1,
              "#f0f921"
             ]
            ],
            "type": "surface"
           }
          ],
          "table": [
           {
            "cells": {
             "fill": {
              "color": "#EBF0F8"
             },
             "line": {
              "color": "white"
             }
            },
            "header": {
             "fill": {
              "color": "#C8D4E3"
             },
             "line": {
              "color": "white"
             }
            },
            "type": "table"
           }
          ]
         },
         "layout": {
          "annotationdefaults": {
           "arrowcolor": "#2a3f5f",
           "arrowhead": 0,
           "arrowwidth": 1
          },
          "autotypenumbers": "strict",
          "coloraxis": {
           "colorbar": {
            "outlinewidth": 0,
            "ticks": ""
           }
          },
          "colorscale": {
           "diverging": [
            [
             0,
             "#8e0152"
            ],
            [
             0.1,
             "#c51b7d"
            ],
            [
             0.2,
             "#de77ae"
            ],
            [
             0.3,
             "#f1b6da"
            ],
            [
             0.4,
             "#fde0ef"
            ],
            [
             0.5,
             "#f7f7f7"
            ],
            [
             0.6,
             "#e6f5d0"
            ],
            [
             0.7,
             "#b8e186"
            ],
            [
             0.8,
             "#7fbc41"
            ],
            [
             0.9,
             "#4d9221"
            ],
            [
             1,
             "#276419"
            ]
           ],
           "sequential": [
            [
             0,
             "#0d0887"
            ],
            [
             0.1111111111111111,
             "#46039f"
            ],
            [
             0.2222222222222222,
             "#7201a8"
            ],
            [
             0.3333333333333333,
             "#9c179e"
            ],
            [
             0.4444444444444444,
             "#bd3786"
            ],
            [
             0.5555555555555556,
             "#d8576b"
            ],
            [
             0.6666666666666666,
             "#ed7953"
            ],
            [
             0.7777777777777778,
             "#fb9f3a"
            ],
            [
             0.8888888888888888,
             "#fdca26"
            ],
            [
             1,
             "#f0f921"
            ]
           ],
           "sequentialminus": [
            [
             0,
             "#0d0887"
            ],
            [
             0.1111111111111111,
             "#46039f"
            ],
            [
             0.2222222222222222,
             "#7201a8"
            ],
            [
             0.3333333333333333,
             "#9c179e"
            ],
            [
             0.4444444444444444,
             "#bd3786"
            ],
            [
             0.5555555555555556,
             "#d8576b"
            ],
            [
             0.6666666666666666,
             "#ed7953"
            ],
            [
             0.7777777777777778,
             "#fb9f3a"
            ],
            [
             0.8888888888888888,
             "#fdca26"
            ],
            [
             1,
             "#f0f921"
            ]
           ]
          },
          "colorway": [
           "#636efa",
           "#EF553B",
           "#00cc96",
           "#ab63fa",
           "#FFA15A",
           "#19d3f3",
           "#FF6692",
           "#B6E880",
           "#FF97FF",
           "#FECB52"
          ],
          "font": {
           "color": "#2a3f5f"
          },
          "geo": {
           "bgcolor": "white",
           "lakecolor": "white",
           "landcolor": "#E5ECF6",
           "showlakes": true,
           "showland": true,
           "subunitcolor": "white"
          },
          "hoverlabel": {
           "align": "left"
          },
          "hovermode": "closest",
          "mapbox": {
           "style": "light"
          },
          "paper_bgcolor": "white",
          "plot_bgcolor": "#E5ECF6",
          "polar": {
           "angularaxis": {
            "gridcolor": "white",
            "linecolor": "white",
            "ticks": ""
           },
           "bgcolor": "#E5ECF6",
           "radialaxis": {
            "gridcolor": "white",
            "linecolor": "white",
            "ticks": ""
           }
          },
          "scene": {
           "xaxis": {
            "backgroundcolor": "#E5ECF6",
            "gridcolor": "white",
            "gridwidth": 2,
            "linecolor": "white",
            "showbackground": true,
            "ticks": "",
            "zerolinecolor": "white"
           },
           "yaxis": {
            "backgroundcolor": "#E5ECF6",
            "gridcolor": "white",
            "gridwidth": 2,
            "linecolor": "white",
            "showbackground": true,
            "ticks": "",
            "zerolinecolor": "white"
           },
           "zaxis": {
            "backgroundcolor": "#E5ECF6",
            "gridcolor": "white",
            "gridwidth": 2,
            "linecolor": "white",
            "showbackground": true,
            "ticks": "",
            "zerolinecolor": "white"
           }
          },
          "shapedefaults": {
           "line": {
            "color": "#2a3f5f"
           }
          },
          "ternary": {
           "aaxis": {
            "gridcolor": "white",
            "linecolor": "white",
            "ticks": ""
           },
           "baxis": {
            "gridcolor": "white",
            "linecolor": "white",
            "ticks": ""
           },
           "bgcolor": "#E5ECF6",
           "caxis": {
            "gridcolor": "white",
            "linecolor": "white",
            "ticks": ""
           }
          },
          "title": {
           "x": 0.05
          },
          "xaxis": {
           "automargin": true,
           "gridcolor": "white",
           "linecolor": "white",
           "ticks": "",
           "title": {
            "standoff": 15
           },
           "zerolinecolor": "white",
           "zerolinewidth": 2
          },
          "yaxis": {
           "automargin": true,
           "gridcolor": "white",
           "linecolor": "white",
           "ticks": "",
           "title": {
            "standoff": 15
           },
           "zerolinecolor": "white",
           "zerolinewidth": 2
          }
         }
        }
       }
      },
      "image/png": "[encoded data removed]",
      "text/html": [
       "<div>                            <div id=\"5898fa8e-63f0-41b1-b5de-549c8e0b9ba1\" class=\"plotly-graph-div\" style=\"height:525px; width:100%;\"></div>            <script type=\"text/javascript\">                require([\"plotly\"], function(Plotly) {                    window.PLOTLYENV=window.PLOTLYENV || {};                                    if (document.getElementById(\"5898fa8e-63f0-41b1-b5de-549c8e0b9ba1\")) {                    Plotly.newPlot(                        \"5898fa8e-63f0-41b1-b5de-549c8e0b9ba1\",                        [{\"dimensions\":[{\"label\":\"gamma\",\"range\":[0.0001,10],\"tickformat\":\".1e\",\"values\":[2.4030222287030965,2.4030222287030965,2.4030222287030965,2.4030222287030965,2.4030222287030965,2.4030222287030965,2.4030222287030965,2.4030222287030965,2.4030222287030965,10.0,10.0,10.0,10.0,10.0,10.0,10.0,10.0,10.0,10.0,10.0,10.0,10.0,10.0,10.0,10.0,10.0,10.0,0.29684711000235803,0.29684711000235803,0.29684711000235803,0.29684711000235803,0.29684711000235803,0.29684711000235803,0.29684711000235803,0.29684711000235803,0.29684711000235803,10.0,10.0,10.0,10.0,10.0,10.0,10.0,10.0,10.0,0.3091786431163157,0.3091786431163157,0.3091786431163157,0.3091786431163157,0.3091786431163157,0.3091786431163157,0.3091786431163157,0.3091786431163157,0.3091786431163157,0.022800163904172815,0.022800163904172815,0.022800163904172815,0.022800163904172815,0.022800163904172815,0.022800163904172815,0.022800163904172815,0.022800163904172815,0.022800163904172815,0.4817524527776504,0.4817524527776504,0.4817524527776504,0.4817524527776504,0.4817524527776504,0.4817524527776504,0.4817524527776504,0.4817524527776504,0.4817524527776504,1.3106203547479516,1.3106203547479516,1.3106203547479516,1.3106203547479516,1.3106203547479516,1.3106203547479516,1.3106203547479516,1.3106203547479516,1.3106203547479516,0.2049353926637858,0.2049353926637858,0.2049353926637858,0.2049353926637858,0.2049353926637858,0.2049353926637858,0.2049353926637858,0.2049353926637858,0.2049353926637858,2.337005826462768,2.337005826462768,2.337005826462768,2.337005826462768,2.337005826462768,2.337005826462768,2.337005826462768,2.337005826462768,2.337005826462768,0.4135379828394587,0.4135379828394587,0.4135379828394587,0.4135379828394587,0.4135379828394587,0.4135379828394587,0.4135379828394587,0.4135379828394587,0.4135379828394587,0.004275706706444906,0.004275706706444906,0.004275706706444906,0.004275706706444906,0.004275706706444906,0.004275706706444906,0.004275706706444906,0.004275706706444906,0.004275706706444906,0.05414347114075958,0.05414347114075958,0.05414347114075958,0.05414347114075958,0.05414347114075958,0.05414347114075958,0.05414347114075958,0.05414347114075958,0.05414347114075958,0.10908087229021736,0.10908087229021736,0.10908087229021736,0.10908087229021736,0.10908087229021736,0.10908087229021736,0.10908087229021736,0.10908087229021736,0.10908087229021736,0.13808740148571466,0.13808740148571466,0.13808740148571466,0.13808740148571466,0.13808740148571466,0.13808740148571466,0.13808740148571466,0.13808740148571466,0.13808740148571466,0.028563311593813846,0.028563311593813846,0.028563311593813846,0.028563311593813846,0.028563311593813846,0.028563311593813846,0.028563311593813846,0.028563311593813846,0.028563311593813846,0.001310155460989631,0.001310155460989631,0.001310155460989631,0.001310155460989631,0.001310155460989631,0.001310155460989631,0.001310155460989631,0.001310155460989631,0.001310155460989631,1.933355054057564,1.933355054057564,1.933355054057564,1.933355054057564,1.933355054057564,1.933355054057564,1.933355054057564,1.933355054057564,1.933355054057564,1.478119962974792,1.478119962974792,1.478119962974792,1.478119962974792,1.478119962974792,1.478119962974792,1.478119962974792,1.478119962974792,1.478119962974792]},{\"label\":\"learning_rate\",\"range\":[0.001,1],\"tickformat\":\".1e\",\"values\":[0.027441324586799255,0.027441324586799255,0.027441324586799255,0.027441324586799255,0.027441324586799255,0.027441324586799255,0.027441324586799255,0.027441324586799255,0.027441324586799255,0.023406515094548327,0.023406515094548327,0.023406515094548327,0.023406515094548327,0.023406515094548327,0.023406515094548327,0.023406515094548327,0.023406515094548327,0.023406515094548327,0.02840653541665205,0.02840653541665205,0.02840653541665205,0.02840653541665205,0.02840653541665205,0.02840653541665205,0.02840653541665205,0.02840653541665205,0.02840653541665205,0.019740305761524315,0.019740305761524315,0.019740305761524315,0.019740305761524315,0.019740305761524315,0.019740305761524315,0.019740305761524315,0.019740305761524315,0.019740305761524315,0.025713391922367115,0.025713391922367115,0.025713391922367115,0.025713391922367115,0.025713391922367115,0.025713391922367115,0.025713391922367115,0.025713391922367115,0.025713391922367115,0.033295389989577755,0.033295389989577755,0.033295389989577755,0.033295389989577755,0.033295389989577755,0.033295389989577755,0.033295389989577755,0.033295389989577755,0.033295389989577755,0.05784328582345792,0.05784328582345792,0.05784328582345792,0.05784328582345792,0.05784328582345792,0.05784328582345792,0.05784328582345792,0.05784328582345792,0.05784328582345792,0.049735052686393215,0.049735052686393215,0.049735052686393215,0.049735052686393215,0.049735052686393215,0.049735052686393215,0.049735052686393215,0.049735052686393215,0.049735052686393215,0.08884174527808006,0.08884174527808006,0.08884174527808006,0.08884174527808006,0.08884174527808006,0.08884174527808006,0.08884174527808006,0.08884174527808006,0.08884174527808006,0.08178031679380796,0.08178031679380796,0.08178031679380796,0.08178031679380796,0.08178031679380796,0.08178031679380796,0.08178031679380796,0.08178031679380796,0.08178031679380796,0.04772850920861107,0.04772850920861107,0.04772850920861107,0.04772850920861107,0.04772850920861107,0.04772850920861107,0.04772850920861107,0.04772850920861107,0.04772850920861107,0.043612348779380264,0.043612348779380264,0.043612348779380264,0.043612348779380264,0.043612348779380264,0.043612348779380264,0.043612348779380264,0.043612348779380264,0.043612348779380264,0.27893651188680624,0.27893651188680624,0.27893651188680624,0.27893651188680624,0.27893651188680624,0.27893651188680624,0.27893651188680624,0.27893651188680624,0.27893651188680624,0.002407344397181605,0.002407344397181605,0.002407344397181605,0.002407344397181605,0.002407344397181605,0.002407344397181605,0.002407344397181605,0.002407344397181605,0.002407344397181605,0.0020671087403816017,0.0020671087403816017,0.0020671087403816017,0.0020671087403816017,0.0020671087403816017,0.0020671087403816017,0.0020671087403816017,0.0020671087403816017,0.0020671087403816017,0.042087197051592765,0.042087197051592765,0.042087197051592765,0.042087197051592765,0.042087197051592765,0.042087197051592765,0.042087197051592765,0.042087197051592765,0.042087197051592765,0.8387502160560293,0.8387502160560293,0.8387502160560293,0.8387502160560293,0.8387502160560293,0.8387502160560293,0.8387502160560293,0.8387502160560293,0.8387502160560293,0.001260640032214199,0.001260640032214199,0.001260640032214199,0.001260640032214199,0.001260640032214199,0.001260640032214199,0.001260640032214199,0.001260640032214199,0.001260640032214199,0.105092415344995,0.105092415344995,0.105092415344995,0.105092415344995,0.105092415344995,0.105092415344995,0.105092415344995,0.105092415344995,0.105092415344995,0.19354104676321485,0.19354104676321485,0.19354104676321485,0.19354104676321485,0.19354104676321485,0.19354104676321485,0.19354104676321485,0.19354104676321485,0.19354104676321485]},{\"label\":\"L1 regularization\",\"range\":[0.0001,10],\"tickformat\":\".1e\",\"values\":[0.0009656845235327988,0.0009656845235327988,0.0009656845235327988,0.0009656845235327988,0.0009656845235327988,0.0009656845235327988,0.0009656845235327988,0.0009656845235327988,0.0009656845235327988,0.00014709056412449097,0.00014709056412449097,0.00014709056412449097,0.00014709056412449097,0.00014709056412449097,0.00014709056412449097,0.00014709056412449097,0.00014709056412449097,0.00014709056412449097,0.0067347840034272625,0.0067347840034272625,0.0067347840034272625,0.0067347840034272625,0.0067347840034272625,0.0067347840034272625,0.0067347840034272625,0.0067347840034272625,0.0067347840034272625,0.0029230252596608858,0.0029230252596608858,0.0029230252596608858,0.0029230252596608858,0.0029230252596608858,0.0029230252596608858,0.0029230252596608858,0.0029230252596608858,0.0029230252596608858,0.0011090394401924084,0.0011090394401924084,0.0011090394401924084,0.0011090394401924084,0.0011090394401924084,0.0011090394401924084,0.0011090394401924084,0.0011090394401924084,0.0011090394401924084,0.0005025386542172602,0.0005025386542172602,0.0005025386542172602,0.0005025386542172602,0.0005025386542172602,0.0005025386542172602,0.0005025386542172602,0.0005025386542172602,0.0005025386542172602,0.007205885252508122,0.007205885252508122,0.007205885252508122,0.007205885252508122,0.007205885252508122,0.007205885252508122,0.007205885252508122,0.007205885252508122,0.007205885252508122,0.0004984408989296505,0.0004984408989296505,0.0004984408989296505,0.0004984408989296505,0.0004984408989296505,0.0004984408989296505,0.0004984408989296505,0.0004984408989296505,0.0004984408989296505,0.015519942450425954,0.015519942450425954,0.015519942450425954,0.015519942450425954,0.015519942450425954,0.015519942450425954,0.015519942450425954,0.015519942450425954,0.015519942450425954,0.07509147108901736,0.07509147108901736,0.07509147108901736,0.07509147108901736,0.07509147108901736,0.07509147108901736,0.07509147108901736,0.07509147108901736,0.07509147108901736,0.009248398672495953,0.009248398672495953,0.009248398672495953,0.009248398672495953,0.009248398672495953,0.009248398672495953,0.009248398672495953,0.009248398672495953,0.009248398672495953,0.020520973400530933,0.020520973400530933,0.020520973400530933,0.020520973400530933,0.020520973400530933,0.020520973400530933,0.020520973400530933,0.020520973400530933,0.020520973400530933,0.09794299441792122,0.09794299441792122,0.09794299441792122,0.09794299441792122,0.09794299441792122,0.09794299441792122,0.09794299441792122,0.09794299441792122,0.09794299441792122,4.970806230072528,4.970806230072528,4.970806230072528,4.970806230072528,4.970806230072528,4.970806230072528,4.970806230072528,4.970806230072528,4.970806230072528,0.00019514250184469791,0.00019514250184469791,0.00019514250184469791,0.00019514250184469791,0.00019514250184469791,0.00019514250184469791,0.00019514250184469791,0.00019514250184469791,0.00019514250184469791,0.006090396610669746,0.006090396610669746,0.006090396610669746,0.006090396610669746,0.006090396610669746,0.006090396610669746,0.006090396610669746,0.006090396610669746,0.006090396610669746,0.00017204906372281673,0.00017204906372281673,0.00017204906372281673,0.00017204906372281673,0.00017204906372281673,0.00017204906372281673,0.00017204906372281673,0.00017204906372281673,0.00017204906372281673,0.6400069202784923,0.6400069202784923,0.6400069202784923,0.6400069202784923,0.6400069202784923,0.6400069202784923,0.6400069202784923,0.6400069202784923,0.6400069202784923,0.001198074489566105,0.001198074489566105,0.001198074489566105,0.001198074489566105,0.001198074489566105,0.001198074489566105,0.001198074489566105,0.001198074489566105,0.001198074489566105,0.0003311573473703904,0.0003311573473703904,0.0003311573473703904,0.0003311573473703904,0.0003311573473703904,0.0003311573473703904,0.0003311573473703904,0.0003311573473703904,0.0003311573473703904]},{\"label\":\"L2 regularization\",\"range\":[0.0001,10],\"tickformat\":\".1e\",\"values\":[2.3371713344117837,2.3371713344117837,2.3371713344117837,2.3371713344117837,2.3371713344117837,2.3371713344117837,2.3371713344117837,2.3371713344117837,2.3371713344117837,10.0,10.0,10.0,10.0,10.0,10.0,10.0,10.0,10.0,10.0,10.0,10.0,10.0,10.0,10.0,10.0,10.0,10.0,2.93429299102738,2.93429299102738,2.93429299102738,2.93429299102738,2.93429299102738,2.93429299102738,2.93429299102738,2.93429299102738,2.93429299102738,0.3327521242270016,0.3327521242270016,0.3327521242270016,0.3327521242270016,0.3327521242270016,0.3327521242270016,0.3327521242270016,0.3327521242270016,0.3327521242270016,0.04049884228001582,0.04049884228001582,0.04049884228001582,0.04049884228001582,0.04049884228001582,0.04049884228001582,0.04049884228001582,0.04049884228001582,0.04049884228001582,2.100670460339007,2.100670460339007,2.100670460339007,2.100670460339007,2.100670460339007,2.100670460339007,2.100670460339007,2.100670460339007,2.100670460339007,10.0,10.0,10.0,10.0,10.0,10.0,10.0,10.0,10.0,10.0,10.0,10.0,10.0,10.0,10.0,10.0,10.0,10.0,0.002228048606978082,0.002228048606978082,0.002228048606978082,0.002228048606978082,0.002228048606978082,0.002228048606978082,0.002228048606978082,0.002228048606978082,0.002228048606978082,0.0013240705231768372,0.0013240705231768372,0.0013240705231768372,0.0013240705231768372,0.0013240705231768372,0.0013240705231768372,0.0013240705231768372,0.0013240705231768372,0.0013240705231768372,0.031949094799903856,0.031949094799903856,0.031949094799903856,0.031949094799903856,0.031949094799903856,0.031949094799903856,0.031949094799903856,0.031949094799903856,0.031949094799903856,0.3601363313202226,0.3601363313202226,0.3601363313202226,0.3601363313202226,0.3601363313202226,0.3601363313202226,0.3601363313202226,0.3601363313202226,0.3601363313202226,0.045889736536541104,0.045889736536541104,0.045889736536541104,0.045889736536541104,0.045889736536541104,0.045889736536541104,0.045889736536541104,0.045889736536541104,0.045889736536541104,0.000905906529837955,0.000905906529837955,0.000905906529837955,0.000905906529837955,0.000905906529837955,0.000905906529837955,0.000905906529837955,0.000905906529837955,0.000905906529837955,0.0008309333177086495,0.0008309333177086495,0.0008309333177086495,0.0008309333177086495,0.0008309333177086495,0.0008309333177086495,0.0008309333177086495,0.0008309333177086495,0.0008309333177086495,0.1205383299328117,0.1205383299328117,0.1205383299328117,0.1205383299328117,0.1205383299328117,0.1205383299328117,0.1205383299328117,0.1205383299328117,0.1205383299328117,0.00035789044393460287,0.00035789044393460287,0.00035789044393460287,0.00035789044393460287,0.00035789044393460287,0.00035789044393460287,0.00035789044393460287,0.00035789044393460287,0.00035789044393460287,0.24529099277905417,0.24529099277905417,0.24529099277905417,0.24529099277905417,0.24529099277905417,0.24529099277905417,0.24529099277905417,0.24529099277905417,0.24529099277905417,6.175935621392623,6.175935621392623,6.175935621392623,6.175935621392623,6.175935621392623,6.175935621392623,6.175935621392623,6.175935621392623,6.175935621392623]}],\"line\":{\"cmax\":1.0,\"cmin\":0.93,\"color\":[0.800759142712443,0.5825624722776559,0.814118435748772,0.7796628614715851,0.9747999390125128,0.743333058216475,0.7367321520442949,0.9204089295297968,0.7588163568344891,0.7920000033988774,0.5705896163006959,0.8063523654212923,0.7730860769492693,0.9719802883392252,0.7478199811585212,0.7320676169560668,0.9154737216235178,0.7500958535692903,0.7880926445084236,0.571030248179207,0.8136230500396611,0.7820155744724867,0.9723492407034132,0.7463129555246905,0.7357971228492959,0.9188403271348636,0.759534714433934,0.7997651460409202,0.5762828118866684,0.8004375033706994,0.7699887212149369,0.9718885661865996,0.7360185330505992,0.7291093178328006,0.9119009013795132,0.7335613917248723,0.8002238179301998,0.580157767901165,0.8145170378378506,0.7823222664895887,0.975584872830634,0.7453847263330212,0.7383961337283192,0.9200195509784898,0.757138013915299,0.7881754183535672,0.5796133220158025,0.8214126833224812,0.7833043755949474,0.9764220277601754,0.7416661805873206,0.7410009509328931,0.917402377210501,0.7574648908691248,0.7823510781579621,0.5784441217048862,0.8212601775971957,0.7861691435533613,0.9790984903097912,0.7470882579714684,0.7422247117875953,0.9136990710750496,0.7780961850630718,0.7778778035540893,0.5738222979749605,0.8154640395691329,0.7963347677322309,0.9789405681169152,0.7521658620972368,0.7318472688301823,0.9153345504058772,0.7687055201675799,0.7781769660399703,0.574157992654105,0.824604156079381,0.7831398822428324,0.9802282013184994,0.7492700416419513,0.7362473276456533,0.9163500681924248,0.774528292263018,0.7761598927805661,0.5802318634886895,0.8194498078290909,0.7882574599086873,0.9787142337899356,0.7398399865712276,0.7425636643153513,0.9166490809140272,0.7733956684216179,0.7825090100072121,0.5831951062614963,0.8242415895386904,0.790641546261223,0.9798913856837264,0.740851331332396,0.7378254522304387,0.913347214858958,0.7575002359761401,0.7854973746635349,0.5822648142576697,0.8234768989842173,0.7944289053092973,0.9792745726745538,0.7420624321329669,0.740048673872923,0.9149574070499108,0.7642388626347499,0.801723142734235,0.5791827741192916,0.8163251972767444,0.7721601021032427,0.975633946005933,0.7213788527458004,0.7362070564816124,0.9052398308619508,0.7779274997987352,0.7873598369974871,0.5523699201312092,0.7561592807252476,0.7561057506325449,0.9529066572815812,0.7273250312536595,0.7500786064530796,0.9053262219865248,0.7094706601174002,0.7891086543058394,0.5534636778004294,0.7569141334345254,0.75972485958332,0.952040921222758,0.7144055606635327,0.7500870146219506,0.9018015709184692,0.7124682096191602,0.7839067073005554,0.579415370709783,0.8236265887543711,0.7949659788764186,0.9790919573654268,0.7432907493111646,0.7374843494131752,0.913538186592976,0.7665376115139665,0.7823736241388874,0.5481482646768127,0.8133360868905214,0.7428048619354639,0.9578304791786678,0.6882181196553319,0.7337948880424063,0.8757119751119484,0.7189148067897629,0.7875191776173823,0.5501894510188353,0.7552811048337915,0.7573778528659895,0.9511746027619808,0.7212552780755407,0.7502478497027472,0.8975493183228614,0.709974975811229,0.7690564957628429,0.5796485190664578,0.8243268167036195,0.7789608872552117,0.9757261441732088,0.7551835502697825,0.745141183491834,0.9156738544274552,0.7794541420900692,0.7848816648584971,0.5789156402923454,0.8106193821015197,0.7793396343168997,0.9786057414434758,0.7188857303692847,0.7363955030752587,0.904744491398452,0.7908271598429667],\"colorscale\":[[0.0,\"rgb(0,0,0)\"],[0.2,\"rgb(30,0,100)\"],[0.4,\"rgb(120,0,100)\"],[0.6,\"rgb(160,90,0)\"],[0.8,\"rgb(230,200,0)\"],[1.0,\"rgb(255,250,220)\"]],\"showscale\":true},\"type\":\"parcoords\"}],                        {\"template\":{\"data\":{\"histogram2dcontour\":[{\"type\":\"histogram2dcontour\",\"colorbar\":{\"outlinewidth\":0,\"ticks\":\"\"},\"colorscale\":[[0.0,\"#0d0887\"],[0.1111111111111111,\"#46039f\"],[0.2222222222222222,\"#7201a8\"],[0.3333333333333333,\"#9c179e\"],[0.4444444444444444,\"#bd3786\"],[0.5555555555555556,\"#d8576b\"],[0.6666666666666666,\"#ed7953\"],[0.7777777777777778,\"#fb9f3a\"],[0.8888888888888888,\"#fdca26\"],[1.0,\"#f0f921\"]]}],\"choropleth\":[{\"type\":\"choropleth\",\"colorbar\":{\"outlinewidth\":0,\"ticks\":\"\"}}],\"histogram2d\":[{\"type\":\"histogram2d\",\"colorbar\":{\"outlinewidth\":0,\"ticks\":\"\"},\"colorscale\":[[0.0,\"#0d0887\"],[0.1111111111111111,\"#46039f\"],[0.2222222222222222,\"#7201a8\"],[0.3333333333333333,\"#9c179e\"],[0.4444444444444444,\"#bd3786\"],[0.5555555555555556,\"#d8576b\"],[0.6666666666666666,\"#ed7953\"],[0.7777777777777778,\"#fb9f3a\"],[0.8888888888888888,\"#fdca26\"],[1.0,\"#f0f921\"]]}],\"heatmap\":[{\"type\":\"heatmap\",\"colorbar\":{\"outlinewidth\":0,\"ticks\":\"\"},\"colorscale\":[[0.0,\"#0d0887\"],[0.1111111111111111,\"#46039f\"],[0.2222222222222222,\"#7201a8\"],[0.3333333333333333,\"#9c179e\"],[0.4444444444444444,\"#bd3786\"],[0.5555555555555556,\"#d8576b\"],[0.6666666666666666,\"#ed7953\"],[0.7777777777777778,\"#fb9f3a\"],[0.8888888888888888,\"#fdca26\"],[1.0,\"#f0f921\"]]}],\"heatmapgl\":[{\"type\":\"heatmapgl\",\"colorbar\":{\"outlinewidth\":0,\"ticks\":\"\"},\"colorscale\":[[0.0,\"#0d0887\"],[0.1111111111111111,\"#46039f\"],[0.2222222222222222,\"#7201a8\"],[0.3333333333333333,\"#9c179e\"],[0.4444444444444444,\"#bd3786\"],[0.5555555555555556,\"#d8576b\"],[0.6666666666666666,\"#ed7953\"],[0.7777777777777778,\"#fb9f3a\"],[0.8888888888888888,\"#fdca26\"],[1.0,\"#f0f921\"]]}],\"contourcarpet\":[{\"type\":\"contourcarpet\",\"colorbar\":{\"outlinewidth\":0,\"ticks\":\"\"}}],\"contour\":[{\"type\":\"contour\",\"colorbar\":{\"outlinewidth\":0,\"ticks\":\"\"},\"colorscale\":[[0.0,\"#0d0887\"],[0.1111111111111111,\"#46039f\"],[0.2222222222222222,\"#7201a8\"],[0.3333333333333333,\"#9c179e\"],[0.4444444444444444,\"#bd3786\"],[0.5555555555555556,\"#d8576b\"],[0.6666666666666666,\"#ed7953\"],[0.7777777777777778,\"#fb9f3a\"],[0.8888888888888888,\"#fdca26\"],[1.0,\"#f0f921\"]]}],\"surface\":[{\"type\":\"surface\",\"colorbar\":{\"outlinewidth\":0,\"ticks\":\"\"},\"colorscale\":[[0.0,\"#0d0887\"],[0.1111111111111111,\"#46039f\"],[0.2222222222222222,\"#7201a8\"],[0.3333333333333333,\"#9c179e\"],[0.4444444444444444,\"#bd3786\"],[0.5555555555555556,\"#d8576b\"],[0.6666666666666666,\"#ed7953\"],[0.7777777777777778,\"#fb9f3a\"],[0.8888888888888888,\"#fdca26\"],[1.0,\"#f0f921\"]]}],\"mesh3d\":[{\"type\":\"mesh3d\",\"colorbar\":{\"outlinewidth\":0,\"ticks\":\"\"}}],\"scatter\":[{\"fillpattern\":{\"fillmode\":\"overlay\",\"size\":10,\"solidity\":0.2},\"type\":\"scatter\"}],\"parcoords\":[{\"type\":\"parcoords\",\"line\":{\"colorbar\":{\"outlinewidth\":0,\"ticks\":\"\"}}}],\"scatterpolargl\":[{\"type\":\"scatterpolargl\",\"marker\":{\"colorbar\":{\"outlinewidth\":0,\"ticks\":\"\"}}}],\"bar\":[{\"error_x\":{\"color\":\"#2a3f5f\"},\"error_y\":{\"color\":\"#2a3f5f\"},\"marker\":{\"line\":{\"color\":\"#E5ECF6\",\"width\":0.5},\"pattern\":{\"fillmode\":\"overlay\",\"size\":10,\"solidity\":0.2}},\"type\":\"bar\"}],\"scattergeo\":[{\"type\":\"scattergeo\",\"marker\":{\"colorbar\":{\"outlinewidth\":0,\"ticks\":\"\"}}}],\"scatterpolar\":[{\"type\":\"scatterpolar\",\"marker\":{\"colorbar\":{\"outlinewidth\":0,\"ticks\":\"\"}}}],\"histogram\":[{\"marker\":{\"pattern\":{\"fillmode\":\"overlay\",\"size\":10,\"solidity\":0.2}},\"type\":\"histogram\"}],\"scattergl\":[{\"type\":\"scattergl\",\"marker\":{\"colorbar\":{\"outlinewidth\":0,\"ticks\":\"\"}}}],\"scatter3d\":[{\"type\":\"scatter3d\",\"line\":{\"colorbar\":{\"outlinewidth\":0,\"ticks\":\"\"}},\"marker\":{\"colorbar\":{\"outlinewidth\":0,\"ticks\":\"\"}}}],\"scattermapbox\":[{\"type\":\"scattermapbox\",\"marker\":{\"colorbar\":{\"outlinewidth\":0,\"ticks\":\"\"}}}],\"scatterternary\":[{\"type\":\"scatterternary\",\"marker\":{\"colorbar\":{\"outlinewidth\":0,\"ticks\":\"\"}}}],\"scattercarpet\":[{\"type\":\"scattercarpet\",\"marker\":{\"colorbar\":{\"outlinewidth\":0,\"ticks\":\"\"}}}],\"carpet\":[{\"aaxis\":{\"endlinecolor\":\"#2a3f5f\",\"gridcolor\":\"white\",\"linecolor\":\"white\",\"minorgridcolor\":\"white\",\"startlinecolor\":\"#2a3f5f\"},\"baxis\":{\"endlinecolor\":\"#2a3f5f\",\"gridcolor\":\"white\",\"linecolor\":\"white\",\"minorgridcolor\":\"white\",\"startlinecolor\":\"#2a3f5f\"},\"type\":\"carpet\"}],\"table\":[{\"cells\":{\"fill\":{\"color\":\"#EBF0F8\"},\"line\":{\"color\":\"white\"}},\"header\":{\"fill\":{\"color\":\"#C8D4E3\"},\"line\":{\"color\":\"white\"}},\"type\":\"table\"}],\"barpolar\":[{\"marker\":{\"line\":{\"color\":\"#E5ECF6\",\"width\":0.5},\"pattern\":{\"fillmode\":\"overlay\",\"size\":10,\"solidity\":0.2}},\"type\":\"barpolar\"}],\"pie\":[{\"automargin\":true,\"type\":\"pie\"}]},\"layout\":{\"autotypenumbers\":\"strict\",\"colorway\":[\"#636efa\",\"#EF553B\",\"#00cc96\",\"#ab63fa\",\"#FFA15A\",\"#19d3f3\",\"#FF6692\",\"#B6E880\",\"#FF97FF\",\"#FECB52\"],\"font\":{\"color\":\"#2a3f5f\"},\"hovermode\":\"closest\",\"hoverlabel\":{\"align\":\"left\"},\"paper_bgcolor\":\"white\",\"plot_bgcolor\":\"#E5ECF6\",\"polar\":{\"bgcolor\":\"#E5ECF6\",\"angularaxis\":{\"gridcolor\":\"white\",\"linecolor\":\"white\",\"ticks\":\"\"},\"radialaxis\":{\"gridcolor\":\"white\",\"linecolor\":\"white\",\"ticks\":\"\"}},\"ternary\":{\"bgcolor\":\"#E5ECF6\",\"aaxis\":{\"gridcolor\":\"white\",\"linecolor\":\"white\",\"ticks\":\"\"},\"baxis\":{\"gridcolor\":\"white\",\"linecolor\":\"white\",\"ticks\":\"\"},\"caxis\":{\"gridcolor\":\"white\",\"linecolor\":\"white\",\"ticks\":\"\"}},\"coloraxis\":{\"colorbar\":{\"outlinewidth\":0,\"ticks\":\"\"}},\"colorscale\":{\"sequential\":[[0.0,\"#0d0887\"],[0.1111111111111111,\"#46039f\"],[0.2222222222222222,\"#7201a8\"],[0.3333333333333333,\"#9c179e\"],[0.4444444444444444,\"#bd3786\"],[0.5555555555555556,\"#d8576b\"],[0.6666666666666666,\"#ed7953\"],[0.7777777777777778,\"#fb9f3a\"],[0.8888888888888888,\"#fdca26\"],[1.0,\"#f0f921\"]],\"sequentialminus\":[[0.0,\"#0d0887\"],[0.1111111111111111,\"#46039f\"],[0.2222222222222222,\"#7201a8\"],[0.3333333333333333,\"#9c179e\"],[0.4444444444444444,\"#bd3786\"],[0.5555555555555556,\"#d8576b\"],[0.6666666666666666,\"#ed7953\"],[0.7777777777777778,\"#fb9f3a\"],[0.8888888888888888,\"#fdca26\"],[1.0,\"#f0f921\"]],\"diverging\":[[0,\"#8e0152\"],[0.1,\"#c51b7d\"],[0.2,\"#de77ae\"],[0.3,\"#f1b6da\"],[0.4,\"#fde0ef\"],[0.5,\"#f7f7f7\"],[0.6,\"#e6f5d0\"],[0.7,\"#b8e186\"],[0.8,\"#7fbc41\"],[0.9,\"#4d9221\"],[1,\"#276419\"]]},\"xaxis\":{\"gridcolor\":\"white\",\"linecolor\":\"white\",\"ticks\":\"\",\"title\":{\"standoff\":15},\"zerolinecolor\":\"white\",\"automargin\":true,\"zerolinewidth\":2},\"yaxis\":{\"gridcolor\":\"white\",\"linecolor\":\"white\",\"ticks\":\"\",\"title\":{\"standoff\":15},\"zerolinecolor\":\"white\",\"automargin\":true,\"zerolinewidth\":2},\"scene\":{\"xaxis\":{\"backgroundcolor\":\"#E5ECF6\",\"gridcolor\":\"white\",\"linecolor\":\"white\",\"showbackground\":true,\"ticks\":\"\",\"zerolinecolor\":\"white\",\"gridwidth\":2},\"yaxis\":{\"backgroundcolor\":\"#E5ECF6\",\"gridcolor\":\"white\",\"linecolor\":\"white\",\"showbackground\":true,\"ticks\":\"\",\"zerolinecolor\":\"white\",\"gridwidth\":2},\"zaxis\":{\"backgroundcolor\":\"#E5ECF6\",\"gridcolor\":\"white\",\"linecolor\":\"white\",\"showbackground\":true,\"ticks\":\"\",\"zerolinecolor\":\"white\",\"gridwidth\":2}},\"shapedefaults\":{\"line\":{\"color\":\"#2a3f5f\"}},\"annotationdefaults\":{\"arrowcolor\":\"#2a3f5f\",\"arrowhead\":0,\"arrowwidth\":1},\"geo\":{\"bgcolor\":\"white\",\"landcolor\":\"#E5ECF6\",\"subunitcolor\":\"white\",\"showland\":true,\"showlakes\":true,\"lakecolor\":\"white\"},\"title\":{\"x\":0.05},\"mapbox\":{\"style\":\"light\"}}}},                        {\"responsive\": true}                    ).then(function(){\n",
       "                            \n",
       "var gd = document.getElementById('5898fa8e-63f0-41b1-b5de-549c8e0b9ba1');\n",
       "var x = new MutationObserver(function (mutations, observer) {{\n",
       "        var display = window.getComputedStyle(gd).display;\n",
       "        if (!display || display === 'none') {{\n",
       "            console.log([gd, 'removed!']);\n",
       "            Plotly.purge(gd);\n",
       "            observer.disconnect();\n",
       "        }}\n",
       "}});\n",
       "\n",
       "// Listen for the removal of the full notebook cells\n",
       "var notebookContainer = gd.closest('#notebook-container');\n",
       "if (notebookContainer) {{\n",
       "    x.observe(notebookContainer, {childList: true});\n",
       "}}\n",
       "\n",
       "// Listen for the clearing of the current output cell\n",
       "var outputEl = gd.closest('.output');\n",
       "if (outputEl) {{\n",
       "    x.observe(outputEl, {childList: true});\n",
       "}}\n",
       "\n",
       "                        })                };                });            </script>        </div>"
      ]
     },
     "metadata": {},
     "output_type": "display_data"
    }
   ],
   "source": [
    "# XGB hparams\n",
    "fig = go.Figure(data=\n",
    "   go.Parcoords(\n",
    "       line = dict(color = df_plot['val/avgPrecision_macro'],\n",
    "           colorscale = 'Electric',\n",
    "           showscale = True,\n",
    "           cmin = 0.93,\n",
    "           cmax = 1.0),\n",
    "       dimensions = list([\n",
    "           dict(range = [1e-4, 10],\n",
    "                label = 'gamma', values = df_plot['decoder.gamma'], tickformat = '.1e'),\n",
    "           dict(range = [1e-3, 1],\n",
    "                label = 'learning_rate', values = df_plot['decoder.learning_rate'], tickformat = '.1e'),\n",
    "           dict(range = [1e-4, 10],\n",
    "                label = 'L1 regularization', values = df_plot['decoder.reg_alpha'], tickformat = '.1e'),\n",
    "           dict(range = [1e-4, 10],\n",
    "                label = 'L2 regularization', values = df_plot['decoder.reg_lambda'], tickformat = '.1e'),\n",
    "       ])\n",
    "   )\n",
    ")\n",
    "fig.show()\n"
   ]
  },
  {
   "cell_type": "code",
   "execution_count": 2,
   "id": "50b10495-a2db-46dc-80b5-c1fb70125409",
   "metadata": {},
   "outputs": [
    {
     "data": {
      "text/html": [
       "<div>\n",
       "<style scoped>\n",
       "    .dataframe tbody tr th:only-of-type {\n",
       "        vertical-align: middle;\n",
       "    }\n",
       "\n",
       "    .dataframe tbody tr th {\n",
       "        vertical-align: top;\n",
       "    }\n",
       "\n",
       "    .dataframe thead th {\n",
       "        text-align: right;\n",
       "    }\n",
       "</style>\n",
       "<table border=\"1\" class=\"dataframe\">\n",
       "  <thead>\n",
       "    <tr style=\"text-align: right;\">\n",
       "      <th></th>\n",
       "      <th>name</th>\n",
       "      <th>run_id</th>\n",
       "      <th>run_group</th>\n",
       "      <th>num_labels</th>\n",
       "      <th>accelerator</th>\n",
       "      <th>target_names</th>\n",
       "      <th>data_hash_key</th>\n",
       "      <th>experiment_id</th>\n",
       "      <th>label_binarizer</th>\n",
       "      <th>atom_feature_size</th>\n",
       "      <th>...</th>\n",
       "      <th>train/loss_target_binary_C</th>\n",
       "      <th>test/loss_target_binary_C</th>\n",
       "      <th>train/loss_target_binary_A</th>\n",
       "      <th>val/loss_target_binary_B</th>\n",
       "      <th>test/loss_target_binary_B</th>\n",
       "      <th>val/loss_target_binary_A</th>\n",
       "      <th>train/loss_target_binary_B</th>\n",
       "      <th>test/loss_target_binary_A</th>\n",
       "      <th>tags</th>\n",
       "      <th>Model+Features</th>\n",
       "    </tr>\n",
       "  </thead>\n",
       "  <tbody>\n",
       "    <tr>\n",
       "      <th>0</th>\n",
       "      <td>D-MPNN</td>\n",
       "      <td>2023-11-14-051547_721457_fold8</td>\n",
       "      <td>2023-11-14-051547_721457</td>\n",
       "      <td>3</td>\n",
       "      <td>gpu</td>\n",
       "      <td>[binary_A, binary_B, binary_C]</td>\n",
       "      <td>511fce28</td>\n",
       "      <td>JG1160</td>\n",
       "      <td>LabelBinarizer()</td>\n",
       "      <td>66</td>\n",
       "      <td>...</td>\n",
       "      <td>NaN</td>\n",
       "      <td>NaN</td>\n",
       "      <td>NaN</td>\n",
       "      <td>NaN</td>\n",
       "      <td>NaN</td>\n",
       "      <td>NaN</td>\n",
       "      <td>NaN</td>\n",
       "      <td>NaN</td>\n",
       "      <td>(0D,)</td>\n",
       "      <td>D-MPNN/RDKit</td>\n",
       "    </tr>\n",
       "    <tr>\n",
       "      <th>1</th>\n",
       "      <td>D-MPNN</td>\n",
       "      <td>2023-11-14-051547_721457_fold7</td>\n",
       "      <td>2023-11-14-051547_721457</td>\n",
       "      <td>3</td>\n",
       "      <td>gpu</td>\n",
       "      <td>[binary_A, binary_B, binary_C]</td>\n",
       "      <td>511fce28</td>\n",
       "      <td>JG1160</td>\n",
       "      <td>LabelBinarizer()</td>\n",
       "      <td>66</td>\n",
       "      <td>...</td>\n",
       "      <td>NaN</td>\n",
       "      <td>NaN</td>\n",
       "      <td>NaN</td>\n",
       "      <td>NaN</td>\n",
       "      <td>NaN</td>\n",
       "      <td>NaN</td>\n",
       "      <td>NaN</td>\n",
       "      <td>NaN</td>\n",
       "      <td>(0D,)</td>\n",
       "      <td>D-MPNN/RDKit</td>\n",
       "    </tr>\n",
       "    <tr>\n",
       "      <th>2</th>\n",
       "      <td>D-MPNN</td>\n",
       "      <td>2023-11-14-051547_721457_fold6</td>\n",
       "      <td>2023-11-14-051547_721457</td>\n",
       "      <td>3</td>\n",
       "      <td>gpu</td>\n",
       "      <td>[binary_A, binary_B, binary_C]</td>\n",
       "      <td>511fce28</td>\n",
       "      <td>JG1160</td>\n",
       "      <td>LabelBinarizer()</td>\n",
       "      <td>66</td>\n",
       "      <td>...</td>\n",
       "      <td>NaN</td>\n",
       "      <td>NaN</td>\n",
       "      <td>NaN</td>\n",
       "      <td>NaN</td>\n",
       "      <td>NaN</td>\n",
       "      <td>NaN</td>\n",
       "      <td>NaN</td>\n",
       "      <td>NaN</td>\n",
       "      <td>(0D,)</td>\n",
       "      <td>D-MPNN/RDKit</td>\n",
       "    </tr>\n",
       "    <tr>\n",
       "      <th>3</th>\n",
       "      <td>D-MPNN</td>\n",
       "      <td>2023-11-14-051547_721457_fold5</td>\n",
       "      <td>2023-11-14-051547_721457</td>\n",
       "      <td>3</td>\n",
       "      <td>gpu</td>\n",
       "      <td>[binary_A, binary_B, binary_C]</td>\n",
       "      <td>511fce28</td>\n",
       "      <td>JG1160</td>\n",
       "      <td>LabelBinarizer()</td>\n",
       "      <td>66</td>\n",
       "      <td>...</td>\n",
       "      <td>NaN</td>\n",
       "      <td>NaN</td>\n",
       "      <td>NaN</td>\n",
       "      <td>NaN</td>\n",
       "      <td>NaN</td>\n",
       "      <td>NaN</td>\n",
       "      <td>NaN</td>\n",
       "      <td>NaN</td>\n",
       "      <td>(0D,)</td>\n",
       "      <td>D-MPNN/RDKit</td>\n",
       "    </tr>\n",
       "    <tr>\n",
       "      <th>4</th>\n",
       "      <td>D-MPNN</td>\n",
       "      <td>2023-11-14-051547_721457_fold4</td>\n",
       "      <td>2023-11-14-051547_721457</td>\n",
       "      <td>3</td>\n",
       "      <td>gpu</td>\n",
       "      <td>[binary_A, binary_B, binary_C]</td>\n",
       "      <td>511fce28</td>\n",
       "      <td>JG1160</td>\n",
       "      <td>LabelBinarizer()</td>\n",
       "      <td>66</td>\n",
       "      <td>...</td>\n",
       "      <td>NaN</td>\n",
       "      <td>NaN</td>\n",
       "      <td>NaN</td>\n",
       "      <td>NaN</td>\n",
       "      <td>NaN</td>\n",
       "      <td>NaN</td>\n",
       "      <td>NaN</td>\n",
       "      <td>NaN</td>\n",
       "      <td>(0D,)</td>\n",
       "      <td>D-MPNN/RDKit</td>\n",
       "    </tr>\n",
       "  </tbody>\n",
       "</table>\n",
       "<p>5 rows × 140 columns</p>\n",
       "</div>"
      ],
      "text/plain": [
       "     name                          run_id                 run_group  \\\n",
       "0  D-MPNN  2023-11-14-051547_721457_fold8  2023-11-14-051547_721457   \n",
       "1  D-MPNN  2023-11-14-051547_721457_fold7  2023-11-14-051547_721457   \n",
       "2  D-MPNN  2023-11-14-051547_721457_fold6  2023-11-14-051547_721457   \n",
       "3  D-MPNN  2023-11-14-051547_721457_fold5  2023-11-14-051547_721457   \n",
       "4  D-MPNN  2023-11-14-051547_721457_fold4  2023-11-14-051547_721457   \n",
       "\n",
       "   num_labels accelerator                    target_names data_hash_key  \\\n",
       "0           3         gpu  [binary_A, binary_B, binary_C]      511fce28   \n",
       "1           3         gpu  [binary_A, binary_B, binary_C]      511fce28   \n",
       "2           3         gpu  [binary_A, binary_B, binary_C]      511fce28   \n",
       "3           3         gpu  [binary_A, binary_B, binary_C]      511fce28   \n",
       "4           3         gpu  [binary_A, binary_B, binary_C]      511fce28   \n",
       "\n",
       "  experiment_id   label_binarizer  atom_feature_size  ...  \\\n",
       "0        JG1160  LabelBinarizer()                 66  ...   \n",
       "1        JG1160  LabelBinarizer()                 66  ...   \n",
       "2        JG1160  LabelBinarizer()                 66  ...   \n",
       "3        JG1160  LabelBinarizer()                 66  ...   \n",
       "4        JG1160  LabelBinarizer()                 66  ...   \n",
       "\n",
       "   train/loss_target_binary_C  test/loss_target_binary_C  \\\n",
       "0                         NaN                        NaN   \n",
       "1                         NaN                        NaN   \n",
       "2                         NaN                        NaN   \n",
       "3                         NaN                        NaN   \n",
       "4                         NaN                        NaN   \n",
       "\n",
       "   train/loss_target_binary_A val/loss_target_binary_B  \\\n",
       "0                         NaN                      NaN   \n",
       "1                         NaN                      NaN   \n",
       "2                         NaN                      NaN   \n",
       "3                         NaN                      NaN   \n",
       "4                         NaN                      NaN   \n",
       "\n",
       "  test/loss_target_binary_B val/loss_target_binary_A  \\\n",
       "0                       NaN                      NaN   \n",
       "1                       NaN                      NaN   \n",
       "2                       NaN                      NaN   \n",
       "3                       NaN                      NaN   \n",
       "4                       NaN                      NaN   \n",
       "\n",
       "   train/loss_target_binary_B  test/loss_target_binary_A   tags Model+Features  \n",
       "0                         NaN                        NaN  (0D,)   D-MPNN/RDKit  \n",
       "1                         NaN                        NaN  (0D,)   D-MPNN/RDKit  \n",
       "2                         NaN                        NaN  (0D,)   D-MPNN/RDKit  \n",
       "3                         NaN                        NaN  (0D,)   D-MPNN/RDKit  \n",
       "4                         NaN                        NaN  (0D,)   D-MPNN/RDKit  \n",
       "\n",
       "[5 rows x 140 columns]"
      ]
     },
     "execution_count": 2,
     "metadata": {},
     "output_type": "execute_result"
    }
   ],
   "source": [
    "# just look at the best hparams now\n",
    "\n",
    "summary_list, config_list, tag_list, name_list = get_runs_as_list(filters={\"jobType\": \"hparam_best\"})\n",
    "\n",
    "run_df = pd.json_normalize(config_list).merge(pd.json_normalize(summary_list), left_index=True, right_index=True)\n",
    "run_df[\"tags\"] = tag_list\n",
    "run_df[\"run_id\"] = name_list\n",
    "run_df[\"run_group\"] = [s.rsplit(\"_\", maxsplit=1)[0] for s in name_list]\n",
    "run_df[\"Model+Features\"] = run_df[\"name\"] + \"/\" + run_df[\"decoder.global_features\"].str.join(\"+\").str.replace(\"None\", \"CGR\")\n",
    "\n",
    "run_df.head()"
   ]
  },
  {
   "cell_type": "code",
   "execution_count": 18,
   "id": "560a28b1-e53f-4496-a04e-08e7e08fd538",
   "metadata": {},
   "outputs": [
    {
     "data": {
      "text/html": [
       "<div>\n",
       "<style scoped>\n",
       "    .dataframe tbody tr th:only-of-type {\n",
       "        vertical-align: middle;\n",
       "    }\n",
       "\n",
       "    .dataframe tbody tr th {\n",
       "        vertical-align: top;\n",
       "    }\n",
       "\n",
       "    .dataframe thead th {\n",
       "        text-align: right;\n",
       "    }\n",
       "</style>\n",
       "<table border=\"1\" class=\"dataframe\">\n",
       "  <thead>\n",
       "    <tr style=\"text-align: right;\">\n",
       "      <th></th>\n",
       "      <th>experiment_id</th>\n",
       "      <th>encoder.depth</th>\n",
       "      <th>encoder.hidden_size</th>\n",
       "      <th>decoder.depth</th>\n",
       "      <th>decoder.hidden_size</th>\n",
       "      <th>optimizer.lr</th>\n",
       "      <th>decoder.gamma</th>\n",
       "      <th>decoder.learning_rate</th>\n",
       "      <th>decoder.reg_alpha</th>\n",
       "      <th>decoder.reg_lambda</th>\n",
       "      <th>decoder.C</th>\n",
       "    </tr>\n",
       "  </thead>\n",
       "  <tbody>\n",
       "    <tr>\n",
       "      <th>0</th>\n",
       "      <td>JG1160</td>\n",
       "      <td>5.0</td>\n",
       "      <td>643.0</td>\n",
       "      <td>2.0</td>\n",
       "      <td>94.0</td>\n",
       "      <td>0.001191</td>\n",
       "      <td>NaN</td>\n",
       "      <td>NaN</td>\n",
       "      <td>NaN</td>\n",
       "      <td>NaN</td>\n",
       "      <td>NaN</td>\n",
       "    </tr>\n",
       "    <tr>\n",
       "      <th>9</th>\n",
       "      <td>JG1159</td>\n",
       "      <td>5.0</td>\n",
       "      <td>18.0</td>\n",
       "      <td>1.0</td>\n",
       "      <td>128.0</td>\n",
       "      <td>0.001019</td>\n",
       "      <td>NaN</td>\n",
       "      <td>NaN</td>\n",
       "      <td>NaN</td>\n",
       "      <td>NaN</td>\n",
       "      <td>NaN</td>\n",
       "    </tr>\n",
       "    <tr>\n",
       "      <th>18</th>\n",
       "      <td>JG1158</td>\n",
       "      <td>6.0</td>\n",
       "      <td>624.0</td>\n",
       "      <td>2.0</td>\n",
       "      <td>52.0</td>\n",
       "      <td>0.002106</td>\n",
       "      <td>NaN</td>\n",
       "      <td>NaN</td>\n",
       "      <td>NaN</td>\n",
       "      <td>NaN</td>\n",
       "      <td>NaN</td>\n",
       "    </tr>\n",
       "    <tr>\n",
       "      <th>27</th>\n",
       "      <td>JG1157</td>\n",
       "      <td>6.0</td>\n",
       "      <td>1421.0</td>\n",
       "      <td>2.0</td>\n",
       "      <td>92.0</td>\n",
       "      <td>0.000752</td>\n",
       "      <td>NaN</td>\n",
       "      <td>NaN</td>\n",
       "      <td>NaN</td>\n",
       "      <td>NaN</td>\n",
       "      <td>NaN</td>\n",
       "    </tr>\n",
       "    <tr>\n",
       "      <th>36</th>\n",
       "      <td>JG1156</td>\n",
       "      <td>6.0</td>\n",
       "      <td>259.0</td>\n",
       "      <td>2.0</td>\n",
       "      <td>29.0</td>\n",
       "      <td>0.001471</td>\n",
       "      <td>NaN</td>\n",
       "      <td>NaN</td>\n",
       "      <td>NaN</td>\n",
       "      <td>NaN</td>\n",
       "      <td>NaN</td>\n",
       "    </tr>\n",
       "  </tbody>\n",
       "</table>\n",
       "</div>"
      ],
      "text/plain": [
       "   experiment_id  encoder.depth  encoder.hidden_size  decoder.depth  \\\n",
       "0         JG1160            5.0                643.0            2.0   \n",
       "9         JG1159            5.0                 18.0            1.0   \n",
       "18        JG1158            6.0                624.0            2.0   \n",
       "27        JG1157            6.0               1421.0            2.0   \n",
       "36        JG1156            6.0                259.0            2.0   \n",
       "\n",
       "    decoder.hidden_size  optimizer.lr  decoder.gamma  decoder.learning_rate  \\\n",
       "0                  94.0      0.001191            NaN                    NaN   \n",
       "9                 128.0      0.001019            NaN                    NaN   \n",
       "18                 52.0      0.002106            NaN                    NaN   \n",
       "27                 92.0      0.000752            NaN                    NaN   \n",
       "36                 29.0      0.001471            NaN                    NaN   \n",
       "\n",
       "    decoder.reg_alpha  decoder.reg_lambda  decoder.C  \n",
       "0                 NaN                 NaN        NaN  \n",
       "9                 NaN                 NaN        NaN  \n",
       "18                NaN                 NaN        NaN  \n",
       "27                NaN                 NaN        NaN  \n",
       "36                NaN                 NaN        NaN  "
      ]
     },
     "execution_count": 18,
     "metadata": {},
     "output_type": "execute_result"
    }
   ],
   "source": [
    "# only look at the hyperparameters now\n",
    "hparams = run_df.drop_duplicates(subset=\"experiment_id\")[\n",
    "    [\"experiment_id\", \n",
    "     \"encoder.depth\",  # all GNNs\n",
    "     \"encoder.hidden_size\",  # all GNNs\n",
    "     \"decoder.depth\",  # all NNs\n",
    "     \"decoder.hidden_size\",  # all NNs\n",
    "     \"optimizer.lr\",  # all NNs\n",
    "     \"decoder.gamma\",  # XGB\n",
    "     \"decoder.learning_rate\",  # XGB\n",
    "     \"decoder.reg_alpha\",  # XGB\n",
    "     \"decoder.reg_lambda\",  # XGB\n",
    "     \"decoder.C\",  # Logistic Regression\n",
    "    ]]\n",
    "hparams.head()"
   ]
  },
  {
   "cell_type": "code",
   "execution_count": 41,
   "id": "2d6ed215-9ba2-4090-a779-0dc79cafb4da",
   "metadata": {},
   "outputs": [
    {
     "data": {
      "text/plain": [
       "experiment_id              JG1131\n",
       "encoder.depth                 NaN\n",
       "encoder.hidden_size           NaN\n",
       "decoder.depth                 NaN\n",
       "decoder.hidden_size           NaN\n",
       "optimizer.lr                  NaN\n",
       "decoder.gamma              0.0001\n",
       "decoder.learning_rate    0.362268\n",
       "decoder.reg_alpha        0.155739\n",
       "decoder.reg_lambda           10.0\n",
       "decoder.C                     NaN\n",
       "Name: 261, dtype: object"
      ]
     },
     "execution_count": 41,
     "metadata": {},
     "output_type": "execute_result"
    }
   ],
   "source": [
    "hparams.query(\"experiment_id == 'JG1131'\").squeeze()"
   ]
  },
  {
   "cell_type": "code",
   "execution_count": 100,
   "id": "43ee9f2f-a834-43c9-91ee-c925d3b823e9",
   "metadata": {},
   "outputs": [],
   "source": [
    "def get_hparams(experiment_id):\n",
    "    flexible_hparams = {\n",
    "        \"D-MPNN\": [\n",
    "            \"encoder.depth\",\n",
    "            \"encoder.hidden_size\",\n",
    "            \"decoder.depth\",\n",
    "            \"decoder.hidden_size\",\n",
    "            \"optimizer.lr\",\n",
    "        ],\n",
    "        \"GCN\": [\n",
    "            \"encoder.depth\",\n",
    "            \"encoder.hidden_size\",\n",
    "            \"decoder.depth\",\n",
    "            \"decoder.hidden_size\",\n",
    "            \"optimizer.lr\",\n",
    "        ],\n",
    "        \"AttentiveFP\": [\n",
    "            \"encoder.depth\",\n",
    "            \"encoder.hidden_size\",\n",
    "            \"decoder.depth\",\n",
    "            \"decoder.hidden_size\",\n",
    "            \"optimizer.lr\",\n",
    "        ],\n",
    "        \"GraphSAGE\": [\n",
    "            \"encoder.depth\",\n",
    "            \"encoder.hidden_size\",\n",
    "            \"decoder.depth\",\n",
    "            \"decoder.hidden_size\",\n",
    "            \"optimizer.lr\",\n",
    "        ],\n",
    "        \"FFN\": [\n",
    "            \"decoder.depth\",\n",
    "            \"decoder.hidden_size\",\n",
    "            \"optimizer.lr\",\n",
    "        ],\n",
    "        \"XGB\": [\n",
    "            \"decoder.gamma\",\n",
    "            \"decoder.learning_rate\",\n",
    "            \"decoder.reg_alpha\",\n",
    "            \"decoder.reg_lambda\",\n",
    "        ],\n",
    "        \"LogisticRegression\": [\n",
    "            \"decoder.C\",\n",
    "        ],\n",
    "    }\n",
    "    api = wandb.Api()\n",
    "    runs = api.runs(\"jugoetz/synferm-predictions\", filters={\"$and\": [{\"config.experiment_id\": experiment_id}, {\"jobType\": \"hparam_best\"}]})\n",
    "\n",
    "    config = { # we use the fact that all runs with one experiment_id have identical hparams\n",
    "            k: v for k,v in pd.json_normalize(runs[0].config, sep=\".\").to_dict(orient='records')[0].items()\n",
    "         if k in flexible_hparams[runs[0].config[\"name\"]]\n",
    "        }\n",
    "    \n",
    "    return config"
   ]
  },
  {
   "cell_type": "code",
   "execution_count": 131,
   "id": "a1dadbb5-ab83-4ceb-b0cb-28989f7f95f8",
   "metadata": {},
   "outputs": [
    {
     "data": {
      "text/plain": [
       "{'decoder.gamma': 0.00471,\n",
       " 'decoder.reg_alpha': 0.0005961,\n",
       " 'decoder.reg_lambda': 10,\n",
       " 'decoder.learning_rate': 0.02547}"
      ]
     },
     "execution_count": 131,
     "metadata": {},
     "output_type": "execute_result"
    }
   ],
   "source": [
    "get_hparams(\"JG1111\")"
   ]
  },
  {
   "cell_type": "code",
   "execution_count": 104,
   "id": "be8ca725-9fe7-46db-b20d-74dfc3dd8819",
   "metadata": {},
   "outputs": [],
   "source": [
    "data = []\n",
    "for i in range(0,60):\n",
    "    exp_id = f\"JG11{i:02}\"\n",
    "    exp_data = {\"experiment_id\": exp_id}\n",
    "    exp_data.update(get_hparams(exp_id))\n",
    "    data.append(exp_data)\n",
    "hparams = pd.DataFrame(data).convert_dtypes()"
   ]
  },
  {
   "cell_type": "code",
   "execution_count": 108,
   "id": "b856bdaf-96dc-4c57-b49b-18b4fce6f385",
   "metadata": {},
   "outputs": [],
   "source": [
    "hparams = hparams.convert_dtypes()"
   ]
  },
  {
   "cell_type": "code",
   "execution_count": 119,
   "id": "5acc9d88-600a-4409-95f1-58b9f822d1f5",
   "metadata": {},
   "outputs": [
    {
     "data": {
      "text/html": [
       "<div>\n",
       "<style scoped>\n",
       "    .dataframe tbody tr th:only-of-type {\n",
       "        vertical-align: middle;\n",
       "    }\n",
       "\n",
       "    .dataframe tbody tr th {\n",
       "        vertical-align: top;\n",
       "    }\n",
       "\n",
       "    .dataframe thead th {\n",
       "        text-align: right;\n",
       "    }\n",
       "</style>\n",
       "<table border=\"1\" class=\"dataframe\">\n",
       "  <thead>\n",
       "    <tr style=\"text-align: right;\">\n",
       "      <th></th>\n",
       "      <th>experiment_id</th>\n",
       "      <th>decoder.C</th>\n",
       "    </tr>\n",
       "  </thead>\n",
       "  <tbody>\n",
       "    <tr>\n",
       "      <th>6</th>\n",
       "      <td>JG1106</td>\n",
       "      <td>100.0</td>\n",
       "    </tr>\n",
       "    <tr>\n",
       "      <th>7</th>\n",
       "      <td>JG1107</td>\n",
       "      <td>0.01</td>\n",
       "    </tr>\n",
       "    <tr>\n",
       "      <th>8</th>\n",
       "      <td>JG1108</td>\n",
       "      <td>0.01</td>\n",
       "    </tr>\n",
       "    <tr>\n",
       "      <th>12</th>\n",
       "      <td>JG1112</td>\n",
       "      <td>0.01</td>\n",
       "    </tr>\n",
       "  </tbody>\n",
       "</table>\n",
       "</div>"
      ],
      "text/plain": [
       "   experiment_id  decoder.C\n",
       "6         JG1106      100.0\n",
       "7         JG1107       0.01\n",
       "8         JG1108       0.01\n",
       "12        JG1112       0.01"
      ]
     },
     "execution_count": 119,
     "metadata": {},
     "output_type": "execute_result"
    }
   ],
   "source": [
    "# look at LogReg runs only\n",
    "logreg = hparams.loc[~hparams[\"decoder.C\"].isnull()].dropna(axis=1)\n",
    "logreg"
   ]
  },
  {
   "cell_type": "code",
   "execution_count": 128,
   "id": "30af1960-141a-4440-aa67-a645f07edfb3",
   "metadata": {},
   "outputs": [
    {
     "data": {
      "text/html": [
       "<div>\n",
       "<style scoped>\n",
       "    .dataframe tbody tr th:only-of-type {\n",
       "        vertical-align: middle;\n",
       "    }\n",
       "\n",
       "    .dataframe tbody tr th {\n",
       "        vertical-align: top;\n",
       "    }\n",
       "\n",
       "    .dataframe thead th {\n",
       "        text-align: right;\n",
       "    }\n",
       "</style>\n",
       "<table border=\"1\" class=\"dataframe\">\n",
       "  <thead>\n",
       "    <tr style=\"text-align: right;\">\n",
       "      <th></th>\n",
       "      <th>experiment_id</th>\n",
       "      <th>decoder.gamma</th>\n",
       "      <th>decoder.reg_alpha</th>\n",
       "      <th>decoder.reg_lambda</th>\n",
       "      <th>decoder.learning_rate</th>\n",
       "    </tr>\n",
       "  </thead>\n",
       "  <tbody>\n",
       "    <tr>\n",
       "      <th>9</th>\n",
       "      <td>JG1109</td>\n",
       "      <td>0.001639</td>\n",
       "      <td>2.67</td>\n",
       "      <td>0.06708</td>\n",
       "      <td>0.3539</td>\n",
       "    </tr>\n",
       "    <tr>\n",
       "      <th>10</th>\n",
       "      <td>JG1110</td>\n",
       "      <td>10.0</td>\n",
       "      <td>10.0</td>\n",
       "      <td>0.3839</td>\n",
       "      <td>0.04248</td>\n",
       "    </tr>\n",
       "    <tr>\n",
       "      <th>11</th>\n",
       "      <td>JG1111</td>\n",
       "      <td>0.00471</td>\n",
       "      <td>0.000596</td>\n",
       "      <td>10.0</td>\n",
       "      <td>0.02547</td>\n",
       "    </tr>\n",
       "    <tr>\n",
       "      <th>28</th>\n",
       "      <td>JG1128</td>\n",
       "      <td>0.665303</td>\n",
       "      <td>3.216913</td>\n",
       "      <td>0.57315</td>\n",
       "      <td>0.58938</td>\n",
       "    </tr>\n",
       "    <tr>\n",
       "      <th>29</th>\n",
       "      <td>JG1129</td>\n",
       "      <td>0.0003</td>\n",
       "      <td>0.118056</td>\n",
       "      <td>0.097847</td>\n",
       "      <td>0.09802</td>\n",
       "    </tr>\n",
       "    <tr>\n",
       "      <th>30</th>\n",
       "      <td>JG1130</td>\n",
       "      <td>10.0</td>\n",
       "      <td>0.001109</td>\n",
       "      <td>0.332752</td>\n",
       "      <td>0.025713</td>\n",
       "    </tr>\n",
       "    <tr>\n",
       "      <th>31</th>\n",
       "      <td>JG1131</td>\n",
       "      <td>0.0001</td>\n",
       "      <td>0.155739</td>\n",
       "      <td>10.0</td>\n",
       "      <td>0.362268</td>\n",
       "    </tr>\n",
       "    <tr>\n",
       "      <th>32</th>\n",
       "      <td>JG1132</td>\n",
       "      <td>0.0001</td>\n",
       "      <td>10.0</td>\n",
       "      <td>0.000618</td>\n",
       "      <td>0.080665</td>\n",
       "    </tr>\n",
       "    <tr>\n",
       "      <th>33</th>\n",
       "      <td>JG1133</td>\n",
       "      <td>0.000152</td>\n",
       "      <td>10.0</td>\n",
       "      <td>0.23368</td>\n",
       "      <td>0.039</td>\n",
       "    </tr>\n",
       "    <tr>\n",
       "      <th>34</th>\n",
       "      <td>JG1134</td>\n",
       "      <td>10.0</td>\n",
       "      <td>0.0001</td>\n",
       "      <td>10.0</td>\n",
       "      <td>0.03701</td>\n",
       "    </tr>\n",
       "    <tr>\n",
       "      <th>48</th>\n",
       "      <td>JG1148</td>\n",
       "      <td>0.093775</td>\n",
       "      <td>2.081659</td>\n",
       "      <td>0.393718</td>\n",
       "      <td>0.164964</td>\n",
       "    </tr>\n",
       "    <tr>\n",
       "      <th>49</th>\n",
       "      <td>JG1149</td>\n",
       "      <td>0.043624</td>\n",
       "      <td>3.825089</td>\n",
       "      <td>0.0001</td>\n",
       "      <td>0.139294</td>\n",
       "    </tr>\n",
       "    <tr>\n",
       "      <th>50</th>\n",
       "      <td>JG1150</td>\n",
       "      <td>0.000387</td>\n",
       "      <td>1.395629</td>\n",
       "      <td>0.546134</td>\n",
       "      <td>0.088843</td>\n",
       "    </tr>\n",
       "    <tr>\n",
       "      <th>51</th>\n",
       "      <td>JG1151</td>\n",
       "      <td>0.0001</td>\n",
       "      <td>1.788089</td>\n",
       "      <td>0.233982</td>\n",
       "      <td>0.070133</td>\n",
       "    </tr>\n",
       "    <tr>\n",
       "      <th>52</th>\n",
       "      <td>JG1152</td>\n",
       "      <td>0.090281</td>\n",
       "      <td>0.002042</td>\n",
       "      <td>0.050074</td>\n",
       "      <td>0.038425</td>\n",
       "    </tr>\n",
       "    <tr>\n",
       "      <th>53</th>\n",
       "      <td>JG1153</td>\n",
       "      <td>0.37403</td>\n",
       "      <td>0.00074</td>\n",
       "      <td>0.010528</td>\n",
       "      <td>0.032341</td>\n",
       "    </tr>\n",
       "  </tbody>\n",
       "</table>\n",
       "</div>"
      ],
      "text/plain": [
       "   experiment_id  decoder.gamma  decoder.reg_alpha  decoder.reg_lambda  \\\n",
       "9         JG1109       0.001639               2.67             0.06708   \n",
       "10        JG1110           10.0               10.0              0.3839   \n",
       "11        JG1111        0.00471           0.000596                10.0   \n",
       "28        JG1128       0.665303           3.216913             0.57315   \n",
       "29        JG1129         0.0003           0.118056            0.097847   \n",
       "30        JG1130           10.0           0.001109            0.332752   \n",
       "31        JG1131         0.0001           0.155739                10.0   \n",
       "32        JG1132         0.0001               10.0            0.000618   \n",
       "33        JG1133       0.000152               10.0             0.23368   \n",
       "34        JG1134           10.0             0.0001                10.0   \n",
       "48        JG1148       0.093775           2.081659            0.393718   \n",
       "49        JG1149       0.043624           3.825089              0.0001   \n",
       "50        JG1150       0.000387           1.395629            0.546134   \n",
       "51        JG1151         0.0001           1.788089            0.233982   \n",
       "52        JG1152       0.090281           0.002042            0.050074   \n",
       "53        JG1153        0.37403            0.00074            0.010528   \n",
       "\n",
       "    decoder.learning_rate  \n",
       "9                  0.3539  \n",
       "10                0.04248  \n",
       "11                0.02547  \n",
       "28                0.58938  \n",
       "29                0.09802  \n",
       "30               0.025713  \n",
       "31               0.362268  \n",
       "32               0.080665  \n",
       "33                  0.039  \n",
       "34                0.03701  \n",
       "48               0.164964  \n",
       "49               0.139294  \n",
       "50               0.088843  \n",
       "51               0.070133  \n",
       "52               0.038425  \n",
       "53               0.032341  "
      ]
     },
     "execution_count": 128,
     "metadata": {},
     "output_type": "execute_result"
    }
   ],
   "source": [
    "# look at XGB runs only\n",
    "xgb = hparams.loc[~hparams[\"decoder.gamma\"].isnull()].dropna(axis=1)\n",
    "xgb"
   ]
  },
  {
   "cell_type": "code",
   "execution_count": 121,
   "id": "5f616594-adc0-4496-a920-5d0250cb757c",
   "metadata": {
    "scrolled": true
   },
   "outputs": [
    {
     "data": {
      "text/plain": [
       "<Axes: >"
      ]
     },
     "execution_count": 121,
     "metadata": {},
     "output_type": "execute_result"
    },
    {
     "data": {
      "image/png": "[encoded data removed]",
      "text/plain": [
       "<Figure size 640x480 with 1 Axes>"
      ]
     },
     "metadata": {},
     "output_type": "display_data"
    }
   ],
   "source": [
    "pd.plotting.parallel_coordinates(xgb, \"experiment_id\")"
   ]
  },
  {
   "cell_type": "code",
   "execution_count": 127,
   "id": "863e1ccf-c409-4ff8-93d3-b159c4a0242a",
   "metadata": {},
   "outputs": [
    {
     "data": {
      "text/html": [
       "<div>\n",
       "<style scoped>\n",
       "    .dataframe tbody tr th:only-of-type {\n",
       "        vertical-align: middle;\n",
       "    }\n",
       "\n",
       "    .dataframe tbody tr th {\n",
       "        vertical-align: top;\n",
       "    }\n",
       "\n",
       "    .dataframe thead th {\n",
       "        text-align: right;\n",
       "    }\n",
       "</style>\n",
       "<table border=\"1\" class=\"dataframe\">\n",
       "  <thead>\n",
       "    <tr style=\"text-align: right;\">\n",
       "      <th></th>\n",
       "      <th>experiment_id</th>\n",
       "      <th>decoder.depth</th>\n",
       "      <th>decoder.hidden_size</th>\n",
       "      <th>optimizer.lr</th>\n",
       "    </tr>\n",
       "  </thead>\n",
       "  <tbody>\n",
       "    <tr>\n",
       "      <th>15</th>\n",
       "      <td>JG1115</td>\n",
       "      <td>1</td>\n",
       "      <td>512</td>\n",
       "      <td>0.000181</td>\n",
       "    </tr>\n",
       "    <tr>\n",
       "      <th>16</th>\n",
       "      <td>JG1116</td>\n",
       "      <td>2</td>\n",
       "      <td>512</td>\n",
       "      <td>0.00027</td>\n",
       "    </tr>\n",
       "    <tr>\n",
       "      <th>17</th>\n",
       "      <td>JG1117</td>\n",
       "      <td>1</td>\n",
       "      <td>461</td>\n",
       "      <td>0.000661</td>\n",
       "    </tr>\n",
       "    <tr>\n",
       "      <th>18</th>\n",
       "      <td>JG1118</td>\n",
       "      <td>1</td>\n",
       "      <td>512</td>\n",
       "      <td>0.00005</td>\n",
       "    </tr>\n",
       "    <tr>\n",
       "      <th>19</th>\n",
       "      <td>JG1119</td>\n",
       "      <td>1</td>\n",
       "      <td>512</td>\n",
       "      <td>0.000097</td>\n",
       "    </tr>\n",
       "    <tr>\n",
       "      <th>20</th>\n",
       "      <td>JG1120</td>\n",
       "      <td>2</td>\n",
       "      <td>426</td>\n",
       "      <td>0.00005</td>\n",
       "    </tr>\n",
       "    <tr>\n",
       "      <th>25</th>\n",
       "      <td>JG1125</td>\n",
       "      <td>1</td>\n",
       "      <td>311</td>\n",
       "      <td>0.000086</td>\n",
       "    </tr>\n",
       "    <tr>\n",
       "      <th>26</th>\n",
       "      <td>JG1126</td>\n",
       "      <td>1</td>\n",
       "      <td>512</td>\n",
       "      <td>0.000166</td>\n",
       "    </tr>\n",
       "    <tr>\n",
       "      <th>27</th>\n",
       "      <td>JG1127</td>\n",
       "      <td>1</td>\n",
       "      <td>16</td>\n",
       "      <td>0.00005</td>\n",
       "    </tr>\n",
       "    <tr>\n",
       "      <th>36</th>\n",
       "      <td>JG1136</td>\n",
       "      <td>1</td>\n",
       "      <td>512</td>\n",
       "      <td>0.000954</td>\n",
       "    </tr>\n",
       "    <tr>\n",
       "      <th>37</th>\n",
       "      <td>JG1137</td>\n",
       "      <td>1</td>\n",
       "      <td>512</td>\n",
       "      <td>0.000829</td>\n",
       "    </tr>\n",
       "    <tr>\n",
       "      <th>38</th>\n",
       "      <td>JG1138</td>\n",
       "      <td>1</td>\n",
       "      <td>239</td>\n",
       "      <td>0.00092</td>\n",
       "    </tr>\n",
       "    <tr>\n",
       "      <th>39</th>\n",
       "      <td>JG1139</td>\n",
       "      <td>1</td>\n",
       "      <td>96</td>\n",
       "      <td>0.000889</td>\n",
       "    </tr>\n",
       "    <tr>\n",
       "      <th>40</th>\n",
       "      <td>JG1140</td>\n",
       "      <td>1</td>\n",
       "      <td>461</td>\n",
       "      <td>0.000661</td>\n",
       "    </tr>\n",
       "    <tr>\n",
       "      <th>41</th>\n",
       "      <td>JG1141</td>\n",
       "      <td>1</td>\n",
       "      <td>512</td>\n",
       "      <td>0.001051</td>\n",
       "    </tr>\n",
       "  </tbody>\n",
       "</table>\n",
       "</div>"
      ],
      "text/plain": [
       "   experiment_id  decoder.depth  decoder.hidden_size  optimizer.lr\n",
       "15        JG1115              1                  512      0.000181\n",
       "16        JG1116              2                  512       0.00027\n",
       "17        JG1117              1                  461      0.000661\n",
       "18        JG1118              1                  512       0.00005\n",
       "19        JG1119              1                  512      0.000097\n",
       "20        JG1120              2                  426       0.00005\n",
       "25        JG1125              1                  311      0.000086\n",
       "26        JG1126              1                  512      0.000166\n",
       "27        JG1127              1                   16       0.00005\n",
       "36        JG1136              1                  512      0.000954\n",
       "37        JG1137              1                  512      0.000829\n",
       "38        JG1138              1                  239       0.00092\n",
       "39        JG1139              1                   96      0.000889\n",
       "40        JG1140              1                  461      0.000661\n",
       "41        JG1141              1                  512      0.001051"
      ]
     },
     "execution_count": 127,
     "metadata": {},
     "output_type": "execute_result"
    }
   ],
   "source": [
    "# look at FFN runs only\n",
    "ffn = hparams.loc[(~hparams[\"optimizer.lr\"].isnull()) & hparams[\"encoder.depth\"].isnull()].dropna(axis=1)\n",
    "ffn"
   ]
  },
  {
   "cell_type": "code",
   "execution_count": 125,
   "id": "a90f0d0f-5092-4e57-b2d6-7b971066a7f7",
   "metadata": {},
   "outputs": [
    {
     "data": {
      "text/html": [
       "<div>\n",
       "<style scoped>\n",
       "    .dataframe tbody tr th:only-of-type {\n",
       "        vertical-align: middle;\n",
       "    }\n",
       "\n",
       "    .dataframe tbody tr th {\n",
       "        vertical-align: top;\n",
       "    }\n",
       "\n",
       "    .dataframe thead th {\n",
       "        text-align: right;\n",
       "    }\n",
       "</style>\n",
       "<table border=\"1\" class=\"dataframe\">\n",
       "  <thead>\n",
       "    <tr style=\"text-align: right;\">\n",
       "      <th></th>\n",
       "      <th>experiment_id</th>\n",
       "      <th>decoder.depth</th>\n",
       "      <th>decoder.hidden_size</th>\n",
       "      <th>encoder.depth</th>\n",
       "      <th>encoder.hidden_size</th>\n",
       "      <th>optimizer.lr</th>\n",
       "    </tr>\n",
       "  </thead>\n",
       "  <tbody>\n",
       "    <tr>\n",
       "      <th>0</th>\n",
       "      <td>JG1100</td>\n",
       "      <td>2</td>\n",
       "      <td>113</td>\n",
       "      <td>4</td>\n",
       "      <td>1808</td>\n",
       "      <td>0.001339</td>\n",
       "    </tr>\n",
       "    <tr>\n",
       "      <th>1</th>\n",
       "      <td>JG1101</td>\n",
       "      <td>3</td>\n",
       "      <td>106</td>\n",
       "      <td>6</td>\n",
       "      <td>2048</td>\n",
       "      <td>0.000075</td>\n",
       "    </tr>\n",
       "    <tr>\n",
       "      <th>2</th>\n",
       "      <td>JG1102</td>\n",
       "      <td>1</td>\n",
       "      <td>34</td>\n",
       "      <td>4</td>\n",
       "      <td>439</td>\n",
       "      <td>0.000157</td>\n",
       "    </tr>\n",
       "    <tr>\n",
       "      <th>3</th>\n",
       "      <td>JG1103</td>\n",
       "      <td>2</td>\n",
       "      <td>35</td>\n",
       "      <td>3</td>\n",
       "      <td>326</td>\n",
       "      <td>0.000138</td>\n",
       "    </tr>\n",
       "    <tr>\n",
       "      <th>4</th>\n",
       "      <td>JG1104</td>\n",
       "      <td>3</td>\n",
       "      <td>88</td>\n",
       "      <td>3</td>\n",
       "      <td>799</td>\n",
       "      <td>0.00005</td>\n",
       "    </tr>\n",
       "    <tr>\n",
       "      <th>5</th>\n",
       "      <td>JG1105</td>\n",
       "      <td>1</td>\n",
       "      <td>60</td>\n",
       "      <td>4</td>\n",
       "      <td>542</td>\n",
       "      <td>0.00005</td>\n",
       "    </tr>\n",
       "    <tr>\n",
       "      <th>13</th>\n",
       "      <td>JG1113</td>\n",
       "      <td>2</td>\n",
       "      <td>72</td>\n",
       "      <td>3</td>\n",
       "      <td>100</td>\n",
       "      <td>0.000119</td>\n",
       "    </tr>\n",
       "    <tr>\n",
       "      <th>14</th>\n",
       "      <td>JG1114</td>\n",
       "      <td>2</td>\n",
       "      <td>92</td>\n",
       "      <td>3</td>\n",
       "      <td>64</td>\n",
       "      <td>0.000128</td>\n",
       "    </tr>\n",
       "    <tr>\n",
       "      <th>21</th>\n",
       "      <td>JG1121</td>\n",
       "      <td>2</td>\n",
       "      <td>69</td>\n",
       "      <td>3</td>\n",
       "      <td>64</td>\n",
       "      <td>0.000655</td>\n",
       "    </tr>\n",
       "    <tr>\n",
       "      <th>22</th>\n",
       "      <td>JG1122</td>\n",
       "      <td>3</td>\n",
       "      <td>104</td>\n",
       "      <td>3</td>\n",
       "      <td>64</td>\n",
       "      <td>0.000093</td>\n",
       "    </tr>\n",
       "    <tr>\n",
       "      <th>23</th>\n",
       "      <td>JG1123</td>\n",
       "      <td>3</td>\n",
       "      <td>42</td>\n",
       "      <td>3</td>\n",
       "      <td>100</td>\n",
       "      <td>0.002453</td>\n",
       "    </tr>\n",
       "    <tr>\n",
       "      <th>24</th>\n",
       "      <td>JG1124</td>\n",
       "      <td>2</td>\n",
       "      <td>100</td>\n",
       "      <td>3</td>\n",
       "      <td>100</td>\n",
       "      <td>0.000191</td>\n",
       "    </tr>\n",
       "    <tr>\n",
       "      <th>35</th>\n",
       "      <td>JG1135</td>\n",
       "      <td>2</td>\n",
       "      <td>92</td>\n",
       "      <td>1</td>\n",
       "      <td>42</td>\n",
       "      <td>0.001</td>\n",
       "    </tr>\n",
       "    <tr>\n",
       "      <th>42</th>\n",
       "      <td>JG1142</td>\n",
       "      <td>2</td>\n",
       "      <td>108</td>\n",
       "      <td>6</td>\n",
       "      <td>1770</td>\n",
       "      <td>0.000863</td>\n",
       "    </tr>\n",
       "    <tr>\n",
       "      <th>43</th>\n",
       "      <td>JG1143</td>\n",
       "      <td>1</td>\n",
       "      <td>106</td>\n",
       "      <td>6</td>\n",
       "      <td>2048</td>\n",
       "      <td>0.00026</td>\n",
       "    </tr>\n",
       "    <tr>\n",
       "      <th>44</th>\n",
       "      <td>JG1144</td>\n",
       "      <td>3</td>\n",
       "      <td>62</td>\n",
       "      <td>5</td>\n",
       "      <td>1489</td>\n",
       "      <td>0.000673</td>\n",
       "    </tr>\n",
       "    <tr>\n",
       "      <th>45</th>\n",
       "      <td>JG1145</td>\n",
       "      <td>3</td>\n",
       "      <td>128</td>\n",
       "      <td>5</td>\n",
       "      <td>1207</td>\n",
       "      <td>0.000887</td>\n",
       "    </tr>\n",
       "    <tr>\n",
       "      <th>46</th>\n",
       "      <td>JG1146</td>\n",
       "      <td>1</td>\n",
       "      <td>108</td>\n",
       "      <td>5</td>\n",
       "      <td>1240</td>\n",
       "      <td>0.003977</td>\n",
       "    </tr>\n",
       "    <tr>\n",
       "      <th>47</th>\n",
       "      <td>JG1147</td>\n",
       "      <td>1</td>\n",
       "      <td>96</td>\n",
       "      <td>5</td>\n",
       "      <td>1257</td>\n",
       "      <td>0.003814</td>\n",
       "    </tr>\n",
       "    <tr>\n",
       "      <th>54</th>\n",
       "      <td>JG1154</td>\n",
       "      <td>2</td>\n",
       "      <td>128</td>\n",
       "      <td>5</td>\n",
       "      <td>786</td>\n",
       "      <td>0.000893</td>\n",
       "    </tr>\n",
       "    <tr>\n",
       "      <th>55</th>\n",
       "      <td>JG1155</td>\n",
       "      <td>3</td>\n",
       "      <td>65</td>\n",
       "      <td>6</td>\n",
       "      <td>1439</td>\n",
       "      <td>0.000281</td>\n",
       "    </tr>\n",
       "    <tr>\n",
       "      <th>56</th>\n",
       "      <td>JG1156</td>\n",
       "      <td>2</td>\n",
       "      <td>29</td>\n",
       "      <td>6</td>\n",
       "      <td>259</td>\n",
       "      <td>0.001471</td>\n",
       "    </tr>\n",
       "    <tr>\n",
       "      <th>57</th>\n",
       "      <td>JG1157</td>\n",
       "      <td>2</td>\n",
       "      <td>92</td>\n",
       "      <td>6</td>\n",
       "      <td>1421</td>\n",
       "      <td>0.000752</td>\n",
       "    </tr>\n",
       "    <tr>\n",
       "      <th>58</th>\n",
       "      <td>JG1158</td>\n",
       "      <td>2</td>\n",
       "      <td>52</td>\n",
       "      <td>6</td>\n",
       "      <td>624</td>\n",
       "      <td>0.002106</td>\n",
       "    </tr>\n",
       "    <tr>\n",
       "      <th>59</th>\n",
       "      <td>JG1159</td>\n",
       "      <td>1</td>\n",
       "      <td>128</td>\n",
       "      <td>5</td>\n",
       "      <td>18</td>\n",
       "      <td>0.001019</td>\n",
       "    </tr>\n",
       "  </tbody>\n",
       "</table>\n",
       "</div>"
      ],
      "text/plain": [
       "   experiment_id  decoder.depth  decoder.hidden_size  encoder.depth  \\\n",
       "0         JG1100              2                  113              4   \n",
       "1         JG1101              3                  106              6   \n",
       "2         JG1102              1                   34              4   \n",
       "3         JG1103              2                   35              3   \n",
       "4         JG1104              3                   88              3   \n",
       "5         JG1105              1                   60              4   \n",
       "13        JG1113              2                   72              3   \n",
       "14        JG1114              2                   92              3   \n",
       "21        JG1121              2                   69              3   \n",
       "22        JG1122              3                  104              3   \n",
       "23        JG1123              3                   42              3   \n",
       "24        JG1124              2                  100              3   \n",
       "35        JG1135              2                   92              1   \n",
       "42        JG1142              2                  108              6   \n",
       "43        JG1143              1                  106              6   \n",
       "44        JG1144              3                   62              5   \n",
       "45        JG1145              3                  128              5   \n",
       "46        JG1146              1                  108              5   \n",
       "47        JG1147              1                   96              5   \n",
       "54        JG1154              2                  128              5   \n",
       "55        JG1155              3                   65              6   \n",
       "56        JG1156              2                   29              6   \n",
       "57        JG1157              2                   92              6   \n",
       "58        JG1158              2                   52              6   \n",
       "59        JG1159              1                  128              5   \n",
       "\n",
       "    encoder.hidden_size  optimizer.lr  \n",
       "0                  1808      0.001339  \n",
       "1                  2048      0.000075  \n",
       "2                   439      0.000157  \n",
       "3                   326      0.000138  \n",
       "4                   799       0.00005  \n",
       "5                   542       0.00005  \n",
       "13                  100      0.000119  \n",
       "14                   64      0.000128  \n",
       "21                   64      0.000655  \n",
       "22                   64      0.000093  \n",
       "23                  100      0.002453  \n",
       "24                  100      0.000191  \n",
       "35                   42         0.001  \n",
       "42                 1770      0.000863  \n",
       "43                 2048       0.00026  \n",
       "44                 1489      0.000673  \n",
       "45                 1207      0.000887  \n",
       "46                 1240      0.003977  \n",
       "47                 1257      0.003814  \n",
       "54                  786      0.000893  \n",
       "55                 1439      0.000281  \n",
       "56                  259      0.001471  \n",
       "57                 1421      0.000752  \n",
       "58                  624      0.002106  \n",
       "59                   18      0.001019  "
      ]
     },
     "execution_count": 125,
     "metadata": {},
     "output_type": "execute_result"
    }
   ],
   "source": [
    "# look at (all) GNN runs only\n",
    "gnn = hparams.loc[~hparams[\"encoder.depth\"].isnull()].dropna(axis=1)\n",
    "gnn"
   ]
  },
  {
   "cell_type": "code",
   "execution_count": 129,
   "id": "b23c409a-cdc4-4a28-9624-cb30d5a662b2",
   "metadata": {
    "scrolled": true
   },
   "outputs": [
    {
     "data": {
      "text/plain": [
       "<Axes: >"
      ]
     },
     "execution_count": 129,
     "metadata": {},
     "output_type": "execute_result"
    },
    {
     "data": {
      "image/png": "[encoded data removed]",
      "text/plain": [
       "<Figure size 640x480 with 1 Axes>"
      ]
     },
     "metadata": {},
     "output_type": "display_data"
    }
   ],
   "source": [
    "pd.plotting.parallel_coordinates(gnn, \"experiment_id\")"
   ]
  },
  {
   "cell_type": "code",
   "execution_count": null,
   "id": "a0c15d13-37a7-421a-b23b-901c6244d83f",
   "metadata": {},
   "outputs": [],
   "source": []
  }
 ],
 "metadata": {
  "kernelspec": {
   "display_name": "Python 3 (ipykernel)",
   "language": "python",
   "name": "python3"
  },
  "language_info": {
   "codemirror_mode": {
    "name": "ipython",
    "version": 3
   },
   "file_extension": ".py",
   "mimetype": "text/x-python",
   "name": "python",
   "nbconvert_exporter": "python",
   "pygments_lexer": "ipython3",
   "version": "3.11.5"
  }
 },
 "nbformat": 4,
 "nbformat_minor": 5
}
