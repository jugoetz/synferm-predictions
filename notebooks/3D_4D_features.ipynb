{
 "cells": [
  {
   "cell_type": "markdown",
   "id": "0",
   "metadata": {},
   "source": [
    "# Calculate 3D and 4D features for reactants\n",
    "## Note: run in `crest` kernel"
   ]
  },
  {
   "cell_type": "code",
   "execution_count": null,
   "id": "1",
   "metadata": {},
   "outputs": [],
   "source": [
    "import sys\n",
    "import pathlib\n",
    "sys.path.append(str(pathlib.Path(\"__file__\").absolute().parents[1]))\n",
    "\n",
    "from rdkit import Chem\n",
    "from rdkit.Chem import Draw\n",
    "from rdkit.Chem import AllChem\n",
    "from rdkit.Chem.rdmolfiles import MolToXYZFile\n",
    "import pandas as pd\n",
    "import morfeus\n",
    "\n",
    "from src.util.definitions import DATA_ROOT"
   ]
  },
  {
   "cell_type": "code",
   "execution_count": null,
   "id": "2",
   "metadata": {},
   "outputs": [],
   "source": [
    "data = pd.read_csv(DATA_ROOT / \"synferm_dataset_2023-12-20_39486records.csv\")\n",
    "\n",
    "def rename_func(s):\n",
    "    return s.split(\"_\")[-1]\n",
    "building_blocks = pd.concat([data[[f\"{s}_long\", f\"{s}_smiles\"]].drop_duplicates().rename(columns=rename_func).assign(bb_type=s) for s in \"IMT\"])\n",
    "assert len(building_blocks) == 67 + 71 + 41\n",
    "building_blocks.head()"
   ]
  },
  {
   "cell_type": "code",
   "execution_count": null,
   "id": "3",
   "metadata": {},
   "outputs": [],
   "source": [
    "from rdkit import RDLogger\n",
    "from rdkit import Chem\n",
    "from rdkit.Chem.SaltRemover import SaltRemover\n",
    "RDLogger.DisableLog('rdApp.info')\n",
    "from rdkit.Chem.MolStandardize import rdMolStandardize\n",
    "# Function to standardise SMILES\n",
    "def standardise_smiles(smiles):\n",
    "    remover = SaltRemover()\n",
    "    uncharger = rdMolStandardize.Uncharger()\n",
    "    mol = Chem.MolFromSmiles(smiles)\n",
    "    res = remover.StripMol(mol)\n",
    "    # remove counterion\n",
    "    largest_Fragment = rdMolStandardize.LargestFragmentChooser()\n",
    "    largest_mol = largest_Fragment.choose(mol)\n",
    "    # neutralize monomers and terminators (i.e. ammoniums) the Uncharger will leave the [B-] as is.\n",
    "    return Chem.MolToSmiles(uncharger.uncharge(largest_mol))"
   ]
  },
  {
   "cell_type": "code",
   "execution_count": null,
   "id": "4",
   "metadata": {},
   "outputs": [],
   "source": [
    "# Update the SMILES column which contains the standardised smiles\n",
    "building_blocks['smiles_standard'] = building_blocks['smiles'].apply(standardise_smiles)"
   ]
  },
  {
   "cell_type": "code",
   "execution_count": null,
   "id": "5",
   "metadata": {},
   "outputs": [],
   "source": [
    "# Make directory structure for calculations\n",
    "calc_dir = DATA_ROOT / \"feature_calculations\"\n",
    "calc_dir.mkdir(exist_ok=True)\n",
    "\n",
    "for long in building_blocks[\"long\"]:\n",
    "    (calc_dir / long).mkdir(exist_ok=True)"
   ]
  },
  {
   "cell_type": "code",
   "execution_count": null,
   "id": "6",
   "metadata": {},
   "outputs": [],
   "source": [
    "def smiles_to_xyz(smiles, output_filename):\n",
    "    \"\"\"A function that generates a xyz file for a SMILES input\"\"\"\n",
    "    # generate Mol\n",
    "    mol = smiles_to_mol(smiles)\n",
    "\n",
    "    # Write the molecule to an XYZ file\n",
    "    MolToXYZFile(mol, output_filename)\n",
    "    # Write charge to .CHRG file for xtb\n",
    "    with open(output_filename.parent / \".CHRG\", \"w\") as f:\n",
    "        f.write(f\"{Chem.GetFormalCharge(mol)}\\n\")\n",
    "\n",
    "    return None\n",
    "\n",
    "\n",
    "def smiles_to_mol(smiles):\n",
    "    \"\"\"A function that generates a rdkit Mol for a SMILES input, in the same way the Mol for xyz is created\"\"\"\n",
    "    # Convert the SMILES string to a molecule object\n",
    "    mol = Chem.MolFromSmiles(smiles)\n",
    "    mol = Chem.AddHs(mol)  # Add hydrogens\n",
    "\n",
    "    # Generate 3D coordinates\n",
    "    AllChem.EmbedMolecule(mol, AllChem.ETKDG())\n",
    "    AllChem.MMFFOptimizeMolecule(mol)  # Optimize the geometry\n",
    "\n",
    "    return mol"
   ]
  },
  {
   "cell_type": "code",
   "execution_count": null,
   "id": "7",
   "metadata": {},
   "outputs": [],
   "source": [
    "# export XYZ files\n",
    "for i, row in building_blocks.iterrows():\n",
    "    smiles_to_xyz(row[\"smiles_standard\"], calc_dir / row[\"long\"] / \"mmff94_out.xyz\")"
   ]
  },
  {
   "cell_type": "code",
   "execution_count": null,
   "id": "8",
   "metadata": {},
   "outputs": [],
   "source": [
    "building_blocks[\"mol\"] = building_blocks[\"smiles_standard\"].apply(lambda x: smiles_to_mol(x))\n",
    "building_blocks"
   ]
  },
  {
   "cell_type": "markdown",
   "id": "9",
   "metadata": {},
   "source": [
    "## External optimization\n",
    "Structures were optimized on the cluster. Each structure was pre-optimized at the xtb-gnf2 level. Conformers were generated using crest and optimized at the xtb-gnf level, with singlepoint calculations at the xtv-gnf2 level.\n",
    "\n",
    "Command to run on the cluster:\n",
    "\n",
    "```bash\n",
    "sbatch -n 1 --cpus-per-task=1 --time=4:00:00 --mem-per-cpu=2048 --output=\"stdout.txt\" --error=\"stderr.txt\" --open-mode=append --wrap=\"crest xtbopt.xyz --gbsa h2o -T 1 --gfn2//gfnff\"\n",
    "```\n",
    "\n",
    "Optimized conformer ensembles are in `$PROJECT_ROOT/data/crest_opt/<building_block>/`."
   ]
  },
  {
   "cell_type": "code",
   "execution_count": null,
   "id": "10",
   "metadata": {},
   "outputs": [],
   "source": [
    "from morfeus.conformer import ConformerEnsemble\n",
    "from morfeus.conformer import conformers_from_rdkit\n",
    "\n",
    "def ce_from_crest(crest_dir, mol):\n",
    "    \"\"\"\n",
    "    Creates and refines a ConformerEnsemble from CREST output folder.\n",
    "    Problem with the CREST outputs is that they do not have any connectivity information (.xyz files)\n",
    "    We can assign the original RDKit Mols. After all CREST should conserve atom order.\n",
    "    \n",
    "    Args:\n",
    "        crest_dir (str): Directory containing CREST output.\n",
    "        mol (Chem.Mol): RDKit Mol that the input to crest was generated from.\n",
    "\n",
    "    Returns:\n",
    "        A ConformerEnsemble: Refined ensemble of conformers after sorting, adding RDKit Mol,\n",
    "        and pruning based on RMSD and energy.\n",
    "    \"\"\"\n",
    "\n",
    "    # Generate MORFEUS ConformerEnsemble object from CREST folder and sort it energetically\n",
    "    ce = ConformerEnsemble.from_crest(crest_dir)\n",
    "    ce.sort()\n",
    "\n",
    "    # Add molecule representation\n",
    "    ce.mol = mol\n",
    "    \n",
    "    # quick check: is the atom order identical?\n",
    "    elem = [a.GetAtomicNum() for a in mol.GetAtoms()]\n",
    "    all(elem == ce.elements)\n",
    "    \n",
    "    # Obtain connectivity matrix and charges from mol\n",
    "    (       elements,\n",
    "            conformer_coordinates,\n",
    "            energies,\n",
    "            connectivity_matrix,\n",
    "            charges,\n",
    "            _,\n",
    "        ) = conformers_from_rdkit(mol)\n",
    "    ce.connectivity_matrix = connectivity_matrix\n",
    "    ce.formal_charges = charges\n",
    "    ce.charge = int(charges.sum())\n",
    "\n",
    "    # Prune according to rmsd and energy\n",
    "    ce.prune_rmsd()\n",
    "    ce.prune_energy()\n",
    "\n",
    "    return ce"
   ]
  },
  {
   "cell_type": "code",
   "execution_count": null,
   "id": "11",
   "metadata": {},
   "outputs": [],
   "source": [
    "ensemble_dir = DATA_ROOT / \"crest_opt\""
   ]
  },
  {
   "cell_type": "code",
   "execution_count": null,
   "id": "12",
   "metadata": {},
   "outputs": [],
   "source": [
    "building_blocks[\"ce\"] = "
   ]
  },
  {
   "cell_type": "code",
   "execution_count": null,
   "id": "13",
   "metadata": {},
   "outputs": [],
   "source": [
    "ce = ce_from_crest(ensemble_dir / \"2-Pyr003\", mol)"
   ]
  },
  {
   "cell_type": "code",
   "execution_count": null,
   "id": "14",
   "metadata": {},
   "outputs": [],
   "source": [
    "from morfeus import XTB\n",
    "\n",
    "# Calculate the LUMO for every conformer of the CREST conformer ensemble and print out the Boltzmann average\n",
    "for conformer in ce_crest:\n",
    "    xtb = XTB(conformer.elements, conformer.coordinates)\n",
    "    conformer.properties[\"lumo\"] = xtb.get_lumo()\n",
    "\n",
    "print(f\"The average LUMO energy of 2-methoxyethylamine for the crest-derived conformer ensemble is {ce_crest.boltzmann_statistic('lumo'):.6f} eV\")"
   ]
  },
  {
   "cell_type": "code",
   "execution_count": null,
   "id": "15",
   "metadata": {},
   "outputs": [],
   "source": []
  }
 ],
 "metadata": {
  "kernelspec": {
   "display_name": "crest",
   "language": "python",
   "name": "crest"
  },
  "language_info": {
   "codemirror_mode": {
    "name": "ipython",
    "version": 3
   },
   "file_extension": ".py",
   "mimetype": "text/x-python",
   "name": "python",
   "nbconvert_exporter": "python",
   "pygments_lexer": "ipython3",
   "version": "3.10.13"
  }
 },
 "nbformat": 4,
 "nbformat_minor": 5
}
