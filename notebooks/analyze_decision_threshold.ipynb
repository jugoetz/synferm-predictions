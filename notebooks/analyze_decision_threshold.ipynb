{
 "cells": [
  {
   "cell_type": "markdown",
   "id": "53774bba-6860-49ea-9704-87090789ea1f",
   "metadata": {},
   "source": [
    "# Analyze decision threshold\n",
    "We notice that some models always predict 1 for binary_A. We try modifiying the decision threshold and see the impact on validation metrics"
   ]
  },
  {
   "cell_type": "code",
   "execution_count": 312,
   "id": "302e71e0-9360-4418-a4b1-fd6e7289a842",
   "metadata": {},
   "outputs": [],
   "source": [
    "import pathlib\n",
    "import sys\n",
    "sys.path.append(str(pathlib.Path(\"__file__\").absolute().parents[1]))\n",
    "\n",
    "from sklearn.metrics import confusion_matrix, multilabel_confusion_matrix, accuracy_score, balanced_accuracy_score, roc_auc_score, precision_score, recall_score, f1_score, fbeta_score, PrecisionRecallDisplay\n",
    "from sklearn.preprocessing import LabelEncoder\n",
    "import matplotlib.pyplot as plt\n",
    "import numpy as np\n",
    "import pandas as pd\n",
    "import wandb\n",
    "\n",
    "from src.util.definitions import PRED_DIR, DATA_ROOT, LOG_DIR\n",
    "from src.util.io import read_predictions\n",
    "from ghost import optimize_threshold_from_predictions"
   ]
  },
  {
   "cell_type": "code",
   "execution_count": 2,
   "id": "2ef93756-8aa6-4f28-a950-fe501d89632b",
   "metadata": {},
   "outputs": [],
   "source": [
    "api = wandb.Api()\n",
    "runs = api.runs(\"jugoetz/synferm-predictions\", filters={\"group\": \"2023-10-21-225820_296119\"})"
   ]
  },
  {
   "cell_type": "code",
   "execution_count": 3,
   "id": "9144eb3c-512d-4bb3-8f37-d0e0423de75a",
   "metadata": {},
   "outputs": [
    {
     "data": {
      "text/plain": [
       "['2023-10-21-225820_296119_fold8',\n",
       " '2023-10-21-225820_296119_fold7',\n",
       " '2023-10-21-225820_296119_fold6',\n",
       " '2023-10-21-225820_296119_fold5',\n",
       " '2023-10-21-225820_296119_fold4',\n",
       " '2023-10-21-225820_296119_fold3',\n",
       " '2023-10-21-225820_296119_fold2',\n",
       " '2023-10-21-225820_296119_fold1',\n",
       " '2023-10-21-225820_296119_fold0']"
      ]
     },
     "execution_count": 3,
     "metadata": {},
     "output_type": "execute_result"
    }
   ],
   "source": [
    "# get run info\n",
    "config_list = [run.config for run in runs]\n",
    "summary_list = [run.summary._json_dict for run in runs]\n",
    "name_list = [run.name for run in runs]\n",
    "\n",
    "name_list"
   ]
  },
  {
   "cell_type": "code",
   "execution_count": 4,
   "id": "85dc5130-68c1-4be5-9d30-3a31745aae41",
   "metadata": {},
   "outputs": [
    {
     "data": {
      "text/html": [
       "<div>\n",
       "<style scoped>\n",
       "    .dataframe tbody tr th:only-of-type {\n",
       "        vertical-align: middle;\n",
       "    }\n",
       "\n",
       "    .dataframe tbody tr th {\n",
       "        vertical-align: top;\n",
       "    }\n",
       "\n",
       "    .dataframe thead th {\n",
       "        text-align: right;\n",
       "    }\n",
       "</style>\n",
       "<table border=\"1\" class=\"dataframe\">\n",
       "  <thead>\n",
       "    <tr style=\"text-align: right;\">\n",
       "      <th></th>\n",
       "      <th>pred_0</th>\n",
       "      <th>pred_1</th>\n",
       "      <th>pred_2</th>\n",
       "    </tr>\n",
       "    <tr>\n",
       "      <th>idx</th>\n",
       "      <th></th>\n",
       "      <th></th>\n",
       "      <th></th>\n",
       "    </tr>\n",
       "  </thead>\n",
       "  <tbody>\n",
       "    <tr>\n",
       "      <th>5696</th>\n",
       "      <td>0.000011</td>\n",
       "      <td>0.000028</td>\n",
       "      <td>0.000065</td>\n",
       "    </tr>\n",
       "    <tr>\n",
       "      <th>27902</th>\n",
       "      <td>0.046899</td>\n",
       "      <td>0.008843</td>\n",
       "      <td>0.015434</td>\n",
       "    </tr>\n",
       "    <tr>\n",
       "      <th>32451</th>\n",
       "      <td>0.999999</td>\n",
       "      <td>0.998995</td>\n",
       "      <td>0.997926</td>\n",
       "    </tr>\n",
       "    <tr>\n",
       "      <th>19446</th>\n",
       "      <td>0.999980</td>\n",
       "      <td>0.938983</td>\n",
       "      <td>0.041544</td>\n",
       "    </tr>\n",
       "    <tr>\n",
       "      <th>34352</th>\n",
       "      <td>0.999669</td>\n",
       "      <td>0.828458</td>\n",
       "      <td>0.000750</td>\n",
       "    </tr>\n",
       "    <tr>\n",
       "      <th>...</th>\n",
       "      <td>...</td>\n",
       "      <td>...</td>\n",
       "      <td>...</td>\n",
       "    </tr>\n",
       "    <tr>\n",
       "      <th>25426</th>\n",
       "      <td>0.954088</td>\n",
       "      <td>0.014336</td>\n",
       "      <td>0.149201</td>\n",
       "    </tr>\n",
       "    <tr>\n",
       "      <th>14754</th>\n",
       "      <td>0.999999</td>\n",
       "      <td>0.999268</td>\n",
       "      <td>0.850364</td>\n",
       "    </tr>\n",
       "    <tr>\n",
       "      <th>24839</th>\n",
       "      <td>0.391199</td>\n",
       "      <td>0.113563</td>\n",
       "      <td>0.047344</td>\n",
       "    </tr>\n",
       "    <tr>\n",
       "      <th>34223</th>\n",
       "      <td>0.931483</td>\n",
       "      <td>0.002675</td>\n",
       "      <td>0.004276</td>\n",
       "    </tr>\n",
       "    <tr>\n",
       "      <th>6489</th>\n",
       "      <td>0.999917</td>\n",
       "      <td>0.998239</td>\n",
       "      <td>0.086022</td>\n",
       "    </tr>\n",
       "  </tbody>\n",
       "</table>\n",
       "<p>32014 rows × 3 columns</p>\n",
       "</div>"
      ],
      "text/plain": [
       "         pred_0    pred_1    pred_2\n",
       "idx                                \n",
       "5696   0.000011  0.000028  0.000065\n",
       "27902  0.046899  0.008843  0.015434\n",
       "32451  0.999999  0.998995  0.997926\n",
       "19446  0.999980  0.938983  0.041544\n",
       "34352  0.999669  0.828458  0.000750\n",
       "...         ...       ...       ...\n",
       "25426  0.954088  0.014336  0.149201\n",
       "14754  0.999999  0.999268  0.850364\n",
       "24839  0.391199  0.113563  0.047344\n",
       "34223  0.931483  0.002675  0.004276\n",
       "6489   0.999917  0.998239  0.086022\n",
       "\n",
       "[32014 rows x 3 columns]"
      ]
     },
     "execution_count": 4,
     "metadata": {},
     "output_type": "execute_result"
    }
   ],
   "source": [
    "# read train predictions\n",
    "preds = [read_predictions(n, \"train\") for n in name_list]\n",
    "preds[0]"
   ]
  },
  {
   "cell_type": "code",
   "execution_count": 5,
   "id": "b974ed66-049e-4c21-86f4-7967362b1988",
   "metadata": {},
   "outputs": [],
   "source": [
    "# combine with ground truth\n",
    "df_true = pd.read_csv(DATA_ROOT / \"synferm_dataset_2023-09-05_40018records.csv\")\n",
    "comb = [pred.merge(df_true[[\"binary_A\", \"binary_B\", \"binary_C\"]], left_index=True, right_index=True) for pred in preds]\n",
    "comb[0]"
   ]
  },
  {
   "cell_type": "code",
   "execution_count": 7,
   "id": "9f399613-2444-46f3-9d54-11f0e91376fe",
   "metadata": {},
   "outputs": [],
   "source": [
    "# calculate thresholded metrics over many thresholds\n",
    "# and obtain best threshold with GHOST with Cohen's Kappa method\n",
    "bal_acc = []\n",
    "f_beta = []\n",
    "x = np.arange(0, 1.0001, 0.01)\n",
    "y_bal_acc = np.empty((101, 9))\n",
    "y_f_beta = np.empty((101, 9))\n",
    "best_thresh = np.empty(9)\n",
    "for fold in range(9):\n",
    "    for i, threshold in enumerate(x):\n",
    "        y_bal_acc[i, fold] = balanced_accuracy_score(comb[fold][\"binary_A\"], (comb[fold][\"pred_0\"] > threshold))\n",
    "        y_f_beta[i, fold] = fbeta_score(comb[fold][\"binary_A\"], (comb[fold][\"pred_0\"] > threshold), beta=0.1)\n",
    "    best_thresh[fold] = optimize_threshold_from_predictions(comb[fold][\"binary_A\"], comb[fold][\"pred_0\"], thresholds=x, ThOpt_metrics=\"Kappa\") "
   ]
  },
  {
   "cell_type": "code",
   "execution_count": 8,
   "id": "65bd1b4c-f215-498f-ba45-eb9c0133cdfb",
   "metadata": {},
   "outputs": [],
   "source": [
    "# obtain best threshold with GHOST with AUROC method\n",
    "best_thresh_roc = np.empty(9)\n",
    "for fold in range(9):\n",
    "    best_thresh_roc[fold] = optimize_threshold_from_predictions(comb[fold][\"binary_A\"], comb[fold][\"pred_0\"], thresholds=x, ThOpt_metrics=\"ROC\") "
   ]
  },
  {
   "cell_type": "code",
   "execution_count": 9,
   "id": "66a9cfb8-66a0-495a-a16a-5687f3e6757b",
   "metadata": {
    "scrolled": true
   },
   "outputs": [
    {
     "data": {
      "text/plain": [
       "array([0.55, 0.54, 0.56, 0.51, 0.55, 0.55, 0.58, 0.57, 0.54])"
      ]
     },
     "execution_count": 9,
     "metadata": {},
     "output_type": "execute_result"
    }
   ],
   "source": [
    "best_thresh"
   ]
  },
  {
   "cell_type": "code",
   "execution_count": 10,
   "id": "e43dfbb1-4fe1-4d42-b2a8-d7f02d1309a9",
   "metadata": {},
   "outputs": [
    {
     "data": {
      "text/plain": [
       "array([0.69, 0.66, 0.67, 0.67, 0.69, 0.69, 0.69, 0.61, 0.69])"
      ]
     },
     "execution_count": 10,
     "metadata": {},
     "output_type": "execute_result"
    }
   ],
   "source": [
    "best_thresh_roc"
   ]
  },
  {
   "cell_type": "code",
   "execution_count": 41,
   "id": "0419a98a-4b6d-489d-9979-fa98d01dc87b",
   "metadata": {},
   "outputs": [
    {
     "data": {
      "text/plain": [
       "<matplotlib.legend.Legend at 0x7f290a3b3a50>"
      ]
     },
     "execution_count": 41,
     "metadata": {},
     "output_type": "execute_result"
    },
    {
     "data": {
      "image/png": "[encoded data removed]",
      "text/plain": [
       "<Figure size 600x400 with 1 Axes>"
      ]
     },
     "metadata": {},
     "output_type": "display_data"
    }
   ],
   "source": [
    "# plot best thresholds from GHOST with metric value by threshold\n",
    "fig, ax = plt.subplots(figsize=(6,4))\n",
    "for i, fold in enumerate(name_list):\n",
    "    line = ax.plot(x, y_bal_acc[:, i], label=fold[-1])\n",
    "    ax.vlines(x=best_thresh[i], ymin=0, ymax=y_bal_acc[int((best_thresh[i] * 100).round()), i], ls=\":\", colors=line[0].get_color(), lw=1.2)\n",
    "    ax.vlines(x=best_thresh_roc[i], ymin=0, ymax=y_bal_acc[int((best_thresh_roc[i] * 100).round()), i], ls=\"--\", colors=line[0].get_color(), lw=1.2)\n",
    "\n",
    "ax.set_xlabel(\"Decision boundary\")\n",
    "ax.set_ylabel(\"Balanced accuracy\")\n",
    "ax.set_xlim(0,1)\n",
    "ax.set_ylim(0.4,1)\n",
    "ax.legend()"
   ]
  },
  {
   "cell_type": "markdown",
   "id": "8ce1837e-cb9a-4671-9b6a-3f20524fd9aa",
   "metadata": {},
   "source": [
    "### Maximize balanced accuracy\n",
    "\n",
    "Simple way to pick the decision threshold is to calculate the balanced accuracy over different thresholds and pick the one that maximizes it.\n",
    "\n",
    "Note:\n",
    "- Since this is average recall per class, for our problem, this heavily tilts the predictions to minimize false negatives. That also means, recall for the positive class will take a heavy hit\n",
    "- Picking the maximum can be a bit unstable if the balanced_accuracy/threshold curve is not so smooth."
   ]
  },
  {
   "cell_type": "code",
   "execution_count": 18,
   "id": "cb3ada76-516e-41e3-8187-fcbbd2889fb4",
   "metadata": {},
   "outputs": [
    {
     "name": "stdout",
     "output_type": "stream",
     "text": [
      "balanced accuracy: 0.97\n",
      "recall: 0.97\n",
      "precision: 0.99\n",
      "f_0.5 score: 0.99\n",
      "\n",
      "balanced accuracy: 0.98\n",
      "recall: 0.98\n",
      "precision: 1.00\n",
      "f_0.5 score: 0.99\n",
      "\n",
      "balanced accuracy: 0.98\n",
      "recall: 0.98\n",
      "precision: 1.00\n",
      "f_0.5 score: 0.99\n",
      "\n",
      "balanced accuracy: 0.98\n",
      "recall: 0.97\n",
      "precision: 1.00\n",
      "f_0.5 score: 0.99\n",
      "\n",
      "balanced accuracy: 0.98\n",
      "recall: 0.97\n",
      "precision: 1.00\n",
      "f_0.5 score: 0.99\n",
      "\n",
      "balanced accuracy: 0.98\n",
      "recall: 0.97\n",
      "precision: 1.00\n",
      "f_0.5 score: 0.99\n",
      "\n",
      "balanced accuracy: 0.97\n",
      "recall: 0.97\n",
      "precision: 0.99\n",
      "f_0.5 score: 0.99\n",
      "\n",
      "balanced accuracy: 0.98\n",
      "recall: 0.98\n",
      "precision: 1.00\n",
      "f_0.5 score: 0.99\n",
      "\n",
      "balanced accuracy: 0.98\n",
      "recall: 0.98\n",
      "precision: 1.00\n",
      "f_0.5 score: 0.99\n",
      "\n"
     ]
    },
    {
     "data": {
      "text/plain": [
       "<sklearn.metrics._plot.precision_recall_curve.PrecisionRecallDisplay at 0x7f290a77b350>"
      ]
     },
     "execution_count": 18,
     "metadata": {},
     "output_type": "execute_result"
    },
    {
     "data": {
      "image/png": "[encoded data removed]",
      "text/plain": [
       "<Figure size 640x480 with 1 Axes>"
      ]
     },
     "metadata": {},
     "output_type": "display_data"
    }
   ],
   "source": [
    "# try maximizing balanced accuracy on all folds\n",
    "for fold in range(9):\n",
    "    threshold = np.argmax(y_bal_acc[:, fold]) / 100\n",
    "    y_true = comb[fold][\"binary_A\"]\n",
    "    y_prob = comb[fold][\"pred_0\"]\n",
    "    y_pred = (y_prob > threshold)\n",
    "    print(\"balanced accuracy:\", f\"{balanced_accuracy_score(y_true, y_pred):.2f}\")\n",
    "    print(\"recall:\", f\"{recall_score(y_true, y_pred):.2f}\")\n",
    "    print(\"precision:\", f\"{precision_score(y_true, y_pred):.2f}\")\n",
    "    print(\"f_0.5 score:\", f\"{fbeta_score(y_true, y_pred, beta=0.5):.2f}\")\n",
    "    print()\n",
    "\n",
    "# plot the PRC\n",
    "PrecisionRecallDisplay.from_predictions(y_true, y_prob, pos_label=1, drop_intermediate=True, plot_chance_level=True)"
   ]
  },
  {
   "cell_type": "markdown",
   "id": "f2e0e99b-58ed-4243-a8f6-5da1d554a364",
   "metadata": {},
   "source": [
    "### GHOST\n",
    "The Rinicker lab has published GHOST (1) for decision threshold picking.\n",
    "On a high level this:\n",
    "- Takes startified samples from the training set (default: without replacement)\n",
    "- Determines metric (default: Cohen's kappa) for all decision thresholds\n",
    "- Calculates the median metric over stratified samples for all decision thresholds\n",
    "- Returns the threshold with highest median metric\n",
    "\n",
    "(1) Esposito, C.; A. Landrum, G.; Schneider, N.; Stiefl, N.; Riniker, S. GHOST: Adjusting the Decision Threshold to Handle Imbalanced Data in Machine Learning. Journal of Chemical Information and Modeling 2021, 61 (6), 2623–2640. https://doi.org/10.1021/acs.jcim.1c00160."
   ]
  },
  {
   "cell_type": "code",
   "execution_count": 12,
   "id": "2fa6bd83-12cb-41e7-8b44-648b6b74c9c1",
   "metadata": {},
   "outputs": [
    {
     "name": "stdout",
     "output_type": "stream",
     "text": [
      "balanced accuracy: 0.96\n",
      "recall: 0.98\n",
      "precision: 0.99\n",
      "f_0.5 score: 0.99\n",
      "\n",
      "balanced accuracy: 0.97\n",
      "recall: 0.99\n",
      "precision: 0.99\n",
      "f_0.5 score: 0.99\n",
      "\n",
      "balanced accuracy: 0.97\n",
      "recall: 0.98\n",
      "precision: 0.99\n",
      "f_0.5 score: 0.99\n",
      "\n",
      "balanced accuracy: 0.97\n",
      "recall: 0.99\n",
      "precision: 0.99\n",
      "f_0.5 score: 0.99\n",
      "\n",
      "balanced accuracy: 0.97\n",
      "recall: 0.98\n",
      "precision: 0.99\n",
      "f_0.5 score: 0.99\n",
      "\n",
      "balanced accuracy: 0.97\n",
      "recall: 0.98\n",
      "precision: 0.99\n",
      "f_0.5 score: 0.99\n",
      "\n",
      "balanced accuracy: 0.97\n",
      "recall: 0.98\n",
      "precision: 0.99\n",
      "f_0.5 score: 0.99\n",
      "\n",
      "balanced accuracy: 0.98\n",
      "recall: 0.98\n",
      "precision: 0.99\n",
      "f_0.5 score: 0.99\n",
      "\n",
      "balanced accuracy: 0.97\n",
      "recall: 0.99\n",
      "precision: 0.99\n",
      "f_0.5 score: 0.99\n",
      "\n"
     ]
    }
   ],
   "source": [
    "# evaluate GHOST on all folds (training data)\n",
    "for i in range(9):\n",
    "    threshold = best_thresh[i]\n",
    "    y_true = comb[i][\"binary_A\"]\n",
    "    y_prob = comb[i][\"pred_0\"]\n",
    "    y_pred = (y_prob > threshold)\n",
    "    print(\"balanced accuracy:\", f\"{balanced_accuracy_score(y_true, y_pred):.2f}\")\n",
    "    print(\"recall:\", f\"{recall_score(y_true, y_pred):.2f}\")\n",
    "    print(\"precision:\", f\"{precision_score(y_true, y_pred):.2f}\")\n",
    "    print(\"f_0.5 score:\", f\"{fbeta_score(y_true, y_pred, beta=0.5):.2f}\")\n",
    "    print()"
   ]
  },
  {
   "cell_type": "code",
   "execution_count": 30,
   "id": "ac4e3b1b-b65d-41fc-913f-f0f03591247a",
   "metadata": {},
   "outputs": [
    {
     "data": {
      "text/html": [
       "<div>\n",
       "<style scoped>\n",
       "    .dataframe tbody tr th:only-of-type {\n",
       "        vertical-align: middle;\n",
       "    }\n",
       "\n",
       "    .dataframe tbody tr th {\n",
       "        vertical-align: top;\n",
       "    }\n",
       "\n",
       "    .dataframe thead th {\n",
       "        text-align: right;\n",
       "    }\n",
       "</style>\n",
       "<table border=\"1\" class=\"dataframe\">\n",
       "  <thead>\n",
       "    <tr style=\"text-align: right;\">\n",
       "      <th></th>\n",
       "      <th>pred_0</th>\n",
       "      <th>pred_1</th>\n",
       "      <th>pred_2</th>\n",
       "    </tr>\n",
       "    <tr>\n",
       "      <th>idx</th>\n",
       "      <th></th>\n",
       "      <th></th>\n",
       "      <th></th>\n",
       "    </tr>\n",
       "  </thead>\n",
       "  <tbody>\n",
       "    <tr>\n",
       "      <th>17232</th>\n",
       "      <td>0.999979</td>\n",
       "      <td>0.996996</td>\n",
       "      <td>0.928148</td>\n",
       "    </tr>\n",
       "    <tr>\n",
       "      <th>19187</th>\n",
       "      <td>1.000000</td>\n",
       "      <td>0.999642</td>\n",
       "      <td>0.764839</td>\n",
       "    </tr>\n",
       "    <tr>\n",
       "      <th>22969</th>\n",
       "      <td>0.998945</td>\n",
       "      <td>0.999785</td>\n",
       "      <td>0.021367</td>\n",
       "    </tr>\n",
       "    <tr>\n",
       "      <th>26478</th>\n",
       "      <td>0.205737</td>\n",
       "      <td>0.980491</td>\n",
       "      <td>0.156379</td>\n",
       "    </tr>\n",
       "    <tr>\n",
       "      <th>21297</th>\n",
       "      <td>0.999955</td>\n",
       "      <td>0.170861</td>\n",
       "      <td>0.687254</td>\n",
       "    </tr>\n",
       "    <tr>\n",
       "      <th>...</th>\n",
       "      <td>...</td>\n",
       "      <td>...</td>\n",
       "      <td>...</td>\n",
       "    </tr>\n",
       "    <tr>\n",
       "      <th>5278</th>\n",
       "      <td>0.123206</td>\n",
       "      <td>0.022237</td>\n",
       "      <td>0.124513</td>\n",
       "    </tr>\n",
       "    <tr>\n",
       "      <th>14401</th>\n",
       "      <td>0.992612</td>\n",
       "      <td>0.039865</td>\n",
       "      <td>0.019231</td>\n",
       "    </tr>\n",
       "    <tr>\n",
       "      <th>5789</th>\n",
       "      <td>0.998854</td>\n",
       "      <td>0.988372</td>\n",
       "      <td>0.011118</td>\n",
       "    </tr>\n",
       "    <tr>\n",
       "      <th>15557</th>\n",
       "      <td>0.999998</td>\n",
       "      <td>0.057071</td>\n",
       "      <td>0.209002</td>\n",
       "    </tr>\n",
       "    <tr>\n",
       "      <th>3927</th>\n",
       "      <td>0.999862</td>\n",
       "      <td>0.463428</td>\n",
       "      <td>0.024077</td>\n",
       "    </tr>\n",
       "  </tbody>\n",
       "</table>\n",
       "<p>4002 rows × 3 columns</p>\n",
       "</div>"
      ],
      "text/plain": [
       "         pred_0    pred_1    pred_2\n",
       "idx                                \n",
       "17232  0.999979  0.996996  0.928148\n",
       "19187  1.000000  0.999642  0.764839\n",
       "22969  0.998945  0.999785  0.021367\n",
       "26478  0.205737  0.980491  0.156379\n",
       "21297  0.999955  0.170861  0.687254\n",
       "...         ...       ...       ...\n",
       "5278   0.123206  0.022237  0.124513\n",
       "14401  0.992612  0.039865  0.019231\n",
       "5789   0.998854  0.988372  0.011118\n",
       "15557  0.999998  0.057071  0.209002\n",
       "3927   0.999862  0.463428  0.024077\n",
       "\n",
       "[4002 rows x 3 columns]"
      ]
     },
     "execution_count": 30,
     "metadata": {},
     "output_type": "execute_result"
    }
   ],
   "source": [
    "# take a look at validation set metrics\n",
    "# read val predictions\n",
    "preds_val = [read_predictions(n, \"val\") for n in name_list]\n",
    "preds_val[0]"
   ]
  },
  {
   "cell_type": "code",
   "execution_count": 31,
   "id": "cbab331b-3c9a-4fa2-82f7-34688dd94f3e",
   "metadata": {},
   "outputs": [
    {
     "data": {
      "text/html": [
       "<div>\n",
       "<style scoped>\n",
       "    .dataframe tbody tr th:only-of-type {\n",
       "        vertical-align: middle;\n",
       "    }\n",
       "\n",
       "    .dataframe tbody tr th {\n",
       "        vertical-align: top;\n",
       "    }\n",
       "\n",
       "    .dataframe thead th {\n",
       "        text-align: right;\n",
       "    }\n",
       "</style>\n",
       "<table border=\"1\" class=\"dataframe\">\n",
       "  <thead>\n",
       "    <tr style=\"text-align: right;\">\n",
       "      <th></th>\n",
       "      <th>pred_0</th>\n",
       "      <th>pred_1</th>\n",
       "      <th>pred_2</th>\n",
       "      <th>binary_A</th>\n",
       "      <th>binary_B</th>\n",
       "      <th>binary_C</th>\n",
       "    </tr>\n",
       "  </thead>\n",
       "  <tbody>\n",
       "    <tr>\n",
       "      <th>17232</th>\n",
       "      <td>0.999979</td>\n",
       "      <td>0.996996</td>\n",
       "      <td>0.928148</td>\n",
       "      <td>1</td>\n",
       "      <td>1</td>\n",
       "      <td>1</td>\n",
       "    </tr>\n",
       "    <tr>\n",
       "      <th>19187</th>\n",
       "      <td>1.000000</td>\n",
       "      <td>0.999642</td>\n",
       "      <td>0.764839</td>\n",
       "      <td>1</td>\n",
       "      <td>1</td>\n",
       "      <td>1</td>\n",
       "    </tr>\n",
       "    <tr>\n",
       "      <th>22969</th>\n",
       "      <td>0.998945</td>\n",
       "      <td>0.999785</td>\n",
       "      <td>0.021367</td>\n",
       "      <td>1</td>\n",
       "      <td>1</td>\n",
       "      <td>0</td>\n",
       "    </tr>\n",
       "    <tr>\n",
       "      <th>26478</th>\n",
       "      <td>0.205737</td>\n",
       "      <td>0.980491</td>\n",
       "      <td>0.156379</td>\n",
       "      <td>0</td>\n",
       "      <td>1</td>\n",
       "      <td>0</td>\n",
       "    </tr>\n",
       "    <tr>\n",
       "      <th>21297</th>\n",
       "      <td>0.999955</td>\n",
       "      <td>0.170861</td>\n",
       "      <td>0.687254</td>\n",
       "      <td>1</td>\n",
       "      <td>1</td>\n",
       "      <td>1</td>\n",
       "    </tr>\n",
       "    <tr>\n",
       "      <th>...</th>\n",
       "      <td>...</td>\n",
       "      <td>...</td>\n",
       "      <td>...</td>\n",
       "      <td>...</td>\n",
       "      <td>...</td>\n",
       "      <td>...</td>\n",
       "    </tr>\n",
       "    <tr>\n",
       "      <th>5278</th>\n",
       "      <td>0.123206</td>\n",
       "      <td>0.022237</td>\n",
       "      <td>0.124513</td>\n",
       "      <td>0</td>\n",
       "      <td>0</td>\n",
       "      <td>0</td>\n",
       "    </tr>\n",
       "    <tr>\n",
       "      <th>14401</th>\n",
       "      <td>0.992612</td>\n",
       "      <td>0.039865</td>\n",
       "      <td>0.019231</td>\n",
       "      <td>1</td>\n",
       "      <td>1</td>\n",
       "      <td>0</td>\n",
       "    </tr>\n",
       "    <tr>\n",
       "      <th>5789</th>\n",
       "      <td>0.998854</td>\n",
       "      <td>0.988372</td>\n",
       "      <td>0.011118</td>\n",
       "      <td>1</td>\n",
       "      <td>1</td>\n",
       "      <td>0</td>\n",
       "    </tr>\n",
       "    <tr>\n",
       "      <th>15557</th>\n",
       "      <td>0.999998</td>\n",
       "      <td>0.057071</td>\n",
       "      <td>0.209002</td>\n",
       "      <td>1</td>\n",
       "      <td>0</td>\n",
       "      <td>0</td>\n",
       "    </tr>\n",
       "    <tr>\n",
       "      <th>3927</th>\n",
       "      <td>0.999862</td>\n",
       "      <td>0.463428</td>\n",
       "      <td>0.024077</td>\n",
       "      <td>1</td>\n",
       "      <td>1</td>\n",
       "      <td>0</td>\n",
       "    </tr>\n",
       "  </tbody>\n",
       "</table>\n",
       "<p>4002 rows × 6 columns</p>\n",
       "</div>"
      ],
      "text/plain": [
       "         pred_0    pred_1    pred_2  binary_A  binary_B  binary_C\n",
       "17232  0.999979  0.996996  0.928148         1         1         1\n",
       "19187  1.000000  0.999642  0.764839         1         1         1\n",
       "22969  0.998945  0.999785  0.021367         1         1         0\n",
       "26478  0.205737  0.980491  0.156379         0         1         0\n",
       "21297  0.999955  0.170861  0.687254         1         1         1\n",
       "...         ...       ...       ...       ...       ...       ...\n",
       "5278   0.123206  0.022237  0.124513         0         0         0\n",
       "14401  0.992612  0.039865  0.019231         1         1         0\n",
       "5789   0.998854  0.988372  0.011118         1         1         0\n",
       "15557  0.999998  0.057071  0.209002         1         0         0\n",
       "3927   0.999862  0.463428  0.024077         1         1         0\n",
       "\n",
       "[4002 rows x 6 columns]"
      ]
     },
     "execution_count": 31,
     "metadata": {},
     "output_type": "execute_result"
    }
   ],
   "source": [
    "# combine with ground truth\n",
    "comb_val = [pred.merge(df_true[[\"binary_A\", \"binary_B\", \"binary_C\"]], left_index=True, right_index=True) for pred in preds_val]\n",
    "comb_val[0]"
   ]
  },
  {
   "cell_type": "code",
   "execution_count": 32,
   "id": "a4b1541f-a9b8-46b1-8d24-9188b82eade5",
   "metadata": {},
   "outputs": [
    {
     "name": "stdout",
     "output_type": "stream",
     "text": [
      "accuracy: 0.95±0.00\n",
      "balanced accuracy: 0.91±0.01\n",
      "recall: 0.97±0.00\n",
      "precision: 0.97±0.00\n",
      "f_0.5 score: 0.97±0.00\n"
     ]
    }
   ],
   "source": [
    "# threshold obtained by GHOST with Kappa\n",
    "acc, bal_acc, recall, precision, fbeta = [], [], [], [], []\n",
    "\n",
    "for fold in range(9):\n",
    "    threshold = best_thresh[fold]\n",
    "    y_true = comb_val[fold][\"binary_A\"]\n",
    "    y_prob = comb_val[fold][\"pred_0\"]\n",
    "    y_pred = (y_prob > threshold)\n",
    "    acc.append(accuracy_score(y_true, y_pred))\n",
    "    bal_acc.append(balanced_accuracy_score(y_true, y_pred))\n",
    "    recall.append(recall_score(y_true, y_pred))\n",
    "    precision.append(precision_score(y_true, y_pred))\n",
    "    fbeta.append(fbeta_score(y_true, y_pred, beta=0.5))\n",
    "\n",
    "print(\"accuracy:\", f\"{np.array(acc).mean():.2f}±{np.array(acc).std():.2f}\")\n",
    "print(\"balanced accuracy:\", f\"{np.array(bal_acc).mean():.2f}±{np.array(bal_acc).std():.2f}\")\n",
    "print(\"recall:\", f\"{np.array(recall).mean():.2f}±{np.array(recall).std():.2f}\")\n",
    "print(\"precision:\", f\"{np.array(precision).mean():.2f}±{np.array(precision).std():.2f}\")\n",
    "print(\"f_0.5 score:\", f\"{np.array(fbeta).mean():.2f}±{np.array(fbeta).std():.2f}\")"
   ]
  },
  {
   "cell_type": "code",
   "execution_count": 33,
   "id": "b009b3b8-01df-4d3f-b876-09be1d9a4725",
   "metadata": {},
   "outputs": [
    {
     "name": "stdout",
     "output_type": "stream",
     "text": [
      "accuracy: 0.94±0.00\n",
      "balanced accuracy: 0.93±0.01\n",
      "recall: 0.95±0.00\n",
      "precision: 0.98±0.00\n",
      "f_0.5 score: 0.97±0.00\n"
     ]
    }
   ],
   "source": [
    "# threshold obtained by GHOST with ROC\n",
    "acc, bal_acc, recall, precision, fbeta = [], [], [], [], []\n",
    "\n",
    "for fold in range(9):\n",
    "    threshold = best_thresh_roc[fold]\n",
    "    y_true = comb_val[fold][\"binary_A\"]\n",
    "    y_prob = comb_val[fold][\"pred_0\"]\n",
    "    y_pred = (y_prob > threshold)\n",
    "    acc.append(accuracy_score(y_true, y_pred))\n",
    "    bal_acc.append(balanced_accuracy_score(y_true, y_pred))\n",
    "    recall.append(recall_score(y_true, y_pred))\n",
    "    precision.append(precision_score(y_true, y_pred))\n",
    "    fbeta.append(fbeta_score(y_true, y_pred, beta=0.5))\n",
    "\n",
    "print(\"accuracy:\", f\"{np.array(acc).mean():.2f}±{np.array(acc).std():.2f}\")\n",
    "print(\"balanced accuracy:\", f\"{np.array(bal_acc).mean():.2f}±{np.array(bal_acc).std():.2f}\")\n",
    "print(\"recall:\", f\"{np.array(recall).mean():.2f}±{np.array(recall).std():.2f}\")\n",
    "print(\"precision:\", f\"{np.array(precision).mean():.2f}±{np.array(precision).std():.2f}\")\n",
    "print(\"f_0.5 score:\", f\"{np.array(fbeta).mean():.2f}±{np.array(fbeta).std():.2f}\")"
   ]
  },
  {
   "cell_type": "code",
   "execution_count": 34,
   "id": "5096e7fb-6f29-4a63-95f0-c44bfad81526",
   "metadata": {},
   "outputs": [
    {
     "data": {
      "text/plain": [
       "array([0.69, 0.67, 0.67, 0.69, 0.69, 0.69, 0.68, 0.66, 0.69])"
      ]
     },
     "execution_count": 34,
     "metadata": {},
     "output_type": "execute_result"
    }
   ],
   "source": [
    "best_tresh_bal_acc =  np.argmax(y_bal_acc, axis=0) / 100\n",
    "best_tresh_bal_acc"
   ]
  },
  {
   "cell_type": "code",
   "execution_count": 35,
   "id": "1a7675c2-1021-467b-bc8d-54b54f240b51",
   "metadata": {},
   "outputs": [
    {
     "name": "stdout",
     "output_type": "stream",
     "text": [
      "accuracy: 0.94±0.00\n",
      "balanced accuracy: 0.93±0.01\n",
      "recall: 0.95±0.00\n",
      "precision: 0.98±0.00\n",
      "f_0.5 score: 0.97±0.00\n"
     ]
    }
   ],
   "source": [
    "# threshold obtained by maximizing balanced accuracy\n",
    "\n",
    "acc, bal_acc, recall, precision, fbeta = [], [], [], [], []\n",
    "\n",
    "for fold in range(9):\n",
    "    threshold = np.argmax(y_bal_acc[:, fold]) / 100\n",
    "    y_true = comb_val[fold][\"binary_A\"]\n",
    "    y_prob = comb_val[fold][\"pred_0\"]\n",
    "    y_pred = (y_prob > threshold)\n",
    "    acc.append(accuracy_score(y_true, y_pred))\n",
    "    bal_acc.append(balanced_accuracy_score(y_true, y_pred))\n",
    "    recall.append(recall_score(y_true, y_pred))\n",
    "    precision.append(precision_score(y_true, y_pred))\n",
    "    fbeta.append(fbeta_score(y_true, y_pred, beta=0.5))\n",
    "\n",
    "print(\"accuracy:\", f\"{np.array(acc).mean():.2f}±{np.array(acc).std():.2f}\")\n",
    "print(\"balanced accuracy:\", f\"{np.array(bal_acc).mean():.2f}±{np.array(bal_acc).std():.2f}\")\n",
    "print(\"recall:\", f\"{np.array(recall).mean():.2f}±{np.array(recall).std():.2f}\")\n",
    "print(\"precision:\", f\"{np.array(precision).mean():.2f}±{np.array(precision).std():.2f}\")\n",
    "print(\"f_0.5 score:\", f\"{np.array(fbeta).mean():.2f}±{np.array(fbeta).std():.2f}\")"
   ]
  },
  {
   "cell_type": "code",
   "execution_count": 36,
   "id": "958ce4c3-2847-4c2f-95c1-7836cb53e764",
   "metadata": {},
   "outputs": [
    {
     "name": "stdout",
     "output_type": "stream",
     "text": [
      "accuracy: 0.95±0.00\n",
      "balanced accuracy: 0.91±0.01\n",
      "recall: 0.97±0.00\n",
      "precision: 0.96±0.00\n",
      "f_0.5 score: 0.96±0.00\n"
     ]
    }
   ],
   "source": [
    "# fixed threshold at 0.5\n",
    "\n",
    "acc, bal_acc, recall, precision, fbeta = [], [], [], [], []\n",
    "\n",
    "for fold in range(9):\n",
    "    threshold = 0.5\n",
    "    y_true = comb_val[fold][\"binary_A\"]\n",
    "    y_prob = comb_val[fold][\"pred_0\"]\n",
    "    y_pred = (y_prob > threshold)\n",
    "    acc.append(accuracy_score(y_true, y_pred))\n",
    "    bal_acc.append(balanced_accuracy_score(y_true, y_pred))\n",
    "    recall.append(recall_score(y_true, y_pred))\n",
    "    precision.append(precision_score(y_true, y_pred))\n",
    "    fbeta.append(fbeta_score(y_true, y_pred, beta=0.5))\n",
    "\n",
    "print(\"accuracy:\", f\"{np.array(acc).mean():.2f}±{np.array(acc).std():.2f}\")\n",
    "print(\"balanced accuracy:\", f\"{np.array(bal_acc).mean():.2f}±{np.array(bal_acc).std():.2f}\")\n",
    "print(\"recall:\", f\"{np.array(recall).mean():.2f}±{np.array(recall).std():.2f}\")\n",
    "print(\"precision:\", f\"{np.array(precision).mean():.2f}±{np.array(precision).std():.2f}\")\n",
    "print(\"f_0.5 score:\", f\"{np.array(fbeta).mean():.2f}±{np.array(fbeta).std():.2f}\")"
   ]
  },
  {
   "cell_type": "code",
   "execution_count": 37,
   "id": "691fee59-fd14-4c15-91e5-4202b0951a1e",
   "metadata": {},
   "outputs": [
    {
     "name": "stdout",
     "output_type": "stream",
     "text": [
      "accuracy: 0.93±0.00\n",
      "balanced accuracy: 0.94±0.01\n",
      "recall: 0.93±0.00\n",
      "precision: 0.99±0.00\n",
      "f_0.5 score: 0.97±0.00\n"
     ]
    }
   ],
   "source": [
    "# threshold equal to training data distribution\n",
    "\n",
    "acc, bal_acc, recall, precision, fbeta = [], [], [], [], []\n",
    "\n",
    "for fold in range(9):\n",
    "    threshold = comb[fold][\"binary_A\"].mean()\n",
    "    y_true = comb_val[fold][\"binary_A\"]\n",
    "    y_prob = comb_val[fold][\"pred_0\"]\n",
    "    y_pred = (y_prob > threshold)\n",
    "    acc.append(accuracy_score(y_true, y_pred))\n",
    "    bal_acc.append(balanced_accuracy_score(y_true, y_pred))\n",
    "    recall.append(recall_score(y_true, y_pred))\n",
    "    precision.append(precision_score(y_true, y_pred))\n",
    "    fbeta.append(fbeta_score(y_true, y_pred, beta=0.5))\n",
    "\n",
    "print(\"accuracy:\", f\"{np.array(acc).mean():.2f}±{np.array(acc).std():.2f}\")\n",
    "print(\"balanced accuracy:\", f\"{np.array(bal_acc).mean():.2f}±{np.array(bal_acc).std():.2f}\")\n",
    "print(\"recall:\", f\"{np.array(recall).mean():.2f}±{np.array(recall).std():.2f}\")\n",
    "print(\"precision:\", f\"{np.array(precision).mean():.2f}±{np.array(precision).std():.2f}\")\n",
    "print(\"f_0.5 score:\", f\"{np.array(fbeta).mean():.2f}±{np.array(fbeta).std():.2f}\")"
   ]
  },
  {
   "cell_type": "markdown",
   "id": "cac987a1",
   "metadata": {},
   "source": [
    "## Conclusion\n",
    "\n",
    "Using GHOST with Cohen's Kappa gives the best results.\n",
    "We will use the thresholds obtained this way for our final predictions"
   ]
  },
  {
   "cell_type": "code",
   "execution_count": 48,
   "id": "59353868",
   "metadata": {},
   "outputs": [],
   "source": [
    "# save best thresholds for this model\n",
    "for thresh, name in zip(best_thresh, name_list):\n",
    "    with open(LOG_DIR / \"thresholds\" / f\"{name}.txt\", \"w\") as f:\n",
    "        f.write(f\"{thresh}\\n\")"
   ]
  },
  {
   "cell_type": "markdown",
   "id": "614e2038",
   "metadata": {},
   "source": [
    "## Faster way to pick decision treshold\n",
    "Given a run_group, identify and save all the decision thresholds using GHOST with Cohen's kappa\n"
   ]
  },
  {
   "cell_type": "code",
   "execution_count": 98,
   "id": "f365e1d8",
   "metadata": {},
   "outputs": [],
   "source": [
    "def get_decision_thresholds(run_group: str) -> None:\n",
    "    \"\"\"\n",
    "    Given a run group, identify and save all the decision thresholds using GHOST with Cohen's kappa.\n",
    "    Best thresholds are saved to a txt file with 3 lines.\n",
    "    The 1st line is the threshold for target binary_A, the 2nd for binary_B, and the 3rd for binary_C.\n",
    "    If the run_group contains multiple runs, one txt file is generated per run.\n",
    "    \n",
    "    Args: \n",
    "        run_group (str): Name of a run_group present in the wandb database.\n",
    "    Returns:\n",
    "        None\n",
    "    Raises:\n",
    "        ValueError: Raised if no runs are found in WandB for the run_group\n",
    "        RuntimeError: Raised if the predictions for a run are not found on disk.\n",
    "    \"\"\"\n",
    "    # get runs from wandb\n",
    "    api = wandb.Api(timeout=29)\n",
    "    runs = api.runs(\"jugoetz/synferm-predictions\", filters={\"group\": run_group})\n",
    "    name_list = [run.name for run in runs]\n",
    "    if len(name_list) == 0:\n",
    "        raise ValueError(f\"No runs found for run_group {run_group}.\")\n",
    "        \n",
    "    # read train predictions\n",
    "    try:\n",
    "        preds = [read_predictions(n, \"train\") for n in name_list]\n",
    "    except FileNotFoundError as e:\n",
    "        raise RuntimeError(f\"Did not find all predictions for runs {name_list}. Exception leading to this: {e}\")\n",
    "    \n",
    "    # combine predictions with ground truth\n",
    "    df_true = pd.read_csv(DATA_ROOT / \"synferm_dataset_2023-09-05_40018records.csv\")\n",
    "    comb = [pred.merge(df_true[[\"binary_A\", \"binary_B\", \"binary_C\"]], left_index=True, right_index=True) for pred in preds]\n",
    "    \n",
    "    # obtain best threshold with GHOST with Cohen's Kappa method\n",
    "    print(f\"Running GHOST for {len(name_list)} runs. This may take a while...\")\n",
    "    best_thresh = np.empty((len(name_list), 3))\n",
    "    thresholds = np.arange(0, 1.0001, 0.01)\n",
    "    for run_idx in range(len(name_list)):\n",
    "        for i, target in enumerate(\"ABC\"):\n",
    "            best_thresh[run_idx, i] = optimize_threshold_from_predictions(\n",
    "                comb[run_idx][f\"binary_{target}\"], \n",
    "                comb[run_idx][f\"pred_{i}\"], \n",
    "                thresholds=thresholds, \n",
    "                ThOpt_metrics=\"Kappa\",\n",
    "                random_seed=42, # we seed for reproducible results\n",
    "            )\n",
    "    \n",
    "    # write thresholds to disk\n",
    "    for threshs, name in zip(best_thresh, name_list):\n",
    "        with open(LOG_DIR / \"thresholds\" / f\"{name}.txt\", \"w\") as f:\n",
    "            for thresh in threshs:\n",
    "                f.write(f\"{thresh:.2f}\\n\")\n",
    "    print(best_thresh)"
   ]
  },
  {
   "cell_type": "code",
   "execution_count": 99,
   "id": "8f109ce9",
   "metadata": {},
   "outputs": [
    {
     "name": "stdout",
     "output_type": "stream",
     "text": [
      "Running GHOST for 1 runs. This may take a while...\n",
      "[[0.56 0.54 0.49]]\n"
     ]
    }
   ],
   "source": [
    "# the OD production model (JG1187, FFN/OHE)\n",
    "get_decision_thresholds(\"2023-11-20-175433_236136\")"
   ]
  },
  {
   "cell_type": "code",
   "execution_count": 313,
   "id": "440c6c31",
   "metadata": {},
   "outputs": [
    {
     "name": "stdout",
     "output_type": "stream",
     "text": [
      "Running GHOST for 1 runs. This may take a while...\n",
      "[[0.56 0.47 0.49]]\n"
     ]
    }
   ],
   "source": [
    "# the OD production model (JG1187, FFN/OHE), second iteration with the improved OneHotEncoder\n",
    "get_decision_thresholds(\"2023-11-29-145809_246697\")"
   ]
  },
  {
   "cell_type": "code",
   "execution_count": 101,
   "id": "a43cc357",
   "metadata": {},
   "outputs": [
    {
     "name": "stdout",
     "output_type": "stream",
     "text": [
      "Running GHOST for 9 runs. This may take a while...\n",
      "[[0.65 0.53 0.48]\n",
      " [0.62 0.54 0.48]\n",
      " [0.63 0.49 0.45]\n",
      " [0.59 0.54 0.47]\n",
      " [0.64 0.55 0.47]\n",
      " [0.62 0.54 0.46]\n",
      " [0.63 0.53 0.5 ]\n",
      " [0.61 0.5  0.51]\n",
      " [0.64 0.53 0.47]]\n"
     ]
    }
   ],
   "source": [
    "# the best XGB/FP models (JG1129, 1D)\n",
    "get_decision_thresholds(\"2023-11-20-110213_779704\")"
   ]
  },
  {
   "cell_type": "code",
   "execution_count": 102,
   "id": "c4fe682f",
   "metadata": {},
   "outputs": [
    {
     "name": "stdout",
     "output_type": "stream",
     "text": [
      "Running GHOST for 9 runs. This may take a while...\n",
      "[[0.64 0.43 0.5 ]\n",
      " [0.58 0.57 0.5 ]\n",
      " [0.61 0.49 0.48]\n",
      " [0.6  0.5  0.45]\n",
      " [0.58 0.53 0.43]\n",
      " [0.61 0.58 0.47]\n",
      " [0.62 0.56 0.48]\n",
      " [0.66 0.61 0.46]\n",
      " [0.66 0.51 0.47]]\n"
     ]
    }
   ],
   "source": [
    "# the best XGB/FP models (JG1130, 2D)\n",
    "get_decision_thresholds(\"2023-11-20-104609_567207\")"
   ]
  },
  {
   "cell_type": "code",
   "execution_count": 103,
   "id": "5909e9da",
   "metadata": {},
   "outputs": [
    {
     "name": "stdout",
     "output_type": "stream",
     "text": [
      "Running GHOST for 9 runs. This may take a while...\n",
      "[[0.61 0.53 0.51]\n",
      " [0.57 0.51 0.46]\n",
      " [0.6  0.47 0.48]\n",
      " [0.58 0.52 0.49]\n",
      " [0.61 0.5  0.49]\n",
      " [0.63 0.54 0.4 ]\n",
      " [0.59 0.43 0.44]\n",
      " [0.6  0.55 0.43]\n",
      " [0.66 0.52 0.44]]\n"
     ]
    }
   ],
   "source": [
    "# the best XGB/FP models (JG1111, 3D)\n",
    "get_decision_thresholds(\"2023-11-20-111519_964903\")"
   ]
  },
  {
   "cell_type": "code",
   "execution_count": 201,
   "id": "29fc226d",
   "metadata": {},
   "outputs": [],
   "source": [
    "records = []"
   ]
  },
  {
   "cell_type": "code",
   "execution_count": 303,
   "id": "59aa98ee",
   "metadata": {},
   "outputs": [],
   "source": [
    "from sklearn.metrics import ConfusionMatrixDisplay"
   ]
  },
  {
   "cell_type": "code",
   "execution_count": 310,
   "id": "08c0338a",
   "metadata": {},
   "outputs": [
    {
     "name": "stdout",
     "output_type": "stream",
     "text": [
      "[[ 626   91]\n",
      " [ 104 3181]]\n",
      "[[1507  195]\n",
      " [ 129 2171]]\n",
      "[[2757  162]\n",
      " [ 217  866]]\n",
      "[[ 658   96]\n",
      " [ 118 3130]]\n",
      "[[1564  185]\n",
      " [ 106 2147]]\n",
      "[[2707  154]\n",
      " [ 200  941]]\n",
      "[[ 639   91]\n",
      " [ 104 3168]]\n",
      "[[1602   93]\n",
      " [ 222 2085]]\n",
      "[[2679  159]\n",
      " [ 206  958]]\n",
      "[[ 660   80]\n",
      " [ 115 3147]]\n",
      "[[1493  180]\n",
      " [ 145 2184]]\n",
      "[[2737  156]\n",
      " [ 199  910]]\n",
      "[[ 625  105]\n",
      " [ 109 3163]]\n",
      "[[1563   99]\n",
      " [ 208 2132]]\n",
      "[[2694  176]\n",
      " [ 181  951]]\n",
      "[[ 654  104]\n",
      " [ 134 3110]]\n",
      "[[1634  103]\n",
      " [ 202 2063]]\n",
      "[[2687  211]\n",
      " [ 216  888]]\n",
      "[[ 662   78]\n",
      " [ 113 3149]]\n",
      "[[1577   97]\n",
      " [ 203 2125]]\n",
      "[[2742  154]\n",
      " [ 212  894]]\n",
      "[[ 696   85]\n",
      " [ 118 3103]]\n",
      "[[1586  169]\n",
      " [ 121 2126]]\n",
      "[[2765  159]\n",
      " [ 171  907]]\n",
      "[[ 628  108]\n",
      " [ 135 3131]]\n",
      "[[1566  174]\n",
      " [ 145 2117]]\n",
      "[[2779  169]\n",
      " [ 194  860]]\n",
      "Mean macro accuracy: 0.93±0.00\n",
      "Mean macro recall: 0.90±0.01\n",
      "Mean macro precision: 0.92±0.01\n",
      "Mean target_A accuracy: 0.95±0.00\n",
      "Mean target_A recall: 0.96±0.00\n",
      "Mean target_A precision: 0.97±0.00\n"
     ]
    }
   ],
   "source": [
    "# get the thresholded metrics for these models\n",
    "# 0D\n",
    "api = wandb.Api(timeout=29)\n",
    "runs = api.runs(\"jugoetz/synferm-predictions\", filters={\"group\": \"2023-10-21-225820_296119\"})\n",
    "\n",
    "# get run info\n",
    "config_list = [run.config for run in runs]\n",
    "summary_list = [run.summary._json_dict for run in runs]\n",
    "name_list = [run.name for run in runs]\n",
    "\n",
    "# read val predictions\n",
    "preds = [read_predictions(n, \"test\") for n in name_list]\n",
    "# combine with ground truth\n",
    "df_true = pd.read_csv(DATA_ROOT / \"synferm_dataset_2023-09-05_40018records.csv\")\n",
    "comb = [pred.merge(df_true[[\"binary_A\", \"binary_B\", \"binary_C\"]], left_index=True, right_index=True) for pred in preds]\n",
    "\n",
    "# load decision thresholds\n",
    "threshs = []\n",
    "for name in name_list:\n",
    "    with open(LOG_DIR / \"thresholds\" / f\"{name}.txt\", \"r\") as f:\n",
    "        threshs.append([float(i) for i in f.readlines()])\n",
    "threshs = np.array(threshs)\n",
    "\n",
    "# get truth\n",
    "fold_true = [comb[i][[\"binary_A\", \"binary_B\", \"binary_C\"]].to_numpy() for i in range(len(name_list))]\n",
    "\n",
    "# get preds by applying the thresholds\n",
    "fold_preds = []\n",
    "for fold_i in range(len(name_list)):\n",
    "    fold_preds.append(np.stack([np.where(preds[fold_i].to_numpy()[:, i] > threshs[fold_i, i], 1, 0) for i in range(3)], axis=1))\n",
    "\n",
    "# evaluate\n",
    "acc, bal_acc, recall, precision, fbeta = np.zeros((len(name_list), 3)), np.zeros((len(name_list), 3)), np.zeros((len(name_list), 3)), np.zeros((len(name_list), 3)), np.zeros((len(name_list), 3))\n",
    "\n",
    "for fold in range(len(name_list)):\n",
    "    for target in range(3):\n",
    "        threshold = threshs[fold]\n",
    "        y_true = fold_true[fold][:, target]\n",
    "        y_pred = fold_preds[fold][:, target]\n",
    "        acc[fold, target] = accuracy_score(y_true, y_pred)\n",
    "        bal_acc[fold, target] = balanced_accuracy_score(y_true, y_pred)\n",
    "        recall[fold, target] = recall_score(y_true, y_pred)\n",
    "        precision[fold, target] = precision_score(y_true, y_pred)\n",
    "        fbeta[fold, target] = fbeta_score(y_true, y_pred, beta=0.5)\n",
    "        print(confusion_matrix(y_true, y_pred))\n",
    "\n",
    "for i, name in enumerate(name_list):\n",
    "    records.append({\"name\": name, \"split\": \"0D\", \"metric\": \"accuracy\", \"target\": \"macro\", \"value\": acc[i].mean()})\n",
    "    records.append({\"name\": name, \"split\": \"0D\", \"metric\": \"recall\", \"target\": \"macro\", \"value\": recall[i].mean()})\n",
    "    records.append({\"name\": name, \"split\": \"0D\", \"metric\": \"precision\", \"target\": \"macro\", \"value\": precision[i].mean()})\n",
    "    records.append({\"name\": name, \"split\": \"0D\", \"metric\": \"accuracy\", \"target\": \"A\", \"value\": acc[i, 0]})\n",
    "    records.append({\"name\": name, \"split\": \"0D\", \"metric\": \"recall\", \"target\": \"A\", \"value\": recall[i, 0]})\n",
    "    records.append({\"name\": name, \"split\": \"0D\", \"metric\": \"precision\", \"target\": \"A\", \"value\": precision[i, 0]})\n",
    "\n",
    "\n",
    "print(\"Mean macro accuracy:\", f\"{acc.mean():.2f}±{acc.mean(axis=1).std():.2f}\")\n",
    "print(\"Mean macro recall:\", f\"{recall.mean():.2f}±{recall.mean(axis=1).std():.2f}\")\n",
    "print(\"Mean macro precision:\", f\"{precision.mean():.2f}±{precision.mean(axis=1).std():.2f}\")\n",
    "#print(\"Mean macro balanced accuracy:\", f\"{bal_acc.mean():.2f}±{bal_acc.mean(axis=1).std():.2f}\")\n",
    "#print(\"Mean macro f_0.5 score:\", f\"{fbeta.mean():.2f}±{fbeta.mean(axis=1).std():.2f}\")\n",
    "\n",
    "print(\"Mean target_A accuracy:\", f\"{acc[:, 0].mean():.2f}±{acc[:, 0].std():.2f}\")\n",
    "print(\"Mean target_A recall:\", f\"{recall[:, 0].mean():.2f}±{recall[:, 0].std():.2f}\")\n",
    "print(\"Mean target_A precision:\", f\"{precision[:, 0].mean():.2f}±{precision[:, 0].std():.2f}\")\n",
    "#print(\"Mean target_A balanced accuracy:\", f\"{bal_acc[:, 0].mean():.2f}±{bal_acc[:, 0].std():.2f}\")\n",
    "#print(\"Mean target_A f_0.5 score:\", f\"{fbeta[:, 0].mean():.2f}±{fbeta[:, 0].std():.2f}\")"
   ]
  },
  {
   "cell_type": "code",
   "execution_count": 309,
   "id": "59914214",
   "metadata": {},
   "outputs": [
    {
     "data": {
      "text/plain": [
       "array([0, 0, 0, ..., 0, 0, 0])"
      ]
     },
     "execution_count": 309,
     "metadata": {},
     "output_type": "execute_result"
    }
   ],
   "source": [
    "y_true"
   ]
  },
  {
   "cell_type": "code",
   "execution_count": 308,
   "id": "1cdde49c",
   "metadata": {},
   "outputs": [
    {
     "ename": "IndexError",
     "evalue": "too many indices for array: array is 1-dimensional, but 2 were indexed",
     "output_type": "error",
     "traceback": [
      "\u001b[0;31m---------------------------------------------------------------------------\u001b[0m",
      "\u001b[0;31mIndexError\u001b[0m                                Traceback (most recent call last)",
      "Cell \u001b[0;32mIn[308], line 1\u001b[0m\n\u001b[0;32m----> 1\u001b[0m confusion_matrix(\u001b[43my_true\u001b[49m\u001b[43m[\u001b[49m\u001b[43m:\u001b[49m\u001b[43m,\u001b[49m\u001b[38;5;241;43m0\u001b[39;49m\u001b[43m]\u001b[49m, y_pred[:,\u001b[38;5;241m0\u001b[39m])\n",
      "\u001b[0;31mIndexError\u001b[0m: too many indices for array: array is 1-dimensional, but 2 were indexed"
     ]
    }
   ],
   "source": [
    "confusion_matrix(y_true[:,0], y_pred[:,0])"
   ]
  },
  {
   "cell_type": "code",
   "execution_count": 203,
   "id": "b7b790a8",
   "metadata": {},
   "outputs": [
    {
     "name": "stdout",
     "output_type": "stream",
     "text": [
      "Mean macro accuracy: 0.84±0.03\n",
      "Mean macro recall: 0.84±0.03\n",
      "Mean macro precision: 0.81±0.08\n",
      "Mean target_A accuracy: 0.86±0.05\n",
      "Mean target_A recall: 0.95±0.02\n",
      "Mean target_A precision: 0.89±0.06\n"
     ]
    }
   ],
   "source": [
    "# get the thresholded metrics for these models\n",
    "# 1D\n",
    "api = wandb.Api()\n",
    "runs = api.runs(\"jugoetz/synferm-predictions\", filters={\"group\": \"2023-11-20-110213_779704\"})\n",
    "\n",
    "# get run info\n",
    "config_list = [run.config for run in runs]\n",
    "summary_list = [run.summary._json_dict for run in runs]\n",
    "name_list = [run.name for run in runs]\n",
    "\n",
    "# read val predictions\n",
    "preds = [read_predictions(n, \"test\") for n in name_list]\n",
    "# combine with ground truth\n",
    "df_true = pd.read_csv(DATA_ROOT / \"synferm_dataset_2023-09-05_40018records.csv\")\n",
    "comb = [pred.merge(df_true[[\"binary_A\", \"binary_B\", \"binary_C\"]], left_index=True, right_index=True) for pred in preds]\n",
    "\n",
    "# load decision thresholds\n",
    "threshs = []\n",
    "for name in name_list:\n",
    "    with open(LOG_DIR / \"thresholds\" / f\"{name}.txt\", \"r\") as f:\n",
    "        threshs.append([float(i) for i in f.readlines()])\n",
    "threshs = np.array(threshs)\n",
    "\n",
    "# get truth\n",
    "fold_true = [comb[i][[\"binary_A\", \"binary_B\", \"binary_C\"]].to_numpy() for i in range(len(name_list))]\n",
    "\n",
    "# get preds by applying the thresholds\n",
    "fold_preds = []\n",
    "for fold_i in range(len(name_list)):\n",
    "    fold_preds.append(np.stack([np.where(preds[fold_i].to_numpy()[:, i] > threshs[fold_i, i], 1, 0) for i in range(3)], axis=1))\n",
    "\n",
    "# evaluate\n",
    "acc, bal_acc, recall, precision, fbeta = np.zeros((len(name_list), 3)), np.zeros((len(name_list), 3)), np.zeros((len(name_list), 3)), np.zeros((len(name_list), 3)), np.zeros((len(name_list), 3))\n",
    "\n",
    "for fold in range(len(name_list)):\n",
    "    for target in range(3):\n",
    "        threshold = threshs[fold]\n",
    "        y_true = fold_true[fold][:, target]\n",
    "        y_pred = fold_preds[fold][:, target]\n",
    "        acc[fold, target] = accuracy_score(y_true, y_pred)\n",
    "        bal_acc[fold, target] = balanced_accuracy_score(y_true, y_pred)\n",
    "        recall[fold, target] = recall_score(y_true, y_pred)\n",
    "        precision[fold, target] = precision_score(y_true, y_pred)\n",
    "        fbeta[fold, target] = fbeta_score(y_true, y_pred, beta=0.5)\n",
    "\n",
    "for i, name in enumerate(name_list):\n",
    "    records.append({\"name\": name, \"split\": \"1D\", \"metric\": \"accuracy\", \"target\": \"macro\", \"value\": acc[i].mean()})\n",
    "    records.append({\"name\": name, \"split\": \"1D\", \"metric\": \"recall\", \"target\": \"macro\", \"value\": recall[i].mean()})\n",
    "    records.append({\"name\": name, \"split\": \"1D\", \"metric\": \"precision\", \"target\": \"macro\", \"value\": precision[i].mean()})\n",
    "    records.append({\"name\": name, \"split\": \"1D\", \"metric\": \"accuracy\", \"target\": \"A\", \"value\": acc[i, 0]})\n",
    "    records.append({\"name\": name, \"split\": \"1D\", \"metric\": \"recall\", \"target\": \"A\", \"value\": recall[i, 0]})\n",
    "    records.append({\"name\": name, \"split\": \"1D\", \"metric\": \"precision\", \"target\": \"A\", \"value\": precision[i, 0]})\n",
    "\n",
    "\n",
    "print(\"Mean macro accuracy:\", f\"{acc.mean():.2f}±{acc.mean(axis=1).std():.2f}\")\n",
    "print(\"Mean macro recall:\", f\"{recall.mean():.2f}±{recall.mean(axis=1).std():.2f}\")\n",
    "print(\"Mean macro precision:\", f\"{precision.mean():.2f}±{precision.mean(axis=1).std():.2f}\")\n",
    "#print(\"Mean macro balanced accuracy:\", f\"{bal_acc.mean():.2f}±{bal_acc.mean(axis=1).std():.2f}\")\n",
    "#print(\"Mean macro f_0.5 score:\", f\"{fbeta.mean():.2f}±{fbeta.mean(axis=1).std():.2f}\")\n",
    "\n",
    "print(\"Mean target_A accuracy:\", f\"{acc[:, 0].mean():.2f}±{acc[:, 0].std():.2f}\")\n",
    "print(\"Mean target_A recall:\", f\"{recall[:, 0].mean():.2f}±{recall[:, 0].std():.2f}\")\n",
    "print(\"Mean target_A precision:\", f\"{precision[:, 0].mean():.2f}±{precision[:, 0].std():.2f}\")\n",
    "#print(\"Mean target_A balanced accuracy:\", f\"{bal_acc[:, 0].mean():.2f}±{bal_acc[:, 0].std():.2f}\")\n",
    "#print(\"Mean target_A f_0.5 score:\", f\"{fbeta[:, 0].mean():.2f}±{fbeta[:, 0].std():.2f}\")"
   ]
  },
  {
   "cell_type": "code",
   "execution_count": 204,
   "id": "ca415d1f",
   "metadata": {},
   "outputs": [
    {
     "name": "stdout",
     "output_type": "stream",
     "text": [
      "Mean macro accuracy: 0.81±0.04\n",
      "Mean macro recall: 0.78±0.07\n",
      "Mean macro precision: 0.79±0.06\n",
      "Mean target_A accuracy: 0.82±0.03\n",
      "Mean target_A recall: 0.92±0.04\n",
      "Mean target_A precision: 0.87±0.06\n"
     ]
    }
   ],
   "source": [
    "# get the thresholded metrics for these models\n",
    "# 2D\n",
    "api = wandb.Api()\n",
    "runs = api.runs(\"jugoetz/synferm-predictions\", filters={\"group\": \"2023-11-20-104609_567207\"})\n",
    "\n",
    "# get run info\n",
    "config_list = [run.config for run in runs]\n",
    "summary_list = [run.summary._json_dict for run in runs]\n",
    "name_list = [run.name for run in runs]\n",
    "\n",
    "# read val predictions\n",
    "preds = [read_predictions(n, \"test\") for n in name_list]\n",
    "# combine with ground truth\n",
    "df_true = pd.read_csv(DATA_ROOT / \"synferm_dataset_2023-09-05_40018records.csv\")\n",
    "comb = [pred.merge(df_true[[\"binary_A\", \"binary_B\", \"binary_C\"]], left_index=True, right_index=True) for pred in preds]\n",
    "\n",
    "# load decision thresholds\n",
    "threshs = []\n",
    "for name in name_list:\n",
    "    with open(LOG_DIR / \"thresholds\" / f\"{name}.txt\", \"r\") as f:\n",
    "        threshs.append([float(i) for i in f.readlines()])\n",
    "threshs = np.array(threshs)\n",
    "\n",
    "# get truth\n",
    "fold_true = [comb[i][[\"binary_A\", \"binary_B\", \"binary_C\"]].to_numpy() for i in range(len(name_list))]\n",
    "\n",
    "# get preds by applying the thresholds\n",
    "fold_preds = []\n",
    "for fold_i in range(len(name_list)):\n",
    "    fold_preds.append(np.stack([np.where(preds[fold_i].to_numpy()[:, i] > threshs[fold_i, i], 1, 0) for i in range(3)], axis=1))\n",
    "\n",
    "# evaluate\n",
    "acc, bal_acc, recall, precision, fbeta = np.zeros((len(name_list), 3)), np.zeros((len(name_list), 3)), np.zeros((len(name_list), 3)), np.zeros((len(name_list), 3)), np.zeros((len(name_list), 3))\n",
    "\n",
    "for fold in range(len(name_list)):\n",
    "    for target in range(3):\n",
    "        threshold = threshs[fold]\n",
    "        y_true = fold_true[fold][:, target]\n",
    "        y_pred = fold_preds[fold][:, target]\n",
    "        acc[fold, target] = accuracy_score(y_true, y_pred)\n",
    "        bal_acc[fold, target] = balanced_accuracy_score(y_true, y_pred)\n",
    "        recall[fold, target] = recall_score(y_true, y_pred)\n",
    "        precision[fold, target] = precision_score(y_true, y_pred)\n",
    "        fbeta[fold, target] = fbeta_score(y_true, y_pred, beta=0.5)\n",
    "\n",
    "for i, name in enumerate(name_list):\n",
    "    records.append({\"name\": name, \"split\": \"2D\", \"metric\": \"accuracy\", \"target\": \"macro\", \"value\": acc[i].mean()})\n",
    "    records.append({\"name\": name, \"split\": \"2D\", \"metric\": \"recall\", \"target\": \"macro\", \"value\": recall[i].mean()})\n",
    "    records.append({\"name\": name, \"split\": \"2D\", \"metric\": \"precision\", \"target\": \"macro\", \"value\": precision[i].mean()})\n",
    "    records.append({\"name\": name, \"split\": \"2D\", \"metric\": \"accuracy\", \"target\": \"A\", \"value\": acc[i, 0]})\n",
    "    records.append({\"name\": name, \"split\": \"2D\", \"metric\": \"recall\", \"target\": \"A\", \"value\": recall[i, 0]})\n",
    "    records.append({\"name\": name, \"split\": \"2D\", \"metric\": \"precision\", \"target\": \"A\", \"value\": precision[i, 0]})\n",
    "\n",
    "\n",
    "print(\"Mean macro accuracy:\", f\"{acc.mean():.2f}±{acc.mean(axis=1).std():.2f}\")\n",
    "print(\"Mean macro recall:\", f\"{recall.mean():.2f}±{recall.mean(axis=1).std():.2f}\")\n",
    "print(\"Mean macro precision:\", f\"{precision.mean():.2f}±{precision.mean(axis=1).std():.2f}\")\n",
    "#print(\"Mean macro balanced accuracy:\", f\"{bal_acc.mean():.2f}±{bal_acc.mean(axis=1).std():.2f}\")\n",
    "#print(\"Mean macro f_0.5 score:\", f\"{fbeta.mean():.2f}±{fbeta.mean(axis=1).std():.2f}\")\n",
    "\n",
    "print(\"Mean target_A accuracy:\", f\"{acc[:, 0].mean():.2f}±{acc[:, 0].std():.2f}\")\n",
    "print(\"Mean target_A recall:\", f\"{recall[:, 0].mean():.2f}±{recall[:, 0].std():.2f}\")\n",
    "print(\"Mean target_A precision:\", f\"{precision[:, 0].mean():.2f}±{precision[:, 0].std():.2f}\")\n",
    "#print(\"Mean target_A balanced accuracy:\", f\"{bal_acc[:, 0].mean():.2f}±{bal_acc[:, 0].std():.2f}\")\n",
    "#print(\"Mean target_A f_0.5 score:\", f\"{fbeta[:, 0].mean():.2f}±{fbeta[:, 0].std():.2f}\")"
   ]
  },
  {
   "cell_type": "code",
   "execution_count": 205,
   "id": "2a4ea316",
   "metadata": {},
   "outputs": [
    {
     "name": "stdout",
     "output_type": "stream",
     "text": [
      "Mean macro accuracy: 0.77±0.05\n",
      "Mean macro recall: 0.77±0.05\n",
      "Mean macro precision: 0.73±0.08\n",
      "Mean target_A accuracy: 0.76±0.07\n",
      "Mean target_A recall: 0.92±0.04\n",
      "Mean target_A precision: 0.81±0.09\n"
     ]
    }
   ],
   "source": [
    "# get the thresholded metrics for these models\n",
    "# 3D\n",
    "api = wandb.Api()\n",
    "runs = api.runs(\"jugoetz/synferm-predictions\", filters={\"group\": \"2023-11-20-111519_964903\"})\n",
    "\n",
    "# get run info\n",
    "config_list = [run.config for run in runs]\n",
    "summary_list = [run.summary._json_dict for run in runs]\n",
    "name_list = [run.name for run in runs]\n",
    "\n",
    "# read val predictions\n",
    "preds = [read_predictions(n, \"test\") for n in name_list]\n",
    "# combine with ground truth\n",
    "df_true = pd.read_csv(DATA_ROOT / \"synferm_dataset_2023-09-05_40018records.csv\")\n",
    "comb = [pred.merge(df_true[[\"binary_A\", \"binary_B\", \"binary_C\"]], left_index=True, right_index=True) for pred in preds]\n",
    "\n",
    "# load decision thresholds\n",
    "threshs = []\n",
    "for name in name_list:\n",
    "    with open(LOG_DIR / \"thresholds\" / f\"{name}.txt\", \"r\") as f:\n",
    "        threshs.append([float(i) for i in f.readlines()])\n",
    "threshs = np.array(threshs)\n",
    "\n",
    "# get truth\n",
    "fold_true = [comb[i][[\"binary_A\", \"binary_B\", \"binary_C\"]].to_numpy() for i in range(len(name_list))]\n",
    "\n",
    "# get preds by applying the thresholds\n",
    "fold_preds = []\n",
    "for fold_i in range(len(name_list)):\n",
    "    fold_preds.append(np.stack([np.where(preds[fold_i].to_numpy()[:, i] > threshs[fold_i, i], 1, 0) for i in range(3)], axis=1))\n",
    "\n",
    "# evaluate\n",
    "acc, bal_acc, recall, precision, fbeta = np.zeros((len(name_list), 3)), np.zeros((len(name_list), 3)), np.zeros((len(name_list), 3)), np.zeros((len(name_list), 3)), np.zeros((len(name_list), 3))\n",
    "\n",
    "for fold in range(len(name_list)):\n",
    "    for target in range(3):\n",
    "        threshold = threshs[fold]\n",
    "        y_true = fold_true[fold][:, target]\n",
    "        y_pred = fold_preds[fold][:, target]\n",
    "        acc[fold, target] = accuracy_score(y_true, y_pred)\n",
    "        bal_acc[fold, target] = balanced_accuracy_score(y_true, y_pred)\n",
    "        recall[fold, target] = recall_score(y_true, y_pred)\n",
    "        precision[fold, target] = precision_score(y_true, y_pred)\n",
    "        fbeta[fold, target] = fbeta_score(y_true, y_pred, beta=0.5)\n",
    "\n",
    "for i, name in enumerate(name_list):\n",
    "    records.append({\"name\": name, \"split\": \"3D\", \"metric\": \"accuracy\", \"target\": \"macro\", \"value\": acc[i].mean()})\n",
    "    records.append({\"name\": name, \"split\": \"3D\", \"metric\": \"recall\", \"target\": \"macro\", \"value\": recall[i].mean()})\n",
    "    records.append({\"name\": name, \"split\": \"3D\", \"metric\": \"precision\", \"target\": \"macro\", \"value\": precision[i].mean()})\n",
    "    records.append({\"name\": name, \"split\": \"3D\", \"metric\": \"accuracy\", \"target\": \"A\", \"value\": acc[i, 0]})\n",
    "    records.append({\"name\": name, \"split\": \"3D\", \"metric\": \"recall\", \"target\": \"A\", \"value\": recall[i, 0]})\n",
    "    records.append({\"name\": name, \"split\": \"3D\", \"metric\": \"precision\", \"target\": \"A\", \"value\": precision[i, 0]})\n",
    "\n",
    "\n",
    "print(\"Mean macro accuracy:\", f\"{acc.mean():.2f}±{acc.mean(axis=1).std():.2f}\")\n",
    "print(\"Mean macro recall:\", f\"{recall.mean():.2f}±{recall.mean(axis=1).std():.2f}\")\n",
    "print(\"Mean macro precision:\", f\"{precision.mean():.2f}±{precision.mean(axis=1).std():.2f}\")\n",
    "#print(\"Mean macro balanced accuracy:\", f\"{bal_acc.mean():.2f}±{bal_acc.mean(axis=1).std():.2f}\")\n",
    "#print(\"Mean macro f_0.5 score:\", f\"{fbeta.mean():.2f}±{fbeta.mean(axis=1).std():.2f}\")\n",
    "\n",
    "print(\"Mean target_A accuracy:\", f\"{acc[:, 0].mean():.2f}±{acc[:, 0].std():.2f}\")\n",
    "print(\"Mean target_A recall:\", f\"{recall[:, 0].mean():.2f}±{recall[:, 0].std():.2f}\")\n",
    "print(\"Mean target_A precision:\", f\"{precision[:, 0].mean():.2f}±{precision[:, 0].std():.2f}\")\n",
    "#print(\"Mean target_A balanced accuracy:\", f\"{bal_acc[:, 0].mean():.2f}±{bal_acc[:, 0].std():.2f}\")\n",
    "#print(\"Mean target_A f_0.5 score:\", f\"{fbeta[:, 0].mean():.2f}±{fbeta[:, 0].std():.2f}\")"
   ]
  },
  {
   "cell_type": "code",
   "execution_count": 278,
   "id": "8eaa38f5",
   "metadata": {},
   "outputs": [
    {
     "data": {
      "text/html": [
       "<div>\n",
       "<style scoped>\n",
       "    .dataframe tbody tr th:only-of-type {\n",
       "        vertical-align: middle;\n",
       "    }\n",
       "\n",
       "    .dataframe tbody tr th {\n",
       "        vertical-align: top;\n",
       "    }\n",
       "\n",
       "    .dataframe thead th {\n",
       "        text-align: right;\n",
       "    }\n",
       "</style>\n",
       "<table border=\"1\" class=\"dataframe\">\n",
       "  <thead>\n",
       "    <tr style=\"text-align: right;\">\n",
       "      <th></th>\n",
       "      <th>name</th>\n",
       "      <th>split</th>\n",
       "      <th>metric</th>\n",
       "      <th>target</th>\n",
       "      <th>value</th>\n",
       "    </tr>\n",
       "  </thead>\n",
       "  <tbody>\n",
       "    <tr>\n",
       "      <th>0</th>\n",
       "      <td>2023-10-21-225820_296119_fold8</td>\n",
       "      <td>0D</td>\n",
       "      <td>Accuracy</td>\n",
       "      <td>macro</td>\n",
       "      <td>0.925204</td>\n",
       "    </tr>\n",
       "    <tr>\n",
       "      <th>1</th>\n",
       "      <td>2023-10-21-225820_296119_fold8</td>\n",
       "      <td>0D</td>\n",
       "      <td>Recall</td>\n",
       "      <td>macro</td>\n",
       "      <td>0.903962</td>\n",
       "    </tr>\n",
       "    <tr>\n",
       "      <th>2</th>\n",
       "      <td>2023-10-21-225820_296119_fold8</td>\n",
       "      <td>0D</td>\n",
       "      <td>Precision</td>\n",
       "      <td>macro</td>\n",
       "      <td>0.910728</td>\n",
       "    </tr>\n",
       "    <tr>\n",
       "      <th>3</th>\n",
       "      <td>2023-10-21-225820_296119_fold8</td>\n",
       "      <td>0D</td>\n",
       "      <td>Accuracy</td>\n",
       "      <td>A</td>\n",
       "      <td>0.951274</td>\n",
       "    </tr>\n",
       "    <tr>\n",
       "      <th>4</th>\n",
       "      <td>2023-10-21-225820_296119_fold8</td>\n",
       "      <td>0D</td>\n",
       "      <td>Recall</td>\n",
       "      <td>A</td>\n",
       "      <td>0.968341</td>\n",
       "    </tr>\n",
       "  </tbody>\n",
       "</table>\n",
       "</div>"
      ],
      "text/plain": [
       "                             name split     metric target     value\n",
       "0  2023-10-21-225820_296119_fold8    0D   Accuracy  macro  0.925204\n",
       "1  2023-10-21-225820_296119_fold8    0D     Recall  macro  0.903962\n",
       "2  2023-10-21-225820_296119_fold8    0D  Precision  macro  0.910728\n",
       "3  2023-10-21-225820_296119_fold8    0D   Accuracy      A  0.951274\n",
       "4  2023-10-21-225820_296119_fold8    0D     Recall      A  0.968341"
      ]
     },
     "execution_count": 278,
     "metadata": {},
     "output_type": "execute_result"
    }
   ],
   "source": [
    "df = pd.DataFrame(records)\n",
    "df[\"metric\"] = df[\"metric\"].apply(str.capitalize)\n",
    "df.head()"
   ]
  },
  {
   "cell_type": "code",
   "execution_count": 294,
   "id": "f0b14754",
   "metadata": {},
   "outputs": [],
   "source": [
    "import seaborn as sns\n",
    "import matplotlib\n",
    "#matplotlib.use('svg')"
   ]
  },
  {
   "cell_type": "code",
   "execution_count": 295,
   "id": "c5483496",
   "metadata": {},
   "outputs": [],
   "source": [
    "# settings\n",
    "sns.set_theme(context=\"paper\", \n",
    "              style=\"white\", \n",
    "              font_scale=1, #0.7,\n",
    "              rc={\"savefig.transparent\": True, \n",
    "                  \"axes.grid\": False, \n",
    "                  \"axes.spines.bottom\": True,\n",
    "                  \"axes.spines.left\": False,\n",
    "                  \"axes.spines.right\": False,\n",
    "                  \"axes.spines.top\": False,\n",
    "                  \"font.family\":'sans-serif',\n",
    "                  \"font.sans-serif\":[\"Helvetica\", \"Arial\"],\n",
    "                  \"xtick.major.pad\": 0.0,\n",
    "                  \"xtick.minor.pad\": 0.0,\n",
    "                  \"ytick.major.pad\": 0.0,\n",
    "                  \"ytick.minor.pad\": 0.0,\n",
    "                  \"axes.labelweight\": \"bold\",\n",
    "                  \"axes.labelpad\": 2.5,  # standard is 4.0\n",
    "                  \"axes.xmargin\": .05,\n",
    "                 }, \n",
    "             )\n",
    "\n",
    "# more settings for all plots\n",
    "errorbar = \"se\"  # standard error of the mean\n",
    "errwidth = .9\n",
    "errcolor = \"black\"\n",
    "capsize = .1  # size of the end of the errorbar\n",
    "linewidth = 1.  # width of the outline of barplot"
   ]
  },
  {
   "cell_type": "code",
   "execution_count": 296,
   "id": "c4741fc4",
   "metadata": {},
   "outputs": [
    {
     "data": {
      "text/html": [
       "<svg  width=\"220\" height=\"55\"><rect x=\"0\" y=\"0\" width=\"55\" height=\"55\" style=\"fill:#5760bb;stroke-width:2;stroke:rgb(255,255,255)\"/><rect x=\"55\" y=\"0\" width=\"55\" height=\"55\" style=\"fill:#bd57d5;stroke-width:2;stroke:rgb(255,255,255)\"/><rect x=\"110\" y=\"0\" width=\"55\" height=\"55\" style=\"fill:#87ba70;stroke-width:2;stroke:rgb(255,255,255)\"/><rect x=\"165\" y=\"0\" width=\"55\" height=\"55\" style=\"fill:#c6c150;stroke-width:2;stroke:rgb(255,255,255)\"/></svg>"
      ],
      "text/plain": [
       "[(0.3411764705882353, 0.3764705882352941, 0.7333333333333333),\n",
       " (0.7411764705882353, 0.3411764705882353, 0.8352941176470589),\n",
       " (0.5294117647058824, 0.7294117647058823, 0.4392156862745098),\n",
       " (0.7764705882352941, 0.7568627450980392, 0.3137254901960784)]"
      ]
     },
     "execution_count": 296,
     "metadata": {},
     "output_type": "execute_result"
    }
   ],
   "source": [
    "palette = sns.color_palette([\"#5760bb\", \"#bd57d5\", \"#87ba70\", \"#c6c150\"])\n",
    "palette"
   ]
  },
  {
   "cell_type": "code",
   "execution_count": 297,
   "id": "bf9e600f",
   "metadata": {},
   "outputs": [],
   "source": [
    "# set dir where we will save plots\n",
    "analysis_dir = pathlib.Path(\"results\")"
   ]
  },
  {
   "cell_type": "code",
   "execution_count": 298,
   "id": "5c2db283",
   "metadata": {},
   "outputs": [],
   "source": [
    "fig, ax = plt.subplots(figsize=(4.75,4))\n",
    "sns.barplot(df.loc[df.target == \"macro\"], \n",
    "            x=\"split\", \n",
    "            y=\"value\", \n",
    "            hue=\"metric\",\n",
    "            palette=palette,\n",
    "            errorbar=errorbar, \n",
    "            errcolor=errcolor,\n",
    "            lw=linewidth,\n",
    "            capsize=capsize / 4,\n",
    "            errwidth=1.5,\n",
    "            alpha=.99\n",
    "           )\n",
    "\n",
    "# Set the color of each bar manually\n",
    "for i, bar in enumerate(ax.patches):\n",
    "    bar.set_facecolor(palette[i % 4])\n",
    "    if i in range(4, 8):\n",
    "        bar.set_hatch(\"//////\")\n",
    "    if i in range(8, 12):\n",
    "        bar.set_hatch(\"\\\\\\\\\\\\\\\\\\\\\\\\\")  # need more to escape backslashes\n",
    "\n",
    "ax.set_xlabel(None)\n",
    "ax.set_ylabel(\"Metric\")\n",
    "ax.set_ylim((0, 1))\n",
    "\n",
    "ax.legend(loc=\"lower left\", title=None)\n",
    "\n",
    "fig.tight_layout()\n",
    "fig.savefig(analysis_dir / \"best-model_metrics_test-macro.pdf\")"
   ]
  },
  {
   "cell_type": "code",
   "execution_count": 299,
   "id": "455fc705",
   "metadata": {},
   "outputs": [],
   "source": [
    "fig, ax = plt.subplots(figsize=(4.75,4))\n",
    "sns.barplot(df.loc[df.target == \"A\"], \n",
    "            x=\"split\", \n",
    "            y=\"value\", \n",
    "            hue=\"metric\",\n",
    "            palette=palette,\n",
    "            errorbar=errorbar, \n",
    "            errcolor=errcolor,\n",
    "            lw=linewidth,\n",
    "            capsize=capsize / 4,\n",
    "            errwidth=1.5,\n",
    "           )\n",
    "\n",
    "# Set the color of each bar manually\n",
    "for i, bar in enumerate(ax.patches):\n",
    "    bar.set_facecolor(palette[i % 4])\n",
    "    if i in range(4, 8):\n",
    "        bar.set_hatch(\"//////\")\n",
    "    if i in range(8, 12):\n",
    "        bar.set_hatch(\"\\\\\\\\\\\\\\\\\\\\\\\\\")  # need more to escape backslashes\n",
    "\n",
    "ax.set_xlabel(None)\n",
    "ax.set_ylabel(\"Metric\")\n",
    "ax.set_ylim((0, 1))\n",
    "\n",
    "ax.legend(loc=\"lower left\", title=None)\n",
    "\n",
    "fig.tight_layout()\n",
    "fig.savefig(analysis_dir / \"best-model_metrics_test-A.pdf\")"
   ]
  },
  {
   "cell_type": "code",
   "execution_count": null,
   "id": "7688e65f",
   "metadata": {},
   "outputs": [],
   "source": []
  }
 ],
 "metadata": {
  "kernelspec": {
   "display_name": "Python 3 (ipykernel)",
   "language": "python",
   "name": "python3"
  },
  "language_info": {
   "codemirror_mode": {
    "name": "ipython",
    "version": 3
   },
   "file_extension": ".py",
   "mimetype": "text/x-python",
   "name": "python",
   "nbconvert_exporter": "python",
   "pygments_lexer": "ipython3",
   "version": "3.11.5"
  }
 },
 "nbformat": 4,
 "nbformat_minor": 5
}
