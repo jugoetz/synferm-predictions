{
 "cells": [
  {
   "cell_type": "markdown",
   "id": "53774bba-6860-49ea-9704-87090789ea1f",
   "metadata": {},
   "source": [
    "# Analyze decision threshold\n",
    "We notice that some models always predict 1 for binary_A. We try modifiying the decision threshold and see the impact on validation metrics"
   ]
  },
  {
   "cell_type": "code",
   "execution_count": 1,
   "id": "302e71e0-9360-4418-a4b1-fd6e7289a842",
   "metadata": {},
   "outputs": [],
   "source": [
    "import pathlib\n",
    "import sys\n",
    "sys.path.append(str(pathlib.Path(\"__file__\").absolute().parents[1]))\n",
    "\n",
    "from sklearn.metrics import confusion_matrix, multilabel_confusion_matrix, accuracy_score, balanced_accuracy_score, roc_auc_score, precision_score, recall_score, f1_score, fbeta_score, PrecisionRecallDisplay\n",
    "from sklearn.preprocessing import LabelEncoder\n",
    "import matplotlib.pyplot as plt\n",
    "import numpy as np\n",
    "import pandas as pd\n",
    "import wandb\n",
    "\n",
    "from src.util.definitions import PRED_DIR, DATA_ROOT\n",
    "from src.util.io import read_predictions\n",
    "from ghost import optimize_threshold_from_predictions"
   ]
  },
  {
   "cell_type": "code",
   "execution_count": 2,
   "id": "2ef93756-8aa6-4f28-a950-fe501d89632b",
   "metadata": {},
   "outputs": [],
   "source": [
    "api = wandb.Api()\n",
    "runs = api.runs(\"jugoetz/synferm-predictions\", filters={\"group\": \"2023-10-25-053648_780546\"})"
   ]
  },
  {
   "cell_type": "code",
   "execution_count": 3,
   "id": "9144eb3c-512d-4bb3-8f37-d0e0423de75a",
   "metadata": {},
   "outputs": [
    {
     "data": {
      "text/plain": [
       "['2023-10-25-053648_780546_fold8',\n",
       " '2023-10-25-053648_780546_fold7',\n",
       " '2023-10-25-053648_780546_fold6',\n",
       " '2023-10-25-053648_780546_fold5',\n",
       " '2023-10-25-053648_780546_fold4',\n",
       " '2023-10-25-053648_780546_fold3',\n",
       " '2023-10-25-053648_780546_fold2',\n",
       " '2023-10-25-053648_780546_fold1',\n",
       " '2023-10-25-053648_780546_fold0']"
      ]
     },
     "execution_count": 3,
     "metadata": {},
     "output_type": "execute_result"
    }
   ],
   "source": [
    "config_list = [run.config for run in runs]\n",
    "summary_list = [run.summary._json_dict for run in runs]\n",
    "name_list = [run.name for run in runs]\n",
    "\n",
    "name_list"
   ]
  },
  {
   "cell_type": "code",
   "execution_count": 4,
   "id": "85dc5130-68c1-4be5-9d30-3a31745aae41",
   "metadata": {},
   "outputs": [
    {
     "data": {
      "text/html": [
       "<div>\n",
       "<style scoped>\n",
       "    .dataframe tbody tr th:only-of-type {\n",
       "        vertical-align: middle;\n",
       "    }\n",
       "\n",
       "    .dataframe tbody tr th {\n",
       "        vertical-align: top;\n",
       "    }\n",
       "\n",
       "    .dataframe thead th {\n",
       "        text-align: right;\n",
       "    }\n",
       "</style>\n",
       "<table border=\"1\" class=\"dataframe\">\n",
       "  <thead>\n",
       "    <tr style=\"text-align: right;\">\n",
       "      <th></th>\n",
       "      <th>pred_0</th>\n",
       "      <th>pred_1</th>\n",
       "      <th>pred_2</th>\n",
       "    </tr>\n",
       "    <tr>\n",
       "      <th>idx</th>\n",
       "      <th></th>\n",
       "      <th></th>\n",
       "      <th></th>\n",
       "    </tr>\n",
       "  </thead>\n",
       "  <tbody>\n",
       "    <tr>\n",
       "      <th>31920</th>\n",
       "      <td>0.794579</td>\n",
       "      <td>0.266130</td>\n",
       "      <td>0.088655</td>\n",
       "    </tr>\n",
       "    <tr>\n",
       "      <th>11249</th>\n",
       "      <td>0.842385</td>\n",
       "      <td>0.836633</td>\n",
       "      <td>0.346530</td>\n",
       "    </tr>\n",
       "    <tr>\n",
       "      <th>34717</th>\n",
       "      <td>0.832552</td>\n",
       "      <td>0.415581</td>\n",
       "      <td>0.160597</td>\n",
       "    </tr>\n",
       "    <tr>\n",
       "      <th>26490</th>\n",
       "      <td>0.859074</td>\n",
       "      <td>0.810026</td>\n",
       "      <td>0.517323</td>\n",
       "    </tr>\n",
       "    <tr>\n",
       "      <th>32534</th>\n",
       "      <td>0.866079</td>\n",
       "      <td>0.814108</td>\n",
       "      <td>0.464374</td>\n",
       "    </tr>\n",
       "    <tr>\n",
       "      <th>...</th>\n",
       "      <td>...</td>\n",
       "      <td>...</td>\n",
       "      <td>...</td>\n",
       "    </tr>\n",
       "    <tr>\n",
       "      <th>32198</th>\n",
       "      <td>0.772698</td>\n",
       "      <td>0.233655</td>\n",
       "      <td>0.068569</td>\n",
       "    </tr>\n",
       "    <tr>\n",
       "      <th>33167</th>\n",
       "      <td>0.782441</td>\n",
       "      <td>0.349546</td>\n",
       "      <td>0.115813</td>\n",
       "    </tr>\n",
       "    <tr>\n",
       "      <th>15494</th>\n",
       "      <td>0.780773</td>\n",
       "      <td>0.267427</td>\n",
       "      <td>0.105440</td>\n",
       "    </tr>\n",
       "    <tr>\n",
       "      <th>12399</th>\n",
       "      <td>0.833367</td>\n",
       "      <td>0.805016</td>\n",
       "      <td>0.289746</td>\n",
       "    </tr>\n",
       "    <tr>\n",
       "      <th>6237</th>\n",
       "      <td>0.902952</td>\n",
       "      <td>0.909097</td>\n",
       "      <td>0.513687</td>\n",
       "    </tr>\n",
       "  </tbody>\n",
       "</table>\n",
       "<p>23946 rows × 3 columns</p>\n",
       "</div>"
      ],
      "text/plain": [
       "         pred_0    pred_1    pred_2\n",
       "idx                                \n",
       "31920  0.794579  0.266130  0.088655\n",
       "11249  0.842385  0.836633  0.346530\n",
       "34717  0.832552  0.415581  0.160597\n",
       "26490  0.859074  0.810026  0.517323\n",
       "32534  0.866079  0.814108  0.464374\n",
       "...         ...       ...       ...\n",
       "32198  0.772698  0.233655  0.068569\n",
       "33167  0.782441  0.349546  0.115813\n",
       "15494  0.780773  0.267427  0.105440\n",
       "12399  0.833367  0.805016  0.289746\n",
       "6237   0.902952  0.909097  0.513687\n",
       "\n",
       "[23946 rows x 3 columns]"
      ]
     },
     "execution_count": 4,
     "metadata": {},
     "output_type": "execute_result"
    }
   ],
   "source": [
    "preds = [read_predictions(n, \"train\") for n in name_list]\n",
    "preds[0]"
   ]
  },
  {
   "cell_type": "code",
   "execution_count": 5,
   "id": "b974ed66-049e-4c21-86f4-7967362b1988",
   "metadata": {},
   "outputs": [],
   "source": [
    "df_true = pd.read_csv(DATA_ROOT / \"synferm_dataset_2023-09-05_40018records.csv\")"
   ]
  },
  {
   "cell_type": "code",
   "execution_count": 6,
   "id": "7a9753bc-f378-4b6d-9917-008c678776cf",
   "metadata": {},
   "outputs": [
    {
     "data": {
      "text/html": [
       "<div>\n",
       "<style scoped>\n",
       "    .dataframe tbody tr th:only-of-type {\n",
       "        vertical-align: middle;\n",
       "    }\n",
       "\n",
       "    .dataframe tbody tr th {\n",
       "        vertical-align: top;\n",
       "    }\n",
       "\n",
       "    .dataframe thead th {\n",
       "        text-align: right;\n",
       "    }\n",
       "</style>\n",
       "<table border=\"1\" class=\"dataframe\">\n",
       "  <thead>\n",
       "    <tr style=\"text-align: right;\">\n",
       "      <th></th>\n",
       "      <th>pred_0</th>\n",
       "      <th>pred_1</th>\n",
       "      <th>pred_2</th>\n",
       "      <th>binary_A</th>\n",
       "      <th>binary_B</th>\n",
       "      <th>binary_C</th>\n",
       "    </tr>\n",
       "  </thead>\n",
       "  <tbody>\n",
       "    <tr>\n",
       "      <th>31920</th>\n",
       "      <td>0.794579</td>\n",
       "      <td>0.266130</td>\n",
       "      <td>0.088655</td>\n",
       "      <td>1</td>\n",
       "      <td>0</td>\n",
       "      <td>0</td>\n",
       "    </tr>\n",
       "    <tr>\n",
       "      <th>11249</th>\n",
       "      <td>0.842385</td>\n",
       "      <td>0.836633</td>\n",
       "      <td>0.346530</td>\n",
       "      <td>1</td>\n",
       "      <td>1</td>\n",
       "      <td>0</td>\n",
       "    </tr>\n",
       "    <tr>\n",
       "      <th>34717</th>\n",
       "      <td>0.832552</td>\n",
       "      <td>0.415581</td>\n",
       "      <td>0.160597</td>\n",
       "      <td>1</td>\n",
       "      <td>1</td>\n",
       "      <td>0</td>\n",
       "    </tr>\n",
       "    <tr>\n",
       "      <th>26490</th>\n",
       "      <td>0.859074</td>\n",
       "      <td>0.810026</td>\n",
       "      <td>0.517323</td>\n",
       "      <td>0</td>\n",
       "      <td>1</td>\n",
       "      <td>0</td>\n",
       "    </tr>\n",
       "    <tr>\n",
       "      <th>32534</th>\n",
       "      <td>0.866079</td>\n",
       "      <td>0.814108</td>\n",
       "      <td>0.464374</td>\n",
       "      <td>1</td>\n",
       "      <td>1</td>\n",
       "      <td>1</td>\n",
       "    </tr>\n",
       "    <tr>\n",
       "      <th>...</th>\n",
       "      <td>...</td>\n",
       "      <td>...</td>\n",
       "      <td>...</td>\n",
       "      <td>...</td>\n",
       "      <td>...</td>\n",
       "      <td>...</td>\n",
       "    </tr>\n",
       "    <tr>\n",
       "      <th>32198</th>\n",
       "      <td>0.772698</td>\n",
       "      <td>0.233655</td>\n",
       "      <td>0.068569</td>\n",
       "      <td>0</td>\n",
       "      <td>0</td>\n",
       "      <td>0</td>\n",
       "    </tr>\n",
       "    <tr>\n",
       "      <th>33167</th>\n",
       "      <td>0.782441</td>\n",
       "      <td>0.349546</td>\n",
       "      <td>0.115813</td>\n",
       "      <td>1</td>\n",
       "      <td>1</td>\n",
       "      <td>0</td>\n",
       "    </tr>\n",
       "    <tr>\n",
       "      <th>15494</th>\n",
       "      <td>0.780773</td>\n",
       "      <td>0.267427</td>\n",
       "      <td>0.105440</td>\n",
       "      <td>0</td>\n",
       "      <td>0</td>\n",
       "      <td>0</td>\n",
       "    </tr>\n",
       "    <tr>\n",
       "      <th>12399</th>\n",
       "      <td>0.833367</td>\n",
       "      <td>0.805016</td>\n",
       "      <td>0.289746</td>\n",
       "      <td>1</td>\n",
       "      <td>1</td>\n",
       "      <td>0</td>\n",
       "    </tr>\n",
       "    <tr>\n",
       "      <th>6237</th>\n",
       "      <td>0.902952</td>\n",
       "      <td>0.909097</td>\n",
       "      <td>0.513687</td>\n",
       "      <td>1</td>\n",
       "      <td>1</td>\n",
       "      <td>1</td>\n",
       "    </tr>\n",
       "  </tbody>\n",
       "</table>\n",
       "<p>23946 rows × 6 columns</p>\n",
       "</div>"
      ],
      "text/plain": [
       "         pred_0    pred_1    pred_2  binary_A  binary_B  binary_C\n",
       "31920  0.794579  0.266130  0.088655         1         0         0\n",
       "11249  0.842385  0.836633  0.346530         1         1         0\n",
       "34717  0.832552  0.415581  0.160597         1         1         0\n",
       "26490  0.859074  0.810026  0.517323         0         1         0\n",
       "32534  0.866079  0.814108  0.464374         1         1         1\n",
       "...         ...       ...       ...       ...       ...       ...\n",
       "32198  0.772698  0.233655  0.068569         0         0         0\n",
       "33167  0.782441  0.349546  0.115813         1         1         0\n",
       "15494  0.780773  0.267427  0.105440         0         0         0\n",
       "12399  0.833367  0.805016  0.289746         1         1         0\n",
       "6237   0.902952  0.909097  0.513687         1         1         1\n",
       "\n",
       "[23946 rows x 6 columns]"
      ]
     },
     "execution_count": 6,
     "metadata": {},
     "output_type": "execute_result"
    }
   ],
   "source": [
    "comb = [pred.merge(df_true[[\"binary_A\", \"binary_B\", \"binary_C\"]], left_index=True, right_index=True) for pred in preds]\n",
    "comb[0]"
   ]
  },
  {
   "cell_type": "code",
   "execution_count": 7,
   "id": "9f399613-2444-46f3-9d54-11f0e91376fe",
   "metadata": {},
   "outputs": [],
   "source": [
    "bal_acc = []\n",
    "f_beta = []\n",
    "x = np.arange(0, 1.0001, 0.01)\n",
    "y_bal_acc = np.empty((101, 9))\n",
    "y_f_beta = np.empty((101, 9))\n",
    "best_thresh = np.empty(9)\n",
    "for fold in range(9):\n",
    "    for i, threshold in enumerate(x):\n",
    "        y_bal_acc[i, fold] = balanced_accuracy_score(comb[fold][\"binary_A\"], (comb[fold][\"pred_0\"] > threshold))\n",
    "        y_f_beta[i, fold] = fbeta_score(comb[fold][\"binary_A\"], (comb[fold][\"pred_0\"] > threshold), beta=0.1)\n",
    "    best_thresh[fold] = optimize_threshold_from_predictions(comb[fold][\"binary_A\"], comb[fold][\"pred_0\"], thresholds=x, ThOpt_metrics=\"Kappa\") "
   ]
  },
  {
   "cell_type": "code",
   "execution_count": 8,
   "id": "65bd1b4c-f215-498f-ba45-eb9c0133cdfb",
   "metadata": {},
   "outputs": [],
   "source": [
    "best_thresh_roc = np.empty(9)\n",
    "for fold in range(9):\n",
    "    best_thresh_roc[fold] = optimize_threshold_from_predictions(comb[fold][\"binary_A\"], comb[fold][\"pred_0\"], thresholds=x, ThOpt_metrics=\"ROC\") "
   ]
  },
  {
   "cell_type": "code",
   "execution_count": 9,
   "id": "66a9cfb8-66a0-495a-a16a-5687f3e6757b",
   "metadata": {
    "scrolled": true
   },
   "outputs": [
    {
     "data": {
      "text/plain": [
       "array([0.75, 0.68, 0.73, 0.69, 0.7 , 0.74, 0.71, 0.7 , 0.73])"
      ]
     },
     "execution_count": 9,
     "metadata": {},
     "output_type": "execute_result"
    }
   ],
   "source": [
    "best_thresh"
   ]
  },
  {
   "cell_type": "code",
   "execution_count": 10,
   "id": "e43dfbb1-4fe1-4d42-b2a8-d7f02d1309a9",
   "metadata": {},
   "outputs": [
    {
     "data": {
      "text/plain": [
       "array([0.81, 0.83, 0.79, 0.78, 0.77, 0.82, 0.81, 0.78, 0.81])"
      ]
     },
     "execution_count": 10,
     "metadata": {},
     "output_type": "execute_result"
    }
   ],
   "source": [
    "best_thresh_roc"
   ]
  },
  {
   "cell_type": "code",
   "execution_count": 11,
   "id": "0419a98a-4b6d-489d-9979-fa98d01dc87b",
   "metadata": {},
   "outputs": [
    {
     "data": {
      "text/plain": [
       "<matplotlib.legend.Legend at 0x7ff21fad6c90>"
      ]
     },
     "execution_count": 11,
     "metadata": {},
     "output_type": "execute_result"
    },
    {
     "data": {
      "image/png": "[encoded data removed]",
      "text/plain": [
       "<Figure size 600x400 with 1 Axes>"
      ]
     },
     "metadata": {},
     "output_type": "display_data"
    }
   ],
   "source": [
    "fig, ax = plt.subplots(figsize=(6,4))\n",
    "for fold in range(9):\n",
    "    line = ax.plot(x, y_bal_acc[:, fold], label=fold)\n",
    "    ax.vlines(x=best_thresh[fold], ymin=0, ymax=y_bal_acc[int((best_thresh[fold] * 100).round()), fold], ls=\":\", colors=line[0].get_color(), lw=1.2)\n",
    "    ax.vlines(x=best_thresh_roc[fold], ymin=0, ymax=y_bal_acc[int((best_thresh_roc[fold] * 100).round()), fold], ls=\"--\", colors=line[0].get_color(), lw=1.2)\n",
    "\n",
    "ax.set_xlabel(\"Decision boundary\")\n",
    "ax.set_ylabel(\"Balanced accuracy\")\n",
    "ax.set_xlim(0,1)\n",
    "ax.set_ylim(0.4,1)\n",
    "ax.legend()"
   ]
  },
  {
   "cell_type": "markdown",
   "id": "8ce1837e-cb9a-4671-9b6a-3f20524fd9aa",
   "metadata": {},
   "source": [
    "### Maximize balanced accuracy\n",
    "\n",
    "Simple way to pick the decision threshold is to calculate the balanced accuracy over different thresholds and pick the one that maximizes it.\n",
    "\n",
    "Note:\n",
    "- Since this is average recall per class, for our problem, this heavily tilts the predictions to minimize false negatives. That also means, recall for the positive class will take a heavy hit\n",
    "- Picking the maximum can be a bit unstable if the balanced_accuracy/threshold curve is not so smooth."
   ]
  },
  {
   "cell_type": "code",
   "execution_count": 12,
   "id": "cb3ada76-516e-41e3-8187-fcbbd2889fb4",
   "metadata": {},
   "outputs": [
    {
     "name": "stdout",
     "output_type": "stream",
     "text": [
      "balanced accuracy: 0.67\n",
      "recall: 0.68\n",
      "precision: 0.90\n",
      "f_0.5 score: 0.85\n",
      "\n",
      "balanced accuracy: 0.77\n",
      "recall: 0.74\n",
      "precision: 0.95\n",
      "f_0.5 score: 0.90\n",
      "\n",
      "balanced accuracy: 0.67\n",
      "recall: 0.72\n",
      "precision: 0.88\n",
      "f_0.5 score: 0.85\n",
      "\n",
      "balanced accuracy: 0.73\n",
      "recall: 0.74\n",
      "precision: 0.91\n",
      "f_0.5 score: 0.87\n",
      "\n",
      "balanced accuracy: 0.72\n",
      "recall: 0.69\n",
      "precision: 0.91\n",
      "f_0.5 score: 0.85\n",
      "\n",
      "balanced accuracy: 0.69\n",
      "recall: 0.66\n",
      "precision: 0.91\n",
      "f_0.5 score: 0.85\n",
      "\n",
      "balanced accuracy: 0.74\n",
      "recall: 0.66\n",
      "precision: 0.94\n",
      "f_0.5 score: 0.87\n",
      "\n",
      "balanced accuracy: 0.73\n",
      "recall: 0.67\n",
      "precision: 0.92\n",
      "f_0.5 score: 0.86\n",
      "\n",
      "balanced accuracy: 0.76\n",
      "recall: 0.71\n",
      "precision: 0.94\n",
      "f_0.5 score: 0.89\n",
      "\n"
     ]
    },
    {
     "data": {
      "text/plain": [
       "<sklearn.metrics._plot.precision_recall_curve.PrecisionRecallDisplay at 0x7ff21dbf42d0>"
      ]
     },
     "execution_count": 12,
     "metadata": {},
     "output_type": "execute_result"
    },
    {
     "data": {
      "image/png": "[encoded data removed]",
      "text/plain": [
       "<Figure size 640x480 with 1 Axes>"
      ]
     },
     "metadata": {},
     "output_type": "display_data"
    }
   ],
   "source": [
    "# try maximizing balanced accuracy on all folds\n",
    "for fold in range(9):\n",
    "    threshold = np.argmax(y_bal_acc[:, fold]) / 100\n",
    "    y_true = comb[fold][\"binary_A\"]\n",
    "    y_prob = comb[fold][\"pred_0\"]\n",
    "    y_pred = (y_prob > threshold)\n",
    "    print(\"balanced accuracy:\", f\"{balanced_accuracy_score(y_true, y_pred):.2f}\")\n",
    "    print(\"recall:\", f\"{recall_score(y_true, y_pred):.2f}\")\n",
    "    print(\"precision:\", f\"{precision_score(y_true, y_pred):.2f}\")\n",
    "    print(\"f_0.5 score:\", f\"{fbeta_score(y_true, y_pred, beta=0.5):.2f}\")\n",
    "    print()\n",
    "\n",
    "# plot the PRC\n",
    "PrecisionRecallDisplay.from_predictions(y_true, y_prob, pos_label=1, drop_intermediate=True, plot_chance_level=True)"
   ]
  },
  {
   "cell_type": "markdown",
   "id": "f2e0e99b-58ed-4243-a8f6-5da1d554a364",
   "metadata": {},
   "source": [
    "### GHOST\n",
    "The Rinicker lab has published GHOST (1) for decision threshold picking.\n",
    "On a high level this:\n",
    "- Takes startified samples from the training set (default: without replacement)\n",
    "- Determines metric (default: Cohen's kappa) for all decision thresholds\n",
    "- Calculates the median metric over stratified samples for all decision thresholds\n",
    "- Returns the threshold with highest median metric\n",
    "\n",
    "(1) Esposito, C.; A. Landrum, G.; Schneider, N.; Stiefl, N.; Riniker, S. GHOST: Adjusting the Decision Threshold to Handle Imbalanced Data in Machine Learning. Journal of Chemical Information and Modeling 2021, 61 (6), 2623–2640. https://doi.org/10.1021/acs.jcim.1c00160."
   ]
  },
  {
   "cell_type": "code",
   "execution_count": 13,
   "id": "2fa6bd83-12cb-41e7-8b44-648b6b74c9c1",
   "metadata": {},
   "outputs": [
    {
     "name": "stdout",
     "output_type": "stream",
     "text": [
      "balanced accuracy: 0.62\n",
      "recall: 0.89\n",
      "precision: 0.86\n",
      "f_0.5 score: 0.87\n",
      "\n",
      "balanced accuracy: 0.71\n",
      "recall: 0.94\n",
      "precision: 0.90\n",
      "f_0.5 score: 0.91\n",
      "\n",
      "balanced accuracy: 0.65\n",
      "recall: 0.84\n",
      "precision: 0.86\n",
      "f_0.5 score: 0.85\n",
      "\n",
      "balanced accuracy: 0.70\n",
      "recall: 0.90\n",
      "precision: 0.87\n",
      "f_0.5 score: 0.88\n",
      "\n",
      "balanced accuracy: 0.70\n",
      "recall: 0.85\n",
      "precision: 0.87\n",
      "f_0.5 score: 0.87\n",
      "\n",
      "balanced accuracy: 0.66\n",
      "recall: 0.88\n",
      "precision: 0.88\n",
      "f_0.5 score: 0.88\n",
      "\n",
      "balanced accuracy: 0.70\n",
      "recall: 0.90\n",
      "precision: 0.89\n",
      "f_0.5 score: 0.89\n",
      "\n",
      "balanced accuracy: 0.70\n",
      "recall: 0.86\n",
      "precision: 0.88\n",
      "f_0.5 score: 0.87\n",
      "\n",
      "balanced accuracy: 0.72\n",
      "recall: 0.88\n",
      "precision: 0.90\n",
      "f_0.5 score: 0.90\n",
      "\n"
     ]
    }
   ],
   "source": [
    "# try GHOST on all folds\n",
    "for i in range(9):\n",
    "    threshold = best_thresh[i]\n",
    "    y_true = comb[i][\"binary_A\"]\n",
    "    y_prob = comb[i][\"pred_0\"]\n",
    "    y_pred = (y_prob > threshold)\n",
    "    print(\"balanced accuracy:\", f\"{balanced_accuracy_score(y_true, y_pred):.2f}\")\n",
    "    print(\"recall:\", f\"{recall_score(y_true, y_pred):.2f}\")\n",
    "    print(\"precision:\", f\"{precision_score(y_true, y_pred):.2f}\")\n",
    "    print(\"f_0.5 score:\", f\"{fbeta_score(y_true, y_pred, beta=0.5):.2f}\")\n",
    "    print()"
   ]
  },
  {
   "cell_type": "code",
   "execution_count": 14,
   "id": "ac4e3b1b-b65d-41fc-913f-f0f03591247a",
   "metadata": {},
   "outputs": [],
   "source": [
    "# take a look at validation set metrics\n"
   ]
  },
  {
   "cell_type": "code",
   "execution_count": 15,
   "id": "258caa9b-618e-4abc-a898-e6bc44debe76",
   "metadata": {},
   "outputs": [
    {
     "data": {
      "text/html": [
       "<div>\n",
       "<style scoped>\n",
       "    .dataframe tbody tr th:only-of-type {\n",
       "        vertical-align: middle;\n",
       "    }\n",
       "\n",
       "    .dataframe tbody tr th {\n",
       "        vertical-align: top;\n",
       "    }\n",
       "\n",
       "    .dataframe thead th {\n",
       "        text-align: right;\n",
       "    }\n",
       "</style>\n",
       "<table border=\"1\" class=\"dataframe\">\n",
       "  <thead>\n",
       "    <tr style=\"text-align: right;\">\n",
       "      <th></th>\n",
       "      <th>pred_0</th>\n",
       "      <th>pred_1</th>\n",
       "      <th>pred_2</th>\n",
       "    </tr>\n",
       "    <tr>\n",
       "      <th>idx</th>\n",
       "      <th></th>\n",
       "      <th></th>\n",
       "      <th></th>\n",
       "    </tr>\n",
       "  </thead>\n",
       "  <tbody>\n",
       "    <tr>\n",
       "      <th>5561</th>\n",
       "      <td>0.869254</td>\n",
       "      <td>0.791833</td>\n",
       "      <td>0.382712</td>\n",
       "    </tr>\n",
       "    <tr>\n",
       "      <th>5570</th>\n",
       "      <td>0.844082</td>\n",
       "      <td>0.741155</td>\n",
       "      <td>0.297359</td>\n",
       "    </tr>\n",
       "    <tr>\n",
       "      <th>5589</th>\n",
       "      <td>0.867880</td>\n",
       "      <td>0.784376</td>\n",
       "      <td>0.397227</td>\n",
       "    </tr>\n",
       "    <tr>\n",
       "      <th>5603</th>\n",
       "      <td>0.863569</td>\n",
       "      <td>0.789170</td>\n",
       "      <td>0.386213</td>\n",
       "    </tr>\n",
       "    <tr>\n",
       "      <th>5627</th>\n",
       "      <td>0.894968</td>\n",
       "      <td>0.847806</td>\n",
       "      <td>0.491635</td>\n",
       "    </tr>\n",
       "    <tr>\n",
       "      <th>...</th>\n",
       "      <td>...</td>\n",
       "      <td>...</td>\n",
       "      <td>...</td>\n",
       "    </tr>\n",
       "    <tr>\n",
       "      <th>39363</th>\n",
       "      <td>0.840091</td>\n",
       "      <td>0.679653</td>\n",
       "      <td>0.373971</td>\n",
       "    </tr>\n",
       "    <tr>\n",
       "      <th>39365</th>\n",
       "      <td>0.838430</td>\n",
       "      <td>0.728873</td>\n",
       "      <td>0.406242</td>\n",
       "    </tr>\n",
       "    <tr>\n",
       "      <th>39384</th>\n",
       "      <td>0.874973</td>\n",
       "      <td>0.815028</td>\n",
       "      <td>0.423465</td>\n",
       "    </tr>\n",
       "    <tr>\n",
       "      <th>39391</th>\n",
       "      <td>0.885374</td>\n",
       "      <td>0.768478</td>\n",
       "      <td>0.424799</td>\n",
       "    </tr>\n",
       "    <tr>\n",
       "      <th>39393</th>\n",
       "      <td>0.884118</td>\n",
       "      <td>0.807908</td>\n",
       "      <td>0.458245</td>\n",
       "    </tr>\n",
       "  </tbody>\n",
       "</table>\n",
       "<p>536 rows × 3 columns</p>\n",
       "</div>"
      ],
      "text/plain": [
       "         pred_0    pred_1    pred_2\n",
       "idx                                \n",
       "5561   0.869254  0.791833  0.382712\n",
       "5570   0.844082  0.741155  0.297359\n",
       "5589   0.867880  0.784376  0.397227\n",
       "5603   0.863569  0.789170  0.386213\n",
       "5627   0.894968  0.847806  0.491635\n",
       "...         ...       ...       ...\n",
       "39363  0.840091  0.679653  0.373971\n",
       "39365  0.838430  0.728873  0.406242\n",
       "39384  0.874973  0.815028  0.423465\n",
       "39391  0.885374  0.768478  0.424799\n",
       "39393  0.884118  0.807908  0.458245\n",
       "\n",
       "[536 rows x 3 columns]"
      ]
     },
     "execution_count": 15,
     "metadata": {},
     "output_type": "execute_result"
    }
   ],
   "source": [
    "preds_val = [read_predictions(n, \"val\") for n in name_list]\n",
    "preds_val[0]"
   ]
  },
  {
   "cell_type": "code",
   "execution_count": 16,
   "id": "cbab331b-3c9a-4fa2-82f7-34688dd94f3e",
   "metadata": {},
   "outputs": [
    {
     "data": {
      "text/html": [
       "<div>\n",
       "<style scoped>\n",
       "    .dataframe tbody tr th:only-of-type {\n",
       "        vertical-align: middle;\n",
       "    }\n",
       "\n",
       "    .dataframe tbody tr th {\n",
       "        vertical-align: top;\n",
       "    }\n",
       "\n",
       "    .dataframe thead th {\n",
       "        text-align: right;\n",
       "    }\n",
       "</style>\n",
       "<table border=\"1\" class=\"dataframe\">\n",
       "  <thead>\n",
       "    <tr style=\"text-align: right;\">\n",
       "      <th></th>\n",
       "      <th>pred_0</th>\n",
       "      <th>pred_1</th>\n",
       "      <th>pred_2</th>\n",
       "      <th>binary_A</th>\n",
       "      <th>binary_B</th>\n",
       "      <th>binary_C</th>\n",
       "    </tr>\n",
       "  </thead>\n",
       "  <tbody>\n",
       "    <tr>\n",
       "      <th>5561</th>\n",
       "      <td>0.869254</td>\n",
       "      <td>0.791833</td>\n",
       "      <td>0.382712</td>\n",
       "      <td>1</td>\n",
       "      <td>1</td>\n",
       "      <td>0</td>\n",
       "    </tr>\n",
       "    <tr>\n",
       "      <th>5570</th>\n",
       "      <td>0.844082</td>\n",
       "      <td>0.741155</td>\n",
       "      <td>0.297359</td>\n",
       "      <td>1</td>\n",
       "      <td>1</td>\n",
       "      <td>0</td>\n",
       "    </tr>\n",
       "    <tr>\n",
       "      <th>5589</th>\n",
       "      <td>0.867880</td>\n",
       "      <td>0.784376</td>\n",
       "      <td>0.397227</td>\n",
       "      <td>1</td>\n",
       "      <td>1</td>\n",
       "      <td>1</td>\n",
       "    </tr>\n",
       "    <tr>\n",
       "      <th>5603</th>\n",
       "      <td>0.863569</td>\n",
       "      <td>0.789170</td>\n",
       "      <td>0.386213</td>\n",
       "      <td>1</td>\n",
       "      <td>1</td>\n",
       "      <td>1</td>\n",
       "    </tr>\n",
       "    <tr>\n",
       "      <th>5627</th>\n",
       "      <td>0.894968</td>\n",
       "      <td>0.847806</td>\n",
       "      <td>0.491635</td>\n",
       "      <td>1</td>\n",
       "      <td>1</td>\n",
       "      <td>1</td>\n",
       "    </tr>\n",
       "    <tr>\n",
       "      <th>...</th>\n",
       "      <td>...</td>\n",
       "      <td>...</td>\n",
       "      <td>...</td>\n",
       "      <td>...</td>\n",
       "      <td>...</td>\n",
       "      <td>...</td>\n",
       "    </tr>\n",
       "    <tr>\n",
       "      <th>39363</th>\n",
       "      <td>0.840091</td>\n",
       "      <td>0.679653</td>\n",
       "      <td>0.373971</td>\n",
       "      <td>1</td>\n",
       "      <td>1</td>\n",
       "      <td>0</td>\n",
       "    </tr>\n",
       "    <tr>\n",
       "      <th>39365</th>\n",
       "      <td>0.838430</td>\n",
       "      <td>0.728873</td>\n",
       "      <td>0.406242</td>\n",
       "      <td>1</td>\n",
       "      <td>1</td>\n",
       "      <td>0</td>\n",
       "    </tr>\n",
       "    <tr>\n",
       "      <th>39384</th>\n",
       "      <td>0.874973</td>\n",
       "      <td>0.815028</td>\n",
       "      <td>0.423465</td>\n",
       "      <td>0</td>\n",
       "      <td>0</td>\n",
       "      <td>0</td>\n",
       "    </tr>\n",
       "    <tr>\n",
       "      <th>39391</th>\n",
       "      <td>0.885374</td>\n",
       "      <td>0.768478</td>\n",
       "      <td>0.424799</td>\n",
       "      <td>1</td>\n",
       "      <td>1</td>\n",
       "      <td>0</td>\n",
       "    </tr>\n",
       "    <tr>\n",
       "      <th>39393</th>\n",
       "      <td>0.884118</td>\n",
       "      <td>0.807908</td>\n",
       "      <td>0.458245</td>\n",
       "      <td>1</td>\n",
       "      <td>1</td>\n",
       "      <td>0</td>\n",
       "    </tr>\n",
       "  </tbody>\n",
       "</table>\n",
       "<p>536 rows × 6 columns</p>\n",
       "</div>"
      ],
      "text/plain": [
       "         pred_0    pred_1    pred_2  binary_A  binary_B  binary_C\n",
       "5561   0.869254  0.791833  0.382712         1         1         0\n",
       "5570   0.844082  0.741155  0.297359         1         1         0\n",
       "5589   0.867880  0.784376  0.397227         1         1         1\n",
       "5603   0.863569  0.789170  0.386213         1         1         1\n",
       "5627   0.894968  0.847806  0.491635         1         1         1\n",
       "...         ...       ...       ...       ...       ...       ...\n",
       "39363  0.840091  0.679653  0.373971         1         1         0\n",
       "39365  0.838430  0.728873  0.406242         1         1         0\n",
       "39384  0.874973  0.815028  0.423465         0         0         0\n",
       "39391  0.885374  0.768478  0.424799         1         1         0\n",
       "39393  0.884118  0.807908  0.458245         1         1         0\n",
       "\n",
       "[536 rows x 6 columns]"
      ]
     },
     "execution_count": 16,
     "metadata": {},
     "output_type": "execute_result"
    }
   ],
   "source": [
    "comb_val = [pred.merge(df_true[[\"binary_A\", \"binary_B\", \"binary_C\"]], left_index=True, right_index=True) for pred in preds_val]\n",
    "comb_val[0]"
   ]
  },
  {
   "cell_type": "code",
   "execution_count": 17,
   "id": "a4b1541f-a9b8-46b1-8d24-9188b82eade5",
   "metadata": {},
   "outputs": [
    {
     "name": "stdout",
     "output_type": "stream",
     "text": [
      "accuracy: 0.76±0.13\n",
      "balanced accuracy: 0.62±0.08\n",
      "recall: 0.84±0.16\n",
      "precision: 0.87±0.06\n",
      "f_0.5 score: 0.85±0.07\n"
     ]
    }
   ],
   "source": [
    "# threshold obtained by GHOST with Kappa\n",
    "acc, bal_acc, recall, precision, fbeta = [], [], [], [], []\n",
    "\n",
    "for fold in range(9):\n",
    "    threshold = best_thresh[fold]\n",
    "    y_true = comb_val[fold][\"binary_A\"]\n",
    "    y_prob = comb_val[fold][\"pred_0\"]\n",
    "    y_pred = (y_prob > threshold)\n",
    "    acc.append(accuracy_score(y_true, y_pred))\n",
    "    bal_acc.append(balanced_accuracy_score(y_true, y_pred))\n",
    "    recall.append(recall_score(y_true, y_pred))\n",
    "    precision.append(precision_score(y_true, y_pred))\n",
    "    fbeta.append(fbeta_score(y_true, y_pred, beta=0.5))\n",
    "\n",
    "print(\"accuracy:\", f\"{np.array(acc).mean():.2f}±{np.array(acc).std():.2f}\")\n",
    "print(\"balanced accuracy:\", f\"{np.array(bal_acc).mean():.2f}±{np.array(bal_acc).std():.2f}\")\n",
    "print(\"recall:\", f\"{np.array(recall).mean():.2f}±{np.array(recall).std():.2f}\")\n",
    "print(\"precision:\", f\"{np.array(precision).mean():.2f}±{np.array(precision).std():.2f}\")\n",
    "print(\"f_0.5 score:\", f\"{np.array(fbeta).mean():.2f}±{np.array(fbeta).std():.2f}\")"
   ]
  },
  {
   "cell_type": "code",
   "execution_count": 22,
   "id": "b009b3b8-01df-4d3f-b876-09be1d9a4725",
   "metadata": {},
   "outputs": [
    {
     "name": "stdout",
     "output_type": "stream",
     "text": [
      "accuracy: 0.64±0.19\n",
      "balanced accuracy: 0.62±0.09\n",
      "recall: 0.64±0.26\n",
      "precision: 0.88±0.07\n",
      "f_0.5 score: 0.78±0.14\n"
     ]
    }
   ],
   "source": [
    "# threshold obtained by GHOST with ROC\n",
    "acc, bal_acc, recall, precision, fbeta = [], [], [], [], []\n",
    "\n",
    "for fold in range(9):\n",
    "    threshold = best_thresh_roc[fold]\n",
    "    y_true = comb_val[fold][\"binary_A\"]\n",
    "    y_prob = comb_val[fold][\"pred_0\"]\n",
    "    y_pred = (y_prob > threshold)\n",
    "    acc.append(accuracy_score(y_true, y_pred))\n",
    "    bal_acc.append(balanced_accuracy_score(y_true, y_pred))\n",
    "    recall.append(recall_score(y_true, y_pred))\n",
    "    precision.append(precision_score(y_true, y_pred))\n",
    "    fbeta.append(fbeta_score(y_true, y_pred, beta=0.5))\n",
    "\n",
    "print(\"accuracy:\", f\"{np.array(acc).mean():.2f}±{np.array(acc).std():.2f}\")\n",
    "print(\"balanced accuracy:\", f\"{np.array(bal_acc).mean():.2f}±{np.array(bal_acc).std():.2f}\")\n",
    "print(\"recall:\", f\"{np.array(recall).mean():.2f}±{np.array(recall).std():.2f}\")\n",
    "print(\"precision:\", f\"{np.array(precision).mean():.2f}±{np.array(precision).std():.2f}\")\n",
    "print(\"f_0.5 score:\", f\"{np.array(fbeta).mean():.2f}±{np.array(fbeta).std():.2f}\")"
   ]
  },
  {
   "cell_type": "code",
   "execution_count": 18,
   "id": "5096e7fb-6f29-4a63-95f0-c44bfad81526",
   "metadata": {},
   "outputs": [
    {
     "data": {
      "text/plain": [
       "array([0.81, 0.83, 0.78, 0.78, 0.78, 0.82, 0.83, 0.8 , 0.82])"
      ]
     },
     "execution_count": 18,
     "metadata": {},
     "output_type": "execute_result"
    }
   ],
   "source": [
    "best_tresh_bal_acc =  np.argmax(y_bal_acc, axis=0) / 100\n",
    "best_tresh_bal_acc"
   ]
  },
  {
   "cell_type": "code",
   "execution_count": 19,
   "id": "1a7675c2-1021-467b-bc8d-54b54f240b51",
   "metadata": {},
   "outputs": [
    {
     "name": "stdout",
     "output_type": "stream",
     "text": [
      "accuracy: 0.63±0.19\n",
      "balanced accuracy: 0.62±0.09\n",
      "recall: 0.63±0.26\n",
      "precision: 0.89±0.07\n",
      "f_0.5 score: 0.78±0.14\n"
     ]
    }
   ],
   "source": [
    "# threshold obtained by maximizing balanced accuracy\n",
    "\n",
    "acc, bal_acc, recall, precision, fbeta = [], [], [], [], []\n",
    "\n",
    "for fold in range(9):\n",
    "    threshold = np.argmax(y_bal_acc[:, fold]) / 100\n",
    "    y_true = comb_val[fold][\"binary_A\"]\n",
    "    y_prob = comb_val[fold][\"pred_0\"]\n",
    "    y_pred = (y_prob > threshold)\n",
    "    acc.append(accuracy_score(y_true, y_pred))\n",
    "    bal_acc.append(balanced_accuracy_score(y_true, y_pred))\n",
    "    recall.append(recall_score(y_true, y_pred))\n",
    "    precision.append(precision_score(y_true, y_pred))\n",
    "    fbeta.append(fbeta_score(y_true, y_pred, beta=0.5))\n",
    "\n",
    "print(\"accuracy:\", f\"{np.array(acc).mean():.2f}±{np.array(acc).std():.2f}\")\n",
    "print(\"balanced accuracy:\", f\"{np.array(bal_acc).mean():.2f}±{np.array(bal_acc).std():.2f}\")\n",
    "print(\"recall:\", f\"{np.array(recall).mean():.2f}±{np.array(recall).std():.2f}\")\n",
    "print(\"precision:\", f\"{np.array(precision).mean():.2f}±{np.array(precision).std():.2f}\")\n",
    "print(\"f_0.5 score:\", f\"{np.array(fbeta).mean():.2f}±{np.array(fbeta).std():.2f}\")"
   ]
  },
  {
   "cell_type": "code",
   "execution_count": 20,
   "id": "958ce4c3-2847-4c2f-95c1-7836cb53e764",
   "metadata": {},
   "outputs": [
    {
     "name": "stdout",
     "output_type": "stream",
     "text": [
      "accuracy: 0.83±0.06\n",
      "balanced accuracy: 0.52±0.03\n",
      "recall: 1.00±0.00\n",
      "precision: 0.83±0.06\n",
      "f_0.5 score: 0.86±0.06\n"
     ]
    }
   ],
   "source": [
    "# fixed threshold at 0.5\n",
    "\n",
    "acc, bal_acc, recall, precision, fbeta = [], [], [], [], []\n",
    "\n",
    "for fold in range(9):\n",
    "    threshold = 0.5\n",
    "    y_true = comb_val[fold][\"binary_A\"]\n",
    "    y_prob = comb_val[fold][\"pred_0\"]\n",
    "    y_pred = (y_prob > threshold)\n",
    "    acc.append(accuracy_score(y_true, y_pred))\n",
    "    bal_acc.append(balanced_accuracy_score(y_true, y_pred))\n",
    "    recall.append(recall_score(y_true, y_pred))\n",
    "    precision.append(precision_score(y_true, y_pred))\n",
    "    fbeta.append(fbeta_score(y_true, y_pred, beta=0.5))\n",
    "\n",
    "print(\"accuracy:\", f\"{np.array(acc).mean():.2f}±{np.array(acc).std():.2f}\")\n",
    "print(\"balanced accuracy:\", f\"{np.array(bal_acc).mean():.2f}±{np.array(bal_acc).std():.2f}\")\n",
    "print(\"recall:\", f\"{np.array(recall).mean():.2f}±{np.array(recall).std():.2f}\")\n",
    "print(\"precision:\", f\"{np.array(precision).mean():.2f}±{np.array(precision).std():.2f}\")\n",
    "print(\"f_0.5 score:\", f\"{np.array(fbeta).mean():.2f}±{np.array(fbeta).std():.2f}\")"
   ]
  },
  {
   "cell_type": "code",
   "execution_count": 21,
   "id": "691fee59-fd14-4c15-91e5-4202b0951a1e",
   "metadata": {},
   "outputs": [
    {
     "name": "stdout",
     "output_type": "stream",
     "text": [
      "accuracy: 0.62±0.19\n",
      "balanced accuracy: 0.63±0.08\n",
      "recall: 0.62±0.25\n",
      "precision: 0.89±0.07\n",
      "f_0.5 score: 0.78±0.14\n"
     ]
    }
   ],
   "source": [
    "# threshold equal to training data distribution\n",
    "\n",
    "acc, bal_acc, recall, precision, fbeta = [], [], [], [], []\n",
    "\n",
    "for fold in range(9):\n",
    "    threshold = comb[fold][\"binary_A\"].mean()\n",
    "    y_true = comb_val[fold][\"binary_A\"]\n",
    "    y_prob = comb_val[fold][\"pred_0\"]\n",
    "    y_pred = (y_prob > threshold)\n",
    "    acc.append(accuracy_score(y_true, y_pred))\n",
    "    bal_acc.append(balanced_accuracy_score(y_true, y_pred))\n",
    "    recall.append(recall_score(y_true, y_pred))\n",
    "    precision.append(precision_score(y_true, y_pred))\n",
    "    fbeta.append(fbeta_score(y_true, y_pred, beta=0.5))\n",
    "\n",
    "print(\"accuracy:\", f\"{np.array(acc).mean():.2f}±{np.array(acc).std():.2f}\")\n",
    "print(\"balanced accuracy:\", f\"{np.array(bal_acc).mean():.2f}±{np.array(bal_acc).std():.2f}\")\n",
    "print(\"recall:\", f\"{np.array(recall).mean():.2f}±{np.array(recall).std():.2f}\")\n",
    "print(\"precision:\", f\"{np.array(precision).mean():.2f}±{np.array(precision).std():.2f}\")\n",
    "print(\"f_0.5 score:\", f\"{np.array(fbeta).mean():.2f}±{np.array(fbeta).std():.2f}\")"
   ]
  },
  {
   "cell_type": "code",
   "execution_count": null,
   "id": "3a2fa374-ec62-453a-9d10-069f7a7b7c17",
   "metadata": {},
   "outputs": [],
   "source": []
  }
 ],
 "metadata": {
  "kernelspec": {
   "display_name": "Python 3 (ipykernel)",
   "language": "python",
   "name": "python3"
  },
  "language_info": {
   "codemirror_mode": {
    "name": "ipython",
    "version": 3
   },
   "file_extension": ".py",
   "mimetype": "text/x-python",
   "name": "python",
   "nbconvert_exporter": "python",
   "pygments_lexer": "ipython3",
   "version": "3.11.5"
  }
 },
 "nbformat": 4,
 "nbformat_minor": 5
}
