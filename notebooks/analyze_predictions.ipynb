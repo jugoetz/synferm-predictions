{
 "cells": [
  {
   "cell_type": "markdown",
   "id": "11e00d24-7eac-424d-af8f-b7db7c1dde0f",
   "metadata": {
    "collapsed": true,
    "jupyter": {
     "outputs_hidden": true
    }
   },
   "source": [
    "# Analyze predictions\n",
    "\n",
    "The ML train loop did not calculate some metrics we are now interested in.\n",
    "But since we saved the predictions, it should be easy to obtain the metrics.\n",
    "We add them back to wandb, for easier analysis there.\n",
    "- Add AUROC, balanced accuracy, and - for multilabel tasks - some averages over all labels."
   ]
  },
  {
   "cell_type": "code",
   "execution_count": 7,
   "id": "87dc94cb-9107-45f6-a94e-2e10ffc8adab",
   "metadata": {},
   "outputs": [],
   "source": [
    "import pathlib\n",
    "import sys\n",
    "sys.path.append(str(pathlib.Path(\"__file__\").absolute().parents[1]))\n",
    "\n",
    "from sklearn.metrics import confusion_matrix, multilabel_confusion_matrix, accuracy_score, balanced_accuracy_score, roc_auc_score, precision_score, recall_score, f1_score\n",
    "from sklearn.preprocessing import LabelEncoder\n",
    "import matplotlib.pyplot as plt\n",
    "import numpy as np\n",
    "import pandas as pd\n",
    "import wandb\n",
    "\n",
    "from src.util.definitions import PRED_DIR, DATA_ROOT"
   ]
  },
  {
   "cell_type": "code",
   "execution_count": 8,
   "id": "58f4b7ce-1817-4df8-8e95-0d6be2b59ee1",
   "metadata": {},
   "outputs": [],
   "source": [
    "df_true = pd.read_csv(DATA_ROOT / \"synferm_dataset_2023-09-05_40018records.csv\")"
   ]
  },
  {
   "cell_type": "code",
   "execution_count": 2,
   "id": "1a21a2b7-b652-4473-b980-d0f59328ad18",
   "metadata": {},
   "outputs": [],
   "source": [
    "api = wandb.Api()\n",
    "runs = api.runs(\"jugoetz/synferm-predictions\")"
   ]
  },
  {
   "cell_type": "code",
   "execution_count": 3,
   "id": "ccfe90dc-3e1f-4b17-a6f9-61de7056877e",
   "metadata": {},
   "outputs": [],
   "source": [
    "summary_list, config_list, name_list = [], [], []\n",
    "for run in runs:\n",
    "    # .summary contains output keys/values for\n",
    "    # metrics such as accuracy.\n",
    "    #  We call ._json_dict to omit large files\n",
    "    summary_list.append(run.summary._json_dict)\n",
    "\n",
    "    # .config contains the hyperparameters.\n",
    "    #  We remove special values that start with _.\n",
    "    config_list.append(\n",
    "        {k: v for k,v in run.config.items()\n",
    "         if not k.startswith('_')})\n",
    "\n",
    "    # .name is the human-readable name of the run.\n",
    "    name_list.append(run.name)"
   ]
  },
  {
   "cell_type": "code",
   "execution_count": 4,
   "id": "fd37a35a-1a96-4a51-83de-433f0d899e7f",
   "metadata": {},
   "outputs": [
    {
     "data": {
      "text/plain": [
       "10761"
      ]
     },
     "execution_count": 4,
     "metadata": {},
     "output_type": "execute_result"
    }
   ],
   "source": [
    "name_list.index(\"2023-09-26-132606_155550_fold8\")"
   ]
  },
  {
   "cell_type": "code",
   "execution_count": 5,
   "id": "16ed8122-aef3-45a4-add4-f638c85d60b0",
   "metadata": {},
   "outputs": [
    {
     "data": {
      "text/html": [
       "<style>#sk-container-id-1 {color: black;}#sk-container-id-1 pre{padding: 0;}#sk-container-id-1 div.sk-toggleable {background-color: white;}#sk-container-id-1 label.sk-toggleable__label {cursor: pointer;display: block;width: 100%;margin-bottom: 0;padding: 0.3em;box-sizing: border-box;text-align: center;}#sk-container-id-1 label.sk-toggleable__label-arrow:before {content: \"▸\";float: left;margin-right: 0.25em;color: #696969;}#sk-container-id-1 label.sk-toggleable__label-arrow:hover:before {color: black;}#sk-container-id-1 div.sk-estimator:hover label.sk-toggleable__label-arrow:before {color: black;}#sk-container-id-1 div.sk-toggleable__content {max-height: 0;max-width: 0;overflow: hidden;text-align: left;background-color: #f0f8ff;}#sk-container-id-1 div.sk-toggleable__content pre {margin: 0.2em;color: black;border-radius: 0.25em;background-color: #f0f8ff;}#sk-container-id-1 input.sk-toggleable__control:checked~div.sk-toggleable__content {max-height: 200px;max-width: 100%;overflow: auto;}#sk-container-id-1 input.sk-toggleable__control:checked~label.sk-toggleable__label-arrow:before {content: \"▾\";}#sk-container-id-1 div.sk-estimator input.sk-toggleable__control:checked~label.sk-toggleable__label {background-color: #d4ebff;}#sk-container-id-1 div.sk-label input.sk-toggleable__control:checked~label.sk-toggleable__label {background-color: #d4ebff;}#sk-container-id-1 input.sk-hidden--visually {border: 0;clip: rect(1px 1px 1px 1px);clip: rect(1px, 1px, 1px, 1px);height: 1px;margin: -1px;overflow: hidden;padding: 0;position: absolute;width: 1px;}#sk-container-id-1 div.sk-estimator {font-family: monospace;background-color: #f0f8ff;border: 1px dotted black;border-radius: 0.25em;box-sizing: border-box;margin-bottom: 0.5em;}#sk-container-id-1 div.sk-estimator:hover {background-color: #d4ebff;}#sk-container-id-1 div.sk-parallel-item::after {content: \"\";width: 100%;border-bottom: 1px solid gray;flex-grow: 1;}#sk-container-id-1 div.sk-label:hover label.sk-toggleable__label {background-color: #d4ebff;}#sk-container-id-1 div.sk-serial::before {content: \"\";position: absolute;border-left: 1px solid gray;box-sizing: border-box;top: 0;bottom: 0;left: 50%;z-index: 0;}#sk-container-id-1 div.sk-serial {display: flex;flex-direction: column;align-items: center;background-color: white;padding-right: 0.2em;padding-left: 0.2em;position: relative;}#sk-container-id-1 div.sk-item {position: relative;z-index: 1;}#sk-container-id-1 div.sk-parallel {display: flex;align-items: stretch;justify-content: center;background-color: white;position: relative;}#sk-container-id-1 div.sk-item::before, #sk-container-id-1 div.sk-parallel-item::before {content: \"\";position: absolute;border-left: 1px solid gray;box-sizing: border-box;top: 0;bottom: 0;left: 50%;z-index: -1;}#sk-container-id-1 div.sk-parallel-item {display: flex;flex-direction: column;z-index: 1;position: relative;background-color: white;}#sk-container-id-1 div.sk-parallel-item:first-child::after {align-self: flex-end;width: 50%;}#sk-container-id-1 div.sk-parallel-item:last-child::after {align-self: flex-start;width: 50%;}#sk-container-id-1 div.sk-parallel-item:only-child::after {width: 0;}#sk-container-id-1 div.sk-dashed-wrapped {border: 1px dashed gray;margin: 0 0.4em 0.5em 0.4em;box-sizing: border-box;padding-bottom: 0.4em;background-color: white;}#sk-container-id-1 div.sk-label label {font-family: monospace;font-weight: bold;display: inline-block;line-height: 1.2em;}#sk-container-id-1 div.sk-label-container {text-align: center;}#sk-container-id-1 div.sk-container {/* jupyter's `normalize.less` sets `[hidden] { display: none; }` but bootstrap.min.css set `[hidden] { display: none !important; }` so we also need the `!important` here to be able to override the default hidden behavior on the sphinx rendered scikit-learn.org. See: https://github.com/scikit-learn/scikit-learn/issues/21755 */display: inline-block !important;position: relative;}#sk-container-id-1 div.sk-text-repr-fallback {display: none;}</style><div id=\"sk-container-id-1\" class=\"sk-top-container\"><div class=\"sk-text-repr-fallback\"><pre>LabelEncoder()</pre><b>In a Jupyter environment, please rerun this cell to show the HTML representation or trust the notebook. <br />On GitHub, the HTML representation is unable to render, please try loading this page with nbviewer.org.</b></div><div class=\"sk-container\" hidden><div class=\"sk-item\"><div class=\"sk-estimator sk-toggleable\"><input class=\"sk-toggleable__control sk-hidden--visually\" id=\"sk-estimator-id-1\" type=\"checkbox\" checked><label for=\"sk-estimator-id-1\" class=\"sk-toggleable__label sk-toggleable__label-arrow\">LabelEncoder</label><div class=\"sk-toggleable__content\"><pre>LabelEncoder()</pre></div></div></div></div></div>"
      ],
      "text/plain": [
       "LabelEncoder()"
      ]
     },
     "execution_count": 5,
     "metadata": {},
     "output_type": "execute_result"
    }
   ],
   "source": [
    "le = LabelEncoder()\n",
    "le.fit([\"A\", \"B\", \"C\", \"no_product\"])"
   ]
  },
  {
   "cell_type": "code",
   "execution_count": 6,
   "id": "da5c1287-12eb-4015-9403-d417c47c3c13",
   "metadata": {
    "scrolled": true
   },
   "outputs": [
    {
     "ename": "NameError",
     "evalue": "name 'df_true' is not defined",
     "output_type": "error",
     "traceback": [
      "\u001b[0;31m---------------------------------------------------------------------------\u001b[0m",
      "\u001b[0;31mNameError\u001b[0m                                 Traceback (most recent call last)",
      "Cell \u001b[0;32mIn[6], line 13\u001b[0m\n\u001b[1;32m     10\u001b[0m \u001b[38;5;28;01mfor\u001b[39;00m name, file \u001b[38;5;129;01min\u001b[39;00m \u001b[38;5;28mzip\u001b[39m([\u001b[38;5;124m\"\u001b[39m\u001b[38;5;124mval\u001b[39m\u001b[38;5;124m\"\u001b[39m, \u001b[38;5;124m\"\u001b[39m\u001b[38;5;124mtest\u001b[39m\u001b[38;5;124m\"\u001b[39m], [val_pred_path, test_pred_path]):\n\u001b[1;32m     11\u001b[0m     \u001b[38;5;28;01mif\u001b[39;00m file\u001b[38;5;241m.\u001b[39mis_file():\n\u001b[1;32m     12\u001b[0m         \u001b[38;5;66;03m# import predictions and combine with ground truth\u001b[39;00m\n\u001b[0;32m---> 13\u001b[0m         df \u001b[38;5;241m=\u001b[39m pd\u001b[38;5;241m.\u001b[39mread_csv(file, index_col\u001b[38;5;241m=\u001b[39m\u001b[38;5;124m\"\u001b[39m\u001b[38;5;124midx\u001b[39m\u001b[38;5;124m\"\u001b[39m)\u001b[38;5;241m.\u001b[39mmerge(\u001b[43mdf_true\u001b[49m, how\u001b[38;5;241m=\u001b[39m\u001b[38;5;124m\"\u001b[39m\u001b[38;5;124mleft\u001b[39m\u001b[38;5;124m\"\u001b[39m, left_index\u001b[38;5;241m=\u001b[39m\u001b[38;5;28;01mTrue\u001b[39;00m, right_index\u001b[38;5;241m=\u001b[39m\u001b[38;5;28;01mTrue\u001b[39;00m)\n\u001b[1;32m     15\u001b[0m         \u001b[38;5;66;03m# extract predictions\u001b[39;00m\n\u001b[1;32m     16\u001b[0m         \u001b[38;5;28;01mif\u001b[39;00m run_type \u001b[38;5;129;01min\u001b[39;00m [\u001b[38;5;124m\"\u001b[39m\u001b[38;5;124mmultilabel\u001b[39m\u001b[38;5;124m\"\u001b[39m, \u001b[38;5;124m\"\u001b[39m\u001b[38;5;124mbinary\u001b[39m\u001b[38;5;124m\"\u001b[39m]:\n",
      "\u001b[0;31mNameError\u001b[0m: name 'df_true' is not defined"
     ]
    }
   ],
   "source": [
    "for run in runs[9:-1]:\n",
    "    # we want to calculate additional metrics\n",
    "    run_type = run.config[\"training\"][\"task\"]\n",
    "    run_target_names = run.config[\"target_names\"]\n",
    "    run_name = run.name\n",
    "    # first we check if predicted values are available\n",
    "    val_pred_path = PRED_DIR / run_name / \"val_preds_last.csv\"\n",
    "    test_pred_path = PRED_DIR / run_name / \"test_preds_last.csv\"\n",
    "    metrics = {}\n",
    "    for name, file in zip([\"val\", \"test\"], [val_pred_path, test_pred_path]):\n",
    "        if file.is_file():\n",
    "            # import predictions and combine with ground truth\n",
    "            df = pd.read_csv(file, index_col=\"idx\").merge(df_true, how=\"left\", left_index=True, right_index=True)\n",
    "        \n",
    "            # extract predictions\n",
    "            if run_type in [\"multilabel\", \"binary\"]:\n",
    "                y_prob = df[[f\"pred_{i}\" for i in range(len(run_target_names))]].to_numpy()\n",
    "                y_hat = (y_prob > 0.5).astype(np.int_)\n",
    "                y_true = df[run_target_names].to_numpy()\n",
    "            elif run_type == \"multiclass\":\n",
    "                y_prob = df[[f\"pred_{i}\" for i in range(len(le.classes_))]].to_numpy()\n",
    "                y_hat = np.argmax(y_prob, axis=1)\n",
    "                y_true = le.transform(df[\"major_A-C\"].to_numpy())\n",
    "            else:\n",
    "                raise ValueError(\"Unexpected run_type\")\n",
    "        \n",
    "            # calculate additional metrics\n",
    "            if run_type == \"multilabel\":\n",
    "                auroc_avg = roc_auc_score(y_true, y_prob, average=\"macro\")\n",
    "                #conf_mat = multilabel_confusion_matrix(y_true, y_hat)\n",
    "                recall_avg = recall_score(y_true, y_hat, average=\"macro\")\n",
    "                precision_avg = precision_score(y_true, y_hat, average=\"macro\")\n",
    "                f1_avg = f1_score(y_true, y_hat, average=\"micro\")\n",
    "                \n",
    "                # compute balanced accuracy per label\n",
    "                balanced_acc = []\n",
    "                for i, t in enumerate(run_target_names):\n",
    "                    balanced_acc.append(balanced_accuracy_score(y_true[:,i], y_hat[:,i], adjusted=False))\n",
    "        \n",
    "                metrics.update({\n",
    "                            f\"{name}/balanced_accuracy_macro\": np.mean(balanced_acc), \n",
    "                            f\"{name}/auroc_macro\": auroc_avg, \n",
    "                            f\"{name}/recall_macro\": recall_avg, \n",
    "                            f\"{name}/precision_macro\": precision_avg,\n",
    "                            f\"{name}/f1_micro\": f1_avg \n",
    "                            })\n",
    "                metrics.update({f\"{name}/balanced_accuracy_target_{t}\": v for t, v in zip(run_target_names, balanced_acc)})\n",
    "            elif run_type == \"binary\":\n",
    "                # calculate additional metrics\n",
    "                auroc = roc_auc_score(y_true, y_prob, average=None)\n",
    "                balanced_acc = balanced_accuracy_score(y_true, y_hat, adjusted=False)\n",
    "                metrics.update({\n",
    "                            f\"{name}/balanced_accuracy\": balanced_acc, \n",
    "                            f\"{name}/auroc\": auroc \n",
    "                            })\n",
    "            elif run_type == \"multiclass\":\n",
    "                # calculate additional metrics\n",
    "                balanced_acc = balanced_accuracy_score(y_true, y_hat, adjusted=False)\n",
    "                auroc_macro = roc_auc_score(y_true, y_prob, average=\"macro\", multi_class=\"ovo\")  # one-v-one + macro average is insensitive to class imbalance\n",
    "                metrics.update({\n",
    "                    f\"{name}/balanced_accuracy\": balanced_acc, \n",
    "                    f\"{name}/auroc_macro_ovo\": auroc_macro\n",
    "                    })\n",
    "        else:\n",
    "            print(f\"{name} predictions not found for {run_name}\")\n",
    "    # add new metrics to wandb run\n",
    "    for k, v in metrics.items():\n",
    "        run.summary[k] = v\n",
    "    # update wandb\n",
    "    run.summary.update()"
   ]
  },
  {
   "cell_type": "code",
   "execution_count": 231,
   "id": "7b2e5c6d-050b-436f-92b7-28227bf1cd99",
   "metadata": {},
   "outputs": [
    {
     "data": {
      "text/plain": [
       "'2023-09-12-133900_140535_fold1'"
      ]
     },
     "execution_count": 231,
     "metadata": {},
     "output_type": "execute_result"
    }
   ],
   "source": [
    "run.name"
   ]
  },
  {
   "cell_type": "code",
   "execution_count": 3,
   "id": "797b650d-30cd-4843-9729-859f144cae45",
   "metadata": {
    "scrolled": true
   },
   "outputs": [
    {
     "name": "stdout",
     "output_type": "stream",
     "text": [
      "2023-09-26-114651_772025_fold8\n",
      "2023-09-26-114651_772025_fold7\n",
      "2023-09-26-114651_772025_fold6\n",
      "2023-09-26-114651_772025_fold5\n",
      "2023-09-26-114651_772025_fold4\n",
      "2023-09-26-114651_772025_fold3\n",
      "2023-09-26-114651_772025_fold2\n",
      "2023-09-26-114651_772025_fold1\n",
      "2023-09-26-114651_772025_fold0\n"
     ]
    }
   ],
   "source": [
    "runs = api.runs(\"jugoetz/synferm-predictions\", filters={\"display_name\": {\"$regex\": \"2023-09-26-114651_772025_fold*\"}})\n",
    "\n",
    "for run in runs:\n",
    "    print(run.name)"
   ]
  },
  {
   "cell_type": "code",
   "execution_count": 4,
   "id": "48a06b82-060e-4db1-8206-0002eb77d146",
   "metadata": {},
   "outputs": [
    {
     "data": {
      "text/plain": [
       "{'val/balanced_accuracy_target_binary_B': array([0.6236525 , 0.78227259, 0.62739291, 0.73003649, 0.74794857,\n",
       "        0.78125   , 0.672659  , 0.57377049, 0.75538286]),\n",
       " 'test/auroc_macro': array([0.73422945, 0.81741415, 0.88277051, 0.81239181, 0.7649315 ,\n",
       "        0.80790682, 0.73461941, 0.74940904, 0.7357966 ]),\n",
       " 'val/precision_macro': array([0.72602073, 0.72064617, 0.68837824, 0.78761346, 0.79005984,\n",
       "        0.72912026, 0.73225959, 0.74548392, 0.78909503]),\n",
       " 'train/f1_target_binary_A': array([0.93095142, 0.90456831, 0.8875131 , 0.91228336, 0.90294635,\n",
       "        0.90363753, 0.90689605, 0.90413129, 0.91743642]),\n",
       " 'val/accuracy_target_binary_C': array([0.8659004 , 0.79669029, 0.54020101, 0.86682242, 0.78698224,\n",
       "        0.7977941 , 0.7523585 , 0.6557377 , 0.77746481]),\n",
       " 'test/accuracy_target_binary_B': array([0.78532606, 0.79665738, 0.83552629, 0.79888266, 0.79567307,\n",
       "        0.73674244, 0.76483518, 0.77220958, 0.74931878]),\n",
       " 'train/loss': array([0.40467438, 0.37629181, 0.37927896, 0.34433711, 0.38364232,\n",
       "        0.38272437, 0.33544818, 0.44909936, 0.39804143]),\n",
       " 'val/precision_target_binary_C': array([0.43938217, 0.51580918, 0.32389984, 0.68807292, 0.81337076,\n",
       "        0.62488693, 0.58126396, 0.4789817 , 0.30610329]),\n",
       " 'train/precision_target_binary_B': array([0.80747205, 0.83460844, 0.86427581, 0.87034714, 0.83675063,\n",
       "        0.84433025, 0.86951995, 0.79781854, 0.82216358]),\n",
       " 'test/balanced_accuracy_target_binary_A': array([0.48199304, 0.60528124, 0.7139977 , 0.60144649, 0.5639413 ,\n",
       "        0.55747228, 0.55463094, 0.5084021 , 0.5014056 ]),\n",
       " 'test/f1_target_binary_B': array([0.78509879, 0.77232391, 0.81398618, 0.83755255, 0.82619226,\n",
       "        0.81436652, 0.80895472, 0.77624959, 0.66700286]),\n",
       " 'val/recall_target_binary_C': array([0.42911878, 0.67513031, 0.66606945, 0.48365813, 0.53073448,\n",
       "        0.45088205, 0.83932525, 0.74899733, 0.03354125]),\n",
       " 'test/f1_micro': array([0.73382625, 0.77975133, 0.84522503, 0.85142857, 0.83142857,\n",
       "        0.83285578, 0.81728395, 0.78408254, 0.68210526]),\n",
       " 'val/accuracy_target_binary_B': array([0.57854408, 0.78250593, 0.82412058, 0.72663552, 0.80769229,\n",
       "        0.77573532, 0.7523585 , 0.89180326, 0.72112674]),\n",
       " 'test/balanced_accuracy_target_binary_C': array([0.69086779, 0.63042408, 0.71609898, 0.75993133, 0.70357754,\n",
       "        0.76059883, 0.68033119, 0.77218914, 0.5569045 ]),\n",
       " 'train/f1_target_binary_C': array([0.64454842, 0.63185406, 0.73295814, 0.68885261, 0.6696862 ,\n",
       "        0.58367813, 0.72581619, 0.6467346 , 0.62749255]),\n",
       " 'val/f1_target_binary_A': array([0.81978774, 0.81993675, 0.96331924, 0.86557668, 0.840841  ,\n",
       "        0.90805745, 0.89881599, 0.94399917, 0.76660043]),\n",
       " 'test/recall_target_binary_A': array([0.77074838, 0.96326858, 0.96398175, 0.95878583, 0.90568459,\n",
       "        0.96077943, 0.92869759, 0.99222475, 0.92602873]),\n",
       " 'train/precision_target_binary_A': array([0.88964093, 0.87929916, 0.8451643 , 0.89636117, 0.88383394,\n",
       "        0.86331958, 0.88718081, 0.82562333, 0.8826049 ]),\n",
       " 'val/balanced_accuracy_target_binary_A': array([0.63518822, 0.58541201, 0.56530797, 0.61209104, 0.64000896,\n",
       "        0.52912731, 0.525     , 0.5       , 0.68512821]),\n",
       " 'val/balanced_accuracy_macro': array([0.64682427, 0.71146589, 0.58987465, 0.68762967, 0.70542344,\n",
       "        0.66345182, 0.65758924, 0.59994257, 0.65135454]),\n",
       " 'val/f1_target_binary_C': array([0.43251383, 0.5831759 , 0.41798884, 0.55995291, 0.6166591 ,\n",
       "        0.52174091, 0.6865291 , 0.5813809 , 0.06029157]),\n",
       " 'test/recall_target_binary_C': array([0.33056268, 0.38987321, 0.47813135, 0.81822658, 0.49572653,\n",
       "        0.60929835, 0.47872761, 0.64668304, 0.15985468]),\n",
       " 'test/balanced_accuracy_target_binary_B': array([0.78509821, 0.79588067, 0.83142944, 0.79449922, 0.78872913,\n",
       "        0.67540295, 0.74595431, 0.7781477 , 0.7368903 ]),\n",
       " 'test/precision_target_binary_B': array([0.7561056 , 0.82853913, 0.87525398, 0.87179208, 0.76155847,\n",
       "        0.7122913 , 0.7614153 , 0.71087986, 0.64928371]),\n",
       " 'train/accuracy_target_binary_B': array([0.80545956, 0.79439127, 0.83073854, 0.83782721, 0.79806018,\n",
       "        0.80650705, 0.83922607, 0.77585989, 0.77652812]),\n",
       " 'val/balanced_accuracy_target_binary_C': array([0.6816321 , 0.76671305, 0.57692308, 0.72076149, 0.72831279,\n",
       "        0.67997816, 0.77510873, 0.72605721, 0.51355256]),\n",
       " 'val/loss': array([0.64193141, 0.48489243, 0.55943757, 0.5235973 , 0.53938085,\n",
       "        0.44126004, 0.53814059, 0.43223658, 0.64339608]),\n",
       " 'test/recall_macro': array([0.66695958, 0.692166  , 0.73976026, 0.86116706, 0.78116231,\n",
       "        0.8564162 , 0.75714787, 0.8333473 , 0.58705079]),\n",
       " 'train/f1_target_binary_B': array([0.8385995 , 0.81014061, 0.84248185, 0.84958196, 0.81668884,\n",
       "        0.83986044, 0.83285719, 0.80668902, 0.80808139]),\n",
       " 'test/recall_target_binary_B': array([0.82367152, 0.73573714, 0.766891  , 0.80639476, 0.90802675,\n",
       "        0.96165115, 0.86303592, 0.85808367, 0.70174932]),\n",
       " 'test/f1_target_binary_A': array([0.73690164, 0.87672496, 0.92436278, 0.93178469, 0.90527469,\n",
       "        0.89853001, 0.90256953, 0.82480699, 0.76335579]),\n",
       " 'train/recall_target_binary_B': array([0.87465161, 0.79584533, 0.82543069, 0.83322513, 0.80216146,\n",
       "        0.84109801, 0.80482632, 0.81873089, 0.80523044]),\n",
       " 'test/precision_target_binary_C': array([0.76214832, 0.63326705, 0.74526036, 0.59787738, 0.50085473,\n",
       "        0.80250478, 0.64345849, 0.59194356, 0.19182561]),\n",
       " 'train/accuracy_target_binary_C': array([0.78864318, 0.8344909 , 0.84406525, 0.8410995 , 0.83150959,\n",
       "        0.83265805, 0.86817926, 0.79587245, 0.81332517]),\n",
       " 'test/loss': array([0.63890904, 0.49294496, 0.36614305, 0.49562627, 0.44592884,\n",
       "        0.49725914, 0.61462259, 0.55540335, 0.63391793]),\n",
       " 'val/recall_macro': array([0.54241541, 0.79825356, 0.88261669, 0.66363127, 0.79748973,\n",
       "        0.73775088, 0.90284786, 0.95833333, 0.4458164 ]),\n",
       " 'val/recall_target_binary_B': array([0.45535851, 0.77288789, 0.99684697, 0.5885399 , 0.96591592,\n",
       "        0.81291306, 0.86001784, 0.98293197, 0.66309404]),\n",
       " 'val/precision_target_binary_B': array([0.78489536, 0.8572731 , 0.8145712 , 0.82904845, 0.77755755,\n",
       "        0.69631165, 0.78819609, 0.89158416, 0.90291601]),\n",
       " 'train/precision_target_binary_C': array([0.72814918, 0.75209564, 0.77971256, 0.77378595, 0.74422574,\n",
       "        0.76429164, 0.79449499, 0.71037555, 0.75402564]),\n",
       " 'val/f1_micro': array([0.70430108, 0.78831076, 0.8407281 , 0.77988458, 0.81795511,\n",
       "        0.81036514, 0.83391405, 0.86981402, 0.70936902]),\n",
       " 'val/auroc_macro': array([0.71974995, 0.81771687, 0.70492938, 0.76030244, 0.81793572,\n",
       "        0.83163618, 0.82657674, 0.76069102, 0.74624168]),\n",
       " 'val/f1_target_binary_B': array([0.57249022, 0.81099302, 0.89612913, 0.68674868, 0.85945988,\n",
       "        0.74407756, 0.82193303, 0.93478906, 0.76354527]),\n",
       " 'val/precision_target_binary_A': array([0.934488  , 0.75448287, 0.93293709, 0.82263279, 0.80502868,\n",
       "        0.86776859, 0.81864059, 0.895082  , 0.96246183]),\n",
       " 'test/precision_macro': array([0.78178887, 0.75123676, 0.82865534, 0.79317665, 0.73175369,\n",
       "        0.78054436, 0.76332285, 0.66268777, 0.61509135]),\n",
       " 'test/f1_target_binary_C': array([0.43346339, 0.43237475, 0.53662539, 0.68556553, 0.49785307,\n",
       "        0.65404707, 0.5471459 , 0.60986698, 0.17438692]),\n",
       " 'val/recall_target_binary_A': array([0.73138279, 0.90136892, 0.99699432, 0.91882062, 0.89909101,\n",
       "        0.95314664, 1.        , 1.        , 0.63717908]),\n",
       " 'train/recall_target_binary_A': array([0.97728342, 0.9331792 , 0.93698484, 0.93008697, 0.92486125,\n",
       "        0.95070034, 0.92945051, 1.        , 0.95700538]),\n",
       " 'test/balanced_accuracy_macro': array([0.65265301, 0.67719533, 0.75384204, 0.71862568, 0.68541599,\n",
       "        0.66449135, 0.66030548, 0.68624631, 0.59840013]),\n",
       " 'train/recall_target_binary_C': array([0.61518747, 0.56870234, 0.70533133, 0.63354445, 0.62864232,\n",
       "        0.50070012, 0.67992431, 0.61601323, 0.5757007 ]),\n",
       " 'test/accuracy_target_binary_C': array([0.82336956, 0.71866298, 0.82894737, 0.74301678, 0.80528843,\n",
       "        0.77840906, 0.75604397, 0.85193622, 0.79836512]),\n",
       " 'val/accuracy_target_binary_A': array([0.71264368, 0.71867615, 0.93216079, 0.78271025, 0.75739646,\n",
       "        0.83455884, 0.82075471, 0.895082  , 0.64507043]),\n",
       " 'test/accuracy_target_binary_A': array([0.60869563, 0.79387188, 0.87171054, 0.87709498, 0.83173078,\n",
       "        0.82196969, 0.82857144, 0.70842826, 0.62942779]),\n",
       " 'test/precision_target_binary_A': array([0.71306825, 0.80450702, 0.88819873, 0.90685534, 0.90584004,\n",
       "        0.84500456, 0.87877262, 0.70869845, 0.65268916]),\n",
       " 'train/accuracy_target_binary_A': array([0.87917531, 0.84064996, 0.81454724, 0.85929322, 0.84369558,\n",
       "        0.83916515, 0.85008353, 0.82564104, 0.86002445])}"
      ]
     },
     "execution_count": 4,
     "metadata": {},
     "output_type": "execute_result"
    }
   ],
   "source": [
    "metrics = {}\n",
    "for metric_name in runs[0].summary.keys():\n",
    "    if not metric_name.startswith(\"_\"):\n",
    "        metrics[metric_name] = np.array([run.summary[metric_name] for run in runs])\n",
    "metrics"
   ]
  },
  {
   "cell_type": "code",
   "execution_count": 8,
   "id": "cbd95db8-4a6a-4609-9dd2-0bd54946202e",
   "metadata": {},
   "outputs": [
    {
     "name": "stdout",
     "output_type": "stream",
     "text": [
      "val/balanced_accuracy_macro: 0.6571±0.040\n",
      "test/accuracy_target_binary_A: 0.7746±0.095\n",
      "test/accuracy_target_binary_B: 0.7817±0.028\n",
      "test/accuracy_target_binary_C: 0.7893±0.041\n",
      "test/balanced_accuracy_macro: 0.6775±0.041\n",
      "test/balanced_accuracy_target_binary_A: 0.5654±0.066\n",
      "test/balanced_accuracy_target_binary_B: 0.7702±0.043\n",
      "test/balanced_accuracy_target_binary_C: 0.6968±0.065\n",
      "test/precision_macro: 0.7454±0.063\n",
      "test/precision_target_binary_A: 0.8115±0.091\n",
      "test/precision_target_binary_B: 0.7697±0.072\n",
      "test/precision_target_binary_C: 0.6077±0.172\n",
      "test/recall_macro: 0.7528±0.087\n",
      "test/recall_target_binary_A: 0.9300±0.061\n",
      "test/recall_target_binary_B: 0.8250±0.078\n",
      "test/recall_target_binary_C: 0.4897±0.180\n"
     ]
    }
   ],
   "source": [
    "for metric_name in [\n",
    "    \"val/balanced_accuracy_macro\",\n",
    "    \"test/accuracy_target_binary_A\",\n",
    "    \"test/accuracy_target_binary_B\",\n",
    "    \"test/accuracy_target_binary_C\",\n",
    "    \"test/balanced_accuracy_macro\",\n",
    "    \"test/balanced_accuracy_target_binary_A\",\n",
    "    \"test/balanced_accuracy_target_binary_B\",\n",
    "    \"test/balanced_accuracy_target_binary_C\",\n",
    "    \"test/precision_macro\",\n",
    "    \"test/precision_target_binary_A\",\n",
    "    \"test/precision_target_binary_B\",\n",
    "    \"test/precision_target_binary_C\",\n",
    "    \"test/recall_macro\",\n",
    "    \"test/recall_target_binary_A\",\n",
    "    \"test/recall_target_binary_B\",\n",
    "    \"test/recall_target_binary_C\",\n",
    "]:\n",
    "    print(f'{metric_name}: {metrics[metric_name].mean():.4f}±{metrics[metric_name].std():.3f}')"
   ]
  },
  {
   "cell_type": "code",
   "execution_count": null,
   "id": "512e5713-d179-4df3-8d33-3f86301c8027",
   "metadata": {},
   "outputs": [],
   "source": []
  }
 ],
 "metadata": {
  "kernelspec": {
   "display_name": "Python 3 (ipykernel)",
   "language": "python",
   "name": "python3"
  },
  "language_info": {
   "codemirror_mode": {
    "name": "ipython",
    "version": 3
   },
   "file_extension": ".py",
   "mimetype": "text/x-python",
   "name": "python",
   "nbconvert_exporter": "python",
   "pygments_lexer": "ipython3",
   "version": "3.11.5"
  }
 },
 "nbformat": 4,
 "nbformat_minor": 5
}
