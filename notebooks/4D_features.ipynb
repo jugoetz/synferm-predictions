{
 "cells": [
  {
   "cell_type": "markdown",
   "id": "0",
   "metadata": {},
   "source": [
    "# Calculate 4D features for reactants\n",
    "## Note: run in `crest` kernel\n",
    "\n",
    "Here, we calculate steric and electronic descriptors for conformer ensembles of reactants. \n",
    "We use [CREST](https://crest-lab.github.io/crest-docs/) to generate conformer ensembles and [MORFEUS](https://digital-chemistry-laboratory.github.io/morfeus/index.html) to calculate Boltzmann-weighted descriptors."
   ]
  },
  {
   "cell_type": "code",
   "execution_count": null,
   "id": "1",
   "metadata": {},
   "outputs": [],
   "source": [
    "import sys\n",
    "import pathlib\n",
    "import json\n",
    "sys.path.append(str(pathlib.Path().absolute().parent))\n",
    "\n",
    "from rdkit import Chem, RDLogger\n",
    "from rdkit.Chem import Draw, AllChem, rdmolfiles, SaltRemover, MolStandardize\n",
    "from rdkit.Chem.rdmolfiles import MolToXYZFile\n",
    "from rdkit.Chem.SaltRemover import SaltRemover\n",
    "from rdkit.Chem.MolStandardize import rdMolStandardize\n",
    "RDLogger.DisableLog('rdApp.info')\n",
    "import pandas as pd\n",
    "import morfeus\n",
    "from morfeus import SASA, XTB, Sterimol\n",
    "from morfeus.conformer import ConformerEnsemble, conformers_from_rdkit\n",
    "import numpy as np\n",
    "import pickle as pkl\n",
    "import xtb  # n.b. we import this only b/c MORFEUS has an internal error where it can fail to resolve the xtb.utils module if we don't import this\n",
    "\n",
    "from src.util.definitions import DATA_ROOT\n",
    "from src.util.rdkit_util import standardize_building_block"
   ]
  },
  {
   "cell_type": "code",
   "execution_count": null,
   "id": "2",
   "metadata": {},
   "outputs": [],
   "source": [
    "data = pd.read_csv(DATA_ROOT / \"synferm_dataset_2024-04-18_38586records.csv\")\n",
    "\n",
    "def rename_func(s):\n",
    "    return s.split(\"_\")[-1]\n",
    "building_blocks = pd.concat([data[[f\"{s}_long\", f\"{s}_smiles\"]].drop_duplicates().rename(columns=rename_func).assign(bb_type=s) for s in \"IMT\"])\n",
    "assert len(building_blocks) == 66 + 70 + 41\n",
    "building_blocks.head()"
   ]
  },
  {
   "cell_type": "code",
   "execution_count": null,
   "id": "3",
   "metadata": {},
   "outputs": [],
   "source": [
    "# define some utility functions\n",
    "def standardise_smiles(smiles):\n",
    "    \"\"\"Desalt and neutralize (except KAT B- that cannot be neutralized). Return the standardized SMILES\"\"\"\n",
    "    remover = SaltRemover()\n",
    "    uncharger = rdMolStandardize.Uncharger()\n",
    "    mol = Chem.MolFromSmiles(smiles)\n",
    "    res = remover.StripMol(mol)\n",
    "    # remove counterion\n",
    "    largest_Fragment = rdMolStandardize.LargestFragmentChooser()\n",
    "    largest_mol = largest_Fragment.choose(mol)\n",
    "    # neutralize monomers and terminators (i.e. ammoniums) the Uncharger will leave the [B-] as is.\n",
    "    return Chem.MolToSmiles(uncharger.uncharge(largest_mol))\n",
    "\n",
    "def smiles_to_xyz(smiles, output_filename):\n",
    "    \"\"\"A function that generates a xyz file for a SMILES input\"\"\"\n",
    "    # generate Mol\n",
    "    mol = smiles_to_mol(smiles)\n",
    "\n",
    "    # Write the molecule to an XYZ file\n",
    "    MolToXYZFile(mol, output_filename)\n",
    "    # Write charge to .CHRG file for xtb\n",
    "    with open(output_filename.parent / \".CHRG\", \"w\") as f:\n",
    "        f.write(f\"{Chem.GetFormalCharge(mol)}\\n\")\n",
    "\n",
    "    return None\n",
    "\n",
    "def smiles_to_mol(smiles):\n",
    "    \"\"\"\n",
    "    A function that generates a rdkit Mol for a SMILES input, \n",
    "    adding explicit Hs and optimizing geometry with MMFF94.\n",
    "    \"\"\"\n",
    "    # Convert the SMILES string to a molecule object\n",
    "    mol = Chem.MolFromSmiles(smiles)\n",
    "    mol = Chem.AddHs(mol)  # Add hydrogens\n",
    "\n",
    "    # Generate 3D coordinates\n",
    "    AllChem.EmbedMolecule(mol, AllChem.ETKDG())\n",
    "    AllChem.MMFFOptimizeMolecule(mol)  # Optimize the geometry\n",
    "\n",
    "    return mol"
   ]
  },
  {
   "cell_type": "code",
   "execution_count": null,
   "id": "4",
   "metadata": {},
   "outputs": [],
   "source": [
    "# Update the SMILES column which contains the standardized smiles\n",
    "building_blocks['smiles_standard'] = building_blocks['smiles'].apply(standardise_smiles)"
   ]
  },
  {
   "cell_type": "code",
   "execution_count": null,
   "id": "5",
   "metadata": {},
   "outputs": [],
   "source": [
    "# Make directory structure for CREST calculations\n",
    "calc_dir = DATA_ROOT / \"feature_calculations\"\n",
    "calc_dir.mkdir(exist_ok=True)\n",
    "\n",
    "for long in building_blocks[\"long\"]:\n",
    "    (calc_dir / long).mkdir(exist_ok=True)"
   ]
  },
  {
   "cell_type": "code",
   "execution_count": null,
   "id": "6",
   "metadata": {},
   "outputs": [],
   "source": [
    "# export XYZ files\n",
    "for i, row in building_blocks.iterrows():\n",
    "    smiles_to_xyz(row[\"smiles_standard\"], calc_dir / row[\"long\"] / \"mmff94_out.xyz\")"
   ]
  },
  {
   "cell_type": "code",
   "execution_count": null,
   "id": "7",
   "metadata": {},
   "outputs": [],
   "source": [
    "building_blocks[\"mol\"] = building_blocks[\"smiles_standard\"].apply(lambda x: smiles_to_mol(x))\n",
    "building_blocks"
   ]
  },
  {
   "cell_type": "markdown",
   "id": "8",
   "metadata": {},
   "source": [
    "## External optimization\n",
    "Structures were optimized on the cluster. Each structure was pre-optimized at the xtb-gnf2 level. Conformers were generated using crest and optimized at the xtb-gnf level, with singlepoint calculations at the xtv-gnf2 level.\n",
    "\n",
    "Command to run on the cluster:\n",
    "\n",
    "```bash\n",
    "sbatch -n 1 --cpus-per-task=1 --time=4:00:00 --mem-per-cpu=2048 --output=\"stdout.txt\" --error=\"stderr.txt\" --open-mode=append --wrap=\"crest xtbopt.xyz --gbsa h2o -T 1 --gfn2//gfnff\"\n",
    "```\n",
    "\n",
    "Optimized conformer ensembles are in `$PROJECT_ROOT/data/crest_opt/<building_block>/`."
   ]
  },
  {
   "cell_type": "code",
   "execution_count": null,
   "id": "9",
   "metadata": {},
   "outputs": [],
   "source": [
    "ensemble_dir = DATA_ROOT / \"crest_opt\""
   ]
  },
  {
   "cell_type": "code",
   "execution_count": null,
   "id": "10",
   "metadata": {},
   "outputs": [],
   "source": [
    "def ce_from_crest(crest_dir, mol):\n",
    "    \"\"\"\n",
    "    Creates and refines a ConformerEnsemble from CREST output folder.\n",
    "    Problem with the CREST outputs is that they do not have any connectivity information (.xyz files)\n",
    "    We can assign the original RDKit Mols. After all CREST should conserve atom order.\n",
    "    \n",
    "    Args:\n",
    "        crest_dir (str): Directory containing CREST output.\n",
    "        mol (Chem.Mol): RDKit Mol that the input to crest was generated from.\n",
    "\n",
    "    Returns:\n",
    "        A ConformerEnsemble: Refined ensemble of conformers after sorting, adding RDKit Mol,\n",
    "        and pruning based on RMSD and energy.\n",
    "    \"\"\"\n",
    "    \n",
    "    # early exit if crest did not converge\n",
    "    if (crest_dir / \"NOT_CONVERGED\").exists():\n",
    "        print(f\"Skipping {crest_dir.name}. CREST did not converge.\")\n",
    "        return None\n",
    "    \n",
    "    # Generate MORFEUS ConformerEnsemble object from CREST folder and sort it energetically\n",
    "    ce = ConformerEnsemble.from_crest(crest_dir)\n",
    "    ce.sort()\n",
    "\n",
    "    # Add molecule representation\n",
    "    ce.mol = mol\n",
    "    \n",
    "    # quick check: is the atom order identical?\n",
    "    elem = [a.GetAtomicNum() for a in mol.GetAtoms()]\n",
    "    all(elem == ce.elements)\n",
    "    \n",
    "    # Obtain connectivity matrix and charges from mol\n",
    "    (       elements,\n",
    "            conformer_coordinates,\n",
    "            energies,\n",
    "            connectivity_matrix,\n",
    "            charges,\n",
    "            _,\n",
    "        ) = conformers_from_rdkit(mol)\n",
    "    ce.connectivity_matrix = connectivity_matrix\n",
    "    ce.formal_charges = charges\n",
    "    ce.charge = int(charges.sum())\n",
    "\n",
    "    # Prune according to rmsd and energy\n",
    "    ce.prune_rmsd()\n",
    "    ce.prune_energy()\n",
    "\n",
    "    return ce"
   ]
  },
  {
   "cell_type": "code",
   "execution_count": null,
   "id": "11",
   "metadata": {},
   "outputs": [],
   "source": [
    "# import the externally computed CREST conformer ensembles\n",
    "building_blocks[\"ce\"] = building_blocks.apply(lambda row: ce_from_crest(ensemble_dir / row[\"long\"], row[\"mol\"]), axis=1)\n",
    "building_blocks.head()"
   ]
  },
  {
   "cell_type": "markdown",
   "id": "12",
   "metadata": {},
   "source": [
    "## Feature calculations\n",
    "We will calculate the following features using [MORFEUS](https://digital-chemistry-laboratory.github.io/morfeus/index.html):\n",
    "- HOMO/LUMO energy\n",
    "- Dipole of the molecule\n",
    "- I only:\n",
    "    - Sterimol params L, B1, B5 for the C_KAT - C_alpha bond\n",
    "    - SASA (solvent accessible surface area) for C_KAT\n",
    "- M only:\n",
    "    - Sterimol params L, B1, B5 for the N - C_beta3 bond\n",
    "    - Sterimol params L, B1, B5 for the O - C_beta2 bond\n",
    "    - SASA (solvent accessible surface area) for N\n",
    "- TerTH only:\n",
    "    - Sterimol params L, B1, B5 for the C_carbonyl - C_alpha bond\n",
    "- TerABT only:\n",
    "    - Sterimol params L, B1, B5 for the N - C_arom bond\n",
    "    - Sterimol params L, B1, B5 for the S - C_arom bond\n",
    "    \n",
    "Note on Sterimol params: For ligands these use the dummy atom (H) bond with the first atom of the substituent (e.g. for an NHC that would be the 2-carbon atom of the imidazolidine). We want to determine steric parameters of the \"substituents\" attached to our reactive groups, so for KATs for example, we use the KAT carbon as dummy atom and the alpha carbon as the \"first atom\" of the substituent.\n",
    "\n",
    "Note on terminators: TH features will be zero-padded to match lenght of ABT features. An additional binary feature is introduced to distinguish ABT and TH terminators. It will be 0 for ABTs and 1 for THs."
   ]
  },
  {
   "cell_type": "code",
   "execution_count": null,
   "id": "13",
   "metadata": {},
   "outputs": [],
   "source": [
    "def get_dipole_homo_lumo(ce):\n",
    "    \"\"\"Calculate electronic properties with XTB. Return Boltzmann-weighted dipole, HOMO, and LUMO.\"\"\"\n",
    "    charge = ce.charge\n",
    "    for conformer in ce:\n",
    "        xtb_calc = XTB(conformer.elements, conformer.coordinates, charge=charge, solvent=\"h2o\")\n",
    "        dipole = xtb_calc.get_dipole()\n",
    "        conformer.properties[\"dipole\"] = np.linalg.norm(dipole)\n",
    "        conformer.properties[\"homo\"] = xtb_calc.get_homo()\n",
    "        conformer.properties[\"lumo\"] = xtb_calc.get_lumo()\n",
    "    return ce.boltzmann_statistic(\"dipole\"), ce.boltzmann_statistic(\"homo\"), ce.boltzmann_statistic(\"lumo\")\n"
   ]
  },
  {
   "cell_type": "code",
   "execution_count": null,
   "id": "14",
   "metadata": {},
   "outputs": [],
   "source": [
    "# Generate new columns with molecule dipole, HOMO, LUMO\n",
    "building_blocks[[\"dipole\", \"homo\", \"lumo\"]] = building_blocks[[\"ce\"]].apply(lambda x: get_dipole_homo_lumo(x[\"ce\"]), axis=1, result_type=\"expand\")"
   ]
  },
  {
   "cell_type": "code",
   "execution_count": null,
   "id": "15",
   "metadata": {},
   "outputs": [],
   "source": [
    "# save just to be sure\n",
    "with open(DATA_ROOT / \"dataframe_tmp.pkl\", \"wb\") as f:\n",
    "    pkl.dump(building_blocks, f)"
   ]
  },
  {
   "cell_type": "code",
   "execution_count": null,
   "id": "16",
   "metadata": {},
   "outputs": [],
   "source": [
    "# load from dump\n",
    "with open(DATA_ROOT / \"dataframe_tmp.pkl\", \"rb\") as f:\n",
    "    building_blocks = pkl.load(f)"
   ]
  },
  {
   "cell_type": "code",
   "execution_count": null,
   "id": "17",
   "metadata": {},
   "outputs": [],
   "source": [
    "building_blocks"
   ]
  },
  {
   "cell_type": "markdown",
   "id": "18",
   "metadata": {},
   "source": [
    "For calculations that are specific to the building block type, we need to split the DataFrame"
   ]
  },
  {
   "cell_type": "code",
   "execution_count": null,
   "id": "19",
   "metadata": {},
   "outputs": [],
   "source": [
    "# split building blocks into types\n",
    "initiators = building_blocks.loc[building_blocks[\"bb_type\"] == \"I\"].copy()\n",
    "monomers = building_blocks.loc[building_blocks[\"bb_type\"] == \"M\"].copy()\n",
    "terminators_abt = building_blocks.loc[building_blocks[\"long\"].str.startswith(\"TerABT\")].copy()\n",
    "terminators_th = building_blocks.loc[building_blocks[\"long\"].str.startswith(\"TerTH\")].copy()"
   ]
  },
  {
   "cell_type": "code",
   "execution_count": null,
   "id": "20",
   "metadata": {},
   "outputs": [],
   "source": [
    "# find atom_indices for all building block classes\n",
    "PATTERN_I = Chem.MolFromSmarts(\"[#6]-[CX3H0](=[OX1])-[$([B-](-F)(-F)-F)]\")  # match KAT group in order C_alpha, C_KAT, O, B\n",
    "PATTERN_M = Chem.MolFromSmarts(\"C-1-C-[$(C-2-C(=O)-O-C-O-2)]-[OX2]-[NX3H1]-1\")  # match isoxazolidine in order C_b3, C_b2, C_quart, O, N\n",
    "PATTERN_TERTH = Chem.MolFromSmarts(\"[#6]-[CX3](=[SX1])-[NX3H1]-[NX3H2]\")  # match thiohydrazide in order C_alpha, C_carbonyl, S, NH, NH2\n",
    "PATTERN_TERABT = Chem.MolFromSmarts(\"[SH1]-c:1:c(-[NH2]):c:c:c:c:1\")  # match ABT in order S, C_S, C_N, N, four benzene carbons\n",
    "\n",
    "def get_KAT_idx_from_ce(ce, has_Hs = True):\n",
    "    \"\"\"\n",
    "    Get atom indices for the KAT group in an initiator (or other molecule).\n",
    "\n",
    "    Args:\n",
    "        ce: MORFEUS ConformerEnsemble object containing only one KAT group\n",
    "        has_Hs: whether or not the molecule has explicit hydrogens. Defaults to True.\n",
    "\n",
    "    Returns:\n",
    "        Atom indices of C_alpha, C_KAT, O, B\n",
    "    \"\"\"\n",
    "\n",
    "    # Get RDKit Mol object with explicit hydrogens\n",
    "    mol = ce.mol\n",
    "    if not has_Hs:\n",
    "        mol = Chem.AddHs(mol)\n",
    "\n",
    "    # Search the substructure\n",
    "    C_alpha, C_kat, O, B = mol.GetSubstructMatch(PATTERN_I)\n",
    "    \n",
    "    # Return the relevant atom indices, + 1 to account for MORFEUS numbering\n",
    "    return C_alpha + 1, C_kat + 1, O + 1, B + 1\n",
    "\n",
    "def get_isoxazolidine_idx_from_ce(ce, has_Hs = True):\n",
    "    \"\"\"\n",
    "    Get atom indices for the isoxazolidine ring in a monomer (or comparable molecule).\n",
    "\n",
    "    Args:\n",
    "        ce: MORFEUS ConformerEnsemble object containing only one isoxazolidine group\n",
    "        has_Hs: whether or not the molecule has explicit hydrogens. Defaults to True.\n",
    "\n",
    "    Returns:\n",
    "        Atom indices of C_b3, C_b2, C_quart, O, N\n",
    "    \"\"\"\n",
    "\n",
    "    # Get RDKit Mol object with explicit hydrogens\n",
    "    mol = ce.mol\n",
    "    if not has_Hs:\n",
    "        mol = Chem.AddHs(mol)\n",
    "\n",
    "    # Search the substructure\n",
    "    C_b3, C_b2, C_quart, O, N = mol.GetSubstructMatch(PATTERN_M)\n",
    "    \n",
    "    # Return the relevant atom indices, + 1 to account for MORFEUS numbering\n",
    "    return C_b3 + 1, C_b2 + 1, C_quart + 1, O + 1, N + 1\n",
    "\n",
    "def get_thiohydrazide_idx_from_ce(ce, has_Hs = True):\n",
    "    \"\"\"\n",
    "    Get atom indices for the thiohydrazide group in a terminator (or comparable molecule).\n",
    "\n",
    "    Args:\n",
    "        ce: MORFEUS ConformerEnsemble object containing only one thiohydrazide group\n",
    "        has_Hs: whether or not the molecule has explicit hydrogens. Defaults to True.\n",
    "\n",
    "    Returns:\n",
    "        Atom indices of C_alpha, C_carbonyl, S, NH, NH2\n",
    "    \"\"\"\n",
    "\n",
    "    # Get RDKit Mol object with explicit hydrogens\n",
    "    mol = ce.mol\n",
    "    if not has_Hs:\n",
    "        mol = Chem.AddHs(mol)\n",
    "\n",
    "    # Search the substructure\n",
    "    C_alpha, C_carbonyl, S, NH, NH2 = mol.GetSubstructMatch(PATTERN_TERTH)\n",
    "    \n",
    "    # Return the relevant atom indices, + 1 to account for MORFEUS numbering\n",
    "    return C_alpha + 1, C_carbonyl + 1, S + 1, NH + 1, NH2 + 1\n",
    "\n",
    "def get_aminobenzenethiol_idx_from_ce(ce, has_Hs = True):\n",
    "    \"\"\"\n",
    "    Get atom indices for the aminobenzenethiol group in a terminator (or comparable molecule).\n",
    "\n",
    "    Args:\n",
    "        ce: MORFEUS ConformerEnsemble object containing only one aminobenzenethiol group\n",
    "        has_Hs: whether or not the molecule has explicit hydrogens. Defaults to True.\n",
    "\n",
    "    Returns:\n",
    "        Atom indices of S, C_S, C_N, N\n",
    "    \"\"\"\n",
    "\n",
    "    # Get RDKit Mol object with explicit hydrogens\n",
    "    mol = ce.mol\n",
    "    if not has_Hs:\n",
    "        mol = Chem.AddHs(mol)\n",
    "\n",
    "    # Search the substructure\n",
    "    S, C_S, C_N, N, _, _, _, _ = mol.GetSubstructMatch(PATTERN_TERABT)  # we discard the 4 benzene C indices\n",
    "    \n",
    "    # Return the relevant atom indices, + 1 to account for MORFEUS numbering\n",
    "    return S + 1, C_S + 1, C_N + 1, N + 1\n"
   ]
  },
  {
   "cell_type": "code",
   "execution_count": null,
   "id": "21",
   "metadata": {},
   "outputs": [],
   "source": [
    "# Generate new columns for relevant atom indices for initiators\n",
    "(\n",
    "    initiators['C_alpha_idx'], \n",
    "    initiators['C_kat_idx'], \n",
    "    initiators['O_idx'], \n",
    "    initiators['B_idx']\n",
    ") = zip(*initiators['ce'].apply(get_KAT_idx_from_ce))\n",
    "initiators.head()"
   ]
  },
  {
   "cell_type": "code",
   "execution_count": null,
   "id": "22",
   "metadata": {},
   "outputs": [],
   "source": [
    "# Generate new columns for relevant atom indices for monomers\n",
    "(\n",
    "    monomers['C_beta3_idx'],\n",
    "    monomers['C_beta2_idx'],\n",
    "    monomers['C_quart_idx'],\n",
    "    monomers['O_idx'],\n",
    "    monomers['N_idx']\n",
    ") = zip(*monomers['ce'].apply(get_isoxazolidine_idx_from_ce))\n"
   ]
  },
  {
   "cell_type": "code",
   "execution_count": null,
   "id": "23",
   "metadata": {},
   "outputs": [],
   "source": [
    "# Generate new columns for relevant atom indices for terminators_th\n",
    "(\n",
    "    terminators_th['C_alpha_idx'],\n",
    "    terminators_th['C_carbonyl_idx'],\n",
    "    terminators_th['S_idx'],\n",
    "    terminators_th['NH_idx'],\n",
    "    terminators_th['NH2_idx']\n",
    ") = zip(*terminators_th['ce'].apply(get_thiohydrazide_idx_from_ce))\n"
   ]
  },
  {
   "cell_type": "code",
   "execution_count": null,
   "id": "24",
   "metadata": {},
   "outputs": [],
   "source": [
    "# Generate new columns for relevant atom indices for terminators_abt\n",
    "(\n",
    "    terminators_abt['S_idx'],\n",
    "    terminators_abt['C_S_idx'],\n",
    "    terminators_abt['C_N_idx'],\n",
    "    terminators_abt['N_idx']\n",
    ") = zip(*terminators_abt['ce'].apply(get_aminobenzenethiol_idx_from_ce))\n"
   ]
  },
  {
   "cell_type": "code",
   "execution_count": null,
   "id": "25",
   "metadata": {},
   "outputs": [],
   "source": [
    "# define functions to obtain steric properties\n",
    "\n",
    "def get_bond_sterimol(ce, atom_idx_1, atom_idx_2):\n",
    "    \"\"\"\n",
    "    Function to get Sterimol parameters for the specified bond.\n",
    "    \n",
    "    Args:\n",
    "        ce: Conformer Ensemble from MORFEUS\n",
    "        atom_idx_1: Idx of the dummy atom (in MORFEUS counting style, i.e. start at 1)\n",
    "        atom_idx_2: Idx of the first atom in the substituent (in MORFEUS counting style)    \n",
    "    Returns:\n",
    "        tuple: Boltzmann-weighted B1, B5, and L parameters for the conformer ensemble\n",
    "    \"\"\"\n",
    "    for conformer in ce:\n",
    "        sterimol = Sterimol(conformer.elements, conformer.coordinates, atom_idx_1, atom_idx_2)\n",
    "        conformer.properties[f\"B1\"] = sterimol.B_1_value\n",
    "        conformer.properties[f\"B5\"] = sterimol.B_5_value\n",
    "        conformer.properties[f\"L\"] = sterimol.L_value\n",
    "\n",
    "    return ce.boltzmann_statistic(f\"B1\"), ce.boltzmann_statistic(f\"B5\"), ce.boltzmann_statistic(f\"L\")\n",
    "\n",
    "def get_atom_sasa(ce, atom_idx):\n",
    "    \"\"\"Get solvent accessible surface area (SASA) for the specified atom\"\"\"\n",
    "    for conformer in ce:\n",
    "        sasa = SASA(conformer.elements, conformer.coordinates)\n",
    "        conformer.properties[\"SASA\"] = sasa.atom_areas[atom_idx]\n",
    "    return ce.boltzmann_statistic(\"SASA\")\n"
   ]
  },
  {
   "cell_type": "code",
   "execution_count": null,
   "id": "26",
   "metadata": {},
   "outputs": [],
   "source": [
    "# Generate new column with Sterimol parameters of C_kat - C_alpha bond\n",
    "Ls, B1s, B5s = [], [], []\n",
    "for index, row in initiators.iterrows():\n",
    "    B1, B5, L = get_bond_sterimol(row['ce'], row['C_kat_idx'], row['C_alpha_idx'])\n",
    "    B1s.append(B1)\n",
    "    B5s.append(B5)\n",
    "    Ls.append(L)\n",
    "initiators['B1'] = B1s\n",
    "initiators['B5'] = B5s\n",
    "initiators['L'] = Ls"
   ]
  },
  {
   "cell_type": "code",
   "execution_count": null,
   "id": "27",
   "metadata": {},
   "outputs": [],
   "source": [
    "# Generate new column with SASA of KAT carbon atom\n",
    "sasas = []\n",
    "for index, row in initiators.iterrows():\n",
    "    sasas.append(get_atom_sasa(row['ce'], row['C_kat_idx']))\n",
    "initiators['SASA_C_KAT'] = sasas"
   ]
  },
  {
   "cell_type": "code",
   "execution_count": null,
   "id": "28",
   "metadata": {},
   "outputs": [],
   "source": [
    "# Generate new column with Sterimol parameters of N - C_beta3 bond\n",
    "Ls, B1s, B5s = [], [], []\n",
    "for index, row in monomers.iterrows():\n",
    "    B1, B5, L = get_bond_sterimol(row['ce'], row['N_idx'], row['C_beta3_idx'])\n",
    "    B1s.append(B1)\n",
    "    B5s.append(B5)\n",
    "    Ls.append(L)\n",
    "monomers['beta3_B1'] = B1s\n",
    "monomers['beta3_B5'] = B5s\n",
    "monomers['beta3_L'] = Ls\n",
    "\n",
    "# Generate new column with Sterimol parameters of O - C_beta2 bond\n",
    "Ls, B1s, B5s = [], [], []\n",
    "for index, row in monomers.iterrows():\n",
    "    B1, B5, L = get_bond_sterimol(row['ce'], row['O_idx'], row['C_beta2_idx'])\n",
    "    B1s.append(B1)\n",
    "    B5s.append(B5)\n",
    "    Ls.append(L)\n",
    "monomers['beta2_B1'] = B1s\n",
    "monomers['beta2_B5'] = B5s\n",
    "monomers['beta2_L'] = Ls"
   ]
  },
  {
   "cell_type": "code",
   "execution_count": null,
   "id": "29",
   "metadata": {},
   "outputs": [],
   "source": [
    "# Generate new column with SASA of isoxazolidine nitrogen atom\n",
    "sasas = []\n",
    "for index, row in monomers.iterrows():\n",
    "    sasas.append(get_atom_sasa(row['ce'], row['N_idx']))\n",
    "monomers['SASA_N'] = sasas"
   ]
  },
  {
   "cell_type": "code",
   "execution_count": null,
   "id": "30",
   "metadata": {},
   "outputs": [],
   "source": [
    "# Generate new column with Sterimol parameters of C_carbonyl - C_alpha bond\n",
    "Ls, B1s, B5s = [], [], []\n",
    "for index, row in terminators_th.iterrows():\n",
    "    B1, B5, L = get_bond_sterimol(row['ce'], row['C_carbonyl_idx'], row['C_alpha_idx'])\n",
    "    B1s.append(B1)\n",
    "    B5s.append(B5)\n",
    "    Ls.append(L)\n",
    "terminators_th['B1'] = B1s\n",
    "terminators_th['B5'] = B5s\n",
    "terminators_th['L'] = Ls"
   ]
  },
  {
   "cell_type": "code",
   "execution_count": null,
   "id": "31",
   "metadata": {},
   "outputs": [],
   "source": [
    "# Generate new column with Sterimol parameters of N - C_N bond\n",
    "Ls, B1s, B5s = [], [], []\n",
    "for index, row in terminators_abt.iterrows():\n",
    "    B1, B5, L = get_bond_sterimol(row['ce'], row['N_idx'], row['C_N_idx'])\n",
    "    B1s.append(B1)\n",
    "    B5s.append(B5)\n",
    "    Ls.append(L)\n",
    "terminators_abt['N_B1'] = B1s\n",
    "terminators_abt['N_B5'] = B5s\n",
    "terminators_abt['N_L'] = Ls\n",
    "\n",
    "# Generate new column with Sterimol parameters of S - C_S bond\n",
    "Ls, B1s, B5s = [], [], []\n",
    "for index, row in terminators_abt.iterrows():\n",
    "    B1, B5, L = get_bond_sterimol(row['ce'], row['S_idx'], row['C_S_idx'])\n",
    "    B1s.append(B1)\n",
    "    B5s.append(B5)\n",
    "    Ls.append(L)\n",
    "terminators_abt['S_B1'] = B1s\n",
    "terminators_abt['S_B5'] = B5s\n",
    "terminators_abt['S_L'] = Ls"
   ]
  },
  {
   "cell_type": "code",
   "execution_count": null,
   "id": "32",
   "metadata": {},
   "outputs": [],
   "source": [
    "# pickle current state in case we need to add more things\n",
    "with open(DATA_ROOT / \"4D_features_backup.pkl\", \"wb\") as f:\n",
    "    pkl.dump((building_blocks, initiators, monomers, terminators_th, terminators_abt), f)"
   ]
  },
  {
   "cell_type": "code",
   "execution_count": null,
   "id": "33",
   "metadata": {},
   "outputs": [],
   "source": [
    "# zero pad THs\n",
    "terminators_th['S_B1'] = 0\n",
    "terminators_th['S_B5'] = 0\n",
    "terminators_th['S_L'] = 0\n",
    "\n",
    "# encode T type\n",
    "terminators_th['T_type'] = 1\n",
    "terminators_abt['T_type'] = 0"
   ]
  },
  {
   "cell_type": "code",
   "execution_count": null,
   "id": "34",
   "metadata": {},
   "outputs": [],
   "source": [
    "# get dictionary with features as np arrays\n",
    "initiator_props = dict(zip(initiators[\"long\"].to_numpy(), initiators[[\"dipole\", \"homo\", \"lumo\", \"B1\", \"B5\", \"L\", \"SASA_C_KAT\"]].to_numpy()))\n",
    "monomer_props = dict(zip(monomers[\"long\"].to_numpy(), monomers[[\"dipole\", \"homo\", \"lumo\", \"beta3_B1\", \"beta3_B5\", \"beta3_L\", \"beta2_B1\", \"beta2_B5\", \"beta2_L\", \"SASA_N\"]].to_numpy()))\n",
    "terminator_th_props = dict(zip(terminators_th[\"long\"].to_numpy(), terminators_th[[\"dipole\", \"homo\", \"lumo\", \"B1\", \"B5\", \"L\", \"S_B1\", \"S_B5\", \"S_L\", \"T_type\"]].to_numpy()))\n",
    "terminator_abt_props = dict(zip(terminators_abt[\"long\"].to_numpy(), terminators_abt[[\"dipole\", \"homo\", \"lumo\", \"N_B1\", \"N_B5\", \"N_L\", \"S_B1\", \"S_B5\", \"S_L\", \"T_type\"]].to_numpy()))\n",
    "\n",
    "props = initiator_props | monomer_props | terminator_th_props | terminator_abt_props  # | combines dicts as of python3.9+"
   ]
  },
  {
   "cell_type": "code",
   "execution_count": null,
   "id": "35",
   "metadata": {},
   "outputs": [],
   "source": [
    "# Write the dict to a JSON file\n",
    "props_list = {key: value.tolist() for key, value in props.items()}  # convert arrays to lists for serialization\n",
    "with open(DATA_ROOT / \"4D_features.json\", \"w\") as f:\n",
    "    json.dump(props_list, f)"
   ]
  },
  {
   "cell_type": "code",
   "execution_count": null,
   "id": "36",
   "metadata": {},
   "outputs": [],
   "source": [
    "# Write the same dict, but replace the compounds names with (canonical) SMILES\n",
    "# (we will use this for the FromFileFeaturizer)\n",
    "props_smiles = {building_blocks.loc[building_blocks[\"long\"] == k, \"smiles\"].item(): v for k, v in props_list.items()}\n",
    "# write to JSON\n",
    "with open(DATA_ROOT / \"4D_features_smiles.json\", \"w\") as f:\n",
    "    json.dump(props_smiles, f)"
   ]
  },
  {
   "cell_type": "code",
   "execution_count": null,
   "id": "37",
   "metadata": {},
   "outputs": [],
   "source": [
    "# check that we have all building blocks that occur in our data\n",
    "\n",
    "# standardize BBs in our data\n",
    "bbs = []\n",
    "bbs += data[\"I_smiles\"].drop_duplicates().apply(standardize_building_block, return_smiles=True).to_list()\n",
    "bbs += data[\"M_smiles\"].drop_duplicates().apply(standardize_building_block, return_smiles=True).to_list()\n",
    "bbs += data[\"T_smiles\"].drop_duplicates().apply(standardize_building_block, return_smiles=True).to_list()\n",
    "\n",
    "# standardize BBs in our property dict\n",
    "standardized = [standardize_building_block(k, return_smiles=True) for k in props_smiles.keys()]\n",
    "\n",
    "# this should be an empty set. Any SMILES occuring here, we do not have properties for\n",
    "set(bbs).difference(set(standardized))"
   ]
  },
  {
   "cell_type": "code",
   "execution_count": null,
   "id": "38",
   "metadata": {},
   "outputs": [],
   "source": [
    "# indicative only - these are SMILES we have properties for that do not occur in our data\n",
    "set(standardized).difference(set(bbs))"
   ]
  },
  {
   "cell_type": "code",
   "execution_count": null,
   "id": "39",
   "metadata": {},
   "outputs": [],
   "source": [
    "# Write properties to a CSV file that aligns with our data\n",
    "\n",
    "features = []\n",
    "for i, row in data.iterrows():\n",
    "    features.append(np.concatenate((props[row[\"I_long\"]], props[row[\"M_long\"]], props[row[\"T_long\"]])))\n",
    "features"
   ]
  },
  {
   "cell_type": "code",
   "execution_count": null,
   "id": "40",
   "metadata": {},
   "outputs": [],
   "source": [
    "# save to CSV\n",
    "pd.concat(\n",
    "    (data[[\"I_long\", \"M_long\", \"T_long\"]], pd.DataFrame(features)),\n",
    "    axis=1\n",
    ").to_csv(\n",
    "    DATA_ROOT / \"synferm_dataset_2024-04-18_38586records_4Dfeatures.csv\"\n",
    ")"
   ]
  }
 ],
 "metadata": {
  "kernelspec": {
   "display_name": "crest",
   "language": "python",
   "name": "crest"
  },
  "language_info": {
   "codemirror_mode": {
    "name": "ipython",
    "version": 3
   },
   "file_extension": ".py",
   "mimetype": "text/x-python",
   "name": "python",
   "nbconvert_exporter": "python",
   "pygments_lexer": "ipython3",
   "version": "3.10.13"
  }
 },
 "nbformat": 4,
 "nbformat_minor": 5
}
